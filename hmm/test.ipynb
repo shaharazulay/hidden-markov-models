{
 "cells": [
  {
   "cell_type": "code",
   "execution_count": 114,
   "metadata": {},
   "outputs": [
    {
     "name": "stdout",
     "output_type": "stream",
     "text": [
      "Populating the interactive namespace from numpy and matplotlib\n"
     ]
    },
    {
     "name": "stderr",
     "output_type": "stream",
     "text": [
      "/Users/shaharazulay/anaconda3/envs/dev/lib/python3.6/site-packages/IPython/core/magics/pylab.py:160: UserWarning: pylab import has clobbered these variables: ['f']\n",
      "`%matplotlib` prevents importing * from pylab and numpy\n",
      "  \"\\n`%matplotlib` prevents importing * from pylab and numpy\"\n"
     ]
    }
   ],
   "source": [
    "import numpy as np\n",
    "%pylab inline"
   ]
  },
  {
   "cell_type": "code",
   "execution_count": 115,
   "metadata": {},
   "outputs": [],
   "source": [
    "from _chain import Chain"
   ]
  },
  {
   "cell_type": "markdown",
   "metadata": {},
   "source": [
    "### Define Binary HMM "
   ]
  },
  {
   "cell_type": "raw",
   "metadata": {},
   "source": [
    ">>> phi(x,_i y_i) represents the data term\n",
    ">>> phi(y_i, y_i+1) represents the smoothness term"
   ]
  },
  {
   "cell_type": "code",
   "execution_count": 116,
   "metadata": {},
   "outputs": [],
   "source": [
    "def f(x1, x2):\n",
    "    return np.exp((x1 - 0.5) * (x2 - 0.5))"
   ]
  },
  {
   "cell_type": "code",
   "execution_count": 117,
   "metadata": {},
   "outputs": [],
   "source": [
    "phi = psi = f"
   ]
  },
  {
   "cell_type": "code",
   "execution_count": 118,
   "metadata": {},
   "outputs": [],
   "source": [
    "T = 50 # chain length"
   ]
  },
  {
   "cell_type": "code",
   "execution_count": 119,
   "metadata": {},
   "outputs": [],
   "source": [
    "chain = Chain(length=T, phi=phi, psi=psi, possible_values=[0, 1])"
   ]
  },
  {
   "cell_type": "markdown",
   "metadata": {},
   "source": [
    "### Create Random Trainset"
   ]
  },
  {
   "cell_type": "code",
   "execution_count": 120,
   "metadata": {},
   "outputs": [],
   "source": [
    "possible_values = [0, 1]"
   ]
  },
  {
   "cell_type": "code",
   "execution_count": 112,
   "metadata": {},
   "outputs": [],
   "source": [
    "N = 10000"
   ]
  },
  {
   "cell_type": "code",
   "execution_count": 121,
   "metadata": {
    "scrolled": false
   },
   "outputs": [
    {
     "name": "stdout",
     "output_type": "stream",
     "text": [
      "CPU times: user 29.7 s, sys: 99.2 ms, total: 29.8 s\n",
      "Wall time: 29.8 s\n"
     ]
    }
   ],
   "source": [
    "%%time \n",
    "\n",
    "X_dataset = []\n",
    "y_dataset= []\n",
    "\n",
    "for i in range(N):\n",
    "    x = np.random.rand(T)\n",
    "    x_binary = 1 * (x > 0.5)\n",
    "    \n",
    "    chain.update_observed(x_binary)\n",
    "    y = chain.get_max_apostriori_beliefs()\n",
    "\n",
    "    X_dataset.append(x_binary)\n",
    "    y_dataset.append(y)"
   ]
  },
  {
   "cell_type": "code",
   "execution_count": 122,
   "metadata": {},
   "outputs": [],
   "source": [
    "# turn to numpy arrays\n",
    "X_dataset = np.array([np.array(xi) for xi in X_dataset])\n",
    "y_dataset = np.array([np.array(yi) for yi in y_dataset])"
   ]
  },
  {
   "cell_type": "code",
   "execution_count": 222,
   "metadata": {
    "scrolled": false
   },
   "outputs": [
    {
     "data": {
      "text/plain": [
       "<matplotlib.legend.Legend at 0x1a3ebee4a8>"
      ]
     },
     "execution_count": 222,
     "metadata": {},
     "output_type": "execute_result"
    },
    {
     "data": {
      "image/png": "[encoded data removed]",
      "text/plain": [
       "<Figure size 432x288 with 1 Axes>"
      ]
     },
     "metadata": {
      "needs_background": "light"
     },
     "output_type": "display_data"
    }
   ],
   "source": [
    "plot(X_dataset[0], 'o')\n",
    "plot(y_dataset[0] + 0.05, 'ro')\n",
    "legend(['observations', 'labels'])"
   ]
  },
  {
   "cell_type": "markdown",
   "metadata": {},
   "source": [
    "### Train Dummy Model (predicts y = x)"
   ]
  },
  {
   "cell_type": "markdown",
   "metadata": {},
   "source": [
    "#### Evaluate "
   ]
  },
  {
   "cell_type": "code",
   "execution_count": 191,
   "metadata": {},
   "outputs": [],
   "source": [
    "y_pred = X_test"
   ]
  },
  {
   "cell_type": "code",
   "execution_count": 192,
   "metadata": {},
   "outputs": [
    {
     "name": "stdout",
     "output_type": "stream",
     "text": [
      "              precision    recall  f1-score   support\n",
      "\n",
      "           0       0.76      0.70      0.73     54172\n",
      "           1       0.68      0.74      0.71     45828\n",
      "\n",
      "   micro avg       0.72      0.72      0.72    100000\n",
      "   macro avg       0.72      0.72      0.72    100000\n",
      "weighted avg       0.72      0.72      0.72    100000\n",
      "\n"
     ]
    }
   ],
   "source": [
    "labels = {0 : 0, 1: 1}\n",
    "\n",
    "predictions = np.array([labels[tag] for row in y_pred for tag in row])\n",
    "truths = np.array([labels[tag] for row in y_test for tag in row])\n",
    "\n",
    "print(classification_report(\n",
    "    truths, predictions,\n",
    "    target_names=[\"0\", \"1\"]))"
   ]
  },
  {
   "cell_type": "markdown",
   "metadata": {},
   "source": [
    "### Train CRF"
   ]
  },
  {
   "cell_type": "code",
   "execution_count": 127,
   "metadata": {},
   "outputs": [],
   "source": [
    "def extract_features(x):\n",
    "    features = [\n",
    "        'x.current=' + str(x)\n",
    "    ]\n",
    "    return features"
   ]
  },
  {
   "cell_type": "code",
   "execution_count": 128,
   "metadata": {},
   "outputs": [],
   "source": [
    "def extract_labels(y):\n",
    "    return str(y)"
   ]
  },
  {
   "cell_type": "markdown",
   "metadata": {},
   "source": [
    "#### Preprocess Dataset"
   ]
  },
  {
   "cell_type": "code",
   "execution_count": 129,
   "metadata": {},
   "outputs": [],
   "source": [
    "X = []\n",
    "y = []\n",
    "\n",
    "for xseq, yseq in zip(X_dataset, y_dataset):\n",
    "    X_features = [extract_features(x_i) for x_i in xseq]\n",
    "    y_labels = [extract_labels(y_i) for y_i in yseq]\n",
    "    \n",
    "    X.append(X_features)\n",
    "    y.append(y_labels)"
   ]
  },
  {
   "cell_type": "markdown",
   "metadata": {},
   "source": [
    "#### Train-Test split "
   ]
  },
  {
   "cell_type": "code",
   "execution_count": 130,
   "metadata": {},
   "outputs": [],
   "source": [
    "from sklearn.model_selection import train_test_split"
   ]
  },
  {
   "cell_type": "code",
   "execution_count": 131,
   "metadata": {},
   "outputs": [],
   "source": [
    "X_train, X_test, y_train, y_test = train_test_split(X, y, test_size=0.2)"
   ]
  },
  {
   "cell_type": "markdown",
   "metadata": {},
   "source": [
    "#### Train "
   ]
  },
  {
   "cell_type": "code",
   "execution_count": 132,
   "metadata": {},
   "outputs": [],
   "source": [
    "import pycrfsuite"
   ]
  },
  {
   "cell_type": "code",
   "execution_count": 133,
   "metadata": {},
   "outputs": [],
   "source": [
    "trainer = pycrfsuite.Trainer(verbose=True)"
   ]
  },
  {
   "cell_type": "code",
   "execution_count": 134,
   "metadata": {
    "scrolled": true
   },
   "outputs": [],
   "source": [
    "# Submit training data to the trainer\n",
    "trainer.clear()\n",
    "    \n",
    "for xseq, yseq in zip(X_train, y_train):\n",
    "    trainer.append(xseq, yseq)"
   ]
  },
  {
   "cell_type": "code",
   "execution_count": 135,
   "metadata": {},
   "outputs": [],
   "source": [
    "rm crf.model"
   ]
  },
  {
   "cell_type": "code",
   "execution_count": 136,
   "metadata": {
    "scrolled": true
   },
   "outputs": [
    {
     "name": "stdout",
     "output_type": "stream",
     "text": [
      "Feature generation\n",
      "type: CRF1d\n",
      "feature.minfreq: 0.000000\n",
      "feature.possible_states: 0\n",
      "feature.possible_transitions: 0\n",
      "0....1....2....3....4....5....6....7....8....9....10\n",
      "Number of features: 8\n",
      "Seconds required: 0.026\n",
      "\n",
      "L-BFGS optimization\n",
      "c1: 0.000000\n",
      "c2: 1.000000\n",
      "num_memories: 6\n",
      "max_iterations: 2147483647\n",
      "epsilon: 0.000010\n",
      "stop: 10\n",
      "delta: 0.000010\n",
      "linesearch: MoreThuente\n",
      "linesearch.max_iterations: 20\n",
      "\n",
      "***** Iteration #1 *****\n",
      "Loss: 165296.648685\n",
      "Feature norm: 1.000000\n",
      "Error norm: 96141.038952\n",
      "Active features: 8\n",
      "Line search trials: 1\n",
      "Line search step: 0.000006\n",
      "Seconds required for this iteration: 0.074\n",
      "\n",
      "***** Iteration #2 *****\n",
      "Loss: 138005.009683\n",
      "Feature norm: 1.508352\n",
      "Error norm: 83560.637192\n",
      "Active features: 8\n",
      "Line search trials: 2\n",
      "Line search step: 0.466782\n",
      "Seconds required for this iteration: 0.065\n",
      "\n",
      "***** Iteration #3 *****\n",
      "Loss: 122751.570660\n",
      "Feature norm: 1.954836\n",
      "Error norm: 16013.483060\n",
      "Active features: 8\n",
      "Line search trials: 1\n",
      "Line search step: 1.000000\n",
      "Seconds required for this iteration: 0.031\n",
      "\n",
      "***** Iteration #4 *****\n",
      "Loss: 119998.622809\n",
      "Feature norm: 2.252794\n",
      "Error norm: 4598.660499\n",
      "Active features: 8\n",
      "Line search trials: 1\n",
      "Line search step: 1.000000\n",
      "Seconds required for this iteration: 0.032\n",
      "\n",
      "***** Iteration #5 *****\n",
      "Loss: 119614.801072\n",
      "Feature norm: 2.391857\n",
      "Error norm: 1001.313928\n",
      "Active features: 8\n",
      "Line search trials: 1\n",
      "Line search step: 1.000000\n",
      "Seconds required for this iteration: 0.036\n",
      "\n",
      "***** Iteration #6 *****\n",
      "Loss: 119595.442835\n",
      "Feature norm: 2.429874\n",
      "Error norm: 414.359027\n",
      "Active features: 8\n",
      "Line search trials: 1\n",
      "Line search step: 1.000000\n",
      "Seconds required for this iteration: 0.037\n",
      "\n",
      "***** Iteration #7 *****\n",
      "Loss: 119592.777717\n",
      "Feature norm: 2.435301\n",
      "Error norm: 290.833223\n",
      "Active features: 8\n",
      "Line search trials: 1\n",
      "Line search step: 1.000000\n",
      "Seconds required for this iteration: 0.037\n",
      "\n",
      "***** Iteration #8 *****\n",
      "Loss: 119562.520452\n",
      "Feature norm: 2.449785\n",
      "Error norm: 676.691500\n",
      "Active features: 8\n",
      "Line search trials: 3\n",
      "Line search step: 21.000000\n",
      "Seconds required for this iteration: 0.103\n",
      "\n",
      "***** Iteration #9 *****\n",
      "Loss: 119547.962718\n",
      "Feature norm: 2.469444\n",
      "Error norm: 2755.411658\n",
      "Active features: 8\n",
      "Line search trials: 2\n",
      "Line search step: 0.343980\n",
      "Seconds required for this iteration: 0.061\n",
      "\n",
      "***** Iteration #10 *****\n",
      "Loss: 119529.785234\n",
      "Feature norm: 2.509628\n",
      "Error norm: 309.560403\n",
      "Active features: 8\n",
      "Line search trials: 1\n",
      "Line search step: 1.000000\n",
      "Seconds required for this iteration: 0.034\n",
      "\n",
      "***** Iteration #11 *****\n",
      "Loss: 119529.568795\n",
      "Feature norm: 2.503261\n",
      "Error norm: 34.920145\n",
      "Active features: 8\n",
      "Line search trials: 1\n",
      "Line search step: 1.000000\n",
      "Seconds required for this iteration: 0.033\n",
      "\n",
      "***** Iteration #12 *****\n",
      "Loss: 119529.562412\n",
      "Feature norm: 2.502787\n",
      "Error norm: 33.454420\n",
      "Active features: 8\n",
      "Line search trials: 1\n",
      "Line search step: 1.000000\n",
      "Seconds required for this iteration: 0.031\n",
      "\n",
      "***** Iteration #13 *****\n",
      "Loss: 119529.536158\n",
      "Feature norm: 2.502073\n",
      "Error norm: 39.546780\n",
      "Active features: 8\n",
      "Line search trials: 1\n",
      "Line search step: 1.000000\n",
      "Seconds required for this iteration: 0.031\n",
      "\n",
      "***** Iteration #14 *****\n",
      "Loss: 119529.443896\n",
      "Feature norm: 2.500731\n",
      "Error norm: 66.009651\n",
      "Active features: 8\n",
      "Line search trials: 1\n",
      "Line search step: 1.000000\n",
      "Seconds required for this iteration: 0.031\n",
      "\n",
      "***** Iteration #15 *****\n",
      "Loss: 119529.289519\n",
      "Feature norm: 2.500015\n",
      "Error norm: 91.486297\n",
      "Active features: 8\n",
      "Line search trials: 1\n",
      "Line search step: 1.000000\n",
      "Seconds required for this iteration: 0.031\n",
      "\n",
      "***** Iteration #16 *****\n",
      "Loss: 119529.152092\n",
      "Feature norm: 2.501843\n",
      "Error norm: 78.670892\n",
      "Active features: 8\n",
      "Line search trials: 1\n",
      "Line search step: 1.000000\n",
      "Seconds required for this iteration: 0.031\n",
      "\n",
      "***** Iteration #17 *****\n",
      "Loss: 119529.150057\n",
      "Feature norm: 2.501503\n",
      "Error norm: 47.828070\n",
      "Active features: 8\n",
      "Line search trials: 2\n",
      "Line search step: 0.013451\n",
      "Seconds required for this iteration: 0.063\n",
      "\n",
      "***** Iteration #18 *****\n",
      "Loss: 119529.118627\n",
      "Feature norm: 2.503340\n",
      "Error norm: 16.273311\n",
      "Active features: 8\n",
      "Line search trials: 1\n",
      "Line search step: 1.000000\n",
      "Seconds required for this iteration: 0.036\n",
      "\n",
      "***** Iteration #19 *****\n",
      "Loss: 119529.116567\n",
      "Feature norm: 2.504180\n",
      "Error norm: 14.425910\n",
      "Active features: 8\n",
      "Line search trials: 1\n",
      "Line search step: 1.000000\n",
      "Seconds required for this iteration: 0.032\n",
      "\n",
      "***** Iteration #20 *****\n",
      "Loss: 119529.115771\n",
      "Feature norm: 2.503968\n",
      "Error norm: 1.727278\n",
      "Active features: 8\n",
      "Line search trials: 1\n",
      "Line search step: 1.000000\n",
      "Seconds required for this iteration: 0.031\n",
      "\n",
      "L-BFGS terminated with the stopping criteria\n",
      "Total seconds required for training: 0.862\n",
      "\n",
      "Storing the model\n",
      "Number of active features: 8 (8)\n",
      "Number of active attributes: 2 (2)\n",
      "Number of active labels: 2 (2)\n",
      "Writing labels\n",
      "Writing attributes\n",
      "Writing feature references for transitions\n",
      "Writing feature references for attributes\n",
      "Seconds required: 0.000\n",
      "\n"
     ]
    }
   ],
   "source": [
    "# the model will be saved under 'crf.model'\n",
    "trainer.train('crf.model')"
   ]
  },
  {
   "cell_type": "markdown",
   "metadata": {},
   "source": [
    "####  Evaluate"
   ]
  },
  {
   "cell_type": "code",
   "execution_count": 139,
   "metadata": {},
   "outputs": [],
   "source": [
    "tagger = pycrfsuite.Tagger()\n",
    "tagger.open('crf.model')\n",
    "\n",
    "y_pred = [tagger.tag(xseq) for xseq in X_test]"
   ]
  },
  {
   "cell_type": "code",
   "execution_count": 142,
   "metadata": {},
   "outputs": [
    {
     "name": "stdout",
     "output_type": "stream",
     "text": [
      "              precision    recall  f1-score   support\n",
      "\n",
      "           0       0.87      0.95      0.90     54359\n",
      "           1       0.93      0.82      0.87     45641\n",
      "\n",
      "   micro avg       0.89      0.89      0.89    100000\n",
      "   macro avg       0.90      0.89      0.89    100000\n",
      "weighted avg       0.89      0.89      0.89    100000\n",
      "\n"
     ]
    }
   ],
   "source": [
    "from sklearn.metrics import classification_report\n",
    "\n",
    "# Create a mapping of labels to indices\n",
    "labels = {\"0\": 0, \"1\": 1}\n",
    "\n",
    "# Convert the sequences of tags into a 1-dimensional array\n",
    "predictions = np.array([labels[tag] for row in y_pred for tag in row])\n",
    "truths = np.array([labels[tag] for row in y_test for tag in row])\n",
    "\n",
    "# Print out the classification report\n",
    "print(classification_report(\n",
    "    truths, predictions,\n",
    "    target_names=[\"0\", \"1\"]))"
   ]
  },
  {
   "cell_type": "markdown",
   "metadata": {},
   "source": [
    "### Training FC NN "
   ]
  },
  {
   "cell_type": "markdown",
   "metadata": {},
   "source": [
    "#### Define "
   ]
  },
  {
   "cell_type": "code",
   "execution_count": 223,
   "metadata": {},
   "outputs": [],
   "source": [
    "import torch\n",
    "import torch.nn.functional as F\n",
    "from torch.autograd import Variable\n",
    "import torch.optim as optim"
   ]
  },
  {
   "cell_type": "code",
   "execution_count": 224,
   "metadata": {},
   "outputs": [],
   "source": [
    "n_epochs = 1000\n",
    "batch_size, D_in, D_hidden, D_out = 64, T, 2 * T, T"
   ]
  },
  {
   "cell_type": "code",
   "execution_count": 225,
   "metadata": {},
   "outputs": [],
   "source": [
    "model = torch.nn.Sequential(\n",
    "          torch.nn.Linear(D_in, D_hidden),\n",
    "          torch.nn.ReLU(),\n",
    "          torch.nn.Linear(D_hidden, D_out),\n",
    "          torch.nn.Sigmoid()\n",
    "        )\n",
    "\n",
    "optimizer = optim.Adam(model.parameters(), lr=0.01)"
   ]
  },
  {
   "cell_type": "code",
   "execution_count": 226,
   "metadata": {},
   "outputs": [],
   "source": [
    "from torch.utils.data import Dataset\n",
    "\n",
    "class ChainDataset(Dataset):\n",
    "    \n",
    "    def __init__(self, X, y, flatten=True):\n",
    "        self._X = X\n",
    "        self._y = y\n",
    "\n",
    "    def __len__(self):\n",
    "        return len(self._X)\n",
    "\n",
    "    def __getitem__(self, idx):\n",
    "        sample = {\n",
    "            'X': torch.from_numpy(self._X[idx]).float(),\n",
    "            'y': torch.from_numpy(self._y[idx]).float()  \n",
    "        }\n",
    "        return sample"
   ]
  },
  {
   "cell_type": "code",
   "execution_count": 227,
   "metadata": {},
   "outputs": [],
   "source": [
    "X_train, X_test, y_train, y_test = train_test_split(X_dataset, y_dataset, test_size=0.2)"
   ]
  },
  {
   "cell_type": "code",
   "execution_count": 228,
   "metadata": {},
   "outputs": [],
   "source": [
    "trainset = ChainDataset(X_train, y_train)\n",
    "trainloader = torch.utils.data.DataLoader(trainset, batch_size=batch_size, shuffle=True, num_workers=2)"
   ]
  },
  {
   "cell_type": "markdown",
   "metadata": {},
   "source": [
    "#### Train "
   ]
  },
  {
   "cell_type": "code",
   "execution_count": 229,
   "metadata": {},
   "outputs": [
    {
     "name": "stdout",
     "output_type": "stream",
     "text": [
      "epoch 10:: loss = 0.19277912378311157\n",
      "epoch 20:: loss = 0.18473511934280396\n",
      "epoch 30:: loss = 0.1714475005865097\n",
      "epoch 40:: loss = 0.1983877420425415\n",
      "epoch 50:: loss = 0.1715434193611145\n",
      "epoch 60:: loss = 0.18108278512954712\n",
      "epoch 70:: loss = 0.16363714635372162\n",
      "epoch 80:: loss = 0.2186136245727539\n",
      "epoch 90:: loss = 0.1794896274805069\n",
      "epoch 100:: loss = 0.18163274228572845\n",
      "epoch 110:: loss = 0.1799778789281845\n",
      "epoch 120:: loss = 0.17741897702217102\n",
      "epoch 130:: loss = 0.19787810742855072\n",
      "epoch 140:: loss = 0.19231225550174713\n",
      "epoch 150:: loss = 0.17363950610160828\n",
      "epoch 160:: loss = 0.17101408541202545\n",
      "epoch 170:: loss = 0.17412187159061432\n",
      "epoch 180:: loss = 0.1887405812740326\n",
      "epoch 190:: loss = 0.18087203800678253\n",
      "epoch 200:: loss = 0.16458654403686523\n",
      "epoch 210:: loss = 0.17336097359657288\n",
      "epoch 220:: loss = 0.17597199976444244\n",
      "epoch 230:: loss = 0.1736753135919571\n",
      "epoch 240:: loss = 0.1719805747270584\n",
      "epoch 250:: loss = 0.1797594130039215\n",
      "epoch 260:: loss = 0.17739269137382507\n",
      "epoch 270:: loss = 0.18615680932998657\n",
      "epoch 280:: loss = 0.17076191306114197\n",
      "epoch 290:: loss = 0.18237191438674927\n",
      "epoch 300:: loss = 0.16326211392879486\n",
      "epoch 310:: loss = 0.18432889878749847\n",
      "epoch 320:: loss = 0.18104246258735657\n",
      "epoch 330:: loss = 0.17389950156211853\n",
      "epoch 340:: loss = 0.18109998106956482\n",
      "epoch 350:: loss = 0.16960005462169647\n",
      "epoch 360:: loss = 0.16359855234622955\n",
      "epoch 370:: loss = 0.16894614696502686\n",
      "epoch 380:: loss = 0.1548399031162262\n",
      "epoch 390:: loss = 0.14395251870155334\n",
      "epoch 400:: loss = 0.18340681493282318\n",
      "epoch 410:: loss = 0.1745169758796692\n",
      "epoch 420:: loss = 0.18327999114990234\n",
      "epoch 430:: loss = 0.14235778152942657\n",
      "epoch 440:: loss = 0.1613459587097168\n",
      "epoch 450:: loss = 0.1661139726638794\n",
      "epoch 460:: loss = 0.16635316610336304\n",
      "epoch 470:: loss = 0.15540803968906403\n",
      "epoch 480:: loss = 0.13795363903045654\n",
      "epoch 490:: loss = 0.17405855655670166\n",
      "epoch 500:: loss = 0.16085243225097656\n",
      "epoch 510:: loss = 0.17372095584869385\n",
      "epoch 520:: loss = 0.16019496321678162\n",
      "epoch 530:: loss = 0.15874353051185608\n",
      "epoch 540:: loss = 0.15635856986045837\n",
      "epoch 550:: loss = 0.1470632404088974\n",
      "epoch 560:: loss = 0.18086892366409302\n",
      "epoch 570:: loss = 0.1718895584344864\n",
      "epoch 580:: loss = 0.16820959746837616\n",
      "epoch 590:: loss = 0.17387987673282623\n",
      "epoch 600:: loss = 0.17736047506332397\n",
      "epoch 610:: loss = 0.1619756668806076\n",
      "epoch 620:: loss = 0.16432450711727142\n",
      "epoch 630:: loss = 0.15378855168819427\n",
      "epoch 640:: loss = 0.16556821763515472\n",
      "epoch 650:: loss = 0.15461313724517822\n",
      "epoch 660:: loss = 0.1541491001844406\n",
      "epoch 670:: loss = 0.15509212017059326\n",
      "epoch 680:: loss = 0.1556321382522583\n",
      "epoch 690:: loss = 0.14671741425991058\n",
      "epoch 700:: loss = 0.16564512252807617\n",
      "epoch 710:: loss = 0.1517457515001297\n",
      "epoch 720:: loss = 0.17466644942760468\n",
      "epoch 730:: loss = 0.1554558277130127\n",
      "epoch 740:: loss = 0.16384917497634888\n",
      "epoch 750:: loss = 0.14226743578910828\n",
      "epoch 760:: loss = 0.15480069816112518\n",
      "epoch 770:: loss = 0.14226502180099487\n",
      "epoch 780:: loss = 0.13575901091098785\n",
      "epoch 790:: loss = 0.16560953855514526\n",
      "epoch 800:: loss = 0.1534752994775772\n",
      "epoch 810:: loss = 0.13769657909870148\n",
      "epoch 820:: loss = 0.14523345232009888\n",
      "epoch 830:: loss = 0.157960444688797\n",
      "epoch 840:: loss = 0.16925837099552155\n",
      "epoch 850:: loss = 0.15867222845554352\n",
      "epoch 860:: loss = 0.16993924975395203\n",
      "epoch 870:: loss = 0.14162331819534302\n",
      "epoch 880:: loss = 0.16627658903598785\n",
      "epoch 890:: loss = 0.16088619828224182\n",
      "epoch 900:: loss = 0.14585334062576294\n",
      "epoch 910:: loss = 0.16349488496780396\n",
      "epoch 920:: loss = 0.163058802485466\n",
      "epoch 930:: loss = 0.16262470185756683\n",
      "epoch 940:: loss = 0.1443583369255066\n",
      "epoch 950:: loss = 0.16813644766807556\n",
      "epoch 960:: loss = 0.15647956728935242\n",
      "epoch 970:: loss = 0.16367368400096893\n",
      "epoch 980:: loss = 0.1708260327577591\n",
      "epoch 990:: loss = 0.14623160660266876\n",
      "epoch 1000:: loss = 0.1560465395450592\n"
     ]
    }
   ],
   "source": [
    "model.train()\n",
    "learning_curve = []\n",
    "\n",
    "for epoch in range(1, n_epochs + 1):\n",
    "    \n",
    "    for batch in trainloader:\n",
    "        \n",
    "        X_batch, y_batch = Variable(batch['X']), Variable(batch['y'])\n",
    "        model.zero_grad()\n",
    "        \n",
    "        y_pred = model(X_batch)\n",
    "        loss = F.binary_cross_entropy(y_pred, y_batch)\n",
    "        \n",
    "        loss.backward()\n",
    "        optimizer.step()\n",
    "    \n",
    "    if epoch % 10 == 0:\n",
    "        print('epoch {}:: loss = {}'. format(epoch, loss))\n",
    "        learning_curve.append(loss)"
   ]
  },
  {
   "cell_type": "code",
   "execution_count": 231,
   "metadata": {},
   "outputs": [
    {
     "data": {
      "image/png": "[encoded data removed]",
      "text/plain": [
       "<Figure size 432x288 with 1 Axes>"
      ]
     },
     "metadata": {
      "needs_background": "light"
     },
     "output_type": "display_data"
    }
   ],
   "source": [
    "plot(learning_curve);"
   ]
  },
  {
   "cell_type": "markdown",
   "metadata": {},
   "source": [
    "#### Evaluate "
   ]
  },
  {
   "cell_type": "code",
   "execution_count": 232,
   "metadata": {},
   "outputs": [
    {
     "data": {
      "text/plain": [
       "Sequential(\n",
       "  (0): Linear(in_features=50, out_features=100, bias=True)\n",
       "  (1): ReLU()\n",
       "  (2): Linear(in_features=100, out_features=50, bias=True)\n",
       "  (3): Sigmoid()\n",
       ")"
      ]
     },
     "execution_count": 232,
     "metadata": {},
     "output_type": "execute_result"
    }
   ],
   "source": [
    "model.eval()"
   ]
  },
  {
   "cell_type": "code",
   "execution_count": 233,
   "metadata": {},
   "outputs": [],
   "source": [
    "y_pred = np.array([model(torch.from_numpy(xseq).float()).detach().numpy() for xseq in X_test])"
   ]
  },
  {
   "cell_type": "code",
   "execution_count": 234,
   "metadata": {},
   "outputs": [],
   "source": [
    "y_pred = 1 * (y_pred > 0.5)"
   ]
  },
  {
   "cell_type": "code",
   "execution_count": 235,
   "metadata": {},
   "outputs": [
    {
     "name": "stdout",
     "output_type": "stream",
     "text": [
      "              precision    recall  f1-score   support\n",
      "\n",
      "           0       0.93      0.92      0.93     54274\n",
      "           1       0.91      0.92      0.91     45726\n",
      "\n",
      "   micro avg       0.92      0.92      0.92    100000\n",
      "   macro avg       0.92      0.92      0.92    100000\n",
      "weighted avg       0.92      0.92      0.92    100000\n",
      "\n"
     ]
    }
   ],
   "source": [
    "labels = {0 : 0, 1: 1}\n",
    "\n",
    "predictions = np.array([labels[tag] for row in y_pred for tag in row])\n",
    "truths = np.array([labels[tag] for row in y_test for tag in row])\n",
    "\n",
    "print(classification_report(\n",
    "    truths, predictions,\n",
    "    target_names=[\"0\", \"1\"]))"
   ]
  },
  {
   "cell_type": "code",
   "execution_count": null,
   "metadata": {},
   "outputs": [],
   "source": []
  }
 ],
 "metadata": {
  "kernelspec": {
   "display_name": "Python 3",
   "language": "python",
   "name": "python3"
  },
  "language_info": {
   "codemirror_mode": {
    "name": "ipython",
    "version": 3
   },
   "file_extension": ".py",
   "mimetype": "text/x-python",
   "name": "python",
   "nbconvert_exporter": "python",
   "pygments_lexer": "ipython3",
   "version": "3.6.8"
  }
 },
 "nbformat": 4,
 "nbformat_minor": 2
}
