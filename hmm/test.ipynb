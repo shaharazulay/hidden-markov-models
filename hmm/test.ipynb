{
 "cells": [
  {
   "cell_type": "code",
   "execution_count": 1,
   "metadata": {},
   "outputs": [],
   "source": [
    "import pycrfsuite"
   ]
  },
  {
   "cell_type": "code",
   "execution_count": 2,
   "metadata": {},
   "outputs": [
    {
     "name": "stdout",
     "output_type": "stream",
     "text": [
      "Populating the interactive namespace from numpy and matplotlib\n"
     ]
    }
   ],
   "source": [
    "import numpy as np\n",
    "%pylab inline"
   ]
  },
  {
   "cell_type": "code",
   "execution_count": 3,
   "metadata": {},
   "outputs": [],
   "source": [
    "from sklearn.model_selection import train_test_split\n",
    "from sklearn.metrics import classification_report"
   ]
  },
  {
   "cell_type": "code",
   "execution_count": 4,
   "metadata": {},
   "outputs": [],
   "source": [
    "from _chain import Chain"
   ]
  },
  {
   "cell_type": "markdown",
   "metadata": {},
   "source": [
    "### Define Binary HMM "
   ]
  },
  {
   "cell_type": "raw",
   "metadata": {},
   "source": [
    ">>> phi(x,_i y_i) represents the data term\n",
    ">>> phi(y_i, y_i+1) represents the smoothness term"
   ]
  },
  {
   "cell_type": "code",
   "execution_count": 5,
   "metadata": {},
   "outputs": [],
   "source": [
    "def f_phi(x1, x2):\n",
    "    p = np.array([\n",
    "    [0.58, 0.42],\n",
    "    [0.42, 0.58]])\n",
    "    return p[x1, x2]"
   ]
  },
  {
   "cell_type": "code",
   "execution_count": 6,
   "metadata": {},
   "outputs": [],
   "source": [
    "def f_psi(x1, x2):\n",
    "    p = np.array([\n",
    "    [0.62, 0.38],\n",
    "    [0.34, 0.66]])\n",
    "    return p[x1, x2]"
   ]
  },
  {
   "cell_type": "code",
   "execution_count": 7,
   "metadata": {},
   "outputs": [],
   "source": [
    "phi = f_phi\n",
    "psi = f_psi"
   ]
  },
  {
   "cell_type": "code",
   "execution_count": 8,
   "metadata": {},
   "outputs": [],
   "source": [
    "T = 50 # chain length"
   ]
  },
  {
   "cell_type": "code",
   "execution_count": 9,
   "metadata": {},
   "outputs": [],
   "source": [
    "chain = Chain(length=T, phi=phi, psi=psi, possible_values=[0, 1])"
   ]
  },
  {
   "cell_type": "markdown",
   "metadata": {},
   "source": [
    "### Create Random Trainset"
   ]
  },
  {
   "cell_type": "code",
   "execution_count": 10,
   "metadata": {},
   "outputs": [],
   "source": [
    "possible_values = [0, 1]"
   ]
  },
  {
   "cell_type": "code",
   "execution_count": 11,
   "metadata": {},
   "outputs": [],
   "source": [
    "N = 1000"
   ]
  },
  {
   "cell_type": "code",
   "execution_count": 13,
   "metadata": {
    "scrolled": true
   },
   "outputs": [
    {
     "name": "stdout",
     "output_type": "stream",
     "text": [
      "CPU times: user 2.05 s, sys: 13.2 ms, total: 2.07 s\n",
      "Wall time: 2.06 s\n"
     ]
    }
   ],
   "source": [
    "%%time \n",
    "\n",
    "X_dataset = []\n",
    "y_dataset= []\n",
    "\n",
    "for i in range(N):\n",
    "    x = np.random.rand(T)\n",
    "    x_binary = 1 * (x > 0.5)\n",
    "    \n",
    "    chain.update_observed(x_binary)\n",
    "    y = chain.get_max_apostriori_beliefs()\n",
    "\n",
    "    X_dataset.append(x_binary)\n",
    "    y_dataset.append(y)"
   ]
  },
  {
   "cell_type": "code",
   "execution_count": 14,
   "metadata": {},
   "outputs": [],
   "source": [
    "# turn to numpy arrays\n",
    "X_dataset = np.array([np.array(xi) for xi in X_dataset])\n",
    "y_dataset = np.array([np.array(yi) for yi in y_dataset])"
   ]
  },
  {
   "cell_type": "code",
   "execution_count": 16,
   "metadata": {
    "scrolled": false
   },
   "outputs": [
    {
     "data": {
      "text/plain": [
       "<matplotlib.legend.Legend at 0x1a23997f98>"
      ]
     },
     "execution_count": 16,
     "metadata": {},
     "output_type": "execute_result"
    },
    {
     "data": {
      "image/png": "[encoded data removed]",
      "text/plain": [
       "<Figure size 432x288 with 1 Axes>"
      ]
     },
     "metadata": {
      "needs_background": "light"
     },
     "output_type": "display_data"
    }
   ],
   "source": [
    "plot(X_dataset[0], 'o')\n",
    "plot(y_dataset[0] + 0.05, 'ro')\n",
    "legend(['observations', 'labels'])"
   ]
  },
  {
   "cell_type": "markdown",
   "metadata": {},
   "source": [
    "### Play with HMM implementation"
   ]
  },
  {
   "cell_type": "code",
   "execution_count": 40,
   "metadata": {},
   "outputs": [],
   "source": [
    "import mchmm as mc\n",
    "hmm = mc.HiddenMarkovModel()"
   ]
  },
  {
   "cell_type": "code",
   "execution_count": 41,
   "metadata": {},
   "outputs": [],
   "source": [
    "ep = np.array([\n",
    "    [0.62, 0.38],\n",
    "    [0.38, 0.62]])"
   ]
  },
  {
   "cell_type": "code",
   "execution_count": 42,
   "metadata": {},
   "outputs": [],
   "source": [
    "tp = np.array([\n",
    "    [0.62, 0.38],\n",
    "    [0.38, 0.62]])"
   ]
  },
  {
   "cell_type": "code",
   "execution_count": 39,
   "metadata": {},
   "outputs": [],
   "source": [
    "hmm.observations = hmm.states = np.array([0, 1])"
   ]
  },
  {
   "cell_type": "code",
   "execution_count": 106,
   "metadata": {},
   "outputs": [],
   "source": [
    "pi = np.array([0.5, 0.5])"
   ]
  },
  {
   "cell_type": "code",
   "execution_count": 107,
   "metadata": {},
   "outputs": [
    {
     "name": "stdout",
     "output_type": "stream",
     "text": [
      "CPU times: user 1.81 s, sys: 9.26 ms, total: 1.82 s\n",
      "Wall time: 1.82 s\n"
     ]
    }
   ],
   "source": [
    "%%time \n",
    "\n",
    "X_dataset = []\n",
    "y_dataset= []\n",
    "\n",
    "for i in range(N):\n",
    "    x = np.random.rand(T)\n",
    "    x_binary = np.array(1 * (x > 0.5))\n",
    "    \n",
    "    y = hmm.viterbi(x_binary, tp=tp, ep=ep, pi=pi)[0]\n",
    "\n",
    "    X_dataset.append(x_binary)\n",
    "    y_dataset.append(y)"
   ]
  },
  {
   "cell_type": "code",
   "execution_count": 108,
   "metadata": {},
   "outputs": [],
   "source": [
    "# turn to numpy arrays\n",
    "X_dataset = np.array([np.array(xi) for xi in X_dataset])\n",
    "y_dataset = np.array([np.array(yi) for yi in y_dataset])"
   ]
  },
  {
   "cell_type": "code",
   "execution_count": 109,
   "metadata": {},
   "outputs": [
    {
     "data": {
      "text/plain": [
       "<matplotlib.legend.Legend at 0x1a20379da0>"
      ]
     },
     "execution_count": 109,
     "metadata": {},
     "output_type": "execute_result"
    },
    {
     "data": {
      "image/png": "[encoded data removed]",
      "text/plain": [
       "<Figure size 432x288 with 1 Axes>"
      ]
     },
     "metadata": {
      "needs_background": "light"
     },
     "output_type": "display_data"
    }
   ],
   "source": [
    "plot(X_dataset[0], 'o')\n",
    "plot(y_dataset[0] + 0.05, 'ro')\n",
    "legend(['observations', 'labels'])"
   ]
  },
  {
   "cell_type": "markdown",
   "metadata": {},
   "source": [
    "### Train Dummy Model (predicts y = x)"
   ]
  },
  {
   "cell_type": "markdown",
   "metadata": {},
   "source": [
    "#### Train-Test split"
   ]
  },
  {
   "cell_type": "code",
   "execution_count": 17,
   "metadata": {},
   "outputs": [],
   "source": [
    "X_train, X_test, y_train, y_test = train_test_split(X_dataset, y_dataset, test_size=0.2)"
   ]
  },
  {
   "cell_type": "markdown",
   "metadata": {},
   "source": [
    "#### Evaluate "
   ]
  },
  {
   "cell_type": "code",
   "execution_count": 18,
   "metadata": {},
   "outputs": [],
   "source": [
    "y_pred = X_test"
   ]
  },
  {
   "cell_type": "code",
   "execution_count": 19,
   "metadata": {},
   "outputs": [
    {
     "name": "stdout",
     "output_type": "stream",
     "text": [
      "              precision    recall  f1-score   support\n",
      "\n",
      "           0       0.39      0.81      0.53      2409\n",
      "           1       0.91      0.60      0.72      7591\n",
      "\n",
      "   micro avg       0.65      0.65      0.65     10000\n",
      "   macro avg       0.65      0.70      0.62     10000\n",
      "weighted avg       0.78      0.65      0.67     10000\n",
      "\n"
     ]
    }
   ],
   "source": [
    "labels = {0 : 0, 1: 1}\n",
    "\n",
    "predictions = np.array([labels[tag] for row in y_pred for tag in row])\n",
    "truths = np.array([labels[tag] for row in y_test for tag in row])\n",
    "\n",
    "print(classification_report(\n",
    "    truths, predictions,\n",
    "    target_names=[\"0\", \"1\"]))"
   ]
  },
  {
   "cell_type": "markdown",
   "metadata": {},
   "source": [
    "### Train CRF"
   ]
  },
  {
   "cell_type": "code",
   "execution_count": 20,
   "metadata": {},
   "outputs": [],
   "source": [
    "def extract_features(x):\n",
    "    features = [\n",
    "        'x.current=' + str(x)\n",
    "    ]\n",
    "    return features"
   ]
  },
  {
   "cell_type": "code",
   "execution_count": 21,
   "metadata": {},
   "outputs": [],
   "source": [
    "def extract_labels(y):\n",
    "    return str(y)"
   ]
  },
  {
   "cell_type": "markdown",
   "metadata": {},
   "source": [
    "#### Preprocess Dataset"
   ]
  },
  {
   "cell_type": "code",
   "execution_count": 22,
   "metadata": {},
   "outputs": [],
   "source": [
    "X = []\n",
    "y = []\n",
    "\n",
    "for xseq, yseq in zip(X_dataset, y_dataset):\n",
    "    X_features = [extract_features(x_i) for x_i in xseq]\n",
    "    y_labels = [extract_labels(y_i) for y_i in yseq]\n",
    "    \n",
    "    X.append(X_features)\n",
    "    y.append(y_labels)"
   ]
  },
  {
   "cell_type": "markdown",
   "metadata": {},
   "source": [
    "#### Train-Test split "
   ]
  },
  {
   "cell_type": "code",
   "execution_count": 23,
   "metadata": {},
   "outputs": [],
   "source": [
    "X_train, X_test, y_train, y_test = train_test_split(X, y, test_size=0.2)"
   ]
  },
  {
   "cell_type": "markdown",
   "metadata": {},
   "source": [
    "#### Train "
   ]
  },
  {
   "cell_type": "code",
   "execution_count": 24,
   "metadata": {},
   "outputs": [],
   "source": [
    "trainer = pycrfsuite.Trainer(verbose=True)"
   ]
  },
  {
   "cell_type": "code",
   "execution_count": 25,
   "metadata": {
    "scrolled": true
   },
   "outputs": [],
   "source": [
    "# Submit training data to the trainer\n",
    "trainer.clear()\n",
    "    \n",
    "for xseq, yseq in zip(X_train, y_train):\n",
    "    trainer.append(xseq, yseq)"
   ]
  },
  {
   "cell_type": "code",
   "execution_count": 26,
   "metadata": {},
   "outputs": [],
   "source": [
    "rm crf.model"
   ]
  },
  {
   "cell_type": "code",
   "execution_count": 27,
   "metadata": {
    "scrolled": true
   },
   "outputs": [
    {
     "name": "stdout",
     "output_type": "stream",
     "text": [
      "Feature generation\n",
      "type: CRF1d\n",
      "feature.minfreq: 0.000000\n",
      "feature.possible_states: 0\n",
      "feature.possible_transitions: 0\n",
      "0....1....2....3....4....5....6....7....8....9....10\n",
      "Number of features: 8\n",
      "Seconds required: 0.006\n",
      "\n",
      "L-BFGS optimization\n",
      "c1: 0.000000\n",
      "c2: 1.000000\n",
      "num_memories: 6\n",
      "max_iterations: 2147483647\n",
      "epsilon: 0.000010\n",
      "stop: 10\n",
      "delta: 0.000010\n",
      "linesearch: MoreThuente\n",
      "linesearch.max_iterations: 20\n",
      "\n",
      "***** Iteration #1 *****\n",
      "Loss: 14645.746111\n",
      "Feature norm: 1.000000\n",
      "Error norm: 10992.618377\n",
      "Active features: 8\n",
      "Line search trials: 1\n",
      "Line search step: 0.000038\n",
      "Seconds required for this iteration: 0.009\n",
      "\n",
      "***** Iteration #2 *****\n",
      "Loss: 11263.744806\n",
      "Feature norm: 1.151549\n",
      "Error norm: 9504.225943\n",
      "Active features: 8\n",
      "Line search trials: 1\n",
      "Line search step: 1.000000\n",
      "Seconds required for this iteration: 0.006\n",
      "\n",
      "***** Iteration #3 *****\n",
      "Loss: 7014.228138\n",
      "Feature norm: 1.572131\n",
      "Error norm: 5281.252126\n",
      "Active features: 8\n",
      "Line search trials: 2\n",
      "Line search step: 0.195758\n",
      "Seconds required for this iteration: 0.008\n",
      "\n",
      "***** Iteration #4 *****\n",
      "Loss: 5710.177657\n",
      "Feature norm: 2.712925\n",
      "Error norm: 22778.857229\n",
      "Active features: 8\n",
      "Line search trials: 1\n",
      "Line search step: 1.000000\n",
      "Seconds required for this iteration: 0.005\n",
      "\n",
      "***** Iteration #5 *****\n",
      "Loss: 2756.099575\n",
      "Feature norm: 3.010366\n",
      "Error norm: 1443.062128\n",
      "Active features: 8\n",
      "Line search trials: 1\n",
      "Line search step: 1.000000\n",
      "Seconds required for this iteration: 0.004\n",
      "\n",
      "***** Iteration #6 *****\n",
      "Loss: 2259.798326\n",
      "Feature norm: 3.443012\n",
      "Error norm: 1163.530321\n",
      "Active features: 8\n",
      "Line search trials: 1\n",
      "Line search step: 1.000000\n",
      "Seconds required for this iteration: 0.004\n",
      "\n",
      "***** Iteration #7 *****\n",
      "Loss: 1631.465986\n",
      "Feature norm: 4.618275\n",
      "Error norm: 4511.147964\n",
      "Active features: 8\n",
      "Line search trials: 1\n",
      "Line search step: 1.000000\n",
      "Seconds required for this iteration: 0.004\n",
      "\n",
      "***** Iteration #8 *****\n",
      "Loss: 1256.369694\n",
      "Feature norm: 5.182855\n",
      "Error norm: 2500.866211\n",
      "Active features: 8\n",
      "Line search trials: 1\n",
      "Line search step: 1.000000\n",
      "Seconds required for this iteration: 0.004\n",
      "\n",
      "***** Iteration #9 *****\n",
      "Loss: 877.503957\n",
      "Feature norm: 6.380486\n",
      "Error norm: 423.857531\n",
      "Active features: 8\n",
      "Line search trials: 1\n",
      "Line search step: 1.000000\n",
      "Seconds required for this iteration: 0.004\n",
      "\n",
      "***** Iteration #10 *****\n",
      "Loss: 684.712643\n",
      "Feature norm: 7.660806\n",
      "Error norm: 186.858375\n",
      "Active features: 8\n",
      "Line search trials: 1\n",
      "Line search step: 1.000000\n",
      "Seconds required for this iteration: 0.004\n",
      "\n",
      "***** Iteration #11 *****\n",
      "Loss: 544.927374\n",
      "Feature norm: 9.380640\n",
      "Error norm: 249.674143\n",
      "Active features: 8\n",
      "Line search trials: 1\n",
      "Line search step: 1.000000\n",
      "Seconds required for this iteration: 0.004\n",
      "\n",
      "***** Iteration #12 *****\n",
      "Loss: 539.378956\n",
      "Feature norm: 9.423924\n",
      "Error norm: 105.984437\n",
      "Active features: 8\n",
      "Line search trials: 2\n",
      "Line search step: 0.009763\n",
      "Seconds required for this iteration: 0.009\n",
      "\n",
      "***** Iteration #13 *****\n",
      "Loss: 468.608166\n",
      "Feature norm: 11.183734\n",
      "Error norm: 43.822071\n",
      "Active features: 8\n",
      "Line search trials: 1\n",
      "Line search step: 1.000000\n",
      "Seconds required for this iteration: 0.005\n",
      "\n",
      "***** Iteration #14 *****\n",
      "Loss: 461.375284\n",
      "Feature norm: 11.722694\n",
      "Error norm: 417.245124\n",
      "Active features: 8\n",
      "Line search trials: 2\n",
      "Line search step: 0.333396\n",
      "Seconds required for this iteration: 0.008\n",
      "\n",
      "***** Iteration #15 *****\n",
      "Loss: 440.643723\n",
      "Feature norm: 12.941172\n",
      "Error norm: 110.311348\n",
      "Active features: 8\n",
      "Line search trials: 1\n",
      "Line search step: 1.000000\n",
      "Seconds required for this iteration: 0.004\n",
      "\n",
      "***** Iteration #16 *****\n",
      "Loss: 436.982393\n",
      "Feature norm: 13.676057\n",
      "Error norm: 14.072986\n",
      "Active features: 8\n",
      "Line search trials: 1\n",
      "Line search step: 1.000000\n",
      "Seconds required for this iteration: 0.004\n",
      "\n",
      "***** Iteration #17 *****\n",
      "Loss: 436.799736\n",
      "Feature norm: 13.873571\n",
      "Error norm: 2.651044\n",
      "Active features: 8\n",
      "Line search trials: 1\n",
      "Line search step: 1.000000\n",
      "Seconds required for this iteration: 0.004\n",
      "\n",
      "***** Iteration #18 *****\n",
      "Loss: 436.787632\n",
      "Feature norm: 13.897663\n",
      "Error norm: 2.574246\n",
      "Active features: 8\n",
      "Line search trials: 1\n",
      "Line search step: 1.000000\n",
      "Seconds required for this iteration: 0.004\n",
      "\n",
      "***** Iteration #19 *****\n",
      "Loss: 436.656364\n",
      "Feature norm: 13.898667\n",
      "Error norm: 28.544636\n",
      "Active features: 8\n",
      "Line search trials: 2\n",
      "Line search step: 0.516256\n",
      "Seconds required for this iteration: 0.008\n",
      "\n",
      "***** Iteration #20 *****\n",
      "Loss: 436.462190\n",
      "Feature norm: 13.929456\n",
      "Error norm: 7.826644\n",
      "Active features: 8\n",
      "Line search trials: 1\n",
      "Line search step: 1.000000\n",
      "Seconds required for this iteration: 0.004\n",
      "\n",
      "***** Iteration #21 *****\n",
      "Loss: 436.428152\n",
      "Feature norm: 13.894741\n",
      "Error norm: 5.613721\n",
      "Active features: 8\n",
      "Line search trials: 1\n",
      "Line search step: 1.000000\n",
      "Seconds required for this iteration: 0.004\n",
      "\n",
      "***** Iteration #22 *****\n",
      "Loss: 436.426961\n",
      "Feature norm: 13.891594\n",
      "Error norm: 0.421739\n",
      "Active features: 8\n",
      "Line search trials: 2\n",
      "Line search step: 0.025427\n",
      "Seconds required for this iteration: 0.007\n",
      "\n",
      "***** Iteration #23 *****\n",
      "Loss: 436.426795\n",
      "Feature norm: 13.885895\n",
      "Error norm: 0.100737\n",
      "Active features: 8\n",
      "Line search trials: 1\n",
      "Line search step: 1.000000\n",
      "Seconds required for this iteration: 0.004\n",
      "\n",
      "***** Iteration #24 *****\n",
      "Loss: 436.426778\n",
      "Feature norm: 13.885227\n",
      "Error norm: 0.080675\n",
      "Active features: 8\n",
      "Line search trials: 1\n",
      "Line search step: 1.000000\n",
      "Seconds required for this iteration: 0.004\n",
      "\n",
      "***** Iteration #25 *****\n",
      "Loss: 436.426718\n",
      "Feature norm: 13.883653\n",
      "Error norm: 0.131703\n",
      "Active features: 8\n",
      "Line search trials: 1\n",
      "Line search step: 1.000000\n",
      "Seconds required for this iteration: 0.004\n",
      "\n",
      "***** Iteration #26 *****\n",
      "Loss: 436.426676\n",
      "Feature norm: 13.883652\n",
      "Error norm: 0.099331\n",
      "Active features: 8\n",
      "Line search trials: 1\n",
      "Line search step: 1.000000\n",
      "Seconds required for this iteration: 0.003\n",
      "\n",
      "***** Iteration #27 *****\n",
      "Loss: 436.426675\n",
      "Feature norm: 13.883681\n",
      "Error norm: 0.171623\n",
      "Active features: 8\n",
      "Line search trials: 2\n",
      "Line search step: 0.024218\n",
      "Seconds required for this iteration: 0.006\n",
      "\n",
      "***** Iteration #28 *****\n",
      "Loss: 436.426658\n",
      "Feature norm: 13.884644\n",
      "Error norm: 0.053793\n",
      "Active features: 8\n",
      "Line search trials: 1\n",
      "Line search step: 1.000000\n",
      "Seconds required for this iteration: 0.004\n",
      "\n",
      "***** Iteration #29 *****\n",
      "Loss: 436.426657\n",
      "Feature norm: 13.885151\n",
      "Error norm: 0.026928\n",
      "Active features: 8\n",
      "Line search trials: 1\n",
      "Line search step: 1.000000\n",
      "Seconds required for this iteration: 0.003\n",
      "\n",
      "***** Iteration #30 *****\n",
      "Loss: 436.426657\n",
      "Feature norm: 13.885210\n",
      "Error norm: 0.012019\n",
      "Active features: 8\n",
      "Line search trials: 2\n",
      "Line search step: 0.201658\n",
      "Seconds required for this iteration: 0.006\n",
      "\n",
      "***** Iteration #31 *****\n",
      "Loss: 436.426657\n",
      "Feature norm: 13.885270\n",
      "Error norm: 0.000861\n",
      "Active features: 8\n",
      "Line search trials: 1\n",
      "Line search step: 1.000000\n",
      "Seconds required for this iteration: 0.003\n",
      "\n",
      "L-BFGS terminated with the stopping criteria\n",
      "Total seconds required for training: 0.153\n",
      "\n",
      "Storing the model\n",
      "Number of active features: 8 (8)\n",
      "Number of active attributes: 2 (2)\n",
      "Number of active labels: 2 (2)\n",
      "Writing labels\n",
      "Writing attributes\n",
      "Writing feature references for transitions\n",
      "Writing feature references for attributes\n",
      "Seconds required: 0.001\n",
      "\n"
     ]
    }
   ],
   "source": [
    "# the model will be saved under 'crf.model'\n",
    "trainer.train('crf.model')"
   ]
  },
  {
   "cell_type": "markdown",
   "metadata": {},
   "source": [
    "####  Evaluate"
   ]
  },
  {
   "cell_type": "code",
   "execution_count": 28,
   "metadata": {},
   "outputs": [],
   "source": [
    "tagger = pycrfsuite.Tagger()\n",
    "tagger.open('crf.model')\n",
    "\n",
    "y_pred = [tagger.tag(xseq) for xseq in X_test]"
   ]
  },
  {
   "cell_type": "code",
   "execution_count": 29,
   "metadata": {},
   "outputs": [
    {
     "name": "stdout",
     "output_type": "stream",
     "text": [
      "              precision    recall  f1-score   support\n",
      "\n",
      "           0       1.00      0.98      0.99      2529\n",
      "           1       0.99      1.00      1.00      7471\n",
      "\n",
      "   micro avg       1.00      1.00      1.00     10000\n",
      "   macro avg       1.00      0.99      0.99     10000\n",
      "weighted avg       1.00      1.00      1.00     10000\n",
      "\n"
     ]
    }
   ],
   "source": [
    "# Create a mapping of labels to indices\n",
    "labels = {\"0\": 0, \"1\": 1}\n",
    "\n",
    "# Convert the sequences of tags into a 1-dimensional array\n",
    "predictions = np.array([labels[tag] for row in y_pred for tag in row])\n",
    "truths = np.array([labels[tag] for row in y_test for tag in row])\n",
    "\n",
    "# Print out the classification report\n",
    "print(classification_report(\n",
    "    truths, predictions,\n",
    "    target_names=[\"0\", \"1\"]))"
   ]
  },
  {
   "cell_type": "markdown",
   "metadata": {},
   "source": [
    "### Try using sklearn.CRF wrapper"
   ]
  },
  {
   "cell_type": "code",
   "execution_count": 30,
   "metadata": {},
   "outputs": [],
   "source": [
    "import sklearn_crfsuite\n",
    "from sklearn_crfsuite import scorers\n",
    "from sklearn_crfsuite import metrics"
   ]
  },
  {
   "cell_type": "code",
   "execution_count": 31,
   "metadata": {},
   "outputs": [
    {
     "name": "stdout",
     "output_type": "stream",
     "text": [
      "CPU times: user 7.2 s, sys: 18.5 ms, total: 7.22 s\n",
      "Wall time: 7.22 s\n"
     ]
    }
   ],
   "source": [
    "%%time\n",
    "crf = sklearn_crfsuite.CRF(\n",
    "    algorithm='lbfgs',\n",
    "    c1=0.1,\n",
    "    c2=0.1,\n",
    "    max_iterations=1000,\n",
    "    all_possible_transitions=True,\n",
    "    all_possible_states=True\n",
    ")\n",
    "crf.fit(X_train, y_train)"
   ]
  },
  {
   "cell_type": "code",
   "execution_count": 32,
   "metadata": {},
   "outputs": [],
   "source": [
    "y_pred = crf.predict(X_test)"
   ]
  },
  {
   "cell_type": "code",
   "execution_count": 33,
   "metadata": {},
   "outputs": [
    {
     "data": {
      "text/plain": [
       "['1', '0']"
      ]
     },
     "execution_count": 33,
     "metadata": {},
     "output_type": "execute_result"
    }
   ],
   "source": [
    "labels = list(crf.classes_)\n",
    "labels"
   ]
  },
  {
   "cell_type": "code",
   "execution_count": 34,
   "metadata": {},
   "outputs": [
    {
     "name": "stdout",
     "output_type": "stream",
     "text": [
      "              precision    recall  f1-score   support\n",
      "\n",
      "           0      1.000     0.991     0.995      2529\n",
      "           1      0.997     1.000     0.998      7471\n",
      "\n",
      "   micro avg      0.998     0.998     0.998     10000\n",
      "   macro avg      0.998     0.995     0.997     10000\n",
      "weighted avg      0.998     0.998     0.998     10000\n",
      "\n"
     ]
    }
   ],
   "source": [
    "sorted_labels = sorted(\n",
    "    labels,\n",
    "    key=lambda name: (name[1:], name[0])\n",
    ")\n",
    "print(metrics.flat_classification_report(\n",
    "    y_test, y_pred, labels=sorted_labels, digits=3\n",
    "))"
   ]
  },
  {
   "cell_type": "code",
   "execution_count": 72,
   "metadata": {},
   "outputs": [
    {
     "data": {
      "text/plain": [
       "CRF(algorithm='lbfgs', all_possible_states=True,\n",
       "  all_possible_transitions=True, averaging=None, c=None, c1=0.1, c2=0.1,\n",
       "  calibration_candidates=None, calibration_eta=None,\n",
       "  calibration_max_trials=None, calibration_rate=None,\n",
       "  calibration_samples=None, delta=None, epsilon=None, error_sensitive=None,\n",
       "  gamma=None, keep_tempfiles=None, linesearch=None, max_iterations=1000,\n",
       "  max_linesearch=None, min_freq=None, model_filename=None,\n",
       "  num_memories=None, pa_type=None, period=None, trainer_cls=None,\n",
       "  variance=None, verbose=False)"
      ]
     },
     "execution_count": 72,
     "metadata": {},
     "output_type": "execute_result"
    }
   ],
   "source": [
    "crf"
   ]
  },
  {
   "cell_type": "code",
   "execution_count": 73,
   "metadata": {},
   "outputs": [
    {
     "name": "stdout",
     "output_type": "stream",
     "text": [
      "Transitions:\n",
      "1      -> 1       7.526609\n",
      "0      -> 0       1.810091\n",
      "0      -> 1       -4.835363\n",
      "1      -> 0       -4.839872\n"
     ]
    }
   ],
   "source": [
    "from collections import Counter\n",
    "\n",
    "def print_transitions(trans_features):\n",
    "    for (label_from, label_to), weight in trans_features:\n",
    "        print(\"%-6s -> %-7s %0.6f\" % (label_from, label_to, weight))\n",
    "\n",
    "print(\"Transitions:\")\n",
    "print_transitions(Counter(crf.transition_features_).most_common(20))"
   ]
  },
  {
   "cell_type": "code",
   "execution_count": 74,
   "metadata": {},
   "outputs": [
    {
     "name": "stdout",
     "output_type": "stream",
     "text": [
      "States:\n",
      "9.845891 1        x.current=1\n",
      "9.169897 0        x.current=0\n",
      "-9.169897 1        x.current=0\n",
      "-9.845891 0        x.current=1\n"
     ]
    }
   ],
   "source": [
    "def print_state_features(state_features):\n",
    "    for (attr, label), weight in state_features:\n",
    "        print(\"%0.6f %-8s %s\" % (weight, label, attr))\n",
    "\n",
    "print(\"States:\")\n",
    "print_state_features(Counter(crf.state_features_).most_common(30))"
   ]
  },
  {
   "cell_type": "code",
   "execution_count": 356,
   "metadata": {},
   "outputs": [],
   "source": [
    "import scipy\n",
    "from sklearn.metrics import make_scorer\n",
    "from sklearn.model_selection import cross_val_score\n",
    "from sklearn.model_selection import RandomizedSearchCV"
   ]
  },
  {
   "cell_type": "code",
   "execution_count": 357,
   "metadata": {},
   "outputs": [
    {
     "name": "stdout",
     "output_type": "stream",
     "text": [
      "Fitting 3 folds for each of 50 candidates, totalling 150 fits\n"
     ]
    },
    {
     "name": "stderr",
     "output_type": "stream",
     "text": [
      "[Parallel(n_jobs=-1)]: Using backend LokyBackend with 12 concurrent workers.\n",
      "[Parallel(n_jobs=-1)]: Done  26 tasks      | elapsed:   10.5s\n",
      "[Parallel(n_jobs=-1)]: Done 150 out of 150 | elapsed:   56.2s finished\n"
     ]
    },
    {
     "name": "stdout",
     "output_type": "stream",
     "text": [
      "CPU times: user 55.4 s, sys: 600 ms, total: 56 s\n",
      "Wall time: 56.5 s\n"
     ]
    }
   ],
   "source": [
    "%%time\n",
    "# define fixed parameters and parameters to search\n",
    "crf = sklearn_crfsuite.CRF(\n",
    "    algorithm='lbfgs',\n",
    "    max_iterations=100,\n",
    "    all_possible_transitions=True\n",
    ")\n",
    "params_space = {\n",
    "    'c1': scipy.stats.expon(scale=0.5),\n",
    "    'c2': scipy.stats.expon(scale=0.05),\n",
    "}\n",
    "\n",
    "# use the same metric for evaluation\n",
    "f1_scorer = make_scorer(metrics.flat_f1_score,\n",
    "                        average='weighted', labels=labels)\n",
    "\n",
    "# search\n",
    "rs = RandomizedSearchCV(crf, params_space,\n",
    "                        cv=3,\n",
    "                        verbose=1,\n",
    "                        n_jobs=-1,\n",
    "                        n_iter=50,\n",
    "                        scoring=f1_scorer)\n",
    "rs.fit(X_train, y_train)"
   ]
  },
  {
   "cell_type": "code",
   "execution_count": 358,
   "metadata": {},
   "outputs": [
    {
     "name": "stdout",
     "output_type": "stream",
     "text": [
      "best params: {'c1': 2.601810142324518, 'c2': 0.13253074750872607}\n",
      "best CV score: 0.9714514252075627\n",
      "model size: 0.00M\n"
     ]
    }
   ],
   "source": [
    "# crf = rs.best_estimator_\n",
    "print('best params:', rs.best_params_)\n",
    "print('best CV score:', rs.best_score_)\n",
    "print('model size: {:0.2f}M'.format(rs.best_estimator_.size_ / 1000000))"
   ]
  },
  {
   "cell_type": "markdown",
   "metadata": {},
   "source": [
    "### Training FC NN "
   ]
  },
  {
   "cell_type": "markdown",
   "metadata": {},
   "source": [
    "#### Define "
   ]
  },
  {
   "cell_type": "code",
   "execution_count": 75,
   "metadata": {},
   "outputs": [],
   "source": [
    "import torch\n",
    "import torch.nn.functional as F\n",
    "from torch.autograd import Variable\n",
    "import torch.optim as optim"
   ]
  },
  {
   "cell_type": "code",
   "execution_count": 76,
   "metadata": {},
   "outputs": [],
   "source": [
    "n_epochs = 1000\n",
    "batch_size, D_in, D_hidden, D_out = 64, T, 2 * T, T"
   ]
  },
  {
   "cell_type": "code",
   "execution_count": 77,
   "metadata": {},
   "outputs": [],
   "source": [
    "model = torch.nn.Sequential(\n",
    "          torch.nn.Linear(D_in, D_hidden),\n",
    "          torch.nn.ReLU(),\n",
    "          torch.nn.Linear(D_hidden, D_out),\n",
    "          torch.nn.Sigmoid()\n",
    "        )\n",
    "\n",
    "optimizer = optim.Adam(model.parameters(), lr=0.01)"
   ]
  },
  {
   "cell_type": "code",
   "execution_count": 78,
   "metadata": {},
   "outputs": [],
   "source": [
    "from torch.utils.data import Dataset\n",
    "\n",
    "class ChainDataset(Dataset):\n",
    "    \n",
    "    def __init__(self, X, y, flatten=True):\n",
    "        self._X = X\n",
    "        self._y = y\n",
    "\n",
    "    def __len__(self):\n",
    "        return len(self._X)\n",
    "\n",
    "    def __getitem__(self, idx):\n",
    "        sample = {\n",
    "            'X': torch.from_numpy(self._X[idx]).float(),\n",
    "            'y': torch.from_numpy(self._y[idx]).float()  \n",
    "        }\n",
    "        return sample"
   ]
  },
  {
   "cell_type": "code",
   "execution_count": 79,
   "metadata": {},
   "outputs": [],
   "source": [
    "X_train, X_test, y_train, y_test = train_test_split(X_dataset, y_dataset, test_size=0.2)"
   ]
  },
  {
   "cell_type": "code",
   "execution_count": 80,
   "metadata": {},
   "outputs": [],
   "source": [
    "trainset = ChainDataset(X_train, y_train)\n",
    "trainloader = torch.utils.data.DataLoader(trainset, batch_size=batch_size, shuffle=True, num_workers=2)"
   ]
  },
  {
   "cell_type": "markdown",
   "metadata": {},
   "source": [
    "#### Train "
   ]
  },
  {
   "cell_type": "code",
   "execution_count": 81,
   "metadata": {
    "scrolled": true
   },
   "outputs": [
    {
     "name": "stdout",
     "output_type": "stream",
     "text": [
      "epoch 10:: loss = 0.10650727152824402\n",
      "epoch 20:: loss = 0.04566825553774834\n",
      "epoch 30:: loss = 0.026204504072666168\n",
      "epoch 40:: loss = 0.017075013369321823\n",
      "epoch 50:: loss = 0.009916340932250023\n",
      "epoch 60:: loss = 0.0056252386420965195\n",
      "epoch 70:: loss = 0.003228597342967987\n",
      "epoch 80:: loss = 0.0025141153018921614\n",
      "epoch 90:: loss = 0.0020708285737782717\n",
      "epoch 100:: loss = 0.0016462387284263968\n",
      "epoch 110:: loss = 0.0012459862045943737\n",
      "epoch 120:: loss = 0.0011442226823419333\n",
      "epoch 130:: loss = 0.0009900436270982027\n",
      "epoch 140:: loss = 0.0007349085644818842\n",
      "epoch 150:: loss = 0.0006284206174314022\n",
      "epoch 160:: loss = 0.0005654201377183199\n",
      "epoch 170:: loss = 0.00048245344078168273\n",
      "epoch 180:: loss = 0.00040644436376169324\n",
      "epoch 190:: loss = 0.000341401289915666\n",
      "epoch 200:: loss = 0.0003388235636521131\n",
      "epoch 210:: loss = 0.0002876607468351722\n",
      "epoch 220:: loss = 0.0002512266510166228\n",
      "epoch 230:: loss = 0.00022231394541449845\n",
      "epoch 240:: loss = 0.00020567137107718736\n",
      "epoch 250:: loss = 0.00017145814490504563\n",
      "epoch 260:: loss = 0.0001587544975336641\n",
      "epoch 270:: loss = 0.00013968812709208578\n",
      "epoch 280:: loss = 0.00012657075421884656\n",
      "epoch 290:: loss = 0.00012155110016465187\n",
      "epoch 300:: loss = 0.00011196372361155227\n",
      "epoch 310:: loss = 9.929840598488227e-05\n",
      "epoch 320:: loss = 8.78769060363993e-05\n",
      "epoch 330:: loss = 8.12908256193623e-05\n",
      "epoch 340:: loss = 7.442243077093735e-05\n",
      "epoch 350:: loss = 6.907150964252651e-05\n",
      "epoch 360:: loss = 6.146708619780838e-05\n",
      "epoch 370:: loss = 6.151223351480439e-05\n",
      "epoch 380:: loss = 5.592063826043159e-05\n",
      "epoch 390:: loss = 5.142771260580048e-05\n",
      "epoch 400:: loss = 4.645728404284455e-05\n",
      "epoch 410:: loss = 4.635641016648151e-05\n",
      "epoch 420:: loss = 3.7369456549640745e-05\n",
      "epoch 430:: loss = 3.689819641294889e-05\n",
      "epoch 440:: loss = 3.378129986231215e-05\n",
      "epoch 450:: loss = 3.067890793317929e-05\n",
      "epoch 460:: loss = 2.736750138865318e-05\n",
      "epoch 470:: loss = 2.5622732209740207e-05\n",
      "epoch 480:: loss = 2.5323590307380073e-05\n",
      "epoch 490:: loss = 2.1038385966676287e-05\n",
      "epoch 500:: loss = 2.0572824723785743e-05\n",
      "epoch 510:: loss = 1.929221070895437e-05\n",
      "epoch 520:: loss = 1.7644155377638526e-05\n",
      "epoch 530:: loss = 1.6584599507041276e-05\n",
      "epoch 540:: loss = 1.4732483577972744e-05\n",
      "epoch 550:: loss = 1.3377194591157604e-05\n",
      "epoch 560:: loss = 1.3357809621084016e-05\n",
      "epoch 570:: loss = 1.2557175978145096e-05\n",
      "epoch 580:: loss = 1.132191846409114e-05\n",
      "epoch 590:: loss = 1.0261042916681617e-05\n",
      "epoch 600:: loss = 1.0046512215922121e-05\n",
      "epoch 610:: loss = 9.136560038314201e-06\n",
      "epoch 620:: loss = 8.672196599945892e-06\n",
      "epoch 630:: loss = 8.220074960263446e-06\n",
      "epoch 640:: loss = 7.480133263015887e-06\n",
      "epoch 650:: loss = 6.6031620917783584e-06\n",
      "epoch 660:: loss = 6.274364295677515e-06\n",
      "epoch 670:: loss = 5.342020813259296e-06\n",
      "epoch 680:: loss = 5.472447355714394e-06\n",
      "epoch 690:: loss = 4.992922185920179e-06\n",
      "epoch 700:: loss = 4.665613687393488e-06\n",
      "epoch 710:: loss = 4.177850769337965e-06\n",
      "epoch 720:: loss = 4.0172240005631465e-06\n",
      "epoch 730:: loss = 3.6252031350159086e-06\n",
      "epoch 740:: loss = 3.533373501340975e-06\n",
      "epoch 750:: loss = 3.1005658911453793e-06\n",
      "epoch 760:: loss = 2.814202389345155e-06\n",
      "epoch 770:: loss = 2.8353617835819023e-06\n",
      "epoch 780:: loss = 2.5834201551333535e-06\n",
      "epoch 790:: loss = 2.287554934810032e-06\n",
      "epoch 800:: loss = 2.4358614609809592e-06\n",
      "epoch 810:: loss = 2.147670556951198e-06\n",
      "epoch 820:: loss = 1.8707308981902315e-06\n",
      "epoch 830:: loss = 1.787806013453519e-06\n",
      "epoch 840:: loss = 1.6573083030380076e-06\n",
      "epoch 850:: loss = 1.6086556797745288e-06\n",
      "epoch 860:: loss = 1.484678364249703e-06\n",
      "epoch 870:: loss = 1.3931851299275877e-06\n",
      "epoch 880:: loss = 1.2927888519698172e-06\n",
      "epoch 890:: loss = 1.1156133723488892e-06\n",
      "epoch 900:: loss = 1.1368850891813054e-06\n",
      "epoch 910:: loss = 9.552019264447154e-07\n",
      "epoch 920:: loss = 9.616468332751538e-07\n",
      "epoch 930:: loss = 8.835647236082877e-07\n",
      "epoch 940:: loss = 7.79889660407207e-07\n",
      "epoch 950:: loss = 7.692353278798691e-07\n",
      "epoch 960:: loss = 7.173421181505546e-07\n",
      "epoch 970:: loss = 6.626921162933286e-07\n",
      "epoch 980:: loss = 5.98616907154792e-07\n",
      "epoch 990:: loss = 6.007031743138214e-07\n",
      "epoch 1000:: loss = 5.220994694354886e-07\n"
     ]
    }
   ],
   "source": [
    "model.train()\n",
    "learning_curve = []\n",
    "\n",
    "for epoch in range(1, n_epochs + 1):\n",
    "    \n",
    "    for batch in trainloader:\n",
    "        \n",
    "        X_batch, y_batch = Variable(batch['X']), Variable(batch['y'])\n",
    "        model.zero_grad()\n",
    "        \n",
    "        y_pred = model(X_batch)\n",
    "        loss = F.binary_cross_entropy(y_pred, y_batch)\n",
    "        \n",
    "        loss.backward()\n",
    "        optimizer.step()\n",
    "    \n",
    "    if epoch % 10 == 0:\n",
    "        print('epoch {}:: loss = {}'. format(epoch, loss))\n",
    "        learning_curve.append(loss)"
   ]
  },
  {
   "cell_type": "code",
   "execution_count": 82,
   "metadata": {},
   "outputs": [
    {
     "data": {
      "image/png": "[encoded data removed]",
      "text/plain": [
       "<Figure size 432x288 with 1 Axes>"
      ]
     },
     "metadata": {
      "needs_background": "light"
     },
     "output_type": "display_data"
    }
   ],
   "source": [
    "plot(learning_curve);"
   ]
  },
  {
   "cell_type": "markdown",
   "metadata": {},
   "source": [
    "#### Evaluate "
   ]
  },
  {
   "cell_type": "code",
   "execution_count": 83,
   "metadata": {},
   "outputs": [
    {
     "data": {
      "text/plain": [
       "Sequential(\n",
       "  (0): Linear(in_features=50, out_features=100, bias=True)\n",
       "  (1): ReLU()\n",
       "  (2): Linear(in_features=100, out_features=50, bias=True)\n",
       "  (3): Sigmoid()\n",
       ")"
      ]
     },
     "execution_count": 83,
     "metadata": {},
     "output_type": "execute_result"
    }
   ],
   "source": [
    "model.eval()"
   ]
  },
  {
   "cell_type": "code",
   "execution_count": 87,
   "metadata": {},
   "outputs": [],
   "source": [
    "y_pred = np.array([model(torch.from_numpy(xseq).float()).detach().numpy() for xseq in X_test])"
   ]
  },
  {
   "cell_type": "code",
   "execution_count": 88,
   "metadata": {},
   "outputs": [],
   "source": [
    "y_pred = 1 * (y_pred > 0.5)"
   ]
  },
  {
   "cell_type": "code",
   "execution_count": 89,
   "metadata": {},
   "outputs": [
    {
     "name": "stdout",
     "output_type": "stream",
     "text": [
      "              precision    recall  f1-score   support\n",
      "\n",
      "           0       1.00      1.00      1.00      3722\n",
      "           1       1.00      1.00      1.00      6278\n",
      "\n",
      "   micro avg       1.00      1.00      1.00     10000\n",
      "   macro avg       1.00      1.00      1.00     10000\n",
      "weighted avg       1.00      1.00      1.00     10000\n",
      "\n"
     ]
    }
   ],
   "source": [
    "labels = {0 : 0, 1: 1}\n",
    "\n",
    "predictions = np.array([labels[tag] for row in y_pred for tag in row])\n",
    "truths = np.array([labels[tag] for row in y_test for tag in row])\n",
    "\n",
    "print(classification_report(\n",
    "    truths, predictions,\n",
    "    target_names=[\"0\", \"1\"]))"
   ]
  },
  {
   "cell_type": "markdown",
   "metadata": {},
   "source": [
    "### Create dataset from trained CRF"
   ]
  },
  {
   "cell_type": "code",
   "execution_count": 30,
   "metadata": {},
   "outputs": [],
   "source": [
    "tagger = pycrfsuite.Tagger()\n",
    "tagger.open('crf.model')\n",
    "\n",
    "y_pred_test = [tagger.tag(xseq) for xseq in X_test]\n",
    "y_pred_train = [tagger.tag(xseq) for xseq in X_train]"
   ]
  },
  {
   "cell_type": "markdown",
   "metadata": {},
   "source": [
    "#### Train new CRF over the generated dataset"
   ]
  },
  {
   "cell_type": "code",
   "execution_count": 31,
   "metadata": {},
   "outputs": [],
   "source": [
    "chain.update_observed([int(c[0].split('=')[1]) for c in X_train[0]])\n",
    "y_chain = chain.get_max_apostriori_beliefs()"
   ]
  },
  {
   "cell_type": "code",
   "execution_count": 32,
   "metadata": {},
   "outputs": [
    {
     "data": {
      "text/plain": [
       "<matplotlib.legend.Legend at 0x1a256c82e8>"
      ]
     },
     "execution_count": 32,
     "metadata": {},
     "output_type": "execute_result"
    },
    {
     "data": {
      "image/png": "[encoded data removed]",
      "text/plain": [
       "<Figure size 432x288 with 1 Axes>"
      ]
     },
     "metadata": {
      "needs_background": "light"
     },
     "output_type": "display_data"
    }
   ],
   "source": [
    "plot([int(c[0].split('=')[1]) for c in X_train[0]], 'o')\n",
    "plot([int(c) + 0.05 for c in y_pred_train[0]], 'ro')\n",
    "plot(np.array(y_chain) + 0.1, 'ko')\n",
    "legend(['observations', 'labels', 'BP'])"
   ]
  },
  {
   "cell_type": "code",
   "execution_count": null,
   "metadata": {},
   "outputs": [],
   "source": [
    "trainer = pycrfsuite.Trainer(verbose=True)"
   ]
  },
  {
   "cell_type": "code",
   "execution_count": null,
   "metadata": {},
   "outputs": [],
   "source": [
    "# Submit training data to the trainer\n",
    "trainer.clear()\n",
    "    \n",
    "for xseq, yseq in zip(X_train, y_pred_train):\n",
    "    trainer.append(xseq, yseq)"
   ]
  },
  {
   "cell_type": "code",
   "execution_count": null,
   "metadata": {},
   "outputs": [],
   "source": [
    "# the model will be saved under 'crf.model'\n",
    "trainer.train('crf_from_crf_created_data.model')"
   ]
  },
  {
   "cell_type": "code",
   "execution_count": null,
   "metadata": {},
   "outputs": [],
   "source": [
    "tagger = pycrfsuite.Tagger()\n",
    "tagger.open('crf_from_crf_created_data.model')\n",
    "\n",
    "y_pred = [tagger.tag(xseq) for xseq in X_test]"
   ]
  },
  {
   "cell_type": "code",
   "execution_count": null,
   "metadata": {},
   "outputs": [],
   "source": [
    "labels = {\"0\": 0, \"1\": 1}\n",
    "\n",
    "predictions = np.array([labels[tag] for row in y_pred for tag in row])\n",
    "truths = np.array([labels[tag] for row in y_pred_test for tag in row])\n",
    "\n",
    "print(classification_report(\n",
    "    truths, predictions,\n",
    "    target_names=[\"0\", \"1\"]))"
   ]
  },
  {
   "cell_type": "code",
   "execution_count": null,
   "metadata": {},
   "outputs": [],
   "source": []
  },
  {
   "cell_type": "code",
   "execution_count": 13,
   "metadata": {},
   "outputs": [],
   "source": [
    "# 50 devices, 100K sessions\n",
    "FAUW = {'(0.5, 0.5, 0.5)_per_week': 13.708333333333332,\n",
    " '(0.5, 0.5, 0.6)_per_week': 11.433333333333334,\n",
    " '(0.5, 0.5, 0.7)_per_week': 10.75,\n",
    " '(0.5, 0.5, 0.8)_per_week': 7.0,\n",
    " '(0.5, 0.5, 0.85)_per_week': 7.0,\n",
    " '(0.5, 0.6, 0.5)_per_week': 12.25,\n",
    " '(0.5, 0.6, 0.6)_per_week': 10.85,\n",
    " '(0.5, 0.6, 0.7)_per_week': 10.75,\n",
    " '(0.5, 0.6, 0.8)_per_week': 7.0,\n",
    " '(0.5, 0.6, 0.85)_per_week': 6.0625,\n",
    " '(0.5, 0.7, 0.5)_per_week': 11.433333333333334,\n",
    " '(0.5, 0.7, 0.6)_per_week': 9.8,\n",
    " '(0.5, 0.7, 0.7)_per_week': 8.5,\n",
    " '(0.5, 0.7, 0.8)_per_week': 7.0,\n",
    " '(0.5, 0.7, 0.85)_per_week': 5.916666666666666,\n",
    " '(0.5, 0.75, 0.5)_per_week': 10.733333333333334,\n",
    " '(0.5, 0.75, 0.6)_per_week': 9.100000000000001,\n",
    " '(0.5, 0.75, 0.7)_per_week': 8.166666666666668,\n",
    " '(0.5, 0.75, 0.8)_per_week': 6.125,\n",
    " '(0.5, 0.75, 0.85)_per_week': 5.541666666666666,\n",
    " '(0.6, 0.5, 0.5)_per_week': 10.5,\n",
    " '(0.6, 0.5, 0.6)_per_week': 8.866666666666667,\n",
    " '(0.6, 0.5, 0.7)_per_week': 7.583333333333333,\n",
    " '(0.6, 0.5, 0.8)_per_week': 7.0,\n",
    " '(0.6, 0.5, 0.85)_per_week': 5.075,\n",
    " '(0.6, 0.6, 0.5)_per_week': 9.333333333333334,\n",
    " '(0.6, 0.6, 0.6)_per_week': 7.7,\n",
    " '(0.6, 0.6, 0.7)_per_week': 7.0,\n",
    " '(0.6, 0.6, 0.8)_per_week': 5.833333333333333,\n",
    " '(0.6, 0.6, 0.85)_per_week': 4.783333333333333,\n",
    " '(0.6, 0.7, 0.5)_per_week': 9.333333333333334,\n",
    " '(0.6, 0.7, 0.6)_per_week': 7.0,\n",
    " '(0.6, 0.7, 0.7)_per_week': 7.0,\n",
    " '(0.6, 0.7, 0.8)_per_week': 5.541666666666666,\n",
    " '(0.6, 0.7, 0.85)_per_week': 4.666666666666667,\n",
    " '(0.6, 0.75, 0.5)_per_week': 8.866666666666667,\n",
    " '(0.6, 0.75, 0.6)_per_week': 7.0,\n",
    " '(0.6, 0.75, 0.7)_per_week': 6.5,\n",
    " '(0.6, 0.75, 0.8)_per_week': 5.125,\n",
    " '(0.6, 0.75, 0.85)_per_week': 4.433333333333334,\n",
    " '(0.7, 0.5, 0.5)_per_week': 9.333333333333334,\n",
    " '(0.7, 0.5, 0.6)_per_week': 7.583333333333333,\n",
    " '(0.7, 0.5, 0.7)_per_week': 6.15,\n",
    " '(0.7, 0.5, 0.8)_per_week': 5.25,\n",
    " '(0.7, 0.5, 0.85)_per_week': 4.375,\n",
    " '(0.7, 0.6, 0.5)_per_week': 8.866666666666667,\n",
    " '(0.7, 0.6, 0.6)_per_week': 7.0,\n",
    " '(0.7, 0.6, 0.7)_per_week': 6.0625,\n",
    " '(0.7, 0.6, 0.8)_per_week': 4.666666666666667,\n",
    " '(0.7, 0.6, 0.85)_per_week': 3.75,\n",
    " '(0.7, 0.7, 0.5)_per_week': 8.7,\n",
    " '(0.7, 0.7, 0.6)_per_week': 6.15,\n",
    " '(0.7, 0.7, 0.7)_per_week': 5.916666666666666,\n",
    " '(0.7, 0.7, 0.8)_per_week': 4.666666666666667,\n",
    " '(0.7, 0.7, 0.85)_per_week': 3.5,\n",
    " '(0.7, 0.75, 0.5)_per_week': 7.5,\n",
    " '(0.7, 0.75, 0.6)_per_week': 5.916666666666666,\n",
    " '(0.7, 0.75, 0.7)_per_week': 5.541666666666666,\n",
    " '(0.7, 0.75, 0.8)_per_week': 4.520833333333334,\n",
    " '(0.7, 0.75, 0.85)_per_week': 3.25,\n",
    " '(0.8, 0.5, 0.5)_per_week': 5.625,\n",
    " '(0.8, 0.5, 0.6)_per_week': 4.666666666666667,\n",
    " '(0.8, 0.5, 0.7)_per_week': 4.783333333333333,\n",
    " '(0.8, 0.5, 0.8)_per_week': 3.5,\n",
    " '(0.8, 0.5, 0.85)_per_week': 2.3333333333333335,\n",
    " '(0.8, 0.6, 0.5)_per_week': 5.25,\n",
    " '(0.8, 0.6, 0.6)_per_week': 4.666666666666667,\n",
    " '(0.8, 0.6, 0.7)_per_week': 4.375,\n",
    " '(0.8, 0.6, 0.8)_per_week': 3.25,\n",
    " '(0.8, 0.6, 0.85)_per_week': 2.166666666666667,\n",
    " '(0.8, 0.7, 0.5)_per_week': 5.25,\n",
    " '(0.8, 0.7, 0.6)_per_week': 3.5,\n",
    " '(0.8, 0.7, 0.7)_per_week': 3.5,\n",
    " '(0.8, 0.7, 0.8)_per_week': 3.25,\n",
    " '(0.8, 0.7, 0.85)_per_week': 2.0,\n",
    " '(0.8, 0.75, 0.5)_per_week': 4.520833333333334,\n",
    " '(0.8, 0.75, 0.6)_per_week': 3.5,\n",
    " '(0.8, 0.75, 0.7)_per_week': 3.0555555555555554,\n",
    " '(0.8, 0.75, 0.8)_per_week': 2.9,\n",
    " '(0.8, 0.75, 0.85)_per_week': 2.0,\n",
    " '(0.9, 0.5, 0.5)_per_week': 3.15,\n",
    " '(0.9, 0.5, 0.6)_per_week': 2.479166666666667,\n",
    " '(0.9, 0.5, 0.7)_per_week': 1.75,\n",
    " '(0.9, 0.5, 0.8)_per_week': 1.2,\n",
    " '(0.9, 0.5, 0.85)_per_week': 0.0,\n",
    " '(0.9, 0.6, 0.5)_per_week': 2.7125,\n",
    " '(0.9, 0.6, 0.6)_per_week': 2.041666666666667,\n",
    " '(0.9, 0.6, 0.7)_per_week': 1.575,\n",
    " '(0.9, 0.6, 0.8)_per_week': 0.875,\n",
    " '(0.9, 0.6, 0.85)_per_week': 0.0,\n",
    " '(0.9, 0.7, 0.5)_per_week': 2.7125,\n",
    " '(0.9, 0.7, 0.6)_per_week': 1.75,\n",
    " '(0.9, 0.7, 0.7)_per_week': 1.2833333333333332,\n",
    " '(0.9, 0.7, 0.8)_per_week': 0.875,\n",
    " '(0.9, 0.7, 0.85)_per_week': 0.0,\n",
    " '(0.9, 0.75, 0.5)_per_week': 2.479166666666667,\n",
    " '(0.9, 0.75, 0.6)_per_week': 1.75,\n",
    " '(0.9, 0.75, 0.7)_per_week': 1.2833333333333332,\n",
    " '(0.9, 0.75, 0.8)_per_week': 0.875,\n",
    " '(0.9, 0.75, 0.85)_per_week': 0.0}"
   ]
  },
  {
   "cell_type": "code",
   "execution_count": 15,
   "metadata": {},
   "outputs": [],
   "source": [
    "### 115 devices , 200K events\n",
    "FAUW =  {'(0.5, 0.5, 0.5)_per_week': 15.0,\n",
    " '(0.5, 0.5, 0.6)_per_week': 11.666666666666666,\n",
    " '(0.5, 0.5, 0.7)_per_week': 9.625,\n",
    " '(0.5, 0.5, 0.8)_per_week': 7.0,\n",
    " '(0.5, 0.5, 0.85)_per_week': 7.0,\n",
    " '(0.5, 0.6, 0.5)_per_week': 14.0,\n",
    " '(0.5, 0.6, 0.6)_per_week': 10.5,\n",
    " '(0.5, 0.6, 0.7)_per_week': 8.166666666666666,\n",
    " '(0.5, 0.6, 0.8)_per_week': 7.0,\n",
    " '(0.5, 0.6, 0.85)_per_week': 5.6,\n",
    " '(0.5, 0.7, 0.5)_per_week': 12.0,\n",
    " '(0.5, 0.7, 0.6)_per_week': 10.5,\n",
    " '(0.5, 0.7, 0.7)_per_week': 8.0,\n",
    " '(0.5, 0.7, 0.8)_per_week': 7.0,\n",
    " '(0.5, 0.7, 0.85)_per_week': 5.25,\n",
    " '(0.5, 0.75, 0.5)_per_week': 11.666666666666666,\n",
    " '(0.5, 0.75, 0.6)_per_week': 10.0,\n",
    " '(0.5, 0.75, 0.7)_per_week': 7.0,\n",
    " '(0.5, 0.75, 0.8)_per_week': 7.0,\n",
    " '(0.5, 0.75, 0.85)_per_week': 5.25,\n",
    " '(0.6, 0.5, 0.5)_per_week': 11.375,\n",
    " '(0.6, 0.5, 0.6)_per_week': 9.8,\n",
    " '(0.6, 0.5, 0.7)_per_week': 7.0,\n",
    " '(0.6, 0.5, 0.8)_per_week': 6.0,\n",
    " '(0.6, 0.5, 0.85)_per_week': 5.0,\n",
    " '(0.6, 0.6, 0.5)_per_week': 10.5,\n",
    " '(0.6, 0.6, 0.6)_per_week': 8.4,\n",
    " '(0.6, 0.6, 0.7)_per_week': 7.0,\n",
    " '(0.6, 0.6, 0.8)_per_week': 5.25,\n",
    " '(0.6, 0.6, 0.85)_per_week': 4.666666666666667,\n",
    " '(0.6, 0.7, 0.5)_per_week': 9.8,\n",
    " '(0.6, 0.7, 0.6)_per_week': 8.0,\n",
    " '(0.6, 0.7, 0.7)_per_week': 7.0,\n",
    " '(0.6, 0.7, 0.8)_per_week': 5.0,\n",
    " '(0.6, 0.7, 0.85)_per_week': 4.375,\n",
    " '(0.6, 0.75, 0.5)_per_week': 9.333333333333334,\n",
    " '(0.6, 0.75, 0.6)_per_week': 7.0,\n",
    " '(0.6, 0.75, 0.7)_per_week': 7.0,\n",
    " '(0.6, 0.75, 0.8)_per_week': 5.0,\n",
    " '(0.6, 0.75, 0.85)_per_week': 4.375,\n",
    " '(0.7, 0.5, 0.5)_per_week': 8.0,\n",
    " '(0.7, 0.5, 0.6)_per_week': 7.0,\n",
    " '(0.7, 0.5, 0.7)_per_week': 5.0,\n",
    " '(0.7, 0.5, 0.8)_per_week': 4.0,\n",
    " '(0.7, 0.5, 0.85)_per_week': 3.5,\n",
    " '(0.7, 0.6, 0.5)_per_week': 7.875,\n",
    " '(0.7, 0.6, 0.6)_per_week': 6.125,\n",
    " '(0.7, 0.6, 0.7)_per_week': 5.0,\n",
    " '(0.7, 0.6, 0.8)_per_week': 3.888888888888889,\n",
    " '(0.7, 0.6, 0.85)_per_week': 3.0,\n",
    " '(0.7, 0.7, 0.5)_per_week': 7.0,\n",
    " '(0.7, 0.7, 0.6)_per_week': 6.0,\n",
    " '(0.7, 0.7, 0.7)_per_week': 4.666666666666667,\n",
    " '(0.7, 0.7, 0.8)_per_week': 3.888888888888889,\n",
    " '(0.7, 0.7, 0.85)_per_week': 2.8,\n",
    " '(0.7, 0.75, 0.5)_per_week': 7.0,\n",
    " '(0.7, 0.75, 0.6)_per_week': 5.833333333333333,\n",
    " '(0.7, 0.75, 0.7)_per_week': 4.666666666666667,\n",
    " '(0.7, 0.75, 0.8)_per_week': 3.888888888888889,\n",
    " '(0.7, 0.75, 0.85)_per_week': 2.8,\n",
    " '(0.8, 0.5, 0.5)_per_week': 4.666666666666667,\n",
    " '(0.8, 0.5, 0.6)_per_week': 4.0,\n",
    " '(0.8, 0.5, 0.7)_per_week': 3.5,\n",
    " '(0.8, 0.5, 0.8)_per_week': 3.0,\n",
    " '(0.8, 0.5, 0.85)_per_week': 2.3333333333333335,\n",
    " '(0.8, 0.6, 0.5)_per_week': 4.666666666666667,\n",
    " '(0.8, 0.6, 0.6)_per_week': 4.0,\n",
    " '(0.8, 0.6, 0.7)_per_week': 3.5,\n",
    " '(0.8, 0.6, 0.8)_per_week': 2.625,\n",
    " '(0.8, 0.6, 0.85)_per_week': 1.75,\n",
    " '(0.8, 0.7, 0.5)_per_week': 4.375,\n",
    " '(0.8, 0.7, 0.6)_per_week': 3.5,\n",
    " '(0.8, 0.7, 0.7)_per_week': 3.111111111111111,\n",
    " '(0.8, 0.7, 0.8)_per_week': 2.625,\n",
    " '(0.8, 0.7, 0.85)_per_week': 1.75,\n",
    " '(0.8, 0.75, 0.5)_per_week': 4.375,\n",
    " '(0.8, 0.75, 0.6)_per_week': 3.5,\n",
    " '(0.8, 0.75, 0.7)_per_week': 3.0,\n",
    " '(0.8, 0.75, 0.8)_per_week': 2.3333333333333335,\n",
    " '(0.8, 0.75, 0.85)_per_week': 1.75,\n",
    " '(0.9, 0.5, 0.5)_per_week': 2.3333333333333335,\n",
    " '(0.9, 0.5, 0.6)_per_week': 1.75,\n",
    " '(0.9, 0.5, 0.7)_per_week': 1.4,\n",
    " '(0.9, 0.5, 0.8)_per_week': 1.1666666666666667,\n",
    " '(0.9, 0.5, 0.85)_per_week': 0.875,\n",
    " '(0.9, 0.6, 0.5)_per_week': 2.3333333333333335,\n",
    " '(0.9, 0.6, 0.6)_per_week': 1.75,\n",
    " '(0.9, 0.6, 0.7)_per_week': 1.4,\n",
    " '(0.9, 0.6, 0.8)_per_week': 1.0,\n",
    " '(0.9, 0.6, 0.85)_per_week': 0.875,\n",
    " '(0.9, 0.7, 0.5)_per_week': 2.0,\n",
    " '(0.9, 0.7, 0.6)_per_week': 1.75,\n",
    " '(0.9, 0.7, 0.7)_per_week': 1.1666666666666667,\n",
    " '(0.9, 0.7, 0.8)_per_week': 1.0,\n",
    " '(0.9, 0.7, 0.85)_per_week': 0.0,\n",
    " '(0.9, 0.75, 0.5)_per_week': 1.75,\n",
    " '(0.9, 0.75, 0.6)_per_week': 1.75,\n",
    " '(0.9, 0.75, 0.7)_per_week': 1.0,\n",
    " '(0.9, 0.75, 0.8)_per_week': 1.0,\n",
    " '(0.9, 0.75, 0.85)_per_week': 0.0}"
   ]
  },
  {
   "cell_type": "code",
   "execution_count": 16,
   "metadata": {},
   "outputs": [],
   "source": [
    "import pandas as pd"
   ]
  },
  {
   "cell_type": "code",
   "execution_count": 17,
   "metadata": {},
   "outputs": [],
   "source": [
    "FA_df = pd.DataFrame([], columns=['exp', 'p_audio', 'p_raising', 'p_raised', 'FAUW'])"
   ]
  },
  {
   "cell_type": "code",
   "execution_count": 18,
   "metadata": {},
   "outputs": [],
   "source": [
    "i = 1\n",
    "for k, v in FAUW.items():\n",
    "    k = eval(k.split('_')[0])\n",
    "    row = pd.DataFrame([[i, k[0], k[1], k[2], v]], columns=['exp', 'p_audio', 'p_raising', 'p_raised', 'FAUW'])\n",
    "    FA_df = FA_df.append(row)        \n",
    "    i += 1"
   ]
  },
  {
   "cell_type": "code",
   "execution_count": 19,
   "metadata": {
    "scrolled": true
   },
   "outputs": [
    {
     "data": {
      "text/html": [
       "<div>\n",
       "<style scoped>\n",
       "    .dataframe tbody tr th:only-of-type {\n",
       "        vertical-align: middle;\n",
       "    }\n",
       "\n",
       "    .dataframe tbody tr th {\n",
       "        vertical-align: top;\n",
       "    }\n",
       "\n",
       "    .dataframe thead th {\n",
       "        text-align: right;\n",
       "    }\n",
       "</style>\n",
       "<table border=\"1\" class=\"dataframe\">\n",
       "  <thead>\n",
       "    <tr style=\"text-align: right;\">\n",
       "      <th></th>\n",
       "      <th>exp</th>\n",
       "      <th>p_audio</th>\n",
       "      <th>p_raising</th>\n",
       "      <th>p_raised</th>\n",
       "      <th>FAUW</th>\n",
       "    </tr>\n",
       "  </thead>\n",
       "  <tbody>\n",
       "    <tr>\n",
       "      <th>0</th>\n",
       "      <td>1</td>\n",
       "      <td>0.5</td>\n",
       "      <td>0.50</td>\n",
       "      <td>0.50</td>\n",
       "      <td>15.000000</td>\n",
       "    </tr>\n",
       "    <tr>\n",
       "      <th>0</th>\n",
       "      <td>2</td>\n",
       "      <td>0.5</td>\n",
       "      <td>0.50</td>\n",
       "      <td>0.60</td>\n",
       "      <td>11.666667</td>\n",
       "    </tr>\n",
       "    <tr>\n",
       "      <th>0</th>\n",
       "      <td>3</td>\n",
       "      <td>0.5</td>\n",
       "      <td>0.50</td>\n",
       "      <td>0.70</td>\n",
       "      <td>9.625000</td>\n",
       "    </tr>\n",
       "    <tr>\n",
       "      <th>0</th>\n",
       "      <td>4</td>\n",
       "      <td>0.5</td>\n",
       "      <td>0.50</td>\n",
       "      <td>0.80</td>\n",
       "      <td>7.000000</td>\n",
       "    </tr>\n",
       "    <tr>\n",
       "      <th>0</th>\n",
       "      <td>5</td>\n",
       "      <td>0.5</td>\n",
       "      <td>0.50</td>\n",
       "      <td>0.85</td>\n",
       "      <td>7.000000</td>\n",
       "    </tr>\n",
       "    <tr>\n",
       "      <th>0</th>\n",
       "      <td>6</td>\n",
       "      <td>0.5</td>\n",
       "      <td>0.60</td>\n",
       "      <td>0.50</td>\n",
       "      <td>14.000000</td>\n",
       "    </tr>\n",
       "    <tr>\n",
       "      <th>0</th>\n",
       "      <td>7</td>\n",
       "      <td>0.5</td>\n",
       "      <td>0.60</td>\n",
       "      <td>0.60</td>\n",
       "      <td>10.500000</td>\n",
       "    </tr>\n",
       "    <tr>\n",
       "      <th>0</th>\n",
       "      <td>8</td>\n",
       "      <td>0.5</td>\n",
       "      <td>0.60</td>\n",
       "      <td>0.70</td>\n",
       "      <td>8.166667</td>\n",
       "    </tr>\n",
       "    <tr>\n",
       "      <th>0</th>\n",
       "      <td>9</td>\n",
       "      <td>0.5</td>\n",
       "      <td>0.60</td>\n",
       "      <td>0.80</td>\n",
       "      <td>7.000000</td>\n",
       "    </tr>\n",
       "    <tr>\n",
       "      <th>0</th>\n",
       "      <td>10</td>\n",
       "      <td>0.5</td>\n",
       "      <td>0.60</td>\n",
       "      <td>0.85</td>\n",
       "      <td>5.600000</td>\n",
       "    </tr>\n",
       "    <tr>\n",
       "      <th>0</th>\n",
       "      <td>11</td>\n",
       "      <td>0.5</td>\n",
       "      <td>0.70</td>\n",
       "      <td>0.50</td>\n",
       "      <td>12.000000</td>\n",
       "    </tr>\n",
       "    <tr>\n",
       "      <th>0</th>\n",
       "      <td>12</td>\n",
       "      <td>0.5</td>\n",
       "      <td>0.70</td>\n",
       "      <td>0.60</td>\n",
       "      <td>10.500000</td>\n",
       "    </tr>\n",
       "    <tr>\n",
       "      <th>0</th>\n",
       "      <td>13</td>\n",
       "      <td>0.5</td>\n",
       "      <td>0.70</td>\n",
       "      <td>0.70</td>\n",
       "      <td>8.000000</td>\n",
       "    </tr>\n",
       "    <tr>\n",
       "      <th>0</th>\n",
       "      <td>14</td>\n",
       "      <td>0.5</td>\n",
       "      <td>0.70</td>\n",
       "      <td>0.80</td>\n",
       "      <td>7.000000</td>\n",
       "    </tr>\n",
       "    <tr>\n",
       "      <th>0</th>\n",
       "      <td>15</td>\n",
       "      <td>0.5</td>\n",
       "      <td>0.70</td>\n",
       "      <td>0.85</td>\n",
       "      <td>5.250000</td>\n",
       "    </tr>\n",
       "    <tr>\n",
       "      <th>0</th>\n",
       "      <td>16</td>\n",
       "      <td>0.5</td>\n",
       "      <td>0.75</td>\n",
       "      <td>0.50</td>\n",
       "      <td>11.666667</td>\n",
       "    </tr>\n",
       "    <tr>\n",
       "      <th>0</th>\n",
       "      <td>17</td>\n",
       "      <td>0.5</td>\n",
       "      <td>0.75</td>\n",
       "      <td>0.60</td>\n",
       "      <td>10.000000</td>\n",
       "    </tr>\n",
       "    <tr>\n",
       "      <th>0</th>\n",
       "      <td>18</td>\n",
       "      <td>0.5</td>\n",
       "      <td>0.75</td>\n",
       "      <td>0.70</td>\n",
       "      <td>7.000000</td>\n",
       "    </tr>\n",
       "    <tr>\n",
       "      <th>0</th>\n",
       "      <td>19</td>\n",
       "      <td>0.5</td>\n",
       "      <td>0.75</td>\n",
       "      <td>0.80</td>\n",
       "      <td>7.000000</td>\n",
       "    </tr>\n",
       "    <tr>\n",
       "      <th>0</th>\n",
       "      <td>20</td>\n",
       "      <td>0.5</td>\n",
       "      <td>0.75</td>\n",
       "      <td>0.85</td>\n",
       "      <td>5.250000</td>\n",
       "    </tr>\n",
       "    <tr>\n",
       "      <th>0</th>\n",
       "      <td>21</td>\n",
       "      <td>0.6</td>\n",
       "      <td>0.50</td>\n",
       "      <td>0.50</td>\n",
       "      <td>11.375000</td>\n",
       "    </tr>\n",
       "    <tr>\n",
       "      <th>0</th>\n",
       "      <td>22</td>\n",
       "      <td>0.6</td>\n",
       "      <td>0.50</td>\n",
       "      <td>0.60</td>\n",
       "      <td>9.800000</td>\n",
       "    </tr>\n",
       "    <tr>\n",
       "      <th>0</th>\n",
       "      <td>23</td>\n",
       "      <td>0.6</td>\n",
       "      <td>0.50</td>\n",
       "      <td>0.70</td>\n",
       "      <td>7.000000</td>\n",
       "    </tr>\n",
       "    <tr>\n",
       "      <th>0</th>\n",
       "      <td>24</td>\n",
       "      <td>0.6</td>\n",
       "      <td>0.50</td>\n",
       "      <td>0.80</td>\n",
       "      <td>6.000000</td>\n",
       "    </tr>\n",
       "    <tr>\n",
       "      <th>0</th>\n",
       "      <td>25</td>\n",
       "      <td>0.6</td>\n",
       "      <td>0.50</td>\n",
       "      <td>0.85</td>\n",
       "      <td>5.000000</td>\n",
       "    </tr>\n",
       "    <tr>\n",
       "      <th>0</th>\n",
       "      <td>26</td>\n",
       "      <td>0.6</td>\n",
       "      <td>0.60</td>\n",
       "      <td>0.50</td>\n",
       "      <td>10.500000</td>\n",
       "    </tr>\n",
       "    <tr>\n",
       "      <th>0</th>\n",
       "      <td>27</td>\n",
       "      <td>0.6</td>\n",
       "      <td>0.60</td>\n",
       "      <td>0.60</td>\n",
       "      <td>8.400000</td>\n",
       "    </tr>\n",
       "    <tr>\n",
       "      <th>0</th>\n",
       "      <td>28</td>\n",
       "      <td>0.6</td>\n",
       "      <td>0.60</td>\n",
       "      <td>0.70</td>\n",
       "      <td>7.000000</td>\n",
       "    </tr>\n",
       "    <tr>\n",
       "      <th>0</th>\n",
       "      <td>29</td>\n",
       "      <td>0.6</td>\n",
       "      <td>0.60</td>\n",
       "      <td>0.80</td>\n",
       "      <td>5.250000</td>\n",
       "    </tr>\n",
       "    <tr>\n",
       "      <th>0</th>\n",
       "      <td>30</td>\n",
       "      <td>0.6</td>\n",
       "      <td>0.60</td>\n",
       "      <td>0.85</td>\n",
       "      <td>4.666667</td>\n",
       "    </tr>\n",
       "    <tr>\n",
       "      <th>...</th>\n",
       "      <td>...</td>\n",
       "      <td>...</td>\n",
       "      <td>...</td>\n",
       "      <td>...</td>\n",
       "      <td>...</td>\n",
       "    </tr>\n",
       "    <tr>\n",
       "      <th>0</th>\n",
       "      <td>71</td>\n",
       "      <td>0.8</td>\n",
       "      <td>0.70</td>\n",
       "      <td>0.50</td>\n",
       "      <td>4.375000</td>\n",
       "    </tr>\n",
       "    <tr>\n",
       "      <th>0</th>\n",
       "      <td>72</td>\n",
       "      <td>0.8</td>\n",
       "      <td>0.70</td>\n",
       "      <td>0.60</td>\n",
       "      <td>3.500000</td>\n",
       "    </tr>\n",
       "    <tr>\n",
       "      <th>0</th>\n",
       "      <td>73</td>\n",
       "      <td>0.8</td>\n",
       "      <td>0.70</td>\n",
       "      <td>0.70</td>\n",
       "      <td>3.111111</td>\n",
       "    </tr>\n",
       "    <tr>\n",
       "      <th>0</th>\n",
       "      <td>74</td>\n",
       "      <td>0.8</td>\n",
       "      <td>0.70</td>\n",
       "      <td>0.80</td>\n",
       "      <td>2.625000</td>\n",
       "    </tr>\n",
       "    <tr>\n",
       "      <th>0</th>\n",
       "      <td>75</td>\n",
       "      <td>0.8</td>\n",
       "      <td>0.70</td>\n",
       "      <td>0.85</td>\n",
       "      <td>1.750000</td>\n",
       "    </tr>\n",
       "    <tr>\n",
       "      <th>0</th>\n",
       "      <td>76</td>\n",
       "      <td>0.8</td>\n",
       "      <td>0.75</td>\n",
       "      <td>0.50</td>\n",
       "      <td>4.375000</td>\n",
       "    </tr>\n",
       "    <tr>\n",
       "      <th>0</th>\n",
       "      <td>77</td>\n",
       "      <td>0.8</td>\n",
       "      <td>0.75</td>\n",
       "      <td>0.60</td>\n",
       "      <td>3.500000</td>\n",
       "    </tr>\n",
       "    <tr>\n",
       "      <th>0</th>\n",
       "      <td>78</td>\n",
       "      <td>0.8</td>\n",
       "      <td>0.75</td>\n",
       "      <td>0.70</td>\n",
       "      <td>3.000000</td>\n",
       "    </tr>\n",
       "    <tr>\n",
       "      <th>0</th>\n",
       "      <td>79</td>\n",
       "      <td>0.8</td>\n",
       "      <td>0.75</td>\n",
       "      <td>0.80</td>\n",
       "      <td>2.333333</td>\n",
       "    </tr>\n",
       "    <tr>\n",
       "      <th>0</th>\n",
       "      <td>80</td>\n",
       "      <td>0.8</td>\n",
       "      <td>0.75</td>\n",
       "      <td>0.85</td>\n",
       "      <td>1.750000</td>\n",
       "    </tr>\n",
       "    <tr>\n",
       "      <th>0</th>\n",
       "      <td>81</td>\n",
       "      <td>0.9</td>\n",
       "      <td>0.50</td>\n",
       "      <td>0.50</td>\n",
       "      <td>2.333333</td>\n",
       "    </tr>\n",
       "    <tr>\n",
       "      <th>0</th>\n",
       "      <td>82</td>\n",
       "      <td>0.9</td>\n",
       "      <td>0.50</td>\n",
       "      <td>0.60</td>\n",
       "      <td>1.750000</td>\n",
       "    </tr>\n",
       "    <tr>\n",
       "      <th>0</th>\n",
       "      <td>83</td>\n",
       "      <td>0.9</td>\n",
       "      <td>0.50</td>\n",
       "      <td>0.70</td>\n",
       "      <td>1.400000</td>\n",
       "    </tr>\n",
       "    <tr>\n",
       "      <th>0</th>\n",
       "      <td>84</td>\n",
       "      <td>0.9</td>\n",
       "      <td>0.50</td>\n",
       "      <td>0.80</td>\n",
       "      <td>1.166667</td>\n",
       "    </tr>\n",
       "    <tr>\n",
       "      <th>0</th>\n",
       "      <td>85</td>\n",
       "      <td>0.9</td>\n",
       "      <td>0.50</td>\n",
       "      <td>0.85</td>\n",
       "      <td>0.875000</td>\n",
       "    </tr>\n",
       "    <tr>\n",
       "      <th>0</th>\n",
       "      <td>86</td>\n",
       "      <td>0.9</td>\n",
       "      <td>0.60</td>\n",
       "      <td>0.50</td>\n",
       "      <td>2.333333</td>\n",
       "    </tr>\n",
       "    <tr>\n",
       "      <th>0</th>\n",
       "      <td>87</td>\n",
       "      <td>0.9</td>\n",
       "      <td>0.60</td>\n",
       "      <td>0.60</td>\n",
       "      <td>1.750000</td>\n",
       "    </tr>\n",
       "    <tr>\n",
       "      <th>0</th>\n",
       "      <td>88</td>\n",
       "      <td>0.9</td>\n",
       "      <td>0.60</td>\n",
       "      <td>0.70</td>\n",
       "      <td>1.400000</td>\n",
       "    </tr>\n",
       "    <tr>\n",
       "      <th>0</th>\n",
       "      <td>89</td>\n",
       "      <td>0.9</td>\n",
       "      <td>0.60</td>\n",
       "      <td>0.80</td>\n",
       "      <td>1.000000</td>\n",
       "    </tr>\n",
       "    <tr>\n",
       "      <th>0</th>\n",
       "      <td>90</td>\n",
       "      <td>0.9</td>\n",
       "      <td>0.60</td>\n",
       "      <td>0.85</td>\n",
       "      <td>0.875000</td>\n",
       "    </tr>\n",
       "    <tr>\n",
       "      <th>0</th>\n",
       "      <td>91</td>\n",
       "      <td>0.9</td>\n",
       "      <td>0.70</td>\n",
       "      <td>0.50</td>\n",
       "      <td>2.000000</td>\n",
       "    </tr>\n",
       "    <tr>\n",
       "      <th>0</th>\n",
       "      <td>92</td>\n",
       "      <td>0.9</td>\n",
       "      <td>0.70</td>\n",
       "      <td>0.60</td>\n",
       "      <td>1.750000</td>\n",
       "    </tr>\n",
       "    <tr>\n",
       "      <th>0</th>\n",
       "      <td>93</td>\n",
       "      <td>0.9</td>\n",
       "      <td>0.70</td>\n",
       "      <td>0.70</td>\n",
       "      <td>1.166667</td>\n",
       "    </tr>\n",
       "    <tr>\n",
       "      <th>0</th>\n",
       "      <td>94</td>\n",
       "      <td>0.9</td>\n",
       "      <td>0.70</td>\n",
       "      <td>0.80</td>\n",
       "      <td>1.000000</td>\n",
       "    </tr>\n",
       "    <tr>\n",
       "      <th>0</th>\n",
       "      <td>95</td>\n",
       "      <td>0.9</td>\n",
       "      <td>0.70</td>\n",
       "      <td>0.85</td>\n",
       "      <td>0.000000</td>\n",
       "    </tr>\n",
       "    <tr>\n",
       "      <th>0</th>\n",
       "      <td>96</td>\n",
       "      <td>0.9</td>\n",
       "      <td>0.75</td>\n",
       "      <td>0.50</td>\n",
       "      <td>1.750000</td>\n",
       "    </tr>\n",
       "    <tr>\n",
       "      <th>0</th>\n",
       "      <td>97</td>\n",
       "      <td>0.9</td>\n",
       "      <td>0.75</td>\n",
       "      <td>0.60</td>\n",
       "      <td>1.750000</td>\n",
       "    </tr>\n",
       "    <tr>\n",
       "      <th>0</th>\n",
       "      <td>98</td>\n",
       "      <td>0.9</td>\n",
       "      <td>0.75</td>\n",
       "      <td>0.70</td>\n",
       "      <td>1.000000</td>\n",
       "    </tr>\n",
       "    <tr>\n",
       "      <th>0</th>\n",
       "      <td>99</td>\n",
       "      <td>0.9</td>\n",
       "      <td>0.75</td>\n",
       "      <td>0.80</td>\n",
       "      <td>1.000000</td>\n",
       "    </tr>\n",
       "    <tr>\n",
       "      <th>0</th>\n",
       "      <td>100</td>\n",
       "      <td>0.9</td>\n",
       "      <td>0.75</td>\n",
       "      <td>0.85</td>\n",
       "      <td>0.000000</td>\n",
       "    </tr>\n",
       "  </tbody>\n",
       "</table>\n",
       "<p>100 rows × 5 columns</p>\n",
       "</div>"
      ],
      "text/plain": [
       "    exp  p_audio  p_raising  p_raised       FAUW\n",
       "0     1      0.5       0.50      0.50  15.000000\n",
       "0     2      0.5       0.50      0.60  11.666667\n",
       "0     3      0.5       0.50      0.70   9.625000\n",
       "0     4      0.5       0.50      0.80   7.000000\n",
       "0     5      0.5       0.50      0.85   7.000000\n",
       "0     6      0.5       0.60      0.50  14.000000\n",
       "0     7      0.5       0.60      0.60  10.500000\n",
       "0     8      0.5       0.60      0.70   8.166667\n",
       "0     9      0.5       0.60      0.80   7.000000\n",
       "0    10      0.5       0.60      0.85   5.600000\n",
       "0    11      0.5       0.70      0.50  12.000000\n",
       "0    12      0.5       0.70      0.60  10.500000\n",
       "0    13      0.5       0.70      0.70   8.000000\n",
       "0    14      0.5       0.70      0.80   7.000000\n",
       "0    15      0.5       0.70      0.85   5.250000\n",
       "0    16      0.5       0.75      0.50  11.666667\n",
       "0    17      0.5       0.75      0.60  10.000000\n",
       "0    18      0.5       0.75      0.70   7.000000\n",
       "0    19      0.5       0.75      0.80   7.000000\n",
       "0    20      0.5       0.75      0.85   5.250000\n",
       "0    21      0.6       0.50      0.50  11.375000\n",
       "0    22      0.6       0.50      0.60   9.800000\n",
       "0    23      0.6       0.50      0.70   7.000000\n",
       "0    24      0.6       0.50      0.80   6.000000\n",
       "0    25      0.6       0.50      0.85   5.000000\n",
       "0    26      0.6       0.60      0.50  10.500000\n",
       "0    27      0.6       0.60      0.60   8.400000\n",
       "0    28      0.6       0.60      0.70   7.000000\n",
       "0    29      0.6       0.60      0.80   5.250000\n",
       "0    30      0.6       0.60      0.85   4.666667\n",
       "..  ...      ...        ...       ...        ...\n",
       "0    71      0.8       0.70      0.50   4.375000\n",
       "0    72      0.8       0.70      0.60   3.500000\n",
       "0    73      0.8       0.70      0.70   3.111111\n",
       "0    74      0.8       0.70      0.80   2.625000\n",
       "0    75      0.8       0.70      0.85   1.750000\n",
       "0    76      0.8       0.75      0.50   4.375000\n",
       "0    77      0.8       0.75      0.60   3.500000\n",
       "0    78      0.8       0.75      0.70   3.000000\n",
       "0    79      0.8       0.75      0.80   2.333333\n",
       "0    80      0.8       0.75      0.85   1.750000\n",
       "0    81      0.9       0.50      0.50   2.333333\n",
       "0    82      0.9       0.50      0.60   1.750000\n",
       "0    83      0.9       0.50      0.70   1.400000\n",
       "0    84      0.9       0.50      0.80   1.166667\n",
       "0    85      0.9       0.50      0.85   0.875000\n",
       "0    86      0.9       0.60      0.50   2.333333\n",
       "0    87      0.9       0.60      0.60   1.750000\n",
       "0    88      0.9       0.60      0.70   1.400000\n",
       "0    89      0.9       0.60      0.80   1.000000\n",
       "0    90      0.9       0.60      0.85   0.875000\n",
       "0    91      0.9       0.70      0.50   2.000000\n",
       "0    92      0.9       0.70      0.60   1.750000\n",
       "0    93      0.9       0.70      0.70   1.166667\n",
       "0    94      0.9       0.70      0.80   1.000000\n",
       "0    95      0.9       0.70      0.85   0.000000\n",
       "0    96      0.9       0.75      0.50   1.750000\n",
       "0    97      0.9       0.75      0.60   1.750000\n",
       "0    98      0.9       0.75      0.70   1.000000\n",
       "0    99      0.9       0.75      0.80   1.000000\n",
       "0   100      0.9       0.75      0.85   0.000000\n",
       "\n",
       "[100 rows x 5 columns]"
      ]
     },
     "execution_count": 19,
     "metadata": {},
     "output_type": "execute_result"
    }
   ],
   "source": [
    "FA_df"
   ]
  },
  {
   "cell_type": "code",
   "execution_count": 26,
   "metadata": {},
   "outputs": [
    {
     "data": {
      "application/vnd.plotly.v1+json": {
       "config": {
        "plotlyServerURL": "https://plot.ly"
       },
       "data": [
        {
         "customdata": [
          [
           0.5,
           0.5,
           0.5
          ],
          [
           0.5,
           0.5,
           0.6
          ],
          [
           0.5,
           0.5,
           0.7
          ],
          [
           0.5,
           0.5,
           0.8
          ],
          [
           0.5,
           0.5,
           0.85
          ],
          [
           0.5,
           0.6,
           0.5
          ],
          [
           0.5,
           0.6,
           0.6
          ],
          [
           0.5,
           0.6,
           0.7
          ],
          [
           0.5,
           0.6,
           0.8
          ],
          [
           0.5,
           0.6,
           0.85
          ],
          [
           0.5,
           0.7,
           0.5
          ],
          [
           0.5,
           0.7,
           0.6
          ],
          [
           0.5,
           0.7,
           0.7
          ],
          [
           0.5,
           0.7,
           0.8
          ],
          [
           0.5,
           0.7,
           0.85
          ],
          [
           0.5,
           0.75,
           0.5
          ],
          [
           0.5,
           0.75,
           0.6
          ],
          [
           0.5,
           0.75,
           0.7
          ],
          [
           0.5,
           0.75,
           0.8
          ],
          [
           0.5,
           0.75,
           0.85
          ],
          [
           0.6,
           0.5,
           0.5
          ],
          [
           0.6,
           0.5,
           0.6
          ],
          [
           0.6,
           0.5,
           0.7
          ],
          [
           0.6,
           0.5,
           0.8
          ],
          [
           0.6,
           0.5,
           0.85
          ],
          [
           0.6,
           0.6,
           0.5
          ],
          [
           0.6,
           0.6,
           0.6
          ],
          [
           0.6,
           0.6,
           0.7
          ],
          [
           0.6,
           0.6,
           0.8
          ],
          [
           0.6,
           0.6,
           0.85
          ],
          [
           0.6,
           0.7,
           0.5
          ],
          [
           0.6,
           0.7,
           0.6
          ],
          [
           0.6,
           0.7,
           0.7
          ],
          [
           0.6,
           0.7,
           0.8
          ],
          [
           0.6,
           0.7,
           0.85
          ],
          [
           0.6,
           0.75,
           0.5
          ],
          [
           0.6,
           0.75,
           0.6
          ],
          [
           0.6,
           0.75,
           0.7
          ],
          [
           0.6,
           0.75,
           0.8
          ],
          [
           0.6,
           0.75,
           0.85
          ],
          [
           0.7,
           0.5,
           0.5
          ],
          [
           0.7,
           0.5,
           0.6
          ],
          [
           0.7,
           0.5,
           0.7
          ],
          [
           0.7,
           0.5,
           0.8
          ],
          [
           0.7,
           0.5,
           0.85
          ],
          [
           0.7,
           0.6,
           0.5
          ],
          [
           0.7,
           0.6,
           0.6
          ],
          [
           0.7,
           0.6,
           0.7
          ],
          [
           0.7,
           0.6,
           0.8
          ],
          [
           0.7,
           0.6,
           0.85
          ],
          [
           0.7,
           0.7,
           0.5
          ],
          [
           0.7,
           0.7,
           0.6
          ],
          [
           0.7,
           0.7,
           0.7
          ],
          [
           0.7,
           0.7,
           0.8
          ],
          [
           0.7,
           0.7,
           0.85
          ],
          [
           0.7,
           0.75,
           0.5
          ],
          [
           0.7,
           0.75,
           0.6
          ],
          [
           0.7,
           0.75,
           0.7
          ],
          [
           0.7,
           0.75,
           0.8
          ],
          [
           0.7,
           0.75,
           0.85
          ],
          [
           0.8,
           0.5,
           0.5
          ],
          [
           0.8,
           0.5,
           0.6
          ],
          [
           0.8,
           0.5,
           0.7
          ],
          [
           0.8,
           0.5,
           0.8
          ],
          [
           0.8,
           0.5,
           0.85
          ],
          [
           0.8,
           0.6,
           0.5
          ],
          [
           0.8,
           0.6,
           0.6
          ],
          [
           0.8,
           0.6,
           0.7
          ],
          [
           0.8,
           0.6,
           0.8
          ],
          [
           0.8,
           0.6,
           0.85
          ],
          [
           0.8,
           0.7,
           0.5
          ],
          [
           0.8,
           0.7,
           0.6
          ],
          [
           0.8,
           0.7,
           0.7
          ],
          [
           0.8,
           0.7,
           0.8
          ],
          [
           0.8,
           0.7,
           0.85
          ],
          [
           0.8,
           0.75,
           0.5
          ],
          [
           0.8,
           0.75,
           0.6
          ],
          [
           0.8,
           0.75,
           0.7
          ],
          [
           0.8,
           0.75,
           0.8
          ],
          [
           0.8,
           0.75,
           0.85
          ],
          [
           0.9,
           0.5,
           0.5
          ],
          [
           0.9,
           0.5,
           0.6
          ],
          [
           0.9,
           0.5,
           0.7
          ],
          [
           0.9,
           0.5,
           0.8
          ],
          [
           0.9,
           0.5,
           0.85
          ],
          [
           0.9,
           0.6,
           0.5
          ],
          [
           0.9,
           0.6,
           0.6
          ],
          [
           0.9,
           0.6,
           0.7
          ],
          [
           0.9,
           0.6,
           0.8
          ],
          [
           0.9,
           0.6,
           0.85
          ],
          [
           0.9,
           0.7,
           0.5
          ],
          [
           0.9,
           0.7,
           0.6
          ],
          [
           0.9,
           0.7,
           0.7
          ],
          [
           0.9,
           0.7,
           0.8
          ],
          [
           0.9,
           0.7,
           0.85
          ],
          [
           0.9,
           0.75,
           0.5
          ],
          [
           0.9,
           0.75,
           0.6
          ],
          [
           0.9,
           0.75,
           0.7
          ],
          [
           0.9,
           0.75,
           0.8
          ],
          [
           0.9,
           0.75,
           0.85
          ]
         ],
         "hoverlabel": {
          "namelength": 0
         },
         "hovertemplate": "exp=%{x}<br>FAUW=%{y}<br>p_audio=%{marker.color}<br>p_raising=%{customdata[1]}<br>p_raised=%{customdata[2]}",
         "legendgroup": "",
         "marker": {
          "color": [
           0.5,
           0.5,
           0.5,
           0.5,
           0.5,
           0.5,
           0.5,
           0.5,
           0.5,
           0.5,
           0.5,
           0.5,
           0.5,
           0.5,
           0.5,
           0.5,
           0.5,
           0.5,
           0.5,
           0.5,
           0.6,
           0.6,
           0.6,
           0.6,
           0.6,
           0.6,
           0.6,
           0.6,
           0.6,
           0.6,
           0.6,
           0.6,
           0.6,
           0.6,
           0.6,
           0.6,
           0.6,
           0.6,
           0.6,
           0.6,
           0.7,
           0.7,
           0.7,
           0.7,
           0.7,
           0.7,
           0.7,
           0.7,
           0.7,
           0.7,
           0.7,
           0.7,
           0.7,
           0.7,
           0.7,
           0.7,
           0.7,
           0.7,
           0.7,
           0.7,
           0.8,
           0.8,
           0.8,
           0.8,
           0.8,
           0.8,
           0.8,
           0.8,
           0.8,
           0.8,
           0.8,
           0.8,
           0.8,
           0.8,
           0.8,
           0.8,
           0.8,
           0.8,
           0.8,
           0.8,
           0.9,
           0.9,
           0.9,
           0.9,
           0.9,
           0.9,
           0.9,
           0.9,
           0.9,
           0.9,
           0.9,
           0.9,
           0.9,
           0.9,
           0.9,
           0.9,
           0.9,
           0.9,
           0.9,
           0.9
          ],
          "coloraxis": "coloraxis",
          "symbol": "circle"
         },
         "mode": "markers",
         "name": "",
         "showlegend": false,
         "type": "scatter",
         "x": [
          1,
          2,
          3,
          4,
          5,
          6,
          7,
          8,
          9,
          10,
          11,
          12,
          13,
          14,
          15,
          16,
          17,
          18,
          19,
          20,
          21,
          22,
          23,
          24,
          25,
          26,
          27,
          28,
          29,
          30,
          31,
          32,
          33,
          34,
          35,
          36,
          37,
          38,
          39,
          40,
          41,
          42,
          43,
          44,
          45,
          46,
          47,
          48,
          49,
          50,
          51,
          52,
          53,
          54,
          55,
          56,
          57,
          58,
          59,
          60,
          61,
          62,
          63,
          64,
          65,
          66,
          67,
          68,
          69,
          70,
          71,
          72,
          73,
          74,
          75,
          76,
          77,
          78,
          79,
          80,
          81,
          82,
          83,
          84,
          85,
          86,
          87,
          88,
          89,
          90,
          91,
          92,
          93,
          94,
          95,
          96,
          97,
          98,
          99,
          100
         ],
         "xaxis": "x",
         "y": [
          15,
          11.666666666666666,
          9.625,
          7,
          7,
          14,
          10.5,
          8.166666666666666,
          7,
          5.6,
          12,
          10.5,
          8,
          7,
          5.25,
          11.666666666666666,
          10,
          7,
          7,
          5.25,
          11.375,
          9.8,
          7,
          6,
          5,
          10.5,
          8.4,
          7,
          5.25,
          4.666666666666667,
          9.8,
          8,
          7,
          5,
          4.375,
          9.333333333333334,
          7,
          7,
          5,
          4.375,
          8,
          7,
          5,
          4,
          3.5,
          7.875,
          6.125,
          5,
          3.888888888888889,
          3,
          7,
          6,
          4.666666666666667,
          3.888888888888889,
          2.8,
          7,
          5.833333333333333,
          4.666666666666667,
          3.888888888888889,
          2.8,
          4.666666666666667,
          4,
          3.5,
          3,
          2.3333333333333335,
          4.666666666666667,
          4,
          3.5,
          2.625,
          1.75,
          4.375,
          3.5,
          3.111111111111111,
          2.625,
          1.75,
          4.375,
          3.5,
          3,
          2.3333333333333335,
          1.75,
          2.3333333333333335,
          1.75,
          1.4,
          1.1666666666666667,
          0.875,
          2.3333333333333335,
          1.75,
          1.4,
          1,
          0.875,
          2,
          1.75,
          1.1666666666666667,
          1,
          0,
          1.75,
          1.75,
          1,
          1,
          0
         ],
         "yaxis": "y"
        }
       ],
       "layout": {
        "coloraxis": {
         "colorbar": {
          "title": {
           "text": "p_audio"
          }
         },
         "colorscale": [
          [
           0,
           "#0d0887"
          ],
          [
           0.1111111111111111,
           "#46039f"
          ],
          [
           0.2222222222222222,
           "#7201a8"
          ],
          [
           0.3333333333333333,
           "#9c179e"
          ],
          [
           0.4444444444444444,
           "#bd3786"
          ],
          [
           0.5555555555555556,
           "#d8576b"
          ],
          [
           0.6666666666666666,
           "#ed7953"
          ],
          [
           0.7777777777777778,
           "#fb9f3a"
          ],
          [
           0.8888888888888888,
           "#fdca26"
          ],
          [
           1,
           "#f0f921"
          ]
         ]
        },
        "height": 600,
        "legend": {
         "tracegroupgap": 0
        },
        "template": {
         "data": {
          "bar": [
           {
            "error_x": {
             "color": "#2a3f5f"
            },
            "error_y": {
             "color": "#2a3f5f"
            },
            "marker": {
             "line": {
              "color": "#E5ECF6",
              "width": 0.5
             }
            },
            "type": "bar"
           }
          ],
          "barpolar": [
           {
            "marker": {
             "line": {
              "color": "#E5ECF6",
              "width": 0.5
             }
            },
            "type": "barpolar"
           }
          ],
          "carpet": [
           {
            "aaxis": {
             "endlinecolor": "#2a3f5f",
             "gridcolor": "white",
             "linecolor": "white",
             "minorgridcolor": "white",
             "startlinecolor": "#2a3f5f"
            },
            "baxis": {
             "endlinecolor": "#2a3f5f",
             "gridcolor": "white",
             "linecolor": "white",
             "minorgridcolor": "white",
             "startlinecolor": "#2a3f5f"
            },
            "type": "carpet"
           }
          ],
          "choropleth": [
           {
            "colorbar": {
             "outlinewidth": 0,
             "ticks": ""
            },
            "type": "choropleth"
           }
          ],
          "contour": [
           {
            "colorbar": {
             "outlinewidth": 0,
             "ticks": ""
            },
            "colorscale": [
             [
              0,
              "#0d0887"
             ],
             [
              0.1111111111111111,
              "#46039f"
             ],
             [
              0.2222222222222222,
              "#7201a8"
             ],
             [
              0.3333333333333333,
              "#9c179e"
             ],
             [
              0.4444444444444444,
              "#bd3786"
             ],
             [
              0.5555555555555556,
              "#d8576b"
             ],
             [
              0.6666666666666666,
              "#ed7953"
             ],
             [
              0.7777777777777778,
              "#fb9f3a"
             ],
             [
              0.8888888888888888,
              "#fdca26"
             ],
             [
              1,
              "#f0f921"
             ]
            ],
            "type": "contour"
           }
          ],
          "contourcarpet": [
           {
            "colorbar": {
             "outlinewidth": 0,
             "ticks": ""
            },
            "type": "contourcarpet"
           }
          ],
          "heatmap": [
           {
            "colorbar": {
             "outlinewidth": 0,
             "ticks": ""
            },
            "colorscale": [
             [
              0,
              "#0d0887"
             ],
             [
              0.1111111111111111,
              "#46039f"
             ],
             [
              0.2222222222222222,
              "#7201a8"
             ],
             [
              0.3333333333333333,
              "#9c179e"
             ],
             [
              0.4444444444444444,
              "#bd3786"
             ],
             [
              0.5555555555555556,
              "#d8576b"
             ],
             [
              0.6666666666666666,
              "#ed7953"
             ],
             [
              0.7777777777777778,
              "#fb9f3a"
             ],
             [
              0.8888888888888888,
              "#fdca26"
             ],
             [
              1,
              "#f0f921"
             ]
            ],
            "type": "heatmap"
           }
          ],
          "heatmapgl": [
           {
            "colorbar": {
             "outlinewidth": 0,
             "ticks": ""
            },
            "colorscale": [
             [
              0,
              "#0d0887"
             ],
             [
              0.1111111111111111,
              "#46039f"
             ],
             [
              0.2222222222222222,
              "#7201a8"
             ],
             [
              0.3333333333333333,
              "#9c179e"
             ],
             [
              0.4444444444444444,
              "#bd3786"
             ],
             [
              0.5555555555555556,
              "#d8576b"
             ],
             [
              0.6666666666666666,
              "#ed7953"
             ],
             [
              0.7777777777777778,
              "#fb9f3a"
             ],
             [
              0.8888888888888888,
              "#fdca26"
             ],
             [
              1,
              "#f0f921"
             ]
            ],
            "type": "heatmapgl"
           }
          ],
          "histogram": [
           {
            "marker": {
             "colorbar": {
              "outlinewidth": 0,
              "ticks": ""
             }
            },
            "type": "histogram"
           }
          ],
          "histogram2d": [
           {
            "colorbar": {
             "outlinewidth": 0,
             "ticks": ""
            },
            "colorscale": [
             [
              0,
              "#0d0887"
             ],
             [
              0.1111111111111111,
              "#46039f"
             ],
             [
              0.2222222222222222,
              "#7201a8"
             ],
             [
              0.3333333333333333,
              "#9c179e"
             ],
             [
              0.4444444444444444,
              "#bd3786"
             ],
             [
              0.5555555555555556,
              "#d8576b"
             ],
             [
              0.6666666666666666,
              "#ed7953"
             ],
             [
              0.7777777777777778,
              "#fb9f3a"
             ],
             [
              0.8888888888888888,
              "#fdca26"
             ],
             [
              1,
              "#f0f921"
             ]
            ],
            "type": "histogram2d"
           }
          ],
          "histogram2dcontour": [
           {
            "colorbar": {
             "outlinewidth": 0,
             "ticks": ""
            },
            "colorscale": [
             [
              0,
              "#0d0887"
             ],
             [
              0.1111111111111111,
              "#46039f"
             ],
             [
              0.2222222222222222,
              "#7201a8"
             ],
             [
              0.3333333333333333,
              "#9c179e"
             ],
             [
              0.4444444444444444,
              "#bd3786"
             ],
             [
              0.5555555555555556,
              "#d8576b"
             ],
             [
              0.6666666666666666,
              "#ed7953"
             ],
             [
              0.7777777777777778,
              "#fb9f3a"
             ],
             [
              0.8888888888888888,
              "#fdca26"
             ],
             [
              1,
              "#f0f921"
             ]
            ],
            "type": "histogram2dcontour"
           }
          ],
          "mesh3d": [
           {
            "colorbar": {
             "outlinewidth": 0,
             "ticks": ""
            },
            "type": "mesh3d"
           }
          ],
          "parcoords": [
           {
            "line": {
             "colorbar": {
              "outlinewidth": 0,
              "ticks": ""
             }
            },
            "type": "parcoords"
           }
          ],
          "scatter": [
           {
            "marker": {
             "colorbar": {
              "outlinewidth": 0,
              "ticks": ""
             }
            },
            "type": "scatter"
           }
          ],
          "scatter3d": [
           {
            "line": {
             "colorbar": {
              "outlinewidth": 0,
              "ticks": ""
             }
            },
            "marker": {
             "colorbar": {
              "outlinewidth": 0,
              "ticks": ""
             }
            },
            "type": "scatter3d"
           }
          ],
          "scattercarpet": [
           {
            "marker": {
             "colorbar": {
              "outlinewidth": 0,
              "ticks": ""
             }
            },
            "type": "scattercarpet"
           }
          ],
          "scattergeo": [
           {
            "marker": {
             "colorbar": {
              "outlinewidth": 0,
              "ticks": ""
             }
            },
            "type": "scattergeo"
           }
          ],
          "scattergl": [
           {
            "marker": {
             "colorbar": {
              "outlinewidth": 0,
              "ticks": ""
             }
            },
            "type": "scattergl"
           }
          ],
          "scattermapbox": [
           {
            "marker": {
             "colorbar": {
              "outlinewidth": 0,
              "ticks": ""
             }
            },
            "type": "scattermapbox"
           }
          ],
          "scatterpolar": [
           {
            "marker": {
             "colorbar": {
              "outlinewidth": 0,
              "ticks": ""
             }
            },
            "type": "scatterpolar"
           }
          ],
          "scatterpolargl": [
           {
            "marker": {
             "colorbar": {
              "outlinewidth": 0,
              "ticks": ""
             }
            },
            "type": "scatterpolargl"
           }
          ],
          "scatterternary": [
           {
            "marker": {
             "colorbar": {
              "outlinewidth": 0,
              "ticks": ""
             }
            },
            "type": "scatterternary"
           }
          ],
          "surface": [
           {
            "colorbar": {
             "outlinewidth": 0,
             "ticks": ""
            },
            "colorscale": [
             [
              0,
              "#0d0887"
             ],
             [
              0.1111111111111111,
              "#46039f"
             ],
             [
              0.2222222222222222,
              "#7201a8"
             ],
             [
              0.3333333333333333,
              "#9c179e"
             ],
             [
              0.4444444444444444,
              "#bd3786"
             ],
             [
              0.5555555555555556,
              "#d8576b"
             ],
             [
              0.6666666666666666,
              "#ed7953"
             ],
             [
              0.7777777777777778,
              "#fb9f3a"
             ],
             [
              0.8888888888888888,
              "#fdca26"
             ],
             [
              1,
              "#f0f921"
             ]
            ],
            "type": "surface"
           }
          ],
          "table": [
           {
            "cells": {
             "fill": {
              "color": "#EBF0F8"
             },
             "line": {
              "color": "white"
             }
            },
            "header": {
             "fill": {
              "color": "#C8D4E3"
             },
             "line": {
              "color": "white"
             }
            },
            "type": "table"
           }
          ]
         },
         "layout": {
          "annotationdefaults": {
           "arrowcolor": "#2a3f5f",
           "arrowhead": 0,
           "arrowwidth": 1
          },
          "colorscale": {
           "diverging": [
            [
             0,
             "#8e0152"
            ],
            [
             0.1,
             "#c51b7d"
            ],
            [
             0.2,
             "#de77ae"
            ],
            [
             0.3,
             "#f1b6da"
            ],
            [
             0.4,
             "#fde0ef"
            ],
            [
             0.5,
             "#f7f7f7"
            ],
            [
             0.6,
             "#e6f5d0"
            ],
            [
             0.7,
             "#b8e186"
            ],
            [
             0.8,
             "#7fbc41"
            ],
            [
             0.9,
             "#4d9221"
            ],
            [
             1,
             "#276419"
            ]
           ],
           "sequential": [
            [
             0,
             "#0d0887"
            ],
            [
             0.1111111111111111,
             "#46039f"
            ],
            [
             0.2222222222222222,
             "#7201a8"
            ],
            [
             0.3333333333333333,
             "#9c179e"
            ],
            [
             0.4444444444444444,
             "#bd3786"
            ],
            [
             0.5555555555555556,
             "#d8576b"
            ],
            [
             0.6666666666666666,
             "#ed7953"
            ],
            [
             0.7777777777777778,
             "#fb9f3a"
            ],
            [
             0.8888888888888888,
             "#fdca26"
            ],
            [
             1,
             "#f0f921"
            ]
           ],
           "sequentialminus": [
            [
             0,
             "#0d0887"
            ],
            [
             0.1111111111111111,
             "#46039f"
            ],
            [
             0.2222222222222222,
             "#7201a8"
            ],
            [
             0.3333333333333333,
             "#9c179e"
            ],
            [
             0.4444444444444444,
             "#bd3786"
            ],
            [
             0.5555555555555556,
             "#d8576b"
            ],
            [
             0.6666666666666666,
             "#ed7953"
            ],
            [
             0.7777777777777778,
             "#fb9f3a"
            ],
            [
             0.8888888888888888,
             "#fdca26"
            ],
            [
             1,
             "#f0f921"
            ]
           ]
          },
          "colorway": [
           "#636efa",
           "#EF553B",
           "#00cc96",
           "#ab63fa",
           "#FFA15A",
           "#19d3f3",
           "#FF6692",
           "#B6E880",
           "#FF97FF",
           "#FECB52"
          ],
          "font": {
           "color": "#2a3f5f"
          },
          "geo": {
           "bgcolor": "white",
           "lakecolor": "white",
           "landcolor": "#E5ECF6",
           "showlakes": true,
           "showland": true,
           "subunitcolor": "white"
          },
          "hoverlabel": {
           "align": "left"
          },
          "hovermode": "closest",
          "mapbox": {
           "style": "light"
          },
          "paper_bgcolor": "white",
          "plot_bgcolor": "#E5ECF6",
          "polar": {
           "angularaxis": {
            "gridcolor": "white",
            "linecolor": "white",
            "ticks": ""
           },
           "bgcolor": "#E5ECF6",
           "radialaxis": {
            "gridcolor": "white",
            "linecolor": "white",
            "ticks": ""
           }
          },
          "scene": {
           "xaxis": {
            "backgroundcolor": "#E5ECF6",
            "gridcolor": "white",
            "gridwidth": 2,
            "linecolor": "white",
            "showbackground": true,
            "ticks": "",
            "zerolinecolor": "white"
           },
           "yaxis": {
            "backgroundcolor": "#E5ECF6",
            "gridcolor": "white",
            "gridwidth": 2,
            "linecolor": "white",
            "showbackground": true,
            "ticks": "",
            "zerolinecolor": "white"
           },
           "zaxis": {
            "backgroundcolor": "#E5ECF6",
            "gridcolor": "white",
            "gridwidth": 2,
            "linecolor": "white",
            "showbackground": true,
            "ticks": "",
            "zerolinecolor": "white"
           }
          },
          "shapedefaults": {
           "line": {
            "color": "#2a3f5f"
           }
          },
          "ternary": {
           "aaxis": {
            "gridcolor": "white",
            "linecolor": "white",
            "ticks": ""
           },
           "baxis": {
            "gridcolor": "white",
            "linecolor": "white",
            "ticks": ""
           },
           "bgcolor": "#E5ECF6",
           "caxis": {
            "gridcolor": "white",
            "linecolor": "white",
            "ticks": ""
           }
          },
          "title": {
           "x": 0.05
          },
          "xaxis": {
           "automargin": true,
           "gridcolor": "white",
           "linecolor": "white",
           "ticks": "",
           "zerolinecolor": "white",
           "zerolinewidth": 2
          },
          "yaxis": {
           "automargin": true,
           "gridcolor": "white",
           "linecolor": "white",
           "ticks": "",
           "zerolinecolor": "white",
           "zerolinewidth": 2
          }
         }
        },
        "title": {
         "text": "Added FA per user/week (over 120 unique devices, with ~200K RTS sessions)"
        },
        "xaxis": {
         "anchor": "y",
         "domain": [
          0,
          0.98
         ],
         "title": {
          "text": "exp"
         }
        },
        "yaxis": {
         "anchor": "x",
         "domain": [
          0,
          1
         ],
         "title": {
          "text": "FAUW"
         }
        }
       }
      },
      "text/html": [
       "<div>\n",
       "        \n",
       "        \n",
       "            <div id=\"a6a92465-79fd-469f-b8bd-52db66d1295a\" class=\"plotly-graph-div\" style=\"height:600px; width:100%;\"></div>\n",
       "            <script type=\"text/javascript\">\n",
       "                require([\"plotly\"], function(Plotly) {\n",
       "                    window.PLOTLYENV=window.PLOTLYENV || {};\n",
       "                    \n",
       "                if (document.getElementById(\"a6a92465-79fd-469f-b8bd-52db66d1295a\")) {\n",
       "                    Plotly.newPlot(\n",
       "                        'a6a92465-79fd-469f-b8bd-52db66d1295a',\n",
       "                        [{\"customdata\": [[0.5, 0.5, 0.5], [0.5, 0.5, 0.6], [0.5, 0.5, 0.7], [0.5, 0.5, 0.8], [0.5, 0.5, 0.85], [0.5, 0.6, 0.5], [0.5, 0.6, 0.6], [0.5, 0.6, 0.7], [0.5, 0.6, 0.8], [0.5, 0.6, 0.85], [0.5, 0.7, 0.5], [0.5, 0.7, 0.6], [0.5, 0.7, 0.7], [0.5, 0.7, 0.8], [0.5, 0.7, 0.85], [0.5, 0.75, 0.5], [0.5, 0.75, 0.6], [0.5, 0.75, 0.7], [0.5, 0.75, 0.8], [0.5, 0.75, 0.85], [0.6, 0.5, 0.5], [0.6, 0.5, 0.6], [0.6, 0.5, 0.7], [0.6, 0.5, 0.8], [0.6, 0.5, 0.85], [0.6, 0.6, 0.5], [0.6, 0.6, 0.6], [0.6, 0.6, 0.7], [0.6, 0.6, 0.8], [0.6, 0.6, 0.85], [0.6, 0.7, 0.5], [0.6, 0.7, 0.6], [0.6, 0.7, 0.7], [0.6, 0.7, 0.8], [0.6, 0.7, 0.85], [0.6, 0.75, 0.5], [0.6, 0.75, 0.6], [0.6, 0.75, 0.7], [0.6, 0.75, 0.8], [0.6, 0.75, 0.85], [0.7, 0.5, 0.5], [0.7, 0.5, 0.6], [0.7, 0.5, 0.7], [0.7, 0.5, 0.8], [0.7, 0.5, 0.85], [0.7, 0.6, 0.5], [0.7, 0.6, 0.6], [0.7, 0.6, 0.7], [0.7, 0.6, 0.8], [0.7, 0.6, 0.85], [0.7, 0.7, 0.5], [0.7, 0.7, 0.6], [0.7, 0.7, 0.7], [0.7, 0.7, 0.8], [0.7, 0.7, 0.85], [0.7, 0.75, 0.5], [0.7, 0.75, 0.6], [0.7, 0.75, 0.7], [0.7, 0.75, 0.8], [0.7, 0.75, 0.85], [0.8, 0.5, 0.5], [0.8, 0.5, 0.6], [0.8, 0.5, 0.7], [0.8, 0.5, 0.8], [0.8, 0.5, 0.85], [0.8, 0.6, 0.5], [0.8, 0.6, 0.6], [0.8, 0.6, 0.7], [0.8, 0.6, 0.8], [0.8, 0.6, 0.85], [0.8, 0.7, 0.5], [0.8, 0.7, 0.6], [0.8, 0.7, 0.7], [0.8, 0.7, 0.8], [0.8, 0.7, 0.85], [0.8, 0.75, 0.5], [0.8, 0.75, 0.6], [0.8, 0.75, 0.7], [0.8, 0.75, 0.8], [0.8, 0.75, 0.85], [0.9, 0.5, 0.5], [0.9, 0.5, 0.6], [0.9, 0.5, 0.7], [0.9, 0.5, 0.8], [0.9, 0.5, 0.85], [0.9, 0.6, 0.5], [0.9, 0.6, 0.6], [0.9, 0.6, 0.7], [0.9, 0.6, 0.8], [0.9, 0.6, 0.85], [0.9, 0.7, 0.5], [0.9, 0.7, 0.6], [0.9, 0.7, 0.7], [0.9, 0.7, 0.8], [0.9, 0.7, 0.85], [0.9, 0.75, 0.5], [0.9, 0.75, 0.6], [0.9, 0.75, 0.7], [0.9, 0.75, 0.8], [0.9, 0.75, 0.85]], \"hoverlabel\": {\"namelength\": 0}, \"hovertemplate\": \"exp=%{x}<br>FAUW=%{y}<br>p_audio=%{marker.color}<br>p_raising=%{customdata[1]}<br>p_raised=%{customdata[2]}\", \"legendgroup\": \"\", \"marker\": {\"color\": [0.5, 0.5, 0.5, 0.5, 0.5, 0.5, 0.5, 0.5, 0.5, 0.5, 0.5, 0.5, 0.5, 0.5, 0.5, 0.5, 0.5, 0.5, 0.5, 0.5, 0.6, 0.6, 0.6, 0.6, 0.6, 0.6, 0.6, 0.6, 0.6, 0.6, 0.6, 0.6, 0.6, 0.6, 0.6, 0.6, 0.6, 0.6, 0.6, 0.6, 0.7, 0.7, 0.7, 0.7, 0.7, 0.7, 0.7, 0.7, 0.7, 0.7, 0.7, 0.7, 0.7, 0.7, 0.7, 0.7, 0.7, 0.7, 0.7, 0.7, 0.8, 0.8, 0.8, 0.8, 0.8, 0.8, 0.8, 0.8, 0.8, 0.8, 0.8, 0.8, 0.8, 0.8, 0.8, 0.8, 0.8, 0.8, 0.8, 0.8, 0.9, 0.9, 0.9, 0.9, 0.9, 0.9, 0.9, 0.9, 0.9, 0.9, 0.9, 0.9, 0.9, 0.9, 0.9, 0.9, 0.9, 0.9, 0.9, 0.9], \"coloraxis\": \"coloraxis\", \"symbol\": \"circle\"}, \"mode\": \"markers\", \"name\": \"\", \"showlegend\": false, \"type\": \"scatter\", \"x\": [1, 2, 3, 4, 5, 6, 7, 8, 9, 10, 11, 12, 13, 14, 15, 16, 17, 18, 19, 20, 21, 22, 23, 24, 25, 26, 27, 28, 29, 30, 31, 32, 33, 34, 35, 36, 37, 38, 39, 40, 41, 42, 43, 44, 45, 46, 47, 48, 49, 50, 51, 52, 53, 54, 55, 56, 57, 58, 59, 60, 61, 62, 63, 64, 65, 66, 67, 68, 69, 70, 71, 72, 73, 74, 75, 76, 77, 78, 79, 80, 81, 82, 83, 84, 85, 86, 87, 88, 89, 90, 91, 92, 93, 94, 95, 96, 97, 98, 99, 100], \"xaxis\": \"x\", \"y\": [15.0, 11.666666666666666, 9.625, 7.0, 7.0, 14.0, 10.5, 8.166666666666666, 7.0, 5.6, 12.0, 10.5, 8.0, 7.0, 5.25, 11.666666666666666, 10.0, 7.0, 7.0, 5.25, 11.375, 9.8, 7.0, 6.0, 5.0, 10.5, 8.4, 7.0, 5.25, 4.666666666666667, 9.8, 8.0, 7.0, 5.0, 4.375, 9.333333333333334, 7.0, 7.0, 5.0, 4.375, 8.0, 7.0, 5.0, 4.0, 3.5, 7.875, 6.125, 5.0, 3.888888888888889, 3.0, 7.0, 6.0, 4.666666666666667, 3.888888888888889, 2.8, 7.0, 5.833333333333333, 4.666666666666667, 3.888888888888889, 2.8, 4.666666666666667, 4.0, 3.5, 3.0, 2.3333333333333335, 4.666666666666667, 4.0, 3.5, 2.625, 1.75, 4.375, 3.5, 3.111111111111111, 2.625, 1.75, 4.375, 3.5, 3.0, 2.3333333333333335, 1.75, 2.3333333333333335, 1.75, 1.4, 1.1666666666666667, 0.875, 2.3333333333333335, 1.75, 1.4, 1.0, 0.875, 2.0, 1.75, 1.1666666666666667, 1.0, 0.0, 1.75, 1.75, 1.0, 1.0, 0.0], \"yaxis\": \"y\"}],\n",
       "                        {\"coloraxis\": {\"colorbar\": {\"title\": {\"text\": \"p_audio\"}}, \"colorscale\": [[0.0, \"#0d0887\"], [0.1111111111111111, \"#46039f\"], [0.2222222222222222, \"#7201a8\"], [0.3333333333333333, \"#9c179e\"], [0.4444444444444444, \"#bd3786\"], [0.5555555555555556, \"#d8576b\"], [0.6666666666666666, \"#ed7953\"], [0.7777777777777778, \"#fb9f3a\"], [0.8888888888888888, \"#fdca26\"], [1.0, \"#f0f921\"]]}, \"height\": 600, \"legend\": {\"tracegroupgap\": 0}, \"template\": {\"data\": {\"bar\": [{\"error_x\": {\"color\": \"#2a3f5f\"}, \"error_y\": {\"color\": \"#2a3f5f\"}, \"marker\": {\"line\": {\"color\": \"#E5ECF6\", \"width\": 0.5}}, \"type\": \"bar\"}], \"barpolar\": [{\"marker\": {\"line\": {\"color\": \"#E5ECF6\", \"width\": 0.5}}, \"type\": \"barpolar\"}], \"carpet\": [{\"aaxis\": {\"endlinecolor\": \"#2a3f5f\", \"gridcolor\": \"white\", \"linecolor\": \"white\", \"minorgridcolor\": \"white\", \"startlinecolor\": \"#2a3f5f\"}, \"baxis\": {\"endlinecolor\": \"#2a3f5f\", \"gridcolor\": \"white\", \"linecolor\": \"white\", \"minorgridcolor\": \"white\", \"startlinecolor\": \"#2a3f5f\"}, \"type\": \"carpet\"}], \"choropleth\": [{\"colorbar\": {\"outlinewidth\": 0, \"ticks\": \"\"}, \"type\": \"choropleth\"}], \"contour\": [{\"colorbar\": {\"outlinewidth\": 0, \"ticks\": \"\"}, \"colorscale\": [[0.0, \"#0d0887\"], [0.1111111111111111, \"#46039f\"], [0.2222222222222222, \"#7201a8\"], [0.3333333333333333, \"#9c179e\"], [0.4444444444444444, \"#bd3786\"], [0.5555555555555556, \"#d8576b\"], [0.6666666666666666, \"#ed7953\"], [0.7777777777777778, \"#fb9f3a\"], [0.8888888888888888, \"#fdca26\"], [1.0, \"#f0f921\"]], \"type\": \"contour\"}], \"contourcarpet\": [{\"colorbar\": {\"outlinewidth\": 0, \"ticks\": \"\"}, \"type\": \"contourcarpet\"}], \"heatmap\": [{\"colorbar\": {\"outlinewidth\": 0, \"ticks\": \"\"}, \"colorscale\": [[0.0, \"#0d0887\"], [0.1111111111111111, \"#46039f\"], [0.2222222222222222, \"#7201a8\"], [0.3333333333333333, \"#9c179e\"], [0.4444444444444444, \"#bd3786\"], [0.5555555555555556, \"#d8576b\"], [0.6666666666666666, \"#ed7953\"], [0.7777777777777778, \"#fb9f3a\"], [0.8888888888888888, \"#fdca26\"], [1.0, \"#f0f921\"]], \"type\": \"heatmap\"}], \"heatmapgl\": [{\"colorbar\": {\"outlinewidth\": 0, \"ticks\": \"\"}, \"colorscale\": [[0.0, \"#0d0887\"], [0.1111111111111111, \"#46039f\"], [0.2222222222222222, \"#7201a8\"], [0.3333333333333333, \"#9c179e\"], [0.4444444444444444, \"#bd3786\"], [0.5555555555555556, \"#d8576b\"], [0.6666666666666666, \"#ed7953\"], [0.7777777777777778, \"#fb9f3a\"], [0.8888888888888888, \"#fdca26\"], [1.0, \"#f0f921\"]], \"type\": \"heatmapgl\"}], \"histogram\": [{\"marker\": {\"colorbar\": {\"outlinewidth\": 0, \"ticks\": \"\"}}, \"type\": \"histogram\"}], \"histogram2d\": [{\"colorbar\": {\"outlinewidth\": 0, \"ticks\": \"\"}, \"colorscale\": [[0.0, \"#0d0887\"], [0.1111111111111111, \"#46039f\"], [0.2222222222222222, \"#7201a8\"], [0.3333333333333333, \"#9c179e\"], [0.4444444444444444, \"#bd3786\"], [0.5555555555555556, \"#d8576b\"], [0.6666666666666666, \"#ed7953\"], [0.7777777777777778, \"#fb9f3a\"], [0.8888888888888888, \"#fdca26\"], [1.0, \"#f0f921\"]], \"type\": \"histogram2d\"}], \"histogram2dcontour\": [{\"colorbar\": {\"outlinewidth\": 0, \"ticks\": \"\"}, \"colorscale\": [[0.0, \"#0d0887\"], [0.1111111111111111, \"#46039f\"], [0.2222222222222222, \"#7201a8\"], [0.3333333333333333, \"#9c179e\"], [0.4444444444444444, \"#bd3786\"], [0.5555555555555556, \"#d8576b\"], [0.6666666666666666, \"#ed7953\"], [0.7777777777777778, \"#fb9f3a\"], [0.8888888888888888, \"#fdca26\"], [1.0, \"#f0f921\"]], \"type\": \"histogram2dcontour\"}], \"mesh3d\": [{\"colorbar\": {\"outlinewidth\": 0, \"ticks\": \"\"}, \"type\": \"mesh3d\"}], \"parcoords\": [{\"line\": {\"colorbar\": {\"outlinewidth\": 0, \"ticks\": \"\"}}, \"type\": \"parcoords\"}], \"scatter\": [{\"marker\": {\"colorbar\": {\"outlinewidth\": 0, \"ticks\": \"\"}}, \"type\": \"scatter\"}], \"scatter3d\": [{\"line\": {\"colorbar\": {\"outlinewidth\": 0, \"ticks\": \"\"}}, \"marker\": {\"colorbar\": {\"outlinewidth\": 0, \"ticks\": \"\"}}, \"type\": \"scatter3d\"}], \"scattercarpet\": [{\"marker\": {\"colorbar\": {\"outlinewidth\": 0, \"ticks\": \"\"}}, \"type\": \"scattercarpet\"}], \"scattergeo\": [{\"marker\": {\"colorbar\": {\"outlinewidth\": 0, \"ticks\": \"\"}}, \"type\": \"scattergeo\"}], \"scattergl\": [{\"marker\": {\"colorbar\": {\"outlinewidth\": 0, \"ticks\": \"\"}}, \"type\": \"scattergl\"}], \"scattermapbox\": [{\"marker\": {\"colorbar\": {\"outlinewidth\": 0, \"ticks\": \"\"}}, \"type\": \"scattermapbox\"}], \"scatterpolar\": [{\"marker\": {\"colorbar\": {\"outlinewidth\": 0, \"ticks\": \"\"}}, \"type\": \"scatterpolar\"}], \"scatterpolargl\": [{\"marker\": {\"colorbar\": {\"outlinewidth\": 0, \"ticks\": \"\"}}, \"type\": \"scatterpolargl\"}], \"scatterternary\": [{\"marker\": {\"colorbar\": {\"outlinewidth\": 0, \"ticks\": \"\"}}, \"type\": \"scatterternary\"}], \"surface\": [{\"colorbar\": {\"outlinewidth\": 0, \"ticks\": \"\"}, \"colorscale\": [[0.0, \"#0d0887\"], [0.1111111111111111, \"#46039f\"], [0.2222222222222222, \"#7201a8\"], [0.3333333333333333, \"#9c179e\"], [0.4444444444444444, \"#bd3786\"], [0.5555555555555556, \"#d8576b\"], [0.6666666666666666, \"#ed7953\"], [0.7777777777777778, \"#fb9f3a\"], [0.8888888888888888, \"#fdca26\"], [1.0, \"#f0f921\"]], \"type\": \"surface\"}], \"table\": [{\"cells\": {\"fill\": {\"color\": \"#EBF0F8\"}, \"line\": {\"color\": \"white\"}}, \"header\": {\"fill\": {\"color\": \"#C8D4E3\"}, \"line\": {\"color\": \"white\"}}, \"type\": \"table\"}]}, \"layout\": {\"annotationdefaults\": {\"arrowcolor\": \"#2a3f5f\", \"arrowhead\": 0, \"arrowwidth\": 1}, \"colorscale\": {\"diverging\": [[0, \"#8e0152\"], [0.1, \"#c51b7d\"], [0.2, \"#de77ae\"], [0.3, \"#f1b6da\"], [0.4, \"#fde0ef\"], [0.5, \"#f7f7f7\"], [0.6, \"#e6f5d0\"], [0.7, \"#b8e186\"], [0.8, \"#7fbc41\"], [0.9, \"#4d9221\"], [1, \"#276419\"]], \"sequential\": [[0.0, \"#0d0887\"], [0.1111111111111111, \"#46039f\"], [0.2222222222222222, \"#7201a8\"], [0.3333333333333333, \"#9c179e\"], [0.4444444444444444, \"#bd3786\"], [0.5555555555555556, \"#d8576b\"], [0.6666666666666666, \"#ed7953\"], [0.7777777777777778, \"#fb9f3a\"], [0.8888888888888888, \"#fdca26\"], [1.0, \"#f0f921\"]], \"sequentialminus\": [[0.0, \"#0d0887\"], [0.1111111111111111, \"#46039f\"], [0.2222222222222222, \"#7201a8\"], [0.3333333333333333, \"#9c179e\"], [0.4444444444444444, \"#bd3786\"], [0.5555555555555556, \"#d8576b\"], [0.6666666666666666, \"#ed7953\"], [0.7777777777777778, \"#fb9f3a\"], [0.8888888888888888, \"#fdca26\"], [1.0, \"#f0f921\"]]}, \"colorway\": [\"#636efa\", \"#EF553B\", \"#00cc96\", \"#ab63fa\", \"#FFA15A\", \"#19d3f3\", \"#FF6692\", \"#B6E880\", \"#FF97FF\", \"#FECB52\"], \"font\": {\"color\": \"#2a3f5f\"}, \"geo\": {\"bgcolor\": \"white\", \"lakecolor\": \"white\", \"landcolor\": \"#E5ECF6\", \"showlakes\": true, \"showland\": true, \"subunitcolor\": \"white\"}, \"hoverlabel\": {\"align\": \"left\"}, \"hovermode\": \"closest\", \"mapbox\": {\"style\": \"light\"}, \"paper_bgcolor\": \"white\", \"plot_bgcolor\": \"#E5ECF6\", \"polar\": {\"angularaxis\": {\"gridcolor\": \"white\", \"linecolor\": \"white\", \"ticks\": \"\"}, \"bgcolor\": \"#E5ECF6\", \"radialaxis\": {\"gridcolor\": \"white\", \"linecolor\": \"white\", \"ticks\": \"\"}}, \"scene\": {\"xaxis\": {\"backgroundcolor\": \"#E5ECF6\", \"gridcolor\": \"white\", \"gridwidth\": 2, \"linecolor\": \"white\", \"showbackground\": true, \"ticks\": \"\", \"zerolinecolor\": \"white\"}, \"yaxis\": {\"backgroundcolor\": \"#E5ECF6\", \"gridcolor\": \"white\", \"gridwidth\": 2, \"linecolor\": \"white\", \"showbackground\": true, \"ticks\": \"\", \"zerolinecolor\": \"white\"}, \"zaxis\": {\"backgroundcolor\": \"#E5ECF6\", \"gridcolor\": \"white\", \"gridwidth\": 2, \"linecolor\": \"white\", \"showbackground\": true, \"ticks\": \"\", \"zerolinecolor\": \"white\"}}, \"shapedefaults\": {\"line\": {\"color\": \"#2a3f5f\"}}, \"ternary\": {\"aaxis\": {\"gridcolor\": \"white\", \"linecolor\": \"white\", \"ticks\": \"\"}, \"baxis\": {\"gridcolor\": \"white\", \"linecolor\": \"white\", \"ticks\": \"\"}, \"bgcolor\": \"#E5ECF6\", \"caxis\": {\"gridcolor\": \"white\", \"linecolor\": \"white\", \"ticks\": \"\"}}, \"title\": {\"x\": 0.05}, \"xaxis\": {\"automargin\": true, \"gridcolor\": \"white\", \"linecolor\": \"white\", \"ticks\": \"\", \"zerolinecolor\": \"white\", \"zerolinewidth\": 2}, \"yaxis\": {\"automargin\": true, \"gridcolor\": \"white\", \"linecolor\": \"white\", \"ticks\": \"\", \"zerolinecolor\": \"white\", \"zerolinewidth\": 2}}}, \"title\": {\"text\": \"Added FA per user/week (over 120 unique devices, with ~200K RTS sessions)\"}, \"xaxis\": {\"anchor\": \"y\", \"domain\": [0.0, 0.98], \"title\": {\"text\": \"exp\"}}, \"yaxis\": {\"anchor\": \"x\", \"domain\": [0.0, 1.0], \"title\": {\"text\": \"FAUW\"}}},\n",
       "                        {\"responsive\": true}\n",
       "                    ).then(function(){\n",
       "                            \n",
       "var gd = document.getElementById('a6a92465-79fd-469f-b8bd-52db66d1295a');\n",
       "var x = new MutationObserver(function (mutations, observer) {{\n",
       "        var display = window.getComputedStyle(gd).display;\n",
       "        if (!display || display === 'none') {{\n",
       "            console.log([gd, 'removed!']);\n",
       "            Plotly.purge(gd);\n",
       "            observer.disconnect();\n",
       "        }}\n",
       "}});\n",
       "\n",
       "// Listen for the removal of the full notebook cells\n",
       "var notebookContainer = gd.closest('#notebook-container');\n",
       "if (notebookContainer) {{\n",
       "    x.observe(notebookContainer, {childList: true});\n",
       "}}\n",
       "\n",
       "// Listen for the clearing of the current output cell\n",
       "var outputEl = gd.closest('.output');\n",
       "if (outputEl) {{\n",
       "    x.observe(outputEl, {childList: true});\n",
       "}}\n",
       "\n",
       "                        })\n",
       "                };\n",
       "                });\n",
       "            </script>\n",
       "        </div>"
      ]
     },
     "metadata": {},
     "output_type": "display_data"
    }
   ],
   "source": [
    "\n",
    "import plotly.express as px\n",
    "fig = px.scatter(\n",
    "    FA_df, \n",
    "    x=\"exp\",\n",
    "    y=\"FAUW\",\n",
    "    color=\"p_audio\",\n",
    "    hover_data=['p_audio', 'p_raising', 'p_raised'],\n",
    "    title='Added FA per user/week (over 120 unique devices, with ~200K RTS sessions)'\n",
    ")\n",
    "                    \n",
    "fig.show()"
   ]
  },
  {
   "cell_type": "code",
   "execution_count": 27,
   "metadata": {},
   "outputs": [],
   "source": [
    "fig.write_html('2d_figure_updated.html', auto_open=True)"
   ]
  },
  {
   "cell_type": "code",
   "execution_count": 12,
   "metadata": {
    "scrolled": true
   },
   "outputs": [],
   "source": [
    "\n",
    "import plotly.express as px\n",
    "fig = px.scatter_3d(FA_df, x=\"p_audio\", y=\"p_raising\", z=\"p_raised\", color=\"FAUW\", size='FAUW',\n",
    "                 hover_data=['p_audio', 'p_raising', 'p_raised'])\n",
    "fig.write_html('3d_figure.html', auto_open=True)\n"
   ]
  },
  {
   "cell_type": "code",
   "execution_count": 15,
   "metadata": {},
   "outputs": [
    {
     "name": "stdout",
     "output_type": "stream",
     "text": [
      "['a', 'd', 'h', 'b', 'c', 'e', 'i', 'f', 'g']\n"
     ]
    }
   ],
   "source": [
    "X = [\"a\", \"b\", \"c\", \"d\", \"e\", \"f\", \"g\", \"h\", \"i\"]\n",
    "Y = [ 0,   1,   1,    0,   1,   2,   2,   0,   1]\n",
    "\n",
    "Z = [x for _,x in sorted(zip(Y,X))]\n",
    "print(Z)  # [\"a\", \"d\", \"h\", \"b\", \"c\", \"e\", \"i\", \"f\", \"g\"]"
   ]
  },
  {
   "cell_type": "code",
   "execution_count": 16,
   "metadata": {},
   "outputs": [
    {
     "data": {
      "text/plain": [
       "6"
      ]
     },
     "execution_count": 16,
     "metadata": {},
     "output_type": "execute_result"
    }
   ],
   "source": [
    "int((2/3)*10)"
   ]
  },
  {
   "cell_type": "code",
   "execution_count": 17,
   "metadata": {},
   "outputs": [],
   "source": [
    "from torchvision import datasets, transforms"
   ]
  },
  {
   "cell_type": "code",
   "execution_count": 39,
   "metadata": {},
   "outputs": [],
   "source": [
    "train_set = datasets.MNIST('../data', train=True, download=True,\n",
    "                   transform=transforms.Compose([\n",
    "                       transforms.ToTensor(),\n",
    "                       transforms.Normalize((0.1307,), (0.3081,))\n",
    "]))"
   ]
  },
  {
   "cell_type": "code",
   "execution_count": 34,
   "metadata": {},
   "outputs": [
    {
     "data": {
      "text/plain": [
       "True"
      ]
     },
     "execution_count": 34,
     "metadata": {},
     "output_type": "execute_result"
    }
   ],
   "source": [
    "train_set.train"
   ]
  },
  {
   "cell_type": "code",
   "execution_count": 37,
   "metadata": {},
   "outputs": [],
   "source": [
    "train_set.train_data = train_set.train_data[:100, :, :]"
   ]
  },
  {
   "cell_type": "code",
   "execution_count": 38,
   "metadata": {},
   "outputs": [
    {
     "data": {
      "text/plain": [
       "torch.Size([100, 28, 28])"
      ]
     },
     "execution_count": 38,
     "metadata": {},
     "output_type": "execute_result"
    }
   ],
   "source": [
    "train_set.train_data.shape"
   ]
  },
  {
   "cell_type": "code",
   "execution_count": 42,
   "metadata": {},
   "outputs": [
    {
     "data": {
      "text/plain": [
       "array([1])"
      ]
     },
     "execution_count": 42,
     "metadata": {},
     "output_type": "execute_result"
    }
   ],
   "source": [
    "import numpy as np\n",
    "np.random.choice([1, 2, 3], 1)"
   ]
  },
  {
   "cell_type": "code",
   "execution_count": 45,
   "metadata": {},
   "outputs": [],
   "source": [
    "a = np.array([1, 2, 3, 4])"
   ]
  },
  {
   "cell_type": "code",
   "execution_count": 46,
   "metadata": {},
   "outputs": [
    {
     "data": {
      "text/plain": [
       "array([1, 2])"
      ]
     },
     "execution_count": 46,
     "metadata": {},
     "output_type": "execute_result"
    }
   ],
   "source": [
    "a[[0, 1]]"
   ]
  },
  {
   "cell_type": "code",
   "execution_count": 76,
   "metadata": {},
   "outputs": [],
   "source": [
    "n_nodes = 10\n",
    "n_committee = 5"
   ]
  },
  {
   "cell_type": "code",
   "execution_count": 77,
   "metadata": {},
   "outputs": [],
   "source": [
    "p = np.random.choice(n_nodes, size=n_committee, replace=False)"
   ]
  },
  {
   "cell_type": "code",
   "execution_count": 81,
   "metadata": {},
   "outputs": [],
   "source": [
    "pool = list(set(range(n_nodes)) - set([]))"
   ]
  },
  {
   "cell_type": "code",
   "execution_count": 82,
   "metadata": {},
   "outputs": [],
   "source": [
    "c =  np.random.choice(pool, size=n_committee, replace=False)"
   ]
  },
  {
   "cell_type": "code",
   "execution_count": 83,
   "metadata": {},
   "outputs": [
    {
     "data": {
      "text/plain": [
       "(array([3, 6, 2, 9, 1]), array([7, 6, 0, 1, 5]))"
      ]
     },
     "execution_count": 83,
     "metadata": {},
     "output_type": "execute_result"
    }
   ],
   "source": [
    "p, c"
   ]
  },
  {
   "cell_type": "code",
   "execution_count": null,
   "metadata": {},
   "outputs": [],
   "source": [
    "def collect_committee_votes(committee, w_arr):\n",
    "    votes = {}\n",
    "    for c in committee:\n",
    "        votes[c.id] = c.vote(w_list)\n",
    "    return votes"
   ]
  },
  {
   "cell_type": "code",
   "execution_count": 84,
   "metadata": {},
   "outputs": [],
   "source": [
    "import collections"
   ]
  },
  {
   "cell_type": "code",
   "execution_count": null,
   "metadata": {},
   "outputs": [],
   "source": [
    "    w_before = self.get_weights()\n",
    "\n",
    "    loss_list = []\n",
    "    for w in w_list:\n",
    "        loss_w = self._calc_loss(w)\n",
    "        loss_list.append(w_list)\n",
    "\n",
    "    sorted_w = [w for _, w in sorted(zip(loss_list,w_list))]\n",
    "    num_items_to_vote = int(len(w_list) * portion)\n",
    "\n",
    "    return sorted_w[:num_items_to_vote]"
   ]
  },
  {
   "cell_type": "code",
   "execution_count": 85,
   "metadata": {},
   "outputs": [],
   "source": [
    "a = np.array([1, 2, 3, 4, 5])"
   ]
  },
  {
   "cell_type": "code",
   "execution_count": 88,
   "metadata": {},
   "outputs": [],
   "source": [
    "w = [1, 2, 3, 4, 5]\n",
    "l = [10, 4, 0, 2, 3]"
   ]
  },
  {
   "cell_type": "code",
   "execution_count": 89,
   "metadata": {},
   "outputs": [
    {
     "data": {
      "text/plain": [
       "array([2, 3, 4, 1, 0])"
      ]
     },
     "execution_count": 89,
     "metadata": {},
     "output_type": "execute_result"
    }
   ],
   "source": [
    "np.argsort(l)"
   ]
  },
  {
   "cell_type": "code",
   "execution_count": 90,
   "metadata": {},
   "outputs": [
    {
     "data": {
      "text/plain": [
       "array([3, 4, 5, 2, 1])"
      ]
     },
     "execution_count": 90,
     "metadata": {},
     "output_type": "execute_result"
    }
   ],
   "source": [
    "np.array(w)[np.argsort(l)]"
   ]
  },
  {
   "cell_type": "code",
   "execution_count": 91,
   "metadata": {},
   "outputs": [],
   "source": [
    "import os"
   ]
  },
  {
   "cell_type": "code",
   "execution_count": 118,
   "metadata": {},
   "outputs": [
    {
     "data": {
      "text/plain": [
       "3"
      ]
     },
     "execution_count": 118,
     "metadata": {},
     "output_type": "execute_result"
    }
   ],
   "source": [
    "int(5 * 2 / 3)"
   ]
  },
  {
   "cell_type": "code",
   "execution_count": 119,
   "metadata": {},
   "outputs": [
    {
     "data": {
      "text/plain": [
       "3.3333333333333335"
      ]
     },
     "execution_count": 119,
     "metadata": {},
     "output_type": "execute_result"
    }
   ],
   "source": [
    "5 * 2 / 3\n"
   ]
  },
  {
   "cell_type": "code",
   "execution_count": 123,
   "metadata": {},
   "outputs": [],
   "source": [
    "from numpy import array"
   ]
  },
  {
   "cell_type": "code",
   "execution_count": 141,
   "metadata": {},
   "outputs": [],
   "source": [
    "votes = {41: array([0, 2, 5, 4]), 34: array([0, 2, 5, 4]), 48: array([0, 2, 5, 4]), 3: array([0, 2, 5, 4]), 39: array([0, 2, 5, 4]), 28: array([2, 0, 5, 4])}"
   ]
  },
  {
   "cell_type": "code",
   "execution_count": 158,
   "metadata": {},
   "outputs": [],
   "source": [
    "def reach_union_consensus(votes, portion=2/3):\n",
    "    vote_values = list(votes.values())\n",
    "    n_votes_per_memeber = len(vote_values[0])\n",
    "    \n",
    "    flattened_votes = np.concatenate(vote_values).ravel()\n",
    "    vote_counts = Counter(flattened_votes)\n",
    "    \n",
    "    consensus_threshold = int(n_votes_per_memeber * portion)\n",
    "    union_consensus = [\n",
    "        vote for vote, count in vote_counts.items()\n",
    "        if count > consensus_threshold]\n",
    "    return union_consensus"
   ]
  },
  {
   "cell_type": "code",
   "execution_count": 159,
   "metadata": {},
   "outputs": [
    {
     "data": {
      "text/plain": [
       "[0, 2, 5, 4]"
      ]
     },
     "execution_count": 159,
     "metadata": {},
     "output_type": "execute_result"
    }
   ],
   "source": [
    "reach_union_consensus(votes)"
   ]
  },
  {
   "cell_type": "code",
   "execution_count": 161,
   "metadata": {},
   "outputs": [],
   "source": [
    "from torch import tensor"
   ]
  },
  {
   "cell_type": "code",
   "execution_count": 164,
   "metadata": {},
   "outputs": [],
   "source": [
    "from collections import OrderedDict"
   ]
  },
  {
   "cell_type": "code",
   "execution_count": 181,
   "metadata": {},
   "outputs": [],
   "source": [
    "a = OrderedDict([('conv1.weight', tensor([1.0, 2.0])), ('conv2.weight', tensor([3.0, 4.0]))])"
   ]
  },
  {
   "cell_type": "code",
   "execution_count": 184,
   "metadata": {},
   "outputs": [],
   "source": [
    "b = OrderedDict([('conv1.weight', tensor([1.0, 2.0])), ('conv2.weight', tensor([3.0, 5.0]))])"
   ]
  },
  {
   "cell_type": "code",
   "execution_count": 188,
   "metadata": {},
   "outputs": [],
   "source": [
    "def get_average_union_consensus(w_array, union_consensus):\n",
    "    \n",
    "    n_elements = len(union_consensus)\n",
    "    \n",
    "    def _reducer(accumulator, element):\n",
    "        for key, value in element.items():\n",
    "            accumulator[key] = accumulator.get(key, 0) + value / n_elements\n",
    "        return accumulator\n",
    "        \n",
    "    w_collection = w_array[union_consensus]\n",
    "    consensus_w = reduce(_reducer, w_collection, {})\n",
    "    return consensus_w"
   ]
  },
  {
   "cell_type": "code",
   "execution_count": 190,
   "metadata": {},
   "outputs": [
    {
     "data": {
      "text/plain": [
       "{'conv1.weight': tensor([1., 2.]), 'conv2.weight': tensor([3.0000, 4.5000])}"
      ]
     },
     "execution_count": 190,
     "metadata": {},
     "output_type": "execute_result"
    }
   ],
   "source": [
    "w_array = np.array([a, b])\n",
    "get_average_union_consensus(w_array, [0, 1])"
   ]
  },
  {
   "cell_type": "code",
   "execution_count": 193,
   "metadata": {},
   "outputs": [],
   "source": [
    "s = -0.0965 + 0.1188 + 0.1232 -0.0393"
   ]
  },
  {
   "cell_type": "code",
   "execution_count": 194,
   "metadata": {},
   "outputs": [
    {
     "data": {
      "text/plain": [
       "0.026550000000000004"
      ]
     },
     "execution_count": 194,
     "metadata": {},
     "output_type": "execute_result"
    }
   ],
   "source": [
    "s / 4"
   ]
  },
  {
   "cell_type": "code",
   "execution_count": 195,
   "metadata": {},
   "outputs": [
    {
     "data": {
      "text/plain": [
       "OrderedDict([('conv1.weight', tensor([1., 2.])),\n",
       "             ('conv2.weight', tensor([3., 4.]))])"
      ]
     },
     "execution_count": 195,
     "metadata": {},
     "output_type": "execute_result"
    }
   ],
   "source": [
    "a.copy()"
   ]
  },
  {
   "cell_type": "code",
   "execution_count": 200,
   "metadata": {},
   "outputs": [
    {
     "data": {
      "text/plain": [
       "(5013821368, 5013821232)"
      ]
     },
     "execution_count": 200,
     "metadata": {},
     "output_type": "execute_result"
    }
   ],
   "source": [
    "id(a.copy()), id(a)\n"
   ]
  },
  {
   "cell_type": "code",
   "execution_count": null,
   "metadata": {},
   "outputs": [],
   "source": []
  }
 ],
 "metadata": {
  "kernelspec": {
   "display_name": "Python 3",
   "language": "python",
   "name": "python3"
  },
  "language_info": {
   "codemirror_mode": {
    "name": "ipython",
    "version": 3
   },
   "file_extension": ".py",
   "mimetype": "text/x-python",
   "name": "python",
   "nbconvert_exporter": "python",
   "pygments_lexer": "ipython3",
   "version": "3.6.8"
  }
 },
 "nbformat": 4,
 "nbformat_minor": 2
}
