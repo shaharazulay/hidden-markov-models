{
 "cells": [
  {
   "cell_type": "code",
   "execution_count": 1,
   "metadata": {},
   "outputs": [],
   "source": [
    "import pycrfsuite"
   ]
  },
  {
   "cell_type": "code",
   "execution_count": 2,
   "metadata": {},
   "outputs": [
    {
     "name": "stdout",
     "output_type": "stream",
     "text": [
      "Populating the interactive namespace from numpy and matplotlib\n"
     ]
    }
   ],
   "source": [
    "import numpy as np\n",
    "%pylab inline"
   ]
  },
  {
   "cell_type": "code",
   "execution_count": 3,
   "metadata": {},
   "outputs": [],
   "source": [
    "from sklearn.model_selection import train_test_split\n",
    "from sklearn.metrics import classification_report"
   ]
  },
  {
   "cell_type": "code",
   "execution_count": 4,
   "metadata": {},
   "outputs": [],
   "source": [
    "from _chain import Chain"
   ]
  },
  {
   "cell_type": "markdown",
   "metadata": {},
   "source": [
    "### Define Binary HMM "
   ]
  },
  {
   "cell_type": "raw",
   "metadata": {},
   "source": [
    ">>> phi(x,_i y_i) represents the data term\n",
    ">>> phi(y_i, y_i+1) represents the smoothness term"
   ]
  },
  {
   "cell_type": "code",
   "execution_count": 21,
   "metadata": {},
   "outputs": [],
   "source": [
    "def f_phi(x1, x2):\n",
    "    p = np.array([\n",
    "    [0.58, 0.42],\n",
    "    [0.42, 0.58]])\n",
    "    return p[x1, x2]"
   ]
  },
  {
   "cell_type": "code",
   "execution_count": 31,
   "metadata": {},
   "outputs": [],
   "source": [
    "def f_psi(x1, x2):\n",
    "    p = np.array([\n",
    "    [0.62, 0.38],\n",
    "    [0.34, 0.66]])\n",
    "    return p[x1, x2]"
   ]
  },
  {
   "cell_type": "code",
   "execution_count": 32,
   "metadata": {},
   "outputs": [],
   "source": [
    "phi = f_phi\n",
    "psi = f_psi"
   ]
  },
  {
   "cell_type": "code",
   "execution_count": 33,
   "metadata": {},
   "outputs": [],
   "source": [
    "T = 50 # chain length"
   ]
  },
  {
   "cell_type": "code",
   "execution_count": 34,
   "metadata": {},
   "outputs": [],
   "source": [
    "chain = Chain(length=T, phi=phi, psi=psi, possible_values=[0, 1])"
   ]
  },
  {
   "cell_type": "markdown",
   "metadata": {},
   "source": [
    "### Create Random Trainset"
   ]
  },
  {
   "cell_type": "code",
   "execution_count": 35,
   "metadata": {},
   "outputs": [],
   "source": [
    "possible_values = [0, 1]"
   ]
  },
  {
   "cell_type": "code",
   "execution_count": 36,
   "metadata": {},
   "outputs": [],
   "source": [
    "N = 1000"
   ]
  },
  {
   "cell_type": "code",
   "execution_count": 37,
   "metadata": {
    "scrolled": true
   },
   "outputs": [
    {
     "name": "stdout",
     "output_type": "stream",
     "text": [
      "CPU times: user 2.15 s, sys: 18 ms, total: 2.16 s\n",
      "Wall time: 2.15 s\n"
     ]
    }
   ],
   "source": [
    "%%time \n",
    "\n",
    "X_dataset = []\n",
    "y_dataset= []\n",
    "\n",
    "for i in range(N):\n",
    "    x = np.random.rand(T)\n",
    "    x_binary = 1 * (x > 0.5)\n",
    "    \n",
    "    chain.update_observed(x_binary)\n",
    "    y = chain.get_max_apostriori_beliefs()\n",
    "\n",
    "    X_dataset.append(x_binary)\n",
    "    y_dataset.append(y)"
   ]
  },
  {
   "cell_type": "code",
   "execution_count": 38,
   "metadata": {},
   "outputs": [],
   "source": [
    "# turn to numpy arrays\n",
    "X_dataset = np.array([np.array(xi) for xi in X_dataset])\n",
    "y_dataset = np.array([np.array(yi) for yi in y_dataset])"
   ]
  },
  {
   "cell_type": "code",
   "execution_count": 39,
   "metadata": {
    "scrolled": false
   },
   "outputs": [
    {
     "data": {
      "text/plain": [
       "<matplotlib.legend.Legend at 0x1a1a5c8eb8>"
      ]
     },
     "execution_count": 39,
     "metadata": {},
     "output_type": "execute_result"
    },
    {
     "data": {
      "image/png": "[encoded data removed]",
      "text/plain": [
       "<Figure size 432x288 with 1 Axes>"
      ]
     },
     "metadata": {
      "needs_background": "light"
     },
     "output_type": "display_data"
    }
   ],
   "source": [
    "plot(X_dataset[-1], 'o')\n",
    "plot(y_dataset[-1] + 0.05, 'ro')\n",
    "legend(['observations', 'labels'])"
   ]
  },
  {
   "cell_type": "markdown",
   "metadata": {},
   "source": [
    "### Play with HMM implementation"
   ]
  },
  {
   "cell_type": "code",
   "execution_count": 40,
   "metadata": {},
   "outputs": [],
   "source": [
    "import mchmm as mc\n",
    "hmm = mc.HiddenMarkovModel()"
   ]
  },
  {
   "cell_type": "code",
   "execution_count": 41,
   "metadata": {},
   "outputs": [],
   "source": [
    "ep = np.array([\n",
    "    [0.62, 0.38],\n",
    "    [0.38, 0.62]])"
   ]
  },
  {
   "cell_type": "code",
   "execution_count": 42,
   "metadata": {},
   "outputs": [],
   "source": [
    "tp = np.array([\n",
    "    [0.62, 0.38],\n",
    "    [0.38, 0.62]])"
   ]
  },
  {
   "cell_type": "code",
   "execution_count": 39,
   "metadata": {},
   "outputs": [],
   "source": [
    "hmm.observations = hmm.states = np.array([0, 1])"
   ]
  },
  {
   "cell_type": "code",
   "execution_count": 106,
   "metadata": {},
   "outputs": [],
   "source": [
    "pi = np.array([0.5, 0.5])"
   ]
  },
  {
   "cell_type": "code",
   "execution_count": 107,
   "metadata": {},
   "outputs": [
    {
     "name": "stdout",
     "output_type": "stream",
     "text": [
      "CPU times: user 1.81 s, sys: 9.26 ms, total: 1.82 s\n",
      "Wall time: 1.82 s\n"
     ]
    }
   ],
   "source": [
    "%%time \n",
    "\n",
    "X_dataset = []\n",
    "y_dataset= []\n",
    "\n",
    "for i in range(N):\n",
    "    x = np.random.rand(T)\n",
    "    x_binary = np.array(1 * (x > 0.5))\n",
    "    \n",
    "    y = hmm.viterbi(x_binary, tp=tp, ep=ep, pi=pi)[0]\n",
    "\n",
    "    X_dataset.append(x_binary)\n",
    "    y_dataset.append(y)"
   ]
  },
  {
   "cell_type": "code",
   "execution_count": 108,
   "metadata": {},
   "outputs": [],
   "source": [
    "# turn to numpy arrays\n",
    "X_dataset = np.array([np.array(xi) for xi in X_dataset])\n",
    "y_dataset = np.array([np.array(yi) for yi in y_dataset])"
   ]
  },
  {
   "cell_type": "code",
   "execution_count": 109,
   "metadata": {},
   "outputs": [
    {
     "data": {
      "text/plain": [
       "<matplotlib.legend.Legend at 0x1a20379da0>"
      ]
     },
     "execution_count": 109,
     "metadata": {},
     "output_type": "execute_result"
    },
    {
     "data": {
      "image/png": "[encoded data removed]",
      "text/plain": [
       "<Figure size 432x288 with 1 Axes>"
      ]
     },
     "metadata": {
      "needs_background": "light"
     },
     "output_type": "display_data"
    }
   ],
   "source": [
    "plot(X_dataset[0], 'o')\n",
    "plot(y_dataset[0] + 0.05, 'ro')\n",
    "legend(['observations', 'labels'])"
   ]
  },
  {
   "cell_type": "markdown",
   "metadata": {},
   "source": [
    "### Train Dummy Model (predicts y = x)"
   ]
  },
  {
   "cell_type": "markdown",
   "metadata": {},
   "source": [
    "#### Train-Test split"
   ]
  },
  {
   "cell_type": "code",
   "execution_count": 314,
   "metadata": {},
   "outputs": [],
   "source": [
    "X_train, X_test, y_train, y_test = train_test_split(X_dataset, y_dataset, test_size=0.2)"
   ]
  },
  {
   "cell_type": "markdown",
   "metadata": {},
   "source": [
    "#### Evaluate "
   ]
  },
  {
   "cell_type": "code",
   "execution_count": 315,
   "metadata": {},
   "outputs": [],
   "source": [
    "y_pred = X_test"
   ]
  },
  {
   "cell_type": "code",
   "execution_count": 316,
   "metadata": {},
   "outputs": [
    {
     "name": "stdout",
     "output_type": "stream",
     "text": [
      "              precision    recall  f1-score   support\n",
      "\n",
      "           0       0.68      0.68      0.68      4930\n",
      "           1       0.69      0.68      0.68      5070\n",
      "\n",
      "   micro avg       0.68      0.68      0.68     10000\n",
      "   macro avg       0.68      0.68      0.68     10000\n",
      "weighted avg       0.68      0.68      0.68     10000\n",
      "\n"
     ]
    }
   ],
   "source": [
    "labels = {0 : 0, 1: 1}\n",
    "\n",
    "predictions = np.array([labels[tag] for row in y_pred for tag in row])\n",
    "truths = np.array([labels[tag] for row in y_test for tag in row])\n",
    "\n",
    "print(classification_report(\n",
    "    truths, predictions,\n",
    "    target_names=[\"0\", \"1\"]))"
   ]
  },
  {
   "cell_type": "markdown",
   "metadata": {},
   "source": [
    "### Train CRF"
   ]
  },
  {
   "cell_type": "code",
   "execution_count": 43,
   "metadata": {},
   "outputs": [],
   "source": [
    "def extract_features(x):\n",
    "    features = [\n",
    "        'x.current=' + str(x)\n",
    "    ]\n",
    "    return features"
   ]
  },
  {
   "cell_type": "code",
   "execution_count": 44,
   "metadata": {},
   "outputs": [],
   "source": [
    "def extract_labels(y):\n",
    "    return str(y)"
   ]
  },
  {
   "cell_type": "markdown",
   "metadata": {},
   "source": [
    "#### Preprocess Dataset"
   ]
  },
  {
   "cell_type": "code",
   "execution_count": 45,
   "metadata": {},
   "outputs": [],
   "source": [
    "X = []\n",
    "y = []\n",
    "\n",
    "for xseq, yseq in zip(X_dataset, y_dataset):\n",
    "    X_features = [extract_features(x_i) for x_i in xseq]\n",
    "    y_labels = [extract_labels(y_i) for y_i in yseq]\n",
    "    \n",
    "    X.append(X_features)\n",
    "    y.append(y_labels)"
   ]
  },
  {
   "cell_type": "markdown",
   "metadata": {},
   "source": [
    "#### Train-Test split "
   ]
  },
  {
   "cell_type": "code",
   "execution_count": 46,
   "metadata": {},
   "outputs": [],
   "source": [
    "X_train, X_test, y_train, y_test = train_test_split(X, y, test_size=0.2)"
   ]
  },
  {
   "cell_type": "markdown",
   "metadata": {},
   "source": [
    "#### Train "
   ]
  },
  {
   "cell_type": "code",
   "execution_count": 47,
   "metadata": {},
   "outputs": [],
   "source": [
    "trainer = pycrfsuite.Trainer(verbose=True)"
   ]
  },
  {
   "cell_type": "code",
   "execution_count": 48,
   "metadata": {
    "scrolled": true
   },
   "outputs": [],
   "source": [
    "# Submit training data to the trainer\n",
    "trainer.clear()\n",
    "    \n",
    "for xseq, yseq in zip(X_train, y_train):\n",
    "    trainer.append(xseq, yseq)"
   ]
  },
  {
   "cell_type": "code",
   "execution_count": 49,
   "metadata": {},
   "outputs": [],
   "source": [
    "rm crf.model"
   ]
  },
  {
   "cell_type": "code",
   "execution_count": 50,
   "metadata": {
    "scrolled": true
   },
   "outputs": [
    {
     "name": "stdout",
     "output_type": "stream",
     "text": [
      "Feature generation\n",
      "type: CRF1d\n",
      "feature.minfreq: 0.000000\n",
      "feature.possible_states: 0\n",
      "feature.possible_transitions: 0\n",
      "0....1....2....3....4....5....6....7....8....9....10\n",
      "Number of features: 7\n",
      "Seconds required: 0.006\n",
      "\n",
      "L-BFGS optimization\n",
      "c1: 0.000000\n",
      "c2: 1.000000\n",
      "num_memories: 6\n",
      "max_iterations: 2147483647\n",
      "epsilon: 0.000010\n",
      "stop: 10\n",
      "delta: 0.000010\n",
      "linesearch: MoreThuente\n",
      "linesearch.max_iterations: 20\n",
      "\n",
      "***** Iteration #1 *****\n",
      "Loss: 16096.359684\n",
      "Feature norm: 1.000000\n",
      "Error norm: 11267.948020\n",
      "Active features: 7\n",
      "Line search trials: 1\n",
      "Line search step: 0.000058\n",
      "Seconds required for this iteration: 0.009\n",
      "\n",
      "***** Iteration #2 *****\n",
      "Loss: 8354.481112\n",
      "Feature norm: 2.276286\n",
      "Error norm: 6142.481414\n",
      "Active features: 7\n",
      "Line search trials: 1\n",
      "Line search step: 1.000000\n",
      "Seconds required for this iteration: 0.007\n",
      "\n",
      "***** Iteration #3 *****\n",
      "Loss: 5925.458608\n",
      "Feature norm: 3.028433\n",
      "Error norm: 3008.127288\n",
      "Active features: 7\n",
      "Line search trials: 1\n",
      "Line search step: 1.000000\n",
      "Seconds required for this iteration: 0.004\n",
      "\n",
      "***** Iteration #4 *****\n",
      "Loss: 3932.750937\n",
      "Feature norm: 4.179420\n",
      "Error norm: 1625.779442\n",
      "Active features: 7\n",
      "Line search trials: 1\n",
      "Line search step: 1.000000\n",
      "Seconds required for this iteration: 0.004\n",
      "\n",
      "***** Iteration #5 *****\n",
      "Loss: 2494.579041\n",
      "Feature norm: 5.685411\n",
      "Error norm: 898.971871\n",
      "Active features: 7\n",
      "Line search trials: 1\n",
      "Line search step: 1.000000\n",
      "Seconds required for this iteration: 0.004\n",
      "\n",
      "***** Iteration #6 *****\n",
      "Loss: 1623.150436\n",
      "Feature norm: 7.621070\n",
      "Error norm: 1746.177890\n",
      "Active features: 7\n",
      "Line search trials: 1\n",
      "Line search step: 1.000000\n",
      "Seconds required for this iteration: 0.004\n",
      "\n",
      "***** Iteration #7 *****\n",
      "Loss: 810.478905\n",
      "Feature norm: 10.136104\n",
      "Error norm: 211.011637\n",
      "Active features: 7\n",
      "Line search trials: 1\n",
      "Line search step: 1.000000\n",
      "Seconds required for this iteration: 0.004\n",
      "\n",
      "***** Iteration #8 *****\n",
      "Loss: 586.208448\n",
      "Feature norm: 11.890345\n",
      "Error norm: 106.183220\n",
      "Active features: 7\n",
      "Line search trials: 1\n",
      "Line search step: 1.000000\n",
      "Seconds required for this iteration: 0.004\n",
      "\n",
      "***** Iteration #9 *****\n",
      "Loss: 452.082441\n",
      "Feature norm: 14.092578\n",
      "Error norm: 101.650909\n",
      "Active features: 7\n",
      "Line search trials: 1\n",
      "Line search step: 1.000000\n",
      "Seconds required for this iteration: 0.004\n",
      "\n",
      "***** Iteration #10 *****\n",
      "Loss: 443.744982\n",
      "Feature norm: 14.273888\n",
      "Error norm: 78.254404\n",
      "Active features: 7\n",
      "Line search trials: 2\n",
      "Line search step: 0.090857\n",
      "Seconds required for this iteration: 0.009\n",
      "\n",
      "***** Iteration #11 *****\n",
      "Loss: 412.524330\n",
      "Feature norm: 15.628797\n",
      "Error norm: 12.639159\n",
      "Active features: 7\n",
      "Line search trials: 1\n",
      "Line search step: 1.000000\n",
      "Seconds required for this iteration: 0.006\n",
      "\n",
      "***** Iteration #12 *****\n",
      "Loss: 407.085222\n",
      "Feature norm: 16.379263\n",
      "Error norm: 5.744247\n",
      "Active features: 7\n",
      "Line search trials: 1\n",
      "Line search step: 1.000000\n",
      "Seconds required for this iteration: 0.005\n",
      "\n",
      "***** Iteration #13 *****\n",
      "Loss: 407.016663\n",
      "Feature norm: 16.396705\n",
      "Error norm: 5.534667\n",
      "Active features: 7\n",
      "Line search trials: 2\n",
      "Line search step: 0.075942\n",
      "Seconds required for this iteration: 0.009\n",
      "\n",
      "***** Iteration #14 *****\n",
      "Loss: 406.704207\n",
      "Feature norm: 16.610437\n",
      "Error norm: 0.823215\n",
      "Active features: 7\n",
      "Line search trials: 1\n",
      "Line search step: 1.000000\n",
      "Seconds required for this iteration: 0.004\n",
      "\n",
      "***** Iteration #15 *****\n",
      "Loss: 406.700116\n",
      "Feature norm: 16.634235\n",
      "Error norm: 0.303958\n",
      "Active features: 7\n",
      "Line search trials: 1\n",
      "Line search step: 1.000000\n",
      "Seconds required for this iteration: 0.004\n",
      "\n",
      "***** Iteration #16 *****\n",
      "Loss: 406.699401\n",
      "Feature norm: 16.637360\n",
      "Error norm: 0.170848\n",
      "Active features: 7\n",
      "Line search trials: 1\n",
      "Line search step: 1.000000\n",
      "Seconds required for this iteration: 0.004\n",
      "\n",
      "***** Iteration #17 *****\n",
      "Loss: 406.696823\n",
      "Feature norm: 16.647636\n",
      "Error norm: 0.187780\n",
      "Active features: 7\n",
      "Line search trials: 1\n",
      "Line search step: 1.000000\n",
      "Seconds required for this iteration: 0.004\n",
      "\n",
      "***** Iteration #18 *****\n",
      "Loss: 406.696564\n",
      "Feature norm: 16.646214\n",
      "Error norm: 0.652387\n",
      "Active features: 7\n",
      "Line search trials: 2\n",
      "Line search step: 0.019811\n",
      "Seconds required for this iteration: 0.008\n",
      "\n",
      "***** Iteration #19 *****\n",
      "Loss: 406.694949\n",
      "Feature norm: 16.645688\n",
      "Error norm: 0.483137\n",
      "Active features: 7\n",
      "Line search trials: 1\n",
      "Line search step: 1.000000\n",
      "Seconds required for this iteration: 0.004\n",
      "\n",
      "***** Iteration #20 *****\n",
      "Loss: 406.693735\n",
      "Feature norm: 16.638024\n",
      "Error norm: 0.098086\n",
      "Active features: 7\n",
      "Line search trials: 1\n",
      "Line search step: 1.000000\n",
      "Seconds required for this iteration: 0.004\n",
      "\n",
      "***** Iteration #21 *****\n",
      "Loss: 406.693685\n",
      "Feature norm: 16.636668\n",
      "Error norm: 0.132716\n",
      "Active features: 7\n",
      "Line search trials: 2\n",
      "Line search step: 0.305265\n",
      "Seconds required for this iteration: 0.008\n",
      "\n",
      "***** Iteration #22 *****\n",
      "Loss: 406.693644\n",
      "Feature norm: 16.634495\n",
      "Error norm: 0.008187\n",
      "Active features: 7\n",
      "Line search trials: 1\n",
      "Line search step: 1.000000\n",
      "Seconds required for this iteration: 0.004\n",
      "\n",
      "***** Iteration #23 *****\n",
      "Loss: 406.693643\n",
      "Feature norm: 16.634246\n",
      "Error norm: 0.005309\n",
      "Active features: 7\n",
      "Line search trials: 1\n",
      "Line search step: 1.000000\n",
      "Seconds required for this iteration: 0.004\n",
      "\n",
      "***** Iteration #24 *****\n",
      "Loss: 406.693642\n",
      "Feature norm: 16.634234\n",
      "Error norm: 0.004571\n",
      "Active features: 7\n",
      "Line search trials: 1\n",
      "Line search step: 1.000000\n",
      "Seconds required for this iteration: 0.004\n",
      "\n",
      "***** Iteration #25 *****\n",
      "Loss: 406.693641\n",
      "Feature norm: 16.634149\n",
      "Error norm: 0.026988\n",
      "Active features: 7\n",
      "Line search trials: 2\n",
      "Line search step: 0.218630\n",
      "Seconds required for this iteration: 0.008\n",
      "\n",
      "***** Iteration #26 *****\n",
      "Loss: 406.693638\n",
      "Feature norm: 16.634256\n",
      "Error norm: 0.000877\n",
      "Active features: 7\n",
      "Line search trials: 1\n",
      "Line search step: 1.000000\n",
      "Seconds required for this iteration: 0.005\n",
      "\n",
      "***** Iteration #27 *****\n",
      "Loss: 406.693638\n",
      "Feature norm: 16.634251\n",
      "Error norm: 0.000067\n",
      "Active features: 7\n",
      "Line search trials: 1\n",
      "Line search step: 1.000000\n",
      "Seconds required for this iteration: 0.005\n",
      "\n",
      "L-BFGS resulted in convergence\n",
      "Total seconds required for training: 0.147\n",
      "\n",
      "Storing the model\n",
      "Number of active features: 7 (7)\n",
      "Number of active attributes: 2 (2)\n",
      "Number of active labels: 2 (2)\n",
      "Writing labels\n",
      "Writing attributes\n",
      "Writing feature references for transitions\n",
      "Writing feature references for attributes\n",
      "Seconds required: 0.001\n",
      "\n"
     ]
    }
   ],
   "source": [
    "# the model will be saved under 'crf.model'\n",
    "trainer.train('crf.model')"
   ]
  },
  {
   "cell_type": "markdown",
   "metadata": {},
   "source": [
    "####  Evaluate"
   ]
  },
  {
   "cell_type": "code",
   "execution_count": 51,
   "metadata": {},
   "outputs": [],
   "source": [
    "tagger = pycrfsuite.Tagger()\n",
    "tagger.open('crf.model')\n",
    "\n",
    "y_pred = [tagger.tag(xseq) for xseq in X_test]"
   ]
  },
  {
   "cell_type": "code",
   "execution_count": 52,
   "metadata": {},
   "outputs": [
    {
     "name": "stdout",
     "output_type": "stream",
     "text": [
      "              precision    recall  f1-score   support\n",
      "\n",
      "           0       1.00      1.00      1.00      3834\n",
      "           1       1.00      1.00      1.00      6166\n",
      "\n",
      "   micro avg       1.00      1.00      1.00     10000\n",
      "   macro avg       1.00      1.00      1.00     10000\n",
      "weighted avg       1.00      1.00      1.00     10000\n",
      "\n"
     ]
    }
   ],
   "source": [
    "# Create a mapping of labels to indices\n",
    "labels = {\"0\": 0, \"1\": 1}\n",
    "\n",
    "# Convert the sequences of tags into a 1-dimensional array\n",
    "predictions = np.array([labels[tag] for row in y_pred for tag in row])\n",
    "truths = np.array([labels[tag] for row in y_test for tag in row])\n",
    "\n",
    "# Print out the classification report\n",
    "print(classification_report(\n",
    "    truths, predictions,\n",
    "    target_names=[\"0\", \"1\"]))"
   ]
  },
  {
   "cell_type": "markdown",
   "metadata": {},
   "source": [
    "### Try using sklearn.CRF wrapper"
   ]
  },
  {
   "cell_type": "code",
   "execution_count": 348,
   "metadata": {},
   "outputs": [],
   "source": [
    "import sklearn_crfsuite\n",
    "from sklearn_crfsuite import scorers\n",
    "from sklearn_crfsuite import metrics"
   ]
  },
  {
   "cell_type": "code",
   "execution_count": 349,
   "metadata": {},
   "outputs": [
    {
     "name": "stdout",
     "output_type": "stream",
     "text": [
      "CPU times: user 285 ms, sys: 7.24 ms, total: 292 ms\n",
      "Wall time: 291 ms\n"
     ]
    }
   ],
   "source": [
    "%%time\n",
    "crf = sklearn_crfsuite.CRF(\n",
    "    algorithm='lbfgs',\n",
    "    c1=0.1,\n",
    "    c2=0.1,\n",
    "    max_iterations=1000,\n",
    "    all_possible_transitions=True,\n",
    "    all_possible_states=True\n",
    ")\n",
    "crf.fit(X_train, y_train)"
   ]
  },
  {
   "cell_type": "code",
   "execution_count": 350,
   "metadata": {},
   "outputs": [],
   "source": [
    "y_pred = crf.predict(X_test)"
   ]
  },
  {
   "cell_type": "code",
   "execution_count": 351,
   "metadata": {},
   "outputs": [
    {
     "data": {
      "text/plain": [
       "['0', '1']"
      ]
     },
     "execution_count": 351,
     "metadata": {},
     "output_type": "execute_result"
    }
   ],
   "source": [
    "labels = list(crf.classes_)\n",
    "labels"
   ]
  },
  {
   "cell_type": "code",
   "execution_count": 352,
   "metadata": {},
   "outputs": [
    {
     "name": "stdout",
     "output_type": "stream",
     "text": [
      "              precision    recall  f1-score   support\n",
      "\n",
      "           0      0.961     1.000     0.980      5008\n",
      "           1      1.000     0.959     0.979      4992\n",
      "\n",
      "   micro avg      0.980     0.980     0.980     10000\n",
      "   macro avg      0.981     0.980     0.980     10000\n",
      "weighted avg      0.980     0.980     0.980     10000\n",
      "\n"
     ]
    }
   ],
   "source": [
    "sorted_labels = sorted(\n",
    "    labels,\n",
    "    key=lambda name: (name[1:], name[0])\n",
    ")\n",
    "print(metrics.flat_classification_report(\n",
    "    y_test, y_pred, labels=sorted_labels, digits=3\n",
    "))"
   ]
  },
  {
   "cell_type": "code",
   "execution_count": 353,
   "metadata": {},
   "outputs": [
    {
     "data": {
      "text/plain": [
       "CRF(algorithm='lbfgs', all_possible_states=True,\n",
       "  all_possible_transitions=True, averaging=None, c=None, c1=0.1, c2=0.1,\n",
       "  calibration_candidates=None, calibration_eta=None,\n",
       "  calibration_max_trials=None, calibration_rate=None,\n",
       "  calibration_samples=None, delta=None, epsilon=None, error_sensitive=None,\n",
       "  gamma=None, keep_tempfiles=None, linesearch=None, max_iterations=1000,\n",
       "  max_linesearch=None, min_freq=None, model_filename=None,\n",
       "  num_memories=None, pa_type=None, period=None, trainer_cls=None,\n",
       "  variance=None, verbose=False)"
      ]
     },
     "execution_count": 353,
     "metadata": {},
     "output_type": "execute_result"
    }
   ],
   "source": [
    "crf"
   ]
  },
  {
   "cell_type": "code",
   "execution_count": 354,
   "metadata": {},
   "outputs": [
    {
     "name": "stdout",
     "output_type": "stream",
     "text": [
      "Transitions:\n",
      "0      -> 0       1.741105\n",
      "1      -> 1       1.731125\n",
      "0      -> 1       -1.914187\n",
      "1      -> 0       -1.938501\n"
     ]
    }
   ],
   "source": [
    "from collections import Counter\n",
    "\n",
    "def print_transitions(trans_features):\n",
    "    for (label_from, label_to), weight in trans_features:\n",
    "        print(\"%-6s -> %-7s %0.6f\" % (label_from, label_to, weight))\n",
    "\n",
    "print(\"Transitions:\")\n",
    "print_transitions(Counter(crf.transition_features_).most_common(20))"
   ]
  },
  {
   "cell_type": "code",
   "execution_count": 355,
   "metadata": {},
   "outputs": [
    {
     "name": "stdout",
     "output_type": "stream",
     "text": [
      "States:\n",
      "0.869181 1        x.current=1\n",
      "0.865415 0        x.current=0\n",
      "-0.865415 1        x.current=0\n",
      "-0.869181 0        x.current=1\n"
     ]
    }
   ],
   "source": [
    "def print_state_features(state_features):\n",
    "    for (attr, label), weight in state_features:\n",
    "        print(\"%0.6f %-8s %s\" % (weight, label, attr))\n",
    "\n",
    "print(\"States:\")\n",
    "print_state_features(Counter(crf.state_features_).most_common(30))"
   ]
  },
  {
   "cell_type": "code",
   "execution_count": 356,
   "metadata": {},
   "outputs": [],
   "source": [
    "import scipy\n",
    "from sklearn.metrics import make_scorer\n",
    "from sklearn.model_selection import cross_val_score\n",
    "from sklearn.model_selection import RandomizedSearchCV"
   ]
  },
  {
   "cell_type": "code",
   "execution_count": 357,
   "metadata": {},
   "outputs": [
    {
     "name": "stdout",
     "output_type": "stream",
     "text": [
      "Fitting 3 folds for each of 50 candidates, totalling 150 fits\n"
     ]
    },
    {
     "name": "stderr",
     "output_type": "stream",
     "text": [
      "[Parallel(n_jobs=-1)]: Using backend LokyBackend with 12 concurrent workers.\n",
      "[Parallel(n_jobs=-1)]: Done  26 tasks      | elapsed:   10.5s\n",
      "[Parallel(n_jobs=-1)]: Done 150 out of 150 | elapsed:   56.2s finished\n"
     ]
    },
    {
     "name": "stdout",
     "output_type": "stream",
     "text": [
      "CPU times: user 55.4 s, sys: 600 ms, total: 56 s\n",
      "Wall time: 56.5 s\n"
     ]
    }
   ],
   "source": [
    "%%time\n",
    "# define fixed parameters and parameters to search\n",
    "crf = sklearn_crfsuite.CRF(\n",
    "    algorithm='lbfgs',\n",
    "    max_iterations=100,\n",
    "    all_possible_transitions=True\n",
    ")\n",
    "params_space = {\n",
    "    'c1': scipy.stats.expon(scale=0.5),\n",
    "    'c2': scipy.stats.expon(scale=0.05),\n",
    "}\n",
    "\n",
    "# use the same metric for evaluation\n",
    "f1_scorer = make_scorer(metrics.flat_f1_score,\n",
    "                        average='weighted', labels=labels)\n",
    "\n",
    "# search\n",
    "rs = RandomizedSearchCV(crf, params_space,\n",
    "                        cv=3,\n",
    "                        verbose=1,\n",
    "                        n_jobs=-1,\n",
    "                        n_iter=50,\n",
    "                        scoring=f1_scorer)\n",
    "rs.fit(X_train, y_train)"
   ]
  },
  {
   "cell_type": "code",
   "execution_count": 358,
   "metadata": {},
   "outputs": [
    {
     "name": "stdout",
     "output_type": "stream",
     "text": [
      "best params: {'c1': 2.601810142324518, 'c2': 0.13253074750872607}\n",
      "best CV score: 0.9714514252075627\n",
      "model size: 0.00M\n"
     ]
    }
   ],
   "source": [
    "# crf = rs.best_estimator_\n",
    "print('best params:', rs.best_params_)\n",
    "print('best CV score:', rs.best_score_)\n",
    "print('model size: {:0.2f}M'.format(rs.best_estimator_.size_ / 1000000))"
   ]
  },
  {
   "cell_type": "markdown",
   "metadata": {},
   "source": [
    "### Training FC NN "
   ]
  },
  {
   "cell_type": "markdown",
   "metadata": {},
   "source": [
    "#### Define "
   ]
  },
  {
   "cell_type": "code",
   "execution_count": 64,
   "metadata": {},
   "outputs": [],
   "source": [
    "import torch\n",
    "import torch.nn.functional as F\n",
    "from torch.autograd import Variable\n",
    "import torch.optim as optim"
   ]
  },
  {
   "cell_type": "code",
   "execution_count": 65,
   "metadata": {},
   "outputs": [],
   "source": [
    "n_epochs = 1000\n",
    "batch_size, D_in, D_hidden, D_out = 64, T, 2 * T, T"
   ]
  },
  {
   "cell_type": "code",
   "execution_count": 66,
   "metadata": {},
   "outputs": [],
   "source": [
    "model = torch.nn.Sequential(\n",
    "          torch.nn.Linear(D_in, D_hidden),\n",
    "          torch.nn.ReLU(),\n",
    "          torch.nn.Linear(D_hidden, D_out),\n",
    "          torch.nn.Sigmoid()\n",
    "        )\n",
    "\n",
    "optimizer = optim.Adam(model.parameters(), lr=0.01)"
   ]
  },
  {
   "cell_type": "code",
   "execution_count": 67,
   "metadata": {},
   "outputs": [],
   "source": [
    "from torch.utils.data import Dataset\n",
    "\n",
    "class ChainDataset(Dataset):\n",
    "    \n",
    "    def __init__(self, X, y, flatten=True):\n",
    "        self._X = X\n",
    "        self._y = y\n",
    "\n",
    "    def __len__(self):\n",
    "        return len(self._X)\n",
    "\n",
    "    def __getitem__(self, idx):\n",
    "        sample = {\n",
    "            'X': torch.from_numpy(self._X[idx]).float(),\n",
    "            'y': torch.from_numpy(self._y[idx]).float()  \n",
    "        }\n",
    "        return sample"
   ]
  },
  {
   "cell_type": "code",
   "execution_count": 68,
   "metadata": {},
   "outputs": [],
   "source": [
    "X_train, X_test, y_train, y_test = train_test_split(X_dataset, y_dataset, test_size=0.2)"
   ]
  },
  {
   "cell_type": "code",
   "execution_count": 69,
   "metadata": {},
   "outputs": [],
   "source": [
    "trainset = ChainDataset(X_train, y_train)\n",
    "trainloader = torch.utils.data.DataLoader(trainset, batch_size=batch_size, shuffle=True, num_workers=2)"
   ]
  },
  {
   "cell_type": "markdown",
   "metadata": {},
   "source": [
    "#### Train "
   ]
  },
  {
   "cell_type": "code",
   "execution_count": 70,
   "metadata": {
    "scrolled": true
   },
   "outputs": [
    {
     "name": "stdout",
     "output_type": "stream",
     "text": [
      "epoch 10:: loss = 0.2114993929862976\n",
      "epoch 20:: loss = 0.13857434689998627\n",
      "epoch 30:: loss = 0.08925817161798477\n",
      "epoch 40:: loss = 0.08183830976486206\n",
      "epoch 50:: loss = 0.07915858179330826\n",
      "epoch 60:: loss = 0.05572351813316345\n",
      "epoch 70:: loss = 0.043237730860710144\n",
      "epoch 80:: loss = 0.04118090122938156\n",
      "epoch 90:: loss = 0.030093984678387642\n",
      "epoch 100:: loss = 0.033441200852394104\n",
      "epoch 110:: loss = 0.020153027027845383\n",
      "epoch 120:: loss = 0.018369480967521667\n",
      "epoch 130:: loss = 0.018003512173891068\n",
      "epoch 140:: loss = 0.013446403667330742\n",
      "epoch 150:: loss = 0.012158852070569992\n",
      "epoch 160:: loss = 0.009657088667154312\n",
      "epoch 170:: loss = 0.008416078984737396\n",
      "epoch 180:: loss = 0.006717754062265158\n",
      "epoch 190:: loss = 0.006864999420940876\n",
      "epoch 200:: loss = 0.005505006294697523\n",
      "epoch 210:: loss = 0.005018127150833607\n",
      "epoch 220:: loss = 0.004055824130773544\n",
      "epoch 230:: loss = 0.003597445087507367\n",
      "epoch 240:: loss = 0.003289749613031745\n",
      "epoch 250:: loss = 0.0030104259494692087\n",
      "epoch 260:: loss = 0.002492915140464902\n",
      "epoch 270:: loss = 0.0026257913559675217\n",
      "epoch 280:: loss = 0.001947841141372919\n",
      "epoch 290:: loss = 0.0019901401828974485\n",
      "epoch 300:: loss = 0.00167459761723876\n",
      "epoch 310:: loss = 0.001484276494011283\n",
      "epoch 320:: loss = 0.0010863484349101782\n",
      "epoch 330:: loss = 0.0012922820169478655\n",
      "epoch 340:: loss = 0.0010017789900302887\n",
      "epoch 350:: loss = 0.0010046304669231176\n",
      "epoch 360:: loss = 0.0008930688491091132\n",
      "epoch 370:: loss = 0.0008707486558705568\n",
      "epoch 380:: loss = 0.0007389613310806453\n",
      "epoch 390:: loss = 0.0007833521231077611\n",
      "epoch 400:: loss = 0.0006696497439406812\n",
      "epoch 410:: loss = 0.0005380603834055364\n",
      "epoch 420:: loss = 0.0005458790110424161\n",
      "epoch 430:: loss = 0.00039142477908171713\n",
      "epoch 440:: loss = 0.000429189414717257\n",
      "epoch 450:: loss = 0.00040505483048036695\n",
      "epoch 460:: loss = 0.0003795655502472073\n",
      "epoch 470:: loss = 0.00033258763141930103\n",
      "epoch 480:: loss = 0.0003181649080943316\n",
      "epoch 490:: loss = 0.0002623370091896504\n",
      "epoch 500:: loss = 0.0002693390706554055\n",
      "epoch 510:: loss = 0.0002858515363186598\n",
      "epoch 520:: loss = 0.0002560147549957037\n",
      "epoch 530:: loss = 0.00021933244715910405\n",
      "epoch 540:: loss = 0.0001906781253637746\n",
      "epoch 550:: loss = 0.00015369868197012693\n",
      "epoch 560:: loss = 0.00017942662816494703\n",
      "epoch 570:: loss = 0.00016113778110593557\n",
      "epoch 580:: loss = 0.00013605537242256105\n",
      "epoch 590:: loss = 0.0001226159802172333\n",
      "epoch 600:: loss = 0.00011049902968807146\n",
      "epoch 610:: loss = 0.00011148166231578216\n",
      "epoch 620:: loss = 0.0001051226063282229\n",
      "epoch 630:: loss = 9.226455586031079e-05\n",
      "epoch 640:: loss = 8.436521602561697e-05\n",
      "epoch 650:: loss = 8.829886064631864e-05\n",
      "epoch 660:: loss = 7.90046906331554e-05\n",
      "epoch 670:: loss = 8.532543870387599e-05\n",
      "epoch 680:: loss = 6.28863854217343e-05\n",
      "epoch 690:: loss = 5.788660200778395e-05\n",
      "epoch 700:: loss = 5.212447285884991e-05\n",
      "epoch 710:: loss = 5.7560122513677925e-05\n",
      "epoch 720:: loss = 4.666285531129688e-05\n",
      "epoch 730:: loss = 4.31893568020314e-05\n",
      "epoch 740:: loss = 3.65799423889257e-05\n",
      "epoch 750:: loss = 3.8032972952350974e-05\n",
      "epoch 760:: loss = 3.255256524425931e-05\n",
      "epoch 770:: loss = 3.143517460557632e-05\n",
      "epoch 780:: loss = 3.312901026220061e-05\n",
      "epoch 790:: loss = 2.6865420295507647e-05\n",
      "epoch 800:: loss = 2.5451463443459943e-05\n",
      "epoch 810:: loss = 2.4626313461340033e-05\n",
      "epoch 820:: loss = 2.2670412363368087e-05\n",
      "epoch 830:: loss = 2.1523037503357045e-05\n",
      "epoch 840:: loss = 2.2262403945205733e-05\n",
      "epoch 850:: loss = 1.5938881915644743e-05\n",
      "epoch 860:: loss = 1.3617008335131686e-05\n",
      "epoch 870:: loss = 1.4518141142616514e-05\n",
      "epoch 880:: loss = 1.6052694263635203e-05\n",
      "epoch 890:: loss = 1.3556776139012072e-05\n",
      "epoch 900:: loss = 1.2230990250827745e-05\n",
      "epoch 910:: loss = 1.0815988389367703e-05\n",
      "epoch 920:: loss = 1.1421157978475094e-05\n",
      "epoch 930:: loss = 9.00187933439156e-06\n",
      "epoch 940:: loss = 1.0787458450067788e-05\n",
      "epoch 950:: loss = 8.810860890662298e-06\n",
      "epoch 960:: loss = 7.457810625055572e-06\n",
      "epoch 970:: loss = 6.063003183953697e-06\n",
      "epoch 980:: loss = 7.731683581368998e-06\n",
      "epoch 990:: loss = 5.552231868932722e-06\n",
      "epoch 1000:: loss = 5.953372237854637e-06\n"
     ]
    }
   ],
   "source": [
    "model.train()\n",
    "learning_curve = []\n",
    "\n",
    "for epoch in range(1, n_epochs + 1):\n",
    "    \n",
    "    for batch in trainloader:\n",
    "        \n",
    "        X_batch, y_batch = Variable(batch['X']), Variable(batch['y'])\n",
    "        model.zero_grad()\n",
    "        \n",
    "        y_pred = model(X_batch)\n",
    "        loss = F.binary_cross_entropy(y_pred, y_batch)\n",
    "        \n",
    "        loss.backward()\n",
    "        optimizer.step()\n",
    "    \n",
    "    if epoch % 10 == 0:\n",
    "        print('epoch {}:: loss = {}'. format(epoch, loss))\n",
    "        learning_curve.append(loss)"
   ]
  },
  {
   "cell_type": "code",
   "execution_count": 71,
   "metadata": {},
   "outputs": [
    {
     "data": {
      "image/png": "[encoded data removed]",
      "text/plain": [
       "<Figure size 432x288 with 1 Axes>"
      ]
     },
     "metadata": {
      "needs_background": "light"
     },
     "output_type": "display_data"
    }
   ],
   "source": [
    "plot(learning_curve);"
   ]
  },
  {
   "cell_type": "markdown",
   "metadata": {},
   "source": [
    "#### Evaluate "
   ]
  },
  {
   "cell_type": "code",
   "execution_count": 72,
   "metadata": {},
   "outputs": [
    {
     "data": {
      "text/plain": [
       "Sequential(\n",
       "  (0): Linear(in_features=50, out_features=100, bias=True)\n",
       "  (1): ReLU()\n",
       "  (2): Linear(in_features=100, out_features=50, bias=True)\n",
       "  (3): Sigmoid()\n",
       ")"
      ]
     },
     "execution_count": 72,
     "metadata": {},
     "output_type": "execute_result"
    }
   ],
   "source": [
    "model.eval()"
   ]
  },
  {
   "cell_type": "code",
   "execution_count": 73,
   "metadata": {},
   "outputs": [],
   "source": [
    "y_pred = np.array([model(torch.from_numpy(xseq).float()).detach().numpy() for xseq in X_test])"
   ]
  },
  {
   "cell_type": "code",
   "execution_count": 74,
   "metadata": {},
   "outputs": [],
   "source": [
    "y_pred = 1 * (y_pred > 0.5)"
   ]
  },
  {
   "cell_type": "code",
   "execution_count": 75,
   "metadata": {},
   "outputs": [
    {
     "name": "stdout",
     "output_type": "stream",
     "text": [
      "              precision    recall  f1-score   support\n",
      "\n",
      "           0       0.91      0.94      0.92      5933\n",
      "           1       0.90      0.87      0.89      4067\n",
      "\n",
      "   micro avg       0.91      0.91      0.91     10000\n",
      "   macro avg       0.91      0.90      0.91     10000\n",
      "weighted avg       0.91      0.91      0.91     10000\n",
      "\n"
     ]
    }
   ],
   "source": [
    "labels = {0 : 0, 1: 1}\n",
    "\n",
    "predictions = np.array([labels[tag] for row in y_pred for tag in row])\n",
    "truths = np.array([labels[tag] for row in y_test for tag in row])\n",
    "\n",
    "print(classification_report(\n",
    "    truths, predictions,\n",
    "    target_names=[\"0\", \"1\"]))"
   ]
  },
  {
   "cell_type": "markdown",
   "metadata": {},
   "source": [
    "### Create dataset from trained CRF"
   ]
  },
  {
   "cell_type": "code",
   "execution_count": 30,
   "metadata": {},
   "outputs": [],
   "source": [
    "tagger = pycrfsuite.Tagger()\n",
    "tagger.open('crf.model')\n",
    "\n",
    "y_pred_test = [tagger.tag(xseq) for xseq in X_test]\n",
    "y_pred_train = [tagger.tag(xseq) for xseq in X_train]"
   ]
  },
  {
   "cell_type": "markdown",
   "metadata": {},
   "source": [
    "#### Train new CRF over the generated dataset"
   ]
  },
  {
   "cell_type": "code",
   "execution_count": 31,
   "metadata": {},
   "outputs": [],
   "source": [
    "chain.update_observed([int(c[0].split('=')[1]) for c in X_train[0]])\n",
    "y_chain = chain.get_max_apostriori_beliefs()"
   ]
  },
  {
   "cell_type": "code",
   "execution_count": 32,
   "metadata": {},
   "outputs": [
    {
     "data": {
      "text/plain": [
       "<matplotlib.legend.Legend at 0x1a256c82e8>"
      ]
     },
     "execution_count": 32,
     "metadata": {},
     "output_type": "execute_result"
    },
    {
     "data": {
      "image/png": "[encoded data removed]",
      "text/plain": [
       "<Figure size 432x288 with 1 Axes>"
      ]
     },
     "metadata": {
      "needs_background": "light"
     },
     "output_type": "display_data"
    }
   ],
   "source": [
    "plot([int(c[0].split('=')[1]) for c in X_train[0]], 'o')\n",
    "plot([int(c) + 0.05 for c in y_pred_train[0]], 'ro')\n",
    "plot(np.array(y_chain) + 0.1, 'ko')\n",
    "legend(['observations', 'labels', 'BP'])"
   ]
  },
  {
   "cell_type": "code",
   "execution_count": null,
   "metadata": {},
   "outputs": [],
   "source": [
    "trainer = pycrfsuite.Trainer(verbose=True)"
   ]
  },
  {
   "cell_type": "code",
   "execution_count": null,
   "metadata": {},
   "outputs": [],
   "source": [
    "# Submit training data to the trainer\n",
    "trainer.clear()\n",
    "    \n",
    "for xseq, yseq in zip(X_train, y_pred_train):\n",
    "    trainer.append(xseq, yseq)"
   ]
  },
  {
   "cell_type": "code",
   "execution_count": null,
   "metadata": {},
   "outputs": [],
   "source": [
    "# the model will be saved under 'crf.model'\n",
    "trainer.train('crf_from_crf_created_data.model')"
   ]
  },
  {
   "cell_type": "code",
   "execution_count": null,
   "metadata": {},
   "outputs": [],
   "source": [
    "tagger = pycrfsuite.Tagger()\n",
    "tagger.open('crf_from_crf_created_data.model')\n",
    "\n",
    "y_pred = [tagger.tag(xseq) for xseq in X_test]"
   ]
  },
  {
   "cell_type": "code",
   "execution_count": null,
   "metadata": {},
   "outputs": [],
   "source": [
    "labels = {\"0\": 0, \"1\": 1}\n",
    "\n",
    "predictions = np.array([labels[tag] for row in y_pred for tag in row])\n",
    "truths = np.array([labels[tag] for row in y_pred_test for tag in row])\n",
    "\n",
    "print(classification_report(\n",
    "    truths, predictions,\n",
    "    target_names=[\"0\", \"1\"]))"
   ]
  },
  {
   "cell_type": "code",
   "execution_count": null,
   "metadata": {},
   "outputs": [],
   "source": []
  },
  {
   "cell_type": "code",
   "execution_count": 191,
   "metadata": {},
   "outputs": [],
   "source": [
    "data = {(0.5, 0.5, 0.5): 9.595693779904307,\n",
    " (0.5, 0.5, 0.6): 8.222488038277513,\n",
    " (0.5, 0.5, 0.7): 6.7990430622009566,\n",
    " (0.5, 0.5, 0.8): 5.375598086124402,\n",
    " (0.5, 0.5, 0.85): 4.538277511961723,\n",
    " (0.5, 0.6, 0.5): 8.858851674641148,\n",
    " (0.5, 0.6, 0.6): 7.6196172248803835,\n",
    " (0.5, 0.6, 0.7): 6.246411483253588,\n",
    " (0.5, 0.6, 0.8): 4.940191387559809,\n",
    " (0.5, 0.6, 0.85): 4.1028708133971294,\n",
    " (0.5, 0.7, 0.5): 8.172248803827753,\n",
    " (0.5, 0.7, 0.6): 7.033492822966506,\n",
    " (0.5, 0.7, 0.7): 5.794258373205741,\n",
    " (0.5, 0.7, 0.8): 4.488038277511961,\n",
    " (0.5, 0.7, 0.85): 3.767942583732057,\n",
    " (0.5, 0.75, 0.5): 7.70334928229665,\n",
    " (0.5, 0.75, 0.6): 6.681818181818182,\n",
    " (0.5, 0.75, 0.7): 5.509569377990431,\n",
    " (0.5, 0.75, 0.8): 4.287081339712919,\n",
    " (0.5, 0.75, 0.85): 3.5669856459330145,\n",
    " (0.6, 0.5, 0.5): 7.569377990430622,\n",
    " (0.6, 0.5, 0.6): 6.514354066985646,\n",
    " (0.6, 0.5, 0.7): 5.342105263157895,\n",
    " (0.6, 0.5, 0.8): 4.287081339712919,\n",
    " (0.6, 0.5, 0.85): 3.583732057416268,\n",
    " (0.6, 0.6, 0.5): 7.033492822966506,\n",
    " (0.6, 0.6, 0.6): 6.078947368421053,\n",
    " (0.6, 0.6, 0.7): 4.940191387559809,\n",
    " (0.6, 0.6, 0.8): 3.9856459330143537,\n",
    " (0.6, 0.6, 0.85): 3.299043062200957,\n",
    " (0.6, 0.7, 0.5): 6.464114832535886,\n",
    " (0.6, 0.7, 0.6): 5.626794258373206,\n",
    " (0.6, 0.7, 0.7): 4.57177033492823,\n",
    " (0.6, 0.7, 0.8): 3.6339712918660285,\n",
    " (0.6, 0.7, 0.85): 3.047846889952153,\n",
    " (0.6, 0.75, 0.5): 6.078947368421053,\n",
    " (0.6, 0.75, 0.6): 5.342105263157895,\n",
    " (0.6, 0.75, 0.7): 4.337320574162679,\n",
    " (0.6, 0.75, 0.8): 3.4665071770334928,\n",
    " (0.6, 0.75, 0.85): 2.8971291866028706,\n",
    " (0.7, 0.5, 0.5): 6.062200956937799,\n",
    " (0.7, 0.5, 0.6): 5.291866028708133,\n",
    " (0.7, 0.5, 0.7): 4.169856459330144,\n",
    " (0.7, 0.5, 0.8): 3.148325358851675,\n",
    " (0.7, 0.5, 0.85): 2.6459330143540667,\n",
    " (0.7, 0.6, 0.5): 5.64354066985646,\n",
    " (0.7, 0.6, 0.6): 4.973684210526316,\n",
    " (0.7, 0.6, 0.7): 3.851674641148325,\n",
    " (0.7, 0.6, 0.8): 2.8971291866028706,\n",
    " (0.7, 0.6, 0.85): 2.4449760765550237,\n",
    " (0.7, 0.7, 0.5): 5.124401913875598,\n",
    " (0.7, 0.7, 0.6): 4.555023923444976,\n",
    " (0.7, 0.7, 0.7): 3.5502392344497604,\n",
    " (0.7, 0.7, 0.8): 2.5956937799043063,\n",
    " (0.7, 0.7, 0.85): 2.227272727272727,\n",
    " (0.7, 0.75, 0.5): 4.80622009569378,\n",
    " (0.7, 0.75, 0.6): 4.337320574162679,\n",
    " (0.7, 0.75, 0.7): 3.3660287081339715,\n",
    " (0.7, 0.75, 0.8): 2.4952153110047846,\n",
    " (0.7, 0.75, 0.85): 2.126794258373206,\n",
    " (0.8, 0.5, 0.5): 4.035885167464114,\n",
    " (0.8, 0.5, 0.6): 3.5334928229665072,\n",
    " (0.8, 0.5, 0.7): 2.8636363636363638,\n",
    " (0.8, 0.5, 0.8): 2.0933014354066986,\n",
    " (0.8, 0.5, 0.85): 1.825358851674641,\n",
    " (0.8, 0.6, 0.5): 3.8014354066985647,\n",
    " (0.8, 0.6, 0.6): 3.332535885167464,\n",
    " (0.8, 0.6, 0.7): 2.6291866028708135,\n",
    " (0.8, 0.6, 0.8): 1.9258373205741626,\n",
    " (0.8, 0.6, 0.85): 1.674641148325359,\n",
    " (0.8, 0.7, 0.5): 3.416267942583732,\n",
    " (0.8, 0.7, 0.6): 3.0143540669856463,\n",
    " (0.8, 0.7, 0.7): 2.4449760765550237,\n",
    " (0.8, 0.7, 0.8): 1.7751196172248802,\n",
    " (0.8, 0.7, 0.85): 1.5406698564593302,\n",
    " (0.8, 0.75, 0.5): 3.1985645933014353,\n",
    " (0.8, 0.75, 0.6): 2.84688995215311,\n",
    " (0.8, 0.75, 0.7): 2.327751196172249,\n",
    " (0.8, 0.75, 0.8): 1.708133971291866,\n",
    " (0.8, 0.75, 0.85): 1.4569377990430623,\n",
    " (0.9, 0.5, 0.5): 1.8086124401913877,\n",
    " (0.9, 0.5, 0.6): 1.4401913875598085,\n",
    " (0.9, 0.5, 0.7): 1.055023923444976,\n",
    " (0.9, 0.5, 0.8): 0.6196172248803828,\n",
    " (0.9, 0.5, 0.85): 0.5191387559808612,\n",
    " (0.9, 0.6, 0.5): 1.708133971291866,\n",
    " (0.9, 0.6, 0.6): 1.4066985645933014,\n",
    " (0.9, 0.6, 0.7): 1.0047846889952152,\n",
    " (0.9, 0.6, 0.8): 0.5861244019138756,\n",
    " (0.9, 0.6, 0.85): 0.4856459330143541,\n",
    " (0.9, 0.7, 0.5): 1.5239234449760766,\n",
    " (0.9, 0.7, 0.6): 1.2727272727272727,\n",
    " (0.9, 0.7, 0.7): 0.9210526315789473,\n",
    " (0.9, 0.7, 0.8): 0.5023923444976076,\n",
    " (0.9, 0.7, 0.85): 0.4354066985645933,\n",
    " (0.9, 0.75, 0.5): 1.3732057416267942,\n",
    " (0.9, 0.75, 0.6): 1.1555023923444976,\n",
    " (0.9, 0.75, 0.7): 0.8205741626794258,\n",
    " (0.9, 0.75, 0.8): 0.4521531100478469,\n",
    " (0.9, 0.75, 0.85): 0.3684210526315789}"
   ]
  },
  {
   "cell_type": "code",
   "execution_count": 192,
   "metadata": {},
   "outputs": [],
   "source": [
    "import pandas as pd"
   ]
  },
  {
   "cell_type": "code",
   "execution_count": 211,
   "metadata": {},
   "outputs": [],
   "source": [
    "df = pd.DataFrame([], columns=['exp', 'p_audio', 'p_raising', 'p_raised', 'FA'])"
   ]
  },
  {
   "cell_type": "code",
   "execution_count": 212,
   "metadata": {},
   "outputs": [],
   "source": [
    "i = 1\n",
    "for k, v in data.items():\n",
    "    row = pd.DataFrame([[i, k[0], k[1], k[2], v]], columns=['exp', 'p_audio', 'p_raising', 'p_raised', 'FA'])\n",
    "    df = df.append(row)        \n",
    "    i += 1"
   ]
  },
  {
   "cell_type": "code",
   "execution_count": 214,
   "metadata": {
    "scrolled": true
   },
   "outputs": [
    {
     "data": {
      "text/html": [
       "<div>\n",
       "<style scoped>\n",
       "    .dataframe tbody tr th:only-of-type {\n",
       "        vertical-align: middle;\n",
       "    }\n",
       "\n",
       "    .dataframe tbody tr th {\n",
       "        vertical-align: top;\n",
       "    }\n",
       "\n",
       "    .dataframe thead th {\n",
       "        text-align: right;\n",
       "    }\n",
       "</style>\n",
       "<table border=\"1\" class=\"dataframe\">\n",
       "  <thead>\n",
       "    <tr style=\"text-align: right;\">\n",
       "      <th></th>\n",
       "      <th>exp</th>\n",
       "      <th>p_audio</th>\n",
       "      <th>p_raising</th>\n",
       "      <th>p_raised</th>\n",
       "      <th>FA</th>\n",
       "    </tr>\n",
       "  </thead>\n",
       "  <tbody>\n",
       "    <tr>\n",
       "      <th>0</th>\n",
       "      <td>1</td>\n",
       "      <td>0.5</td>\n",
       "      <td>0.50</td>\n",
       "      <td>0.50</td>\n",
       "      <td>9.595694</td>\n",
       "    </tr>\n",
       "    <tr>\n",
       "      <th>0</th>\n",
       "      <td>2</td>\n",
       "      <td>0.5</td>\n",
       "      <td>0.50</td>\n",
       "      <td>0.60</td>\n",
       "      <td>8.222488</td>\n",
       "    </tr>\n",
       "    <tr>\n",
       "      <th>0</th>\n",
       "      <td>3</td>\n",
       "      <td>0.5</td>\n",
       "      <td>0.50</td>\n",
       "      <td>0.70</td>\n",
       "      <td>6.799043</td>\n",
       "    </tr>\n",
       "    <tr>\n",
       "      <th>0</th>\n",
       "      <td>4</td>\n",
       "      <td>0.5</td>\n",
       "      <td>0.50</td>\n",
       "      <td>0.80</td>\n",
       "      <td>5.375598</td>\n",
       "    </tr>\n",
       "    <tr>\n",
       "      <th>0</th>\n",
       "      <td>5</td>\n",
       "      <td>0.5</td>\n",
       "      <td>0.50</td>\n",
       "      <td>0.85</td>\n",
       "      <td>4.538278</td>\n",
       "    </tr>\n",
       "    <tr>\n",
       "      <th>0</th>\n",
       "      <td>6</td>\n",
       "      <td>0.5</td>\n",
       "      <td>0.60</td>\n",
       "      <td>0.50</td>\n",
       "      <td>8.858852</td>\n",
       "    </tr>\n",
       "    <tr>\n",
       "      <th>0</th>\n",
       "      <td>7</td>\n",
       "      <td>0.5</td>\n",
       "      <td>0.60</td>\n",
       "      <td>0.60</td>\n",
       "      <td>7.619617</td>\n",
       "    </tr>\n",
       "    <tr>\n",
       "      <th>0</th>\n",
       "      <td>8</td>\n",
       "      <td>0.5</td>\n",
       "      <td>0.60</td>\n",
       "      <td>0.70</td>\n",
       "      <td>6.246411</td>\n",
       "    </tr>\n",
       "    <tr>\n",
       "      <th>0</th>\n",
       "      <td>9</td>\n",
       "      <td>0.5</td>\n",
       "      <td>0.60</td>\n",
       "      <td>0.80</td>\n",
       "      <td>4.940191</td>\n",
       "    </tr>\n",
       "    <tr>\n",
       "      <th>0</th>\n",
       "      <td>10</td>\n",
       "      <td>0.5</td>\n",
       "      <td>0.60</td>\n",
       "      <td>0.85</td>\n",
       "      <td>4.102871</td>\n",
       "    </tr>\n",
       "    <tr>\n",
       "      <th>0</th>\n",
       "      <td>11</td>\n",
       "      <td>0.5</td>\n",
       "      <td>0.70</td>\n",
       "      <td>0.50</td>\n",
       "      <td>8.172249</td>\n",
       "    </tr>\n",
       "    <tr>\n",
       "      <th>0</th>\n",
       "      <td>12</td>\n",
       "      <td>0.5</td>\n",
       "      <td>0.70</td>\n",
       "      <td>0.60</td>\n",
       "      <td>7.033493</td>\n",
       "    </tr>\n",
       "    <tr>\n",
       "      <th>0</th>\n",
       "      <td>13</td>\n",
       "      <td>0.5</td>\n",
       "      <td>0.70</td>\n",
       "      <td>0.70</td>\n",
       "      <td>5.794258</td>\n",
       "    </tr>\n",
       "    <tr>\n",
       "      <th>0</th>\n",
       "      <td>14</td>\n",
       "      <td>0.5</td>\n",
       "      <td>0.70</td>\n",
       "      <td>0.80</td>\n",
       "      <td>4.488038</td>\n",
       "    </tr>\n",
       "    <tr>\n",
       "      <th>0</th>\n",
       "      <td>15</td>\n",
       "      <td>0.5</td>\n",
       "      <td>0.70</td>\n",
       "      <td>0.85</td>\n",
       "      <td>3.767943</td>\n",
       "    </tr>\n",
       "    <tr>\n",
       "      <th>0</th>\n",
       "      <td>16</td>\n",
       "      <td>0.5</td>\n",
       "      <td>0.75</td>\n",
       "      <td>0.50</td>\n",
       "      <td>7.703349</td>\n",
       "    </tr>\n",
       "    <tr>\n",
       "      <th>0</th>\n",
       "      <td>17</td>\n",
       "      <td>0.5</td>\n",
       "      <td>0.75</td>\n",
       "      <td>0.60</td>\n",
       "      <td>6.681818</td>\n",
       "    </tr>\n",
       "    <tr>\n",
       "      <th>0</th>\n",
       "      <td>18</td>\n",
       "      <td>0.5</td>\n",
       "      <td>0.75</td>\n",
       "      <td>0.70</td>\n",
       "      <td>5.509569</td>\n",
       "    </tr>\n",
       "    <tr>\n",
       "      <th>0</th>\n",
       "      <td>19</td>\n",
       "      <td>0.5</td>\n",
       "      <td>0.75</td>\n",
       "      <td>0.80</td>\n",
       "      <td>4.287081</td>\n",
       "    </tr>\n",
       "    <tr>\n",
       "      <th>0</th>\n",
       "      <td>20</td>\n",
       "      <td>0.5</td>\n",
       "      <td>0.75</td>\n",
       "      <td>0.85</td>\n",
       "      <td>3.566986</td>\n",
       "    </tr>\n",
       "    <tr>\n",
       "      <th>0</th>\n",
       "      <td>21</td>\n",
       "      <td>0.6</td>\n",
       "      <td>0.50</td>\n",
       "      <td>0.50</td>\n",
       "      <td>7.569378</td>\n",
       "    </tr>\n",
       "    <tr>\n",
       "      <th>0</th>\n",
       "      <td>22</td>\n",
       "      <td>0.6</td>\n",
       "      <td>0.50</td>\n",
       "      <td>0.60</td>\n",
       "      <td>6.514354</td>\n",
       "    </tr>\n",
       "    <tr>\n",
       "      <th>0</th>\n",
       "      <td>23</td>\n",
       "      <td>0.6</td>\n",
       "      <td>0.50</td>\n",
       "      <td>0.70</td>\n",
       "      <td>5.342105</td>\n",
       "    </tr>\n",
       "    <tr>\n",
       "      <th>0</th>\n",
       "      <td>24</td>\n",
       "      <td>0.6</td>\n",
       "      <td>0.50</td>\n",
       "      <td>0.80</td>\n",
       "      <td>4.287081</td>\n",
       "    </tr>\n",
       "    <tr>\n",
       "      <th>0</th>\n",
       "      <td>25</td>\n",
       "      <td>0.6</td>\n",
       "      <td>0.50</td>\n",
       "      <td>0.85</td>\n",
       "      <td>3.583732</td>\n",
       "    </tr>\n",
       "    <tr>\n",
       "      <th>0</th>\n",
       "      <td>26</td>\n",
       "      <td>0.6</td>\n",
       "      <td>0.60</td>\n",
       "      <td>0.50</td>\n",
       "      <td>7.033493</td>\n",
       "    </tr>\n",
       "    <tr>\n",
       "      <th>0</th>\n",
       "      <td>27</td>\n",
       "      <td>0.6</td>\n",
       "      <td>0.60</td>\n",
       "      <td>0.60</td>\n",
       "      <td>6.078947</td>\n",
       "    </tr>\n",
       "    <tr>\n",
       "      <th>0</th>\n",
       "      <td>28</td>\n",
       "      <td>0.6</td>\n",
       "      <td>0.60</td>\n",
       "      <td>0.70</td>\n",
       "      <td>4.940191</td>\n",
       "    </tr>\n",
       "    <tr>\n",
       "      <th>0</th>\n",
       "      <td>29</td>\n",
       "      <td>0.6</td>\n",
       "      <td>0.60</td>\n",
       "      <td>0.80</td>\n",
       "      <td>3.985646</td>\n",
       "    </tr>\n",
       "    <tr>\n",
       "      <th>0</th>\n",
       "      <td>30</td>\n",
       "      <td>0.6</td>\n",
       "      <td>0.60</td>\n",
       "      <td>0.85</td>\n",
       "      <td>3.299043</td>\n",
       "    </tr>\n",
       "    <tr>\n",
       "      <th>...</th>\n",
       "      <td>...</td>\n",
       "      <td>...</td>\n",
       "      <td>...</td>\n",
       "      <td>...</td>\n",
       "      <td>...</td>\n",
       "    </tr>\n",
       "    <tr>\n",
       "      <th>0</th>\n",
       "      <td>71</td>\n",
       "      <td>0.8</td>\n",
       "      <td>0.70</td>\n",
       "      <td>0.50</td>\n",
       "      <td>3.416268</td>\n",
       "    </tr>\n",
       "    <tr>\n",
       "      <th>0</th>\n",
       "      <td>72</td>\n",
       "      <td>0.8</td>\n",
       "      <td>0.70</td>\n",
       "      <td>0.60</td>\n",
       "      <td>3.014354</td>\n",
       "    </tr>\n",
       "    <tr>\n",
       "      <th>0</th>\n",
       "      <td>73</td>\n",
       "      <td>0.8</td>\n",
       "      <td>0.70</td>\n",
       "      <td>0.70</td>\n",
       "      <td>2.444976</td>\n",
       "    </tr>\n",
       "    <tr>\n",
       "      <th>0</th>\n",
       "      <td>74</td>\n",
       "      <td>0.8</td>\n",
       "      <td>0.70</td>\n",
       "      <td>0.80</td>\n",
       "      <td>1.775120</td>\n",
       "    </tr>\n",
       "    <tr>\n",
       "      <th>0</th>\n",
       "      <td>75</td>\n",
       "      <td>0.8</td>\n",
       "      <td>0.70</td>\n",
       "      <td>0.85</td>\n",
       "      <td>1.540670</td>\n",
       "    </tr>\n",
       "    <tr>\n",
       "      <th>0</th>\n",
       "      <td>76</td>\n",
       "      <td>0.8</td>\n",
       "      <td>0.75</td>\n",
       "      <td>0.50</td>\n",
       "      <td>3.198565</td>\n",
       "    </tr>\n",
       "    <tr>\n",
       "      <th>0</th>\n",
       "      <td>77</td>\n",
       "      <td>0.8</td>\n",
       "      <td>0.75</td>\n",
       "      <td>0.60</td>\n",
       "      <td>2.846890</td>\n",
       "    </tr>\n",
       "    <tr>\n",
       "      <th>0</th>\n",
       "      <td>78</td>\n",
       "      <td>0.8</td>\n",
       "      <td>0.75</td>\n",
       "      <td>0.70</td>\n",
       "      <td>2.327751</td>\n",
       "    </tr>\n",
       "    <tr>\n",
       "      <th>0</th>\n",
       "      <td>79</td>\n",
       "      <td>0.8</td>\n",
       "      <td>0.75</td>\n",
       "      <td>0.80</td>\n",
       "      <td>1.708134</td>\n",
       "    </tr>\n",
       "    <tr>\n",
       "      <th>0</th>\n",
       "      <td>80</td>\n",
       "      <td>0.8</td>\n",
       "      <td>0.75</td>\n",
       "      <td>0.85</td>\n",
       "      <td>1.456938</td>\n",
       "    </tr>\n",
       "    <tr>\n",
       "      <th>0</th>\n",
       "      <td>81</td>\n",
       "      <td>0.9</td>\n",
       "      <td>0.50</td>\n",
       "      <td>0.50</td>\n",
       "      <td>1.808612</td>\n",
       "    </tr>\n",
       "    <tr>\n",
       "      <th>0</th>\n",
       "      <td>82</td>\n",
       "      <td>0.9</td>\n",
       "      <td>0.50</td>\n",
       "      <td>0.60</td>\n",
       "      <td>1.440191</td>\n",
       "    </tr>\n",
       "    <tr>\n",
       "      <th>0</th>\n",
       "      <td>83</td>\n",
       "      <td>0.9</td>\n",
       "      <td>0.50</td>\n",
       "      <td>0.70</td>\n",
       "      <td>1.055024</td>\n",
       "    </tr>\n",
       "    <tr>\n",
       "      <th>0</th>\n",
       "      <td>84</td>\n",
       "      <td>0.9</td>\n",
       "      <td>0.50</td>\n",
       "      <td>0.80</td>\n",
       "      <td>0.619617</td>\n",
       "    </tr>\n",
       "    <tr>\n",
       "      <th>0</th>\n",
       "      <td>85</td>\n",
       "      <td>0.9</td>\n",
       "      <td>0.50</td>\n",
       "      <td>0.85</td>\n",
       "      <td>0.519139</td>\n",
       "    </tr>\n",
       "    <tr>\n",
       "      <th>0</th>\n",
       "      <td>86</td>\n",
       "      <td>0.9</td>\n",
       "      <td>0.60</td>\n",
       "      <td>0.50</td>\n",
       "      <td>1.708134</td>\n",
       "    </tr>\n",
       "    <tr>\n",
       "      <th>0</th>\n",
       "      <td>87</td>\n",
       "      <td>0.9</td>\n",
       "      <td>0.60</td>\n",
       "      <td>0.60</td>\n",
       "      <td>1.406699</td>\n",
       "    </tr>\n",
       "    <tr>\n",
       "      <th>0</th>\n",
       "      <td>88</td>\n",
       "      <td>0.9</td>\n",
       "      <td>0.60</td>\n",
       "      <td>0.70</td>\n",
       "      <td>1.004785</td>\n",
       "    </tr>\n",
       "    <tr>\n",
       "      <th>0</th>\n",
       "      <td>89</td>\n",
       "      <td>0.9</td>\n",
       "      <td>0.60</td>\n",
       "      <td>0.80</td>\n",
       "      <td>0.586124</td>\n",
       "    </tr>\n",
       "    <tr>\n",
       "      <th>0</th>\n",
       "      <td>90</td>\n",
       "      <td>0.9</td>\n",
       "      <td>0.60</td>\n",
       "      <td>0.85</td>\n",
       "      <td>0.485646</td>\n",
       "    </tr>\n",
       "    <tr>\n",
       "      <th>0</th>\n",
       "      <td>91</td>\n",
       "      <td>0.9</td>\n",
       "      <td>0.70</td>\n",
       "      <td>0.50</td>\n",
       "      <td>1.523923</td>\n",
       "    </tr>\n",
       "    <tr>\n",
       "      <th>0</th>\n",
       "      <td>92</td>\n",
       "      <td>0.9</td>\n",
       "      <td>0.70</td>\n",
       "      <td>0.60</td>\n",
       "      <td>1.272727</td>\n",
       "    </tr>\n",
       "    <tr>\n",
       "      <th>0</th>\n",
       "      <td>93</td>\n",
       "      <td>0.9</td>\n",
       "      <td>0.70</td>\n",
       "      <td>0.70</td>\n",
       "      <td>0.921053</td>\n",
       "    </tr>\n",
       "    <tr>\n",
       "      <th>0</th>\n",
       "      <td>94</td>\n",
       "      <td>0.9</td>\n",
       "      <td>0.70</td>\n",
       "      <td>0.80</td>\n",
       "      <td>0.502392</td>\n",
       "    </tr>\n",
       "    <tr>\n",
       "      <th>0</th>\n",
       "      <td>95</td>\n",
       "      <td>0.9</td>\n",
       "      <td>0.70</td>\n",
       "      <td>0.85</td>\n",
       "      <td>0.435407</td>\n",
       "    </tr>\n",
       "    <tr>\n",
       "      <th>0</th>\n",
       "      <td>96</td>\n",
       "      <td>0.9</td>\n",
       "      <td>0.75</td>\n",
       "      <td>0.50</td>\n",
       "      <td>1.373206</td>\n",
       "    </tr>\n",
       "    <tr>\n",
       "      <th>0</th>\n",
       "      <td>97</td>\n",
       "      <td>0.9</td>\n",
       "      <td>0.75</td>\n",
       "      <td>0.60</td>\n",
       "      <td>1.155502</td>\n",
       "    </tr>\n",
       "    <tr>\n",
       "      <th>0</th>\n",
       "      <td>98</td>\n",
       "      <td>0.9</td>\n",
       "      <td>0.75</td>\n",
       "      <td>0.70</td>\n",
       "      <td>0.820574</td>\n",
       "    </tr>\n",
       "    <tr>\n",
       "      <th>0</th>\n",
       "      <td>99</td>\n",
       "      <td>0.9</td>\n",
       "      <td>0.75</td>\n",
       "      <td>0.80</td>\n",
       "      <td>0.452153</td>\n",
       "    </tr>\n",
       "    <tr>\n",
       "      <th>0</th>\n",
       "      <td>100</td>\n",
       "      <td>0.9</td>\n",
       "      <td>0.75</td>\n",
       "      <td>0.85</td>\n",
       "      <td>0.368421</td>\n",
       "    </tr>\n",
       "  </tbody>\n",
       "</table>\n",
       "<p>100 rows × 5 columns</p>\n",
       "</div>"
      ],
      "text/plain": [
       "    exp  p_audio  p_raising  p_raised        FA\n",
       "0     1      0.5       0.50      0.50  9.595694\n",
       "0     2      0.5       0.50      0.60  8.222488\n",
       "0     3      0.5       0.50      0.70  6.799043\n",
       "0     4      0.5       0.50      0.80  5.375598\n",
       "0     5      0.5       0.50      0.85  4.538278\n",
       "0     6      0.5       0.60      0.50  8.858852\n",
       "0     7      0.5       0.60      0.60  7.619617\n",
       "0     8      0.5       0.60      0.70  6.246411\n",
       "0     9      0.5       0.60      0.80  4.940191\n",
       "0    10      0.5       0.60      0.85  4.102871\n",
       "0    11      0.5       0.70      0.50  8.172249\n",
       "0    12      0.5       0.70      0.60  7.033493\n",
       "0    13      0.5       0.70      0.70  5.794258\n",
       "0    14      0.5       0.70      0.80  4.488038\n",
       "0    15      0.5       0.70      0.85  3.767943\n",
       "0    16      0.5       0.75      0.50  7.703349\n",
       "0    17      0.5       0.75      0.60  6.681818\n",
       "0    18      0.5       0.75      0.70  5.509569\n",
       "0    19      0.5       0.75      0.80  4.287081\n",
       "0    20      0.5       0.75      0.85  3.566986\n",
       "0    21      0.6       0.50      0.50  7.569378\n",
       "0    22      0.6       0.50      0.60  6.514354\n",
       "0    23      0.6       0.50      0.70  5.342105\n",
       "0    24      0.6       0.50      0.80  4.287081\n",
       "0    25      0.6       0.50      0.85  3.583732\n",
       "0    26      0.6       0.60      0.50  7.033493\n",
       "0    27      0.6       0.60      0.60  6.078947\n",
       "0    28      0.6       0.60      0.70  4.940191\n",
       "0    29      0.6       0.60      0.80  3.985646\n",
       "0    30      0.6       0.60      0.85  3.299043\n",
       "..  ...      ...        ...       ...       ...\n",
       "0    71      0.8       0.70      0.50  3.416268\n",
       "0    72      0.8       0.70      0.60  3.014354\n",
       "0    73      0.8       0.70      0.70  2.444976\n",
       "0    74      0.8       0.70      0.80  1.775120\n",
       "0    75      0.8       0.70      0.85  1.540670\n",
       "0    76      0.8       0.75      0.50  3.198565\n",
       "0    77      0.8       0.75      0.60  2.846890\n",
       "0    78      0.8       0.75      0.70  2.327751\n",
       "0    79      0.8       0.75      0.80  1.708134\n",
       "0    80      0.8       0.75      0.85  1.456938\n",
       "0    81      0.9       0.50      0.50  1.808612\n",
       "0    82      0.9       0.50      0.60  1.440191\n",
       "0    83      0.9       0.50      0.70  1.055024\n",
       "0    84      0.9       0.50      0.80  0.619617\n",
       "0    85      0.9       0.50      0.85  0.519139\n",
       "0    86      0.9       0.60      0.50  1.708134\n",
       "0    87      0.9       0.60      0.60  1.406699\n",
       "0    88      0.9       0.60      0.70  1.004785\n",
       "0    89      0.9       0.60      0.80  0.586124\n",
       "0    90      0.9       0.60      0.85  0.485646\n",
       "0    91      0.9       0.70      0.50  1.523923\n",
       "0    92      0.9       0.70      0.60  1.272727\n",
       "0    93      0.9       0.70      0.70  0.921053\n",
       "0    94      0.9       0.70      0.80  0.502392\n",
       "0    95      0.9       0.70      0.85  0.435407\n",
       "0    96      0.9       0.75      0.50  1.373206\n",
       "0    97      0.9       0.75      0.60  1.155502\n",
       "0    98      0.9       0.75      0.70  0.820574\n",
       "0    99      0.9       0.75      0.80  0.452153\n",
       "0   100      0.9       0.75      0.85  0.368421\n",
       "\n",
       "[100 rows x 5 columns]"
      ]
     },
     "execution_count": 214,
     "metadata": {},
     "output_type": "execute_result"
    }
   ],
   "source": [
    "df"
   ]
  },
  {
   "cell_type": "code",
   "execution_count": 227,
   "metadata": {},
   "outputs": [
    {
     "data": {
      "application/vnd.plotly.v1+json": {
       "config": {
        "plotlyServerURL": "https://plot.ly"
       },
       "data": [
        {
         "customdata": [
          [
           0.5,
           0.5,
           0.5
          ],
          [
           0.5,
           0.5,
           0.6
          ],
          [
           0.5,
           0.5,
           0.7
          ],
          [
           0.5,
           0.5,
           0.8
          ],
          [
           0.5,
           0.5,
           0.85
          ],
          [
           0.5,
           0.6,
           0.5
          ],
          [
           0.5,
           0.6,
           0.6
          ],
          [
           0.5,
           0.6,
           0.7
          ],
          [
           0.5,
           0.6,
           0.8
          ],
          [
           0.5,
           0.6,
           0.85
          ],
          [
           0.5,
           0.7,
           0.5
          ],
          [
           0.5,
           0.7,
           0.6
          ],
          [
           0.5,
           0.7,
           0.7
          ],
          [
           0.5,
           0.7,
           0.8
          ],
          [
           0.5,
           0.7,
           0.85
          ],
          [
           0.5,
           0.75,
           0.5
          ],
          [
           0.5,
           0.75,
           0.6
          ],
          [
           0.5,
           0.75,
           0.7
          ],
          [
           0.5,
           0.75,
           0.8
          ],
          [
           0.5,
           0.75,
           0.85
          ],
          [
           0.6,
           0.5,
           0.5
          ],
          [
           0.6,
           0.5,
           0.6
          ],
          [
           0.6,
           0.5,
           0.7
          ],
          [
           0.6,
           0.5,
           0.8
          ],
          [
           0.6,
           0.5,
           0.85
          ],
          [
           0.6,
           0.6,
           0.5
          ],
          [
           0.6,
           0.6,
           0.6
          ],
          [
           0.6,
           0.6,
           0.7
          ],
          [
           0.6,
           0.6,
           0.8
          ],
          [
           0.6,
           0.6,
           0.85
          ],
          [
           0.6,
           0.7,
           0.5
          ],
          [
           0.6,
           0.7,
           0.6
          ],
          [
           0.6,
           0.7,
           0.7
          ],
          [
           0.6,
           0.7,
           0.8
          ],
          [
           0.6,
           0.7,
           0.85
          ],
          [
           0.6,
           0.75,
           0.5
          ],
          [
           0.6,
           0.75,
           0.6
          ],
          [
           0.6,
           0.75,
           0.7
          ],
          [
           0.6,
           0.75,
           0.8
          ],
          [
           0.6,
           0.75,
           0.85
          ],
          [
           0.7,
           0.5,
           0.5
          ],
          [
           0.7,
           0.5,
           0.6
          ],
          [
           0.7,
           0.5,
           0.7
          ],
          [
           0.7,
           0.5,
           0.8
          ],
          [
           0.7,
           0.5,
           0.85
          ],
          [
           0.7,
           0.6,
           0.5
          ],
          [
           0.7,
           0.6,
           0.6
          ],
          [
           0.7,
           0.6,
           0.7
          ],
          [
           0.7,
           0.6,
           0.8
          ],
          [
           0.7,
           0.6,
           0.85
          ],
          [
           0.7,
           0.7,
           0.5
          ],
          [
           0.7,
           0.7,
           0.6
          ],
          [
           0.7,
           0.7,
           0.7
          ],
          [
           0.7,
           0.7,
           0.8
          ],
          [
           0.7,
           0.7,
           0.85
          ],
          [
           0.7,
           0.75,
           0.5
          ],
          [
           0.7,
           0.75,
           0.6
          ],
          [
           0.7,
           0.75,
           0.7
          ],
          [
           0.7,
           0.75,
           0.8
          ],
          [
           0.7,
           0.75,
           0.85
          ],
          [
           0.8,
           0.5,
           0.5
          ],
          [
           0.8,
           0.5,
           0.6
          ],
          [
           0.8,
           0.5,
           0.7
          ],
          [
           0.8,
           0.5,
           0.8
          ],
          [
           0.8,
           0.5,
           0.85
          ],
          [
           0.8,
           0.6,
           0.5
          ],
          [
           0.8,
           0.6,
           0.6
          ],
          [
           0.8,
           0.6,
           0.7
          ],
          [
           0.8,
           0.6,
           0.8
          ],
          [
           0.8,
           0.6,
           0.85
          ],
          [
           0.8,
           0.7,
           0.5
          ],
          [
           0.8,
           0.7,
           0.6
          ],
          [
           0.8,
           0.7,
           0.7
          ],
          [
           0.8,
           0.7,
           0.8
          ],
          [
           0.8,
           0.7,
           0.85
          ],
          [
           0.8,
           0.75,
           0.5
          ],
          [
           0.8,
           0.75,
           0.6
          ],
          [
           0.8,
           0.75,
           0.7
          ],
          [
           0.8,
           0.75,
           0.8
          ],
          [
           0.8,
           0.75,
           0.85
          ],
          [
           0.9,
           0.5,
           0.5
          ],
          [
           0.9,
           0.5,
           0.6
          ],
          [
           0.9,
           0.5,
           0.7
          ],
          [
           0.9,
           0.5,
           0.8
          ],
          [
           0.9,
           0.5,
           0.85
          ],
          [
           0.9,
           0.6,
           0.5
          ],
          [
           0.9,
           0.6,
           0.6
          ],
          [
           0.9,
           0.6,
           0.7
          ],
          [
           0.9,
           0.6,
           0.8
          ],
          [
           0.9,
           0.6,
           0.85
          ],
          [
           0.9,
           0.7,
           0.5
          ],
          [
           0.9,
           0.7,
           0.6
          ],
          [
           0.9,
           0.7,
           0.7
          ],
          [
           0.9,
           0.7,
           0.8
          ],
          [
           0.9,
           0.7,
           0.85
          ],
          [
           0.9,
           0.75,
           0.5
          ],
          [
           0.9,
           0.75,
           0.6
          ],
          [
           0.9,
           0.75,
           0.7
          ],
          [
           0.9,
           0.75,
           0.8
          ],
          [
           0.9,
           0.75,
           0.85
          ]
         ],
         "hoverlabel": {
          "namelength": 0
         },
         "hovertemplate": "exp=%{x}<br>FA=%{y}<br>p_audio=%{marker.color}<br>p_raising=%{customdata[1]}<br>p_raised=%{customdata[2]}",
         "legendgroup": "",
         "marker": {
          "color": [
           0.5,
           0.5,
           0.5,
           0.5,
           0.5,
           0.5,
           0.5,
           0.5,
           0.5,
           0.5,
           0.5,
           0.5,
           0.5,
           0.5,
           0.5,
           0.5,
           0.5,
           0.5,
           0.5,
           0.5,
           0.6,
           0.6,
           0.6,
           0.6,
           0.6,
           0.6,
           0.6,
           0.6,
           0.6,
           0.6,
           0.6,
           0.6,
           0.6,
           0.6,
           0.6,
           0.6,
           0.6,
           0.6,
           0.6,
           0.6,
           0.7,
           0.7,
           0.7,
           0.7,
           0.7,
           0.7,
           0.7,
           0.7,
           0.7,
           0.7,
           0.7,
           0.7,
           0.7,
           0.7,
           0.7,
           0.7,
           0.7,
           0.7,
           0.7,
           0.7,
           0.8,
           0.8,
           0.8,
           0.8,
           0.8,
           0.8,
           0.8,
           0.8,
           0.8,
           0.8,
           0.8,
           0.8,
           0.8,
           0.8,
           0.8,
           0.8,
           0.8,
           0.8,
           0.8,
           0.8,
           0.9,
           0.9,
           0.9,
           0.9,
           0.9,
           0.9,
           0.9,
           0.9,
           0.9,
           0.9,
           0.9,
           0.9,
           0.9,
           0.9,
           0.9,
           0.9,
           0.9,
           0.9,
           0.9,
           0.9
          ],
          "coloraxis": "coloraxis",
          "symbol": "circle"
         },
         "mode": "markers",
         "name": "",
         "showlegend": false,
         "type": "scatter",
         "x": [
          1,
          2,
          3,
          4,
          5,
          6,
          7,
          8,
          9,
          10,
          11,
          12,
          13,
          14,
          15,
          16,
          17,
          18,
          19,
          20,
          21,
          22,
          23,
          24,
          25,
          26,
          27,
          28,
          29,
          30,
          31,
          32,
          33,
          34,
          35,
          36,
          37,
          38,
          39,
          40,
          41,
          42,
          43,
          44,
          45,
          46,
          47,
          48,
          49,
          50,
          51,
          52,
          53,
          54,
          55,
          56,
          57,
          58,
          59,
          60,
          61,
          62,
          63,
          64,
          65,
          66,
          67,
          68,
          69,
          70,
          71,
          72,
          73,
          74,
          75,
          76,
          77,
          78,
          79,
          80,
          81,
          82,
          83,
          84,
          85,
          86,
          87,
          88,
          89,
          90,
          91,
          92,
          93,
          94,
          95,
          96,
          97,
          98,
          99,
          100
         ],
         "xaxis": "x",
         "y": [
          9.595693779904307,
          8.222488038277513,
          6.7990430622009566,
          5.375598086124402,
          4.538277511961723,
          8.858851674641148,
          7.6196172248803835,
          6.246411483253588,
          4.940191387559809,
          4.1028708133971294,
          8.172248803827753,
          7.033492822966506,
          5.794258373205741,
          4.488038277511961,
          3.767942583732057,
          7.70334928229665,
          6.681818181818182,
          5.509569377990431,
          4.287081339712919,
          3.5669856459330145,
          7.569377990430622,
          6.514354066985646,
          5.342105263157895,
          4.287081339712919,
          3.583732057416268,
          7.033492822966506,
          6.078947368421053,
          4.940191387559809,
          3.9856459330143537,
          3.299043062200957,
          6.464114832535886,
          5.626794258373206,
          4.57177033492823,
          3.6339712918660285,
          3.047846889952153,
          6.078947368421053,
          5.342105263157895,
          4.337320574162679,
          3.4665071770334928,
          2.8971291866028706,
          6.062200956937799,
          5.291866028708133,
          4.169856459330144,
          3.148325358851675,
          2.6459330143540667,
          5.64354066985646,
          4.973684210526316,
          3.851674641148325,
          2.8971291866028706,
          2.4449760765550237,
          5.124401913875598,
          4.555023923444976,
          3.5502392344497604,
          2.5956937799043063,
          2.227272727272727,
          4.80622009569378,
          4.337320574162679,
          3.3660287081339715,
          2.4952153110047846,
          2.126794258373206,
          4.035885167464114,
          3.5334928229665072,
          2.8636363636363638,
          2.0933014354066986,
          1.825358851674641,
          3.8014354066985647,
          3.332535885167464,
          2.6291866028708135,
          1.9258373205741626,
          1.674641148325359,
          3.416267942583732,
          3.0143540669856463,
          2.4449760765550237,
          1.7751196172248802,
          1.5406698564593302,
          3.1985645933014353,
          2.84688995215311,
          2.327751196172249,
          1.708133971291866,
          1.4569377990430623,
          1.8086124401913877,
          1.4401913875598085,
          1.055023923444976,
          0.6196172248803828,
          0.5191387559808612,
          1.708133971291866,
          1.4066985645933014,
          1.0047846889952152,
          0.5861244019138756,
          0.4856459330143541,
          1.5239234449760766,
          1.2727272727272727,
          0.9210526315789473,
          0.5023923444976076,
          0.4354066985645933,
          1.3732057416267942,
          1.1555023923444976,
          0.8205741626794258,
          0.4521531100478469,
          0.3684210526315789
         ],
         "yaxis": "y"
        }
       ],
       "layout": {
        "coloraxis": {
         "colorbar": {
          "title": {
           "text": "p_audio"
          }
         },
         "colorscale": [
          [
           0,
           "#0d0887"
          ],
          [
           0.1111111111111111,
           "#46039f"
          ],
          [
           0.2222222222222222,
           "#7201a8"
          ],
          [
           0.3333333333333333,
           "#9c179e"
          ],
          [
           0.4444444444444444,
           "#bd3786"
          ],
          [
           0.5555555555555556,
           "#d8576b"
          ],
          [
           0.6666666666666666,
           "#ed7953"
          ],
          [
           0.7777777777777778,
           "#fb9f3a"
          ],
          [
           0.8888888888888888,
           "#fdca26"
          ],
          [
           1,
           "#f0f921"
          ]
         ]
        },
        "height": 600,
        "legend": {
         "tracegroupgap": 0
        },
        "margin": {
         "t": 60
        },
        "template": {
         "data": {
          "bar": [
           {
            "error_x": {
             "color": "#2a3f5f"
            },
            "error_y": {
             "color": "#2a3f5f"
            },
            "marker": {
             "line": {
              "color": "#E5ECF6",
              "width": 0.5
             }
            },
            "type": "bar"
           }
          ],
          "barpolar": [
           {
            "marker": {
             "line": {
              "color": "#E5ECF6",
              "width": 0.5
             }
            },
            "type": "barpolar"
           }
          ],
          "carpet": [
           {
            "aaxis": {
             "endlinecolor": "#2a3f5f",
             "gridcolor": "white",
             "linecolor": "white",
             "minorgridcolor": "white",
             "startlinecolor": "#2a3f5f"
            },
            "baxis": {
             "endlinecolor": "#2a3f5f",
             "gridcolor": "white",
             "linecolor": "white",
             "minorgridcolor": "white",
             "startlinecolor": "#2a3f5f"
            },
            "type": "carpet"
           }
          ],
          "choropleth": [
           {
            "colorbar": {
             "outlinewidth": 0,
             "ticks": ""
            },
            "type": "choropleth"
           }
          ],
          "contour": [
           {
            "colorbar": {
             "outlinewidth": 0,
             "ticks": ""
            },
            "colorscale": [
             [
              0,
              "#0d0887"
             ],
             [
              0.1111111111111111,
              "#46039f"
             ],
             [
              0.2222222222222222,
              "#7201a8"
             ],
             [
              0.3333333333333333,
              "#9c179e"
             ],
             [
              0.4444444444444444,
              "#bd3786"
             ],
             [
              0.5555555555555556,
              "#d8576b"
             ],
             [
              0.6666666666666666,
              "#ed7953"
             ],
             [
              0.7777777777777778,
              "#fb9f3a"
             ],
             [
              0.8888888888888888,
              "#fdca26"
             ],
             [
              1,
              "#f0f921"
             ]
            ],
            "type": "contour"
           }
          ],
          "contourcarpet": [
           {
            "colorbar": {
             "outlinewidth": 0,
             "ticks": ""
            },
            "type": "contourcarpet"
           }
          ],
          "heatmap": [
           {
            "colorbar": {
             "outlinewidth": 0,
             "ticks": ""
            },
            "colorscale": [
             [
              0,
              "#0d0887"
             ],
             [
              0.1111111111111111,
              "#46039f"
             ],
             [
              0.2222222222222222,
              "#7201a8"
             ],
             [
              0.3333333333333333,
              "#9c179e"
             ],
             [
              0.4444444444444444,
              "#bd3786"
             ],
             [
              0.5555555555555556,
              "#d8576b"
             ],
             [
              0.6666666666666666,
              "#ed7953"
             ],
             [
              0.7777777777777778,
              "#fb9f3a"
             ],
             [
              0.8888888888888888,
              "#fdca26"
             ],
             [
              1,
              "#f0f921"
             ]
            ],
            "type": "heatmap"
           }
          ],
          "heatmapgl": [
           {
            "colorbar": {
             "outlinewidth": 0,
             "ticks": ""
            },
            "colorscale": [
             [
              0,
              "#0d0887"
             ],
             [
              0.1111111111111111,
              "#46039f"
             ],
             [
              0.2222222222222222,
              "#7201a8"
             ],
             [
              0.3333333333333333,
              "#9c179e"
             ],
             [
              0.4444444444444444,
              "#bd3786"
             ],
             [
              0.5555555555555556,
              "#d8576b"
             ],
             [
              0.6666666666666666,
              "#ed7953"
             ],
             [
              0.7777777777777778,
              "#fb9f3a"
             ],
             [
              0.8888888888888888,
              "#fdca26"
             ],
             [
              1,
              "#f0f921"
             ]
            ],
            "type": "heatmapgl"
           }
          ],
          "histogram": [
           {
            "marker": {
             "colorbar": {
              "outlinewidth": 0,
              "ticks": ""
             }
            },
            "type": "histogram"
           }
          ],
          "histogram2d": [
           {
            "colorbar": {
             "outlinewidth": 0,
             "ticks": ""
            },
            "colorscale": [
             [
              0,
              "#0d0887"
             ],
             [
              0.1111111111111111,
              "#46039f"
             ],
             [
              0.2222222222222222,
              "#7201a8"
             ],
             [
              0.3333333333333333,
              "#9c179e"
             ],
             [
              0.4444444444444444,
              "#bd3786"
             ],
             [
              0.5555555555555556,
              "#d8576b"
             ],
             [
              0.6666666666666666,
              "#ed7953"
             ],
             [
              0.7777777777777778,
              "#fb9f3a"
             ],
             [
              0.8888888888888888,
              "#fdca26"
             ],
             [
              1,
              "#f0f921"
             ]
            ],
            "type": "histogram2d"
           }
          ],
          "histogram2dcontour": [
           {
            "colorbar": {
             "outlinewidth": 0,
             "ticks": ""
            },
            "colorscale": [
             [
              0,
              "#0d0887"
             ],
             [
              0.1111111111111111,
              "#46039f"
             ],
             [
              0.2222222222222222,
              "#7201a8"
             ],
             [
              0.3333333333333333,
              "#9c179e"
             ],
             [
              0.4444444444444444,
              "#bd3786"
             ],
             [
              0.5555555555555556,
              "#d8576b"
             ],
             [
              0.6666666666666666,
              "#ed7953"
             ],
             [
              0.7777777777777778,
              "#fb9f3a"
             ],
             [
              0.8888888888888888,
              "#fdca26"
             ],
             [
              1,
              "#f0f921"
             ]
            ],
            "type": "histogram2dcontour"
           }
          ],
          "mesh3d": [
           {
            "colorbar": {
             "outlinewidth": 0,
             "ticks": ""
            },
            "type": "mesh3d"
           }
          ],
          "parcoords": [
           {
            "line": {
             "colorbar": {
              "outlinewidth": 0,
              "ticks": ""
             }
            },
            "type": "parcoords"
           }
          ],
          "scatter": [
           {
            "marker": {
             "colorbar": {
              "outlinewidth": 0,
              "ticks": ""
             }
            },
            "type": "scatter"
           }
          ],
          "scatter3d": [
           {
            "line": {
             "colorbar": {
              "outlinewidth": 0,
              "ticks": ""
             }
            },
            "marker": {
             "colorbar": {
              "outlinewidth": 0,
              "ticks": ""
             }
            },
            "type": "scatter3d"
           }
          ],
          "scattercarpet": [
           {
            "marker": {
             "colorbar": {
              "outlinewidth": 0,
              "ticks": ""
             }
            },
            "type": "scattercarpet"
           }
          ],
          "scattergeo": [
           {
            "marker": {
             "colorbar": {
              "outlinewidth": 0,
              "ticks": ""
             }
            },
            "type": "scattergeo"
           }
          ],
          "scattergl": [
           {
            "marker": {
             "colorbar": {
              "outlinewidth": 0,
              "ticks": ""
             }
            },
            "type": "scattergl"
           }
          ],
          "scattermapbox": [
           {
            "marker": {
             "colorbar": {
              "outlinewidth": 0,
              "ticks": ""
             }
            },
            "type": "scattermapbox"
           }
          ],
          "scatterpolar": [
           {
            "marker": {
             "colorbar": {
              "outlinewidth": 0,
              "ticks": ""
             }
            },
            "type": "scatterpolar"
           }
          ],
          "scatterpolargl": [
           {
            "marker": {
             "colorbar": {
              "outlinewidth": 0,
              "ticks": ""
             }
            },
            "type": "scatterpolargl"
           }
          ],
          "scatterternary": [
           {
            "marker": {
             "colorbar": {
              "outlinewidth": 0,
              "ticks": ""
             }
            },
            "type": "scatterternary"
           }
          ],
          "surface": [
           {
            "colorbar": {
             "outlinewidth": 0,
             "ticks": ""
            },
            "colorscale": [
             [
              0,
              "#0d0887"
             ],
             [
              0.1111111111111111,
              "#46039f"
             ],
             [
              0.2222222222222222,
              "#7201a8"
             ],
             [
              0.3333333333333333,
              "#9c179e"
             ],
             [
              0.4444444444444444,
              "#bd3786"
             ],
             [
              0.5555555555555556,
              "#d8576b"
             ],
             [
              0.6666666666666666,
              "#ed7953"
             ],
             [
              0.7777777777777778,
              "#fb9f3a"
             ],
             [
              0.8888888888888888,
              "#fdca26"
             ],
             [
              1,
              "#f0f921"
             ]
            ],
            "type": "surface"
           }
          ],
          "table": [
           {
            "cells": {
             "fill": {
              "color": "#EBF0F8"
             },
             "line": {
              "color": "white"
             }
            },
            "header": {
             "fill": {
              "color": "#C8D4E3"
             },
             "line": {
              "color": "white"
             }
            },
            "type": "table"
           }
          ]
         },
         "layout": {
          "annotationdefaults": {
           "arrowcolor": "#2a3f5f",
           "arrowhead": 0,
           "arrowwidth": 1
          },
          "colorscale": {
           "diverging": [
            [
             0,
             "#8e0152"
            ],
            [
             0.1,
             "#c51b7d"
            ],
            [
             0.2,
             "#de77ae"
            ],
            [
             0.3,
             "#f1b6da"
            ],
            [
             0.4,
             "#fde0ef"
            ],
            [
             0.5,
             "#f7f7f7"
            ],
            [
             0.6,
             "#e6f5d0"
            ],
            [
             0.7,
             "#b8e186"
            ],
            [
             0.8,
             "#7fbc41"
            ],
            [
             0.9,
             "#4d9221"
            ],
            [
             1,
             "#276419"
            ]
           ],
           "sequential": [
            [
             0,
             "#0d0887"
            ],
            [
             0.1111111111111111,
             "#46039f"
            ],
            [
             0.2222222222222222,
             "#7201a8"
            ],
            [
             0.3333333333333333,
             "#9c179e"
            ],
            [
             0.4444444444444444,
             "#bd3786"
            ],
            [
             0.5555555555555556,
             "#d8576b"
            ],
            [
             0.6666666666666666,
             "#ed7953"
            ],
            [
             0.7777777777777778,
             "#fb9f3a"
            ],
            [
             0.8888888888888888,
             "#fdca26"
            ],
            [
             1,
             "#f0f921"
            ]
           ],
           "sequentialminus": [
            [
             0,
             "#0d0887"
            ],
            [
             0.1111111111111111,
             "#46039f"
            ],
            [
             0.2222222222222222,
             "#7201a8"
            ],
            [
             0.3333333333333333,
             "#9c179e"
            ],
            [
             0.4444444444444444,
             "#bd3786"
            ],
            [
             0.5555555555555556,
             "#d8576b"
            ],
            [
             0.6666666666666666,
             "#ed7953"
            ],
            [
             0.7777777777777778,
             "#fb9f3a"
            ],
            [
             0.8888888888888888,
             "#fdca26"
            ],
            [
             1,
             "#f0f921"
            ]
           ]
          },
          "colorway": [
           "#636efa",
           "#EF553B",
           "#00cc96",
           "#ab63fa",
           "#FFA15A",
           "#19d3f3",
           "#FF6692",
           "#B6E880",
           "#FF97FF",
           "#FECB52"
          ],
          "font": {
           "color": "#2a3f5f"
          },
          "geo": {
           "bgcolor": "white",
           "lakecolor": "white",
           "landcolor": "#E5ECF6",
           "showlakes": true,
           "showland": true,
           "subunitcolor": "white"
          },
          "hoverlabel": {
           "align": "left"
          },
          "hovermode": "closest",
          "mapbox": {
           "style": "light"
          },
          "paper_bgcolor": "white",
          "plot_bgcolor": "#E5ECF6",
          "polar": {
           "angularaxis": {
            "gridcolor": "white",
            "linecolor": "white",
            "ticks": ""
           },
           "bgcolor": "#E5ECF6",
           "radialaxis": {
            "gridcolor": "white",
            "linecolor": "white",
            "ticks": ""
           }
          },
          "scene": {
           "xaxis": {
            "backgroundcolor": "#E5ECF6",
            "gridcolor": "white",
            "gridwidth": 2,
            "linecolor": "white",
            "showbackground": true,
            "ticks": "",
            "zerolinecolor": "white"
           },
           "yaxis": {
            "backgroundcolor": "#E5ECF6",
            "gridcolor": "white",
            "gridwidth": 2,
            "linecolor": "white",
            "showbackground": true,
            "ticks": "",
            "zerolinecolor": "white"
           },
           "zaxis": {
            "backgroundcolor": "#E5ECF6",
            "gridcolor": "white",
            "gridwidth": 2,
            "linecolor": "white",
            "showbackground": true,
            "ticks": "",
            "zerolinecolor": "white"
           }
          },
          "shapedefaults": {
           "line": {
            "color": "#2a3f5f"
           }
          },
          "ternary": {
           "aaxis": {
            "gridcolor": "white",
            "linecolor": "white",
            "ticks": ""
           },
           "baxis": {
            "gridcolor": "white",
            "linecolor": "white",
            "ticks": ""
           },
           "bgcolor": "#E5ECF6",
           "caxis": {
            "gridcolor": "white",
            "linecolor": "white",
            "ticks": ""
           }
          },
          "title": {
           "x": 0.05
          },
          "xaxis": {
           "automargin": true,
           "gridcolor": "white",
           "linecolor": "white",
           "ticks": "",
           "zerolinecolor": "white",
           "zerolinewidth": 2
          },
          "yaxis": {
           "automargin": true,
           "gridcolor": "white",
           "linecolor": "white",
           "ticks": "",
           "zerolinecolor": "white",
           "zerolinewidth": 2
          }
         }
        },
        "xaxis": {
         "anchor": "y",
         "domain": [
          0,
          0.98
         ],
         "title": {
          "text": "exp"
         }
        },
        "yaxis": {
         "anchor": "x",
         "domain": [
          0,
          1
         ],
         "title": {
          "text": "FA"
         }
        }
       }
      },
      "text/html": [
       "<div>\n",
       "        \n",
       "        \n",
       "            <div id=\"76d74183-10c2-4a89-870f-76d70df89806\" class=\"plotly-graph-div\" style=\"height:600px; width:100%;\"></div>\n",
       "            <script type=\"text/javascript\">\n",
       "                require([\"plotly\"], function(Plotly) {\n",
       "                    window.PLOTLYENV=window.PLOTLYENV || {};\n",
       "                    \n",
       "                if (document.getElementById(\"76d74183-10c2-4a89-870f-76d70df89806\")) {\n",
       "                    Plotly.newPlot(\n",
       "                        '76d74183-10c2-4a89-870f-76d70df89806',\n",
       "                        [{\"customdata\": [[0.5, 0.5, 0.5], [0.5, 0.5, 0.6], [0.5, 0.5, 0.7], [0.5, 0.5, 0.8], [0.5, 0.5, 0.85], [0.5, 0.6, 0.5], [0.5, 0.6, 0.6], [0.5, 0.6, 0.7], [0.5, 0.6, 0.8], [0.5, 0.6, 0.85], [0.5, 0.7, 0.5], [0.5, 0.7, 0.6], [0.5, 0.7, 0.7], [0.5, 0.7, 0.8], [0.5, 0.7, 0.85], [0.5, 0.75, 0.5], [0.5, 0.75, 0.6], [0.5, 0.75, 0.7], [0.5, 0.75, 0.8], [0.5, 0.75, 0.85], [0.6, 0.5, 0.5], [0.6, 0.5, 0.6], [0.6, 0.5, 0.7], [0.6, 0.5, 0.8], [0.6, 0.5, 0.85], [0.6, 0.6, 0.5], [0.6, 0.6, 0.6], [0.6, 0.6, 0.7], [0.6, 0.6, 0.8], [0.6, 0.6, 0.85], [0.6, 0.7, 0.5], [0.6, 0.7, 0.6], [0.6, 0.7, 0.7], [0.6, 0.7, 0.8], [0.6, 0.7, 0.85], [0.6, 0.75, 0.5], [0.6, 0.75, 0.6], [0.6, 0.75, 0.7], [0.6, 0.75, 0.8], [0.6, 0.75, 0.85], [0.7, 0.5, 0.5], [0.7, 0.5, 0.6], [0.7, 0.5, 0.7], [0.7, 0.5, 0.8], [0.7, 0.5, 0.85], [0.7, 0.6, 0.5], [0.7, 0.6, 0.6], [0.7, 0.6, 0.7], [0.7, 0.6, 0.8], [0.7, 0.6, 0.85], [0.7, 0.7, 0.5], [0.7, 0.7, 0.6], [0.7, 0.7, 0.7], [0.7, 0.7, 0.8], [0.7, 0.7, 0.85], [0.7, 0.75, 0.5], [0.7, 0.75, 0.6], [0.7, 0.75, 0.7], [0.7, 0.75, 0.8], [0.7, 0.75, 0.85], [0.8, 0.5, 0.5], [0.8, 0.5, 0.6], [0.8, 0.5, 0.7], [0.8, 0.5, 0.8], [0.8, 0.5, 0.85], [0.8, 0.6, 0.5], [0.8, 0.6, 0.6], [0.8, 0.6, 0.7], [0.8, 0.6, 0.8], [0.8, 0.6, 0.85], [0.8, 0.7, 0.5], [0.8, 0.7, 0.6], [0.8, 0.7, 0.7], [0.8, 0.7, 0.8], [0.8, 0.7, 0.85], [0.8, 0.75, 0.5], [0.8, 0.75, 0.6], [0.8, 0.75, 0.7], [0.8, 0.75, 0.8], [0.8, 0.75, 0.85], [0.9, 0.5, 0.5], [0.9, 0.5, 0.6], [0.9, 0.5, 0.7], [0.9, 0.5, 0.8], [0.9, 0.5, 0.85], [0.9, 0.6, 0.5], [0.9, 0.6, 0.6], [0.9, 0.6, 0.7], [0.9, 0.6, 0.8], [0.9, 0.6, 0.85], [0.9, 0.7, 0.5], [0.9, 0.7, 0.6], [0.9, 0.7, 0.7], [0.9, 0.7, 0.8], [0.9, 0.7, 0.85], [0.9, 0.75, 0.5], [0.9, 0.75, 0.6], [0.9, 0.75, 0.7], [0.9, 0.75, 0.8], [0.9, 0.75, 0.85]], \"hoverlabel\": {\"namelength\": 0}, \"hovertemplate\": \"exp=%{x}<br>FA=%{y}<br>p_audio=%{marker.color}<br>p_raising=%{customdata[1]}<br>p_raised=%{customdata[2]}\", \"legendgroup\": \"\", \"marker\": {\"color\": [0.5, 0.5, 0.5, 0.5, 0.5, 0.5, 0.5, 0.5, 0.5, 0.5, 0.5, 0.5, 0.5, 0.5, 0.5, 0.5, 0.5, 0.5, 0.5, 0.5, 0.6, 0.6, 0.6, 0.6, 0.6, 0.6, 0.6, 0.6, 0.6, 0.6, 0.6, 0.6, 0.6, 0.6, 0.6, 0.6, 0.6, 0.6, 0.6, 0.6, 0.7, 0.7, 0.7, 0.7, 0.7, 0.7, 0.7, 0.7, 0.7, 0.7, 0.7, 0.7, 0.7, 0.7, 0.7, 0.7, 0.7, 0.7, 0.7, 0.7, 0.8, 0.8, 0.8, 0.8, 0.8, 0.8, 0.8, 0.8, 0.8, 0.8, 0.8, 0.8, 0.8, 0.8, 0.8, 0.8, 0.8, 0.8, 0.8, 0.8, 0.9, 0.9, 0.9, 0.9, 0.9, 0.9, 0.9, 0.9, 0.9, 0.9, 0.9, 0.9, 0.9, 0.9, 0.9, 0.9, 0.9, 0.9, 0.9, 0.9], \"coloraxis\": \"coloraxis\", \"symbol\": \"circle\"}, \"mode\": \"markers\", \"name\": \"\", \"showlegend\": false, \"type\": \"scatter\", \"x\": [1, 2, 3, 4, 5, 6, 7, 8, 9, 10, 11, 12, 13, 14, 15, 16, 17, 18, 19, 20, 21, 22, 23, 24, 25, 26, 27, 28, 29, 30, 31, 32, 33, 34, 35, 36, 37, 38, 39, 40, 41, 42, 43, 44, 45, 46, 47, 48, 49, 50, 51, 52, 53, 54, 55, 56, 57, 58, 59, 60, 61, 62, 63, 64, 65, 66, 67, 68, 69, 70, 71, 72, 73, 74, 75, 76, 77, 78, 79, 80, 81, 82, 83, 84, 85, 86, 87, 88, 89, 90, 91, 92, 93, 94, 95, 96, 97, 98, 99, 100], \"xaxis\": \"x\", \"y\": [9.595693779904307, 8.222488038277513, 6.7990430622009566, 5.375598086124402, 4.538277511961723, 8.858851674641148, 7.6196172248803835, 6.246411483253588, 4.940191387559809, 4.1028708133971294, 8.172248803827753, 7.033492822966506, 5.794258373205741, 4.488038277511961, 3.767942583732057, 7.70334928229665, 6.681818181818182, 5.509569377990431, 4.287081339712919, 3.5669856459330145, 7.569377990430622, 6.514354066985646, 5.342105263157895, 4.287081339712919, 3.583732057416268, 7.033492822966506, 6.078947368421053, 4.940191387559809, 3.9856459330143537, 3.299043062200957, 6.464114832535886, 5.626794258373206, 4.57177033492823, 3.6339712918660285, 3.047846889952153, 6.078947368421053, 5.342105263157895, 4.337320574162679, 3.4665071770334928, 2.8971291866028706, 6.062200956937799, 5.291866028708133, 4.169856459330144, 3.148325358851675, 2.6459330143540667, 5.64354066985646, 4.973684210526316, 3.851674641148325, 2.8971291866028706, 2.4449760765550237, 5.124401913875598, 4.555023923444976, 3.5502392344497604, 2.5956937799043063, 2.227272727272727, 4.80622009569378, 4.337320574162679, 3.3660287081339715, 2.4952153110047846, 2.126794258373206, 4.035885167464114, 3.5334928229665072, 2.8636363636363638, 2.0933014354066986, 1.825358851674641, 3.8014354066985647, 3.332535885167464, 2.6291866028708135, 1.9258373205741626, 1.674641148325359, 3.416267942583732, 3.0143540669856463, 2.4449760765550237, 1.7751196172248802, 1.5406698564593302, 3.1985645933014353, 2.84688995215311, 2.327751196172249, 1.708133971291866, 1.4569377990430623, 1.8086124401913877, 1.4401913875598085, 1.055023923444976, 0.6196172248803828, 0.5191387559808612, 1.708133971291866, 1.4066985645933014, 1.0047846889952152, 0.5861244019138756, 0.4856459330143541, 1.5239234449760766, 1.2727272727272727, 0.9210526315789473, 0.5023923444976076, 0.4354066985645933, 1.3732057416267942, 1.1555023923444976, 0.8205741626794258, 0.4521531100478469, 0.3684210526315789], \"yaxis\": \"y\"}],\n",
       "                        {\"coloraxis\": {\"colorbar\": {\"title\": {\"text\": \"p_audio\"}}, \"colorscale\": [[0.0, \"#0d0887\"], [0.1111111111111111, \"#46039f\"], [0.2222222222222222, \"#7201a8\"], [0.3333333333333333, \"#9c179e\"], [0.4444444444444444, \"#bd3786\"], [0.5555555555555556, \"#d8576b\"], [0.6666666666666666, \"#ed7953\"], [0.7777777777777778, \"#fb9f3a\"], [0.8888888888888888, \"#fdca26\"], [1.0, \"#f0f921\"]]}, \"height\": 600, \"legend\": {\"tracegroupgap\": 0}, \"margin\": {\"t\": 60}, \"template\": {\"data\": {\"bar\": [{\"error_x\": {\"color\": \"#2a3f5f\"}, \"error_y\": {\"color\": \"#2a3f5f\"}, \"marker\": {\"line\": {\"color\": \"#E5ECF6\", \"width\": 0.5}}, \"type\": \"bar\"}], \"barpolar\": [{\"marker\": {\"line\": {\"color\": \"#E5ECF6\", \"width\": 0.5}}, \"type\": \"barpolar\"}], \"carpet\": [{\"aaxis\": {\"endlinecolor\": \"#2a3f5f\", \"gridcolor\": \"white\", \"linecolor\": \"white\", \"minorgridcolor\": \"white\", \"startlinecolor\": \"#2a3f5f\"}, \"baxis\": {\"endlinecolor\": \"#2a3f5f\", \"gridcolor\": \"white\", \"linecolor\": \"white\", \"minorgridcolor\": \"white\", \"startlinecolor\": \"#2a3f5f\"}, \"type\": \"carpet\"}], \"choropleth\": [{\"colorbar\": {\"outlinewidth\": 0, \"ticks\": \"\"}, \"type\": \"choropleth\"}], \"contour\": [{\"colorbar\": {\"outlinewidth\": 0, \"ticks\": \"\"}, \"colorscale\": [[0.0, \"#0d0887\"], [0.1111111111111111, \"#46039f\"], [0.2222222222222222, \"#7201a8\"], [0.3333333333333333, \"#9c179e\"], [0.4444444444444444, \"#bd3786\"], [0.5555555555555556, \"#d8576b\"], [0.6666666666666666, \"#ed7953\"], [0.7777777777777778, \"#fb9f3a\"], [0.8888888888888888, \"#fdca26\"], [1.0, \"#f0f921\"]], \"type\": \"contour\"}], \"contourcarpet\": [{\"colorbar\": {\"outlinewidth\": 0, \"ticks\": \"\"}, \"type\": \"contourcarpet\"}], \"heatmap\": [{\"colorbar\": {\"outlinewidth\": 0, \"ticks\": \"\"}, \"colorscale\": [[0.0, \"#0d0887\"], [0.1111111111111111, \"#46039f\"], [0.2222222222222222, \"#7201a8\"], [0.3333333333333333, \"#9c179e\"], [0.4444444444444444, \"#bd3786\"], [0.5555555555555556, \"#d8576b\"], [0.6666666666666666, \"#ed7953\"], [0.7777777777777778, \"#fb9f3a\"], [0.8888888888888888, \"#fdca26\"], [1.0, \"#f0f921\"]], \"type\": \"heatmap\"}], \"heatmapgl\": [{\"colorbar\": {\"outlinewidth\": 0, \"ticks\": \"\"}, \"colorscale\": [[0.0, \"#0d0887\"], [0.1111111111111111, \"#46039f\"], [0.2222222222222222, \"#7201a8\"], [0.3333333333333333, \"#9c179e\"], [0.4444444444444444, \"#bd3786\"], [0.5555555555555556, \"#d8576b\"], [0.6666666666666666, \"#ed7953\"], [0.7777777777777778, \"#fb9f3a\"], [0.8888888888888888, \"#fdca26\"], [1.0, \"#f0f921\"]], \"type\": \"heatmapgl\"}], \"histogram\": [{\"marker\": {\"colorbar\": {\"outlinewidth\": 0, \"ticks\": \"\"}}, \"type\": \"histogram\"}], \"histogram2d\": [{\"colorbar\": {\"outlinewidth\": 0, \"ticks\": \"\"}, \"colorscale\": [[0.0, \"#0d0887\"], [0.1111111111111111, \"#46039f\"], [0.2222222222222222, \"#7201a8\"], [0.3333333333333333, \"#9c179e\"], [0.4444444444444444, \"#bd3786\"], [0.5555555555555556, \"#d8576b\"], [0.6666666666666666, \"#ed7953\"], [0.7777777777777778, \"#fb9f3a\"], [0.8888888888888888, \"#fdca26\"], [1.0, \"#f0f921\"]], \"type\": \"histogram2d\"}], \"histogram2dcontour\": [{\"colorbar\": {\"outlinewidth\": 0, \"ticks\": \"\"}, \"colorscale\": [[0.0, \"#0d0887\"], [0.1111111111111111, \"#46039f\"], [0.2222222222222222, \"#7201a8\"], [0.3333333333333333, \"#9c179e\"], [0.4444444444444444, \"#bd3786\"], [0.5555555555555556, \"#d8576b\"], [0.6666666666666666, \"#ed7953\"], [0.7777777777777778, \"#fb9f3a\"], [0.8888888888888888, \"#fdca26\"], [1.0, \"#f0f921\"]], \"type\": \"histogram2dcontour\"}], \"mesh3d\": [{\"colorbar\": {\"outlinewidth\": 0, \"ticks\": \"\"}, \"type\": \"mesh3d\"}], \"parcoords\": [{\"line\": {\"colorbar\": {\"outlinewidth\": 0, \"ticks\": \"\"}}, \"type\": \"parcoords\"}], \"scatter\": [{\"marker\": {\"colorbar\": {\"outlinewidth\": 0, \"ticks\": \"\"}}, \"type\": \"scatter\"}], \"scatter3d\": [{\"line\": {\"colorbar\": {\"outlinewidth\": 0, \"ticks\": \"\"}}, \"marker\": {\"colorbar\": {\"outlinewidth\": 0, \"ticks\": \"\"}}, \"type\": \"scatter3d\"}], \"scattercarpet\": [{\"marker\": {\"colorbar\": {\"outlinewidth\": 0, \"ticks\": \"\"}}, \"type\": \"scattercarpet\"}], \"scattergeo\": [{\"marker\": {\"colorbar\": {\"outlinewidth\": 0, \"ticks\": \"\"}}, \"type\": \"scattergeo\"}], \"scattergl\": [{\"marker\": {\"colorbar\": {\"outlinewidth\": 0, \"ticks\": \"\"}}, \"type\": \"scattergl\"}], \"scattermapbox\": [{\"marker\": {\"colorbar\": {\"outlinewidth\": 0, \"ticks\": \"\"}}, \"type\": \"scattermapbox\"}], \"scatterpolar\": [{\"marker\": {\"colorbar\": {\"outlinewidth\": 0, \"ticks\": \"\"}}, \"type\": \"scatterpolar\"}], \"scatterpolargl\": [{\"marker\": {\"colorbar\": {\"outlinewidth\": 0, \"ticks\": \"\"}}, \"type\": \"scatterpolargl\"}], \"scatterternary\": [{\"marker\": {\"colorbar\": {\"outlinewidth\": 0, \"ticks\": \"\"}}, \"type\": \"scatterternary\"}], \"surface\": [{\"colorbar\": {\"outlinewidth\": 0, \"ticks\": \"\"}, \"colorscale\": [[0.0, \"#0d0887\"], [0.1111111111111111, \"#46039f\"], [0.2222222222222222, \"#7201a8\"], [0.3333333333333333, \"#9c179e\"], [0.4444444444444444, \"#bd3786\"], [0.5555555555555556, \"#d8576b\"], [0.6666666666666666, \"#ed7953\"], [0.7777777777777778, \"#fb9f3a\"], [0.8888888888888888, \"#fdca26\"], [1.0, \"#f0f921\"]], \"type\": \"surface\"}], \"table\": [{\"cells\": {\"fill\": {\"color\": \"#EBF0F8\"}, \"line\": {\"color\": \"white\"}}, \"header\": {\"fill\": {\"color\": \"#C8D4E3\"}, \"line\": {\"color\": \"white\"}}, \"type\": \"table\"}]}, \"layout\": {\"annotationdefaults\": {\"arrowcolor\": \"#2a3f5f\", \"arrowhead\": 0, \"arrowwidth\": 1}, \"colorscale\": {\"diverging\": [[0, \"#8e0152\"], [0.1, \"#c51b7d\"], [0.2, \"#de77ae\"], [0.3, \"#f1b6da\"], [0.4, \"#fde0ef\"], [0.5, \"#f7f7f7\"], [0.6, \"#e6f5d0\"], [0.7, \"#b8e186\"], [0.8, \"#7fbc41\"], [0.9, \"#4d9221\"], [1, \"#276419\"]], \"sequential\": [[0.0, \"#0d0887\"], [0.1111111111111111, \"#46039f\"], [0.2222222222222222, \"#7201a8\"], [0.3333333333333333, \"#9c179e\"], [0.4444444444444444, \"#bd3786\"], [0.5555555555555556, \"#d8576b\"], [0.6666666666666666, \"#ed7953\"], [0.7777777777777778, \"#fb9f3a\"], [0.8888888888888888, \"#fdca26\"], [1.0, \"#f0f921\"]], \"sequentialminus\": [[0.0, \"#0d0887\"], [0.1111111111111111, \"#46039f\"], [0.2222222222222222, \"#7201a8\"], [0.3333333333333333, \"#9c179e\"], [0.4444444444444444, \"#bd3786\"], [0.5555555555555556, \"#d8576b\"], [0.6666666666666666, \"#ed7953\"], [0.7777777777777778, \"#fb9f3a\"], [0.8888888888888888, \"#fdca26\"], [1.0, \"#f0f921\"]]}, \"colorway\": [\"#636efa\", \"#EF553B\", \"#00cc96\", \"#ab63fa\", \"#FFA15A\", \"#19d3f3\", \"#FF6692\", \"#B6E880\", \"#FF97FF\", \"#FECB52\"], \"font\": {\"color\": \"#2a3f5f\"}, \"geo\": {\"bgcolor\": \"white\", \"lakecolor\": \"white\", \"landcolor\": \"#E5ECF6\", \"showlakes\": true, \"showland\": true, \"subunitcolor\": \"white\"}, \"hoverlabel\": {\"align\": \"left\"}, \"hovermode\": \"closest\", \"mapbox\": {\"style\": \"light\"}, \"paper_bgcolor\": \"white\", \"plot_bgcolor\": \"#E5ECF6\", \"polar\": {\"angularaxis\": {\"gridcolor\": \"white\", \"linecolor\": \"white\", \"ticks\": \"\"}, \"bgcolor\": \"#E5ECF6\", \"radialaxis\": {\"gridcolor\": \"white\", \"linecolor\": \"white\", \"ticks\": \"\"}}, \"scene\": {\"xaxis\": {\"backgroundcolor\": \"#E5ECF6\", \"gridcolor\": \"white\", \"gridwidth\": 2, \"linecolor\": \"white\", \"showbackground\": true, \"ticks\": \"\", \"zerolinecolor\": \"white\"}, \"yaxis\": {\"backgroundcolor\": \"#E5ECF6\", \"gridcolor\": \"white\", \"gridwidth\": 2, \"linecolor\": \"white\", \"showbackground\": true, \"ticks\": \"\", \"zerolinecolor\": \"white\"}, \"zaxis\": {\"backgroundcolor\": \"#E5ECF6\", \"gridcolor\": \"white\", \"gridwidth\": 2, \"linecolor\": \"white\", \"showbackground\": true, \"ticks\": \"\", \"zerolinecolor\": \"white\"}}, \"shapedefaults\": {\"line\": {\"color\": \"#2a3f5f\"}}, \"ternary\": {\"aaxis\": {\"gridcolor\": \"white\", \"linecolor\": \"white\", \"ticks\": \"\"}, \"baxis\": {\"gridcolor\": \"white\", \"linecolor\": \"white\", \"ticks\": \"\"}, \"bgcolor\": \"#E5ECF6\", \"caxis\": {\"gridcolor\": \"white\", \"linecolor\": \"white\", \"ticks\": \"\"}}, \"title\": {\"x\": 0.05}, \"xaxis\": {\"automargin\": true, \"gridcolor\": \"white\", \"linecolor\": \"white\", \"ticks\": \"\", \"zerolinecolor\": \"white\", \"zerolinewidth\": 2}, \"yaxis\": {\"automargin\": true, \"gridcolor\": \"white\", \"linecolor\": \"white\", \"ticks\": \"\", \"zerolinecolor\": \"white\", \"zerolinewidth\": 2}}}, \"xaxis\": {\"anchor\": \"y\", \"domain\": [0.0, 0.98], \"title\": {\"text\": \"exp\"}}, \"yaxis\": {\"anchor\": \"x\", \"domain\": [0.0, 1.0], \"title\": {\"text\": \"FA\"}}},\n",
       "                        {\"responsive\": true}\n",
       "                    ).then(function(){\n",
       "                            \n",
       "var gd = document.getElementById('76d74183-10c2-4a89-870f-76d70df89806');\n",
       "var x = new MutationObserver(function (mutations, observer) {{\n",
       "        var display = window.getComputedStyle(gd).display;\n",
       "        if (!display || display === 'none') {{\n",
       "            console.log([gd, 'removed!']);\n",
       "            Plotly.purge(gd);\n",
       "            observer.disconnect();\n",
       "        }}\n",
       "}});\n",
       "\n",
       "// Listen for the removal of the full notebook cells\n",
       "var notebookContainer = gd.closest('#notebook-container');\n",
       "if (notebookContainer) {{\n",
       "    x.observe(notebookContainer, {childList: true});\n",
       "}}\n",
       "\n",
       "// Listen for the clearing of the current output cell\n",
       "var outputEl = gd.closest('.output');\n",
       "if (outputEl) {{\n",
       "    x.observe(outputEl, {childList: true});\n",
       "}}\n",
       "\n",
       "                        })\n",
       "                };\n",
       "                });\n",
       "            </script>\n",
       "        </div>"
      ]
     },
     "metadata": {},
     "output_type": "display_data"
    }
   ],
   "source": [
    "\n",
    "import plotly.express as px\n",
    "fig = px.scatter(df, x=\"exp\", y=\"FA\", color=\"p_audio\",\n",
    "                 hover_data=['p_audio', 'p_raising', 'p_raised'])\n",
    "fig.show()"
   ]
  },
  {
   "cell_type": "code",
   "execution_count": 226,
   "metadata": {
    "scrolled": true
   },
   "outputs": [],
   "source": [
    "\n",
    "import plotly.express as px\n",
    "fig = px.scatter_3d(df, x=\"p_audio\", y=\"p_raising\", z=\"p_raised\", color=\"FA\", size='FA',\n",
    "                 hover_data=['p_audio', 'p_raising', 'p_raised'])\n",
    "fig.write_html('3d_figure.html', auto_open=True)\n"
   ]
  },
  {
   "cell_type": "code",
   "execution_count": null,
   "metadata": {},
   "outputs": [],
   "source": []
  }
 ],
 "metadata": {
  "kernelspec": {
   "display_name": "Python 3",
   "language": "python",
   "name": "python3"
  },
  "language_info": {
   "codemirror_mode": {
    "name": "ipython",
    "version": 3
   },
   "file_extension": ".py",
   "mimetype": "text/x-python",
   "name": "python",
   "nbconvert_exporter": "python",
   "pygments_lexer": "ipython3",
   "version": "3.6.8"
  }
 },
 "nbformat": 4,
 "nbformat_minor": 2
}
