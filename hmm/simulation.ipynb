{
 "cells": [
  {
   "cell_type": "code",
   "execution_count": 1,
   "metadata": {},
   "outputs": [],
   "source": [
    "import pycrfsuite"
   ]
  },
  {
   "cell_type": "code",
   "execution_count": 2,
   "metadata": {},
   "outputs": [
    {
     "name": "stdout",
     "output_type": "stream",
     "text": [
      "Populating the interactive namespace from numpy and matplotlib\n"
     ]
    }
   ],
   "source": [
    "from collections import Counter\n",
    "import numpy as np\n",
    "%pylab inline"
   ]
  },
  {
   "cell_type": "code",
   "execution_count": 3,
   "metadata": {},
   "outputs": [],
   "source": [
    "from sklearn.model_selection import train_test_split\n",
    "from sklearn.metrics import classification_report"
   ]
  },
  {
   "cell_type": "code",
   "execution_count": 4,
   "metadata": {},
   "outputs": [],
   "source": [
    "from _chain import Chain\n",
    "from _pytorch_chain_loss import belief_propagation_cross_entropy_loss"
   ]
  },
  {
   "cell_type": "markdown",
   "metadata": {},
   "source": [
    "### Define Binary HMM "
   ]
  },
  {
   "cell_type": "raw",
   "metadata": {},
   "source": [
    ">>> phi(x,_i y_i) represents the data term\n",
    ">>> phi(y_i, y_i+1) represents the smoothness term"
   ]
  },
  {
   "cell_type": "code",
   "execution_count": 5,
   "metadata": {},
   "outputs": [],
   "source": [
    "def f_phi(x1, x2):\n",
    "#     p = np.array([\n",
    "#     [0.58, 0.42],\n",
    "#     [0.42, 0.58]])\n",
    "#     return p[x1, x2]\n",
    "    b = [-0.32, 0.4]\n",
    "    return np.round(exp(b[x2] * (x1 - 0.5)), 2)"
   ]
  },
  {
   "cell_type": "code",
   "execution_count": 6,
   "metadata": {},
   "outputs": [],
   "source": [
    "def f_psi(x1, x2):\n",
    "#     p = np.array([\n",
    "#     [0.62, 0.38],\n",
    "#     [0.34, 0.66]])\n",
    "#     return p[x1, x2]\n",
    "    j = 1\n",
    "    return np.round(exp(j * (x1 - 0.5) * (x2 - 0.5)), 2)"
   ]
  },
  {
   "cell_type": "code",
   "execution_count": 7,
   "metadata": {},
   "outputs": [],
   "source": [
    "phi = f_phi\n",
    "psi = f_psi"
   ]
  },
  {
   "cell_type": "code",
   "execution_count": 8,
   "metadata": {},
   "outputs": [],
   "source": [
    "T = 50 # chain length"
   ]
  },
  {
   "cell_type": "code",
   "execution_count": 9,
   "metadata": {},
   "outputs": [],
   "source": [
    "chain = Chain(length=T, phi=phi, psi=psi, possible_values=[0, 1])"
   ]
  },
  {
   "cell_type": "markdown",
   "metadata": {},
   "source": [
    "### Create Random Trainset"
   ]
  },
  {
   "cell_type": "code",
   "execution_count": 10,
   "metadata": {},
   "outputs": [],
   "source": [
    "possible_values = [0, 1]"
   ]
  },
  {
   "cell_type": "code",
   "execution_count": 11,
   "metadata": {},
   "outputs": [],
   "source": [
    "N = 1000"
   ]
  },
  {
   "cell_type": "code",
   "execution_count": 12,
   "metadata": {
    "scrolled": true
   },
   "outputs": [
    {
     "name": "stdout",
     "output_type": "stream",
     "text": [
      "CPU times: user 5.72 s, sys: 21.4 ms, total: 5.74 s\n",
      "Wall time: 5.74 s\n"
     ]
    }
   ],
   "source": [
    "%%time \n",
    "\n",
    "X_dataset = []\n",
    "y_dataset= []\n",
    "\n",
    "for i in range(N):\n",
    "    x = np.random.rand(T)\n",
    "    x_binary = 1 * (x > 0.5)\n",
    "    \n",
    "    chain.update_observed(x_binary)\n",
    "    y = chain.get_max_apostriori_beliefs()\n",
    "\n",
    "    X_dataset.append(x_binary)\n",
    "    y_dataset.append(y)"
   ]
  },
  {
   "cell_type": "code",
   "execution_count": 13,
   "metadata": {},
   "outputs": [],
   "source": [
    "# turn to numpy arrays\n",
    "X_dataset = np.array([np.array(xi) for xi in X_dataset])\n",
    "y_dataset = np.array([np.array(yi) for yi in y_dataset])"
   ]
  },
  {
   "cell_type": "code",
   "execution_count": 14,
   "metadata": {},
   "outputs": [
    {
     "data": {
      "text/plain": [
       "<matplotlib.legend.Legend at 0x1a27677080>"
      ]
     },
     "execution_count": 14,
     "metadata": {},
     "output_type": "execute_result"
    },
    {
     "data": {
      "image/png": "[encoded data removed]",
      "text/plain": [
       "<Figure size 432x288 with 1 Axes>"
      ]
     },
     "metadata": {
      "needs_background": "light"
     },
     "output_type": "display_data"
    }
   ],
   "source": [
    "plot(X_dataset[0], 'o')\n",
    "plot(y_dataset[0] + 0.05, 'ro')\n",
    "legend(['observations', 'labels'])"
   ]
  },
  {
   "cell_type": "markdown",
   "metadata": {},
   "source": [
    "### Train Dummy Model (predicts y = x)"
   ]
  },
  {
   "cell_type": "markdown",
   "metadata": {},
   "source": [
    "#### Train-Test split"
   ]
  },
  {
   "cell_type": "code",
   "execution_count": 15,
   "metadata": {},
   "outputs": [],
   "source": [
    "X_train, X_test, y_train, y_test = train_test_split(X_dataset, y_dataset, test_size=0.2)"
   ]
  },
  {
   "cell_type": "markdown",
   "metadata": {},
   "source": [
    "#### Evaluate "
   ]
  },
  {
   "cell_type": "code",
   "execution_count": 16,
   "metadata": {},
   "outputs": [],
   "source": [
    "y_pred = X_test"
   ]
  },
  {
   "cell_type": "code",
   "execution_count": 17,
   "metadata": {},
   "outputs": [
    {
     "name": "stdout",
     "output_type": "stream",
     "text": [
      "              precision    recall  f1-score   support\n",
      "\n",
      "           0       0.62      0.79      0.69      3903\n",
      "           1       0.84      0.69      0.75      6097\n",
      "\n",
      "   micro avg       0.73      0.73      0.73     10000\n",
      "   macro avg       0.73      0.74      0.72     10000\n",
      "weighted avg       0.75      0.73      0.73     10000\n",
      "\n"
     ]
    }
   ],
   "source": [
    "labels = {0 : 0, 1: 1}\n",
    "\n",
    "predictions = np.array([labels[tag] for row in y_pred for tag in row])\n",
    "truths = np.array([labels[tag] for row in y_test for tag in row])\n",
    "\n",
    "print(classification_report(\n",
    "    truths, predictions,\n",
    "    target_names=[\"0\", \"1\"]))"
   ]
  },
  {
   "cell_type": "markdown",
   "metadata": {},
   "source": [
    "### Train CRF"
   ]
  },
  {
   "cell_type": "code",
   "execution_count": 18,
   "metadata": {},
   "outputs": [],
   "source": [
    "def extract_features(x):\n",
    "    features = [\n",
    "        'x.current=' + str(x)\n",
    "    ]\n",
    "    return features"
   ]
  },
  {
   "cell_type": "code",
   "execution_count": 19,
   "metadata": {},
   "outputs": [],
   "source": [
    "def extract_labels(y):\n",
    "    return str(y)"
   ]
  },
  {
   "cell_type": "markdown",
   "metadata": {},
   "source": [
    "#### Preprocess Dataset"
   ]
  },
  {
   "cell_type": "code",
   "execution_count": 20,
   "metadata": {},
   "outputs": [],
   "source": [
    "X = []\n",
    "y = []\n",
    "\n",
    "for xseq, yseq in zip(X_dataset, y_dataset):\n",
    "    X_features = [extract_features(x_i) for x_i in xseq]\n",
    "    y_labels = [extract_labels(y_i) for y_i in yseq]\n",
    "    \n",
    "    X.append(X_features)\n",
    "    y.append(y_labels)"
   ]
  },
  {
   "cell_type": "markdown",
   "metadata": {},
   "source": [
    "#### Train-Test split "
   ]
  },
  {
   "cell_type": "code",
   "execution_count": 21,
   "metadata": {},
   "outputs": [],
   "source": [
    "X_train, X_test, y_train, y_test = train_test_split(X, y, test_size=0.2)"
   ]
  },
  {
   "cell_type": "markdown",
   "metadata": {},
   "source": [
    "#### Train "
   ]
  },
  {
   "cell_type": "code",
   "execution_count": 22,
   "metadata": {},
   "outputs": [],
   "source": [
    "import sklearn_crfsuite\n",
    "from sklearn_crfsuite import scorers\n",
    "from sklearn_crfsuite import metrics"
   ]
  },
  {
   "cell_type": "code",
   "execution_count": 23,
   "metadata": {},
   "outputs": [
    {
     "name": "stdout",
     "output_type": "stream",
     "text": [
      "CPU times: user 193 ms, sys: 4.04 ms, total: 197 ms\n",
      "Wall time: 197 ms\n"
     ]
    }
   ],
   "source": [
    "%%time\n",
    "crf = sklearn_crfsuite.CRF(\n",
    "    algorithm='lbfgs',\n",
    "    c1=0,\n",
    "    c2=0,  # regulate this up to 1 if needed\n",
    "    max_iterations=5000,\n",
    "    all_possible_transitions=True,\n",
    "    all_possible_states=True\n",
    ")\n",
    "crf.fit(X_train, y_train)"
   ]
  },
  {
   "cell_type": "code",
   "execution_count": 24,
   "metadata": {},
   "outputs": [],
   "source": [
    "y_pred = crf.predict(X_test)"
   ]
  },
  {
   "cell_type": "code",
   "execution_count": 25,
   "metadata": {},
   "outputs": [
    {
     "data": {
      "text/plain": [
       "['1', '0']"
      ]
     },
     "execution_count": 25,
     "metadata": {},
     "output_type": "execute_result"
    }
   ],
   "source": [
    "labels = list(crf.classes_)\n",
    "labels"
   ]
  },
  {
   "cell_type": "code",
   "execution_count": 26,
   "metadata": {},
   "outputs": [
    {
     "name": "stdout",
     "output_type": "stream",
     "text": [
      "              precision    recall  f1-score   support\n",
      "\n",
      "           0      1.000     1.000     1.000      3812\n",
      "           1      1.000     1.000     1.000      6188\n",
      "\n",
      "   micro avg      1.000     1.000     1.000     10000\n",
      "   macro avg      1.000     1.000     1.000     10000\n",
      "weighted avg      1.000     1.000     1.000     10000\n",
      "\n"
     ]
    }
   ],
   "source": [
    "sorted_labels = sorted(\n",
    "    labels,\n",
    "    key=lambda name: (name[1:], name[0])\n",
    ")\n",
    "print(metrics.flat_classification_report(\n",
    "    y_test, y_pred, labels=sorted_labels, digits=3\n",
    "))"
   ]
  },
  {
   "cell_type": "code",
   "execution_count": 27,
   "metadata": {},
   "outputs": [
    {
     "name": "stdout",
     "output_type": "stream",
     "text": [
      "Transitions:\n",
      "1      -> 1       342.563882\n",
      "0      -> 0       302.655716\n",
      "1      -> 0       -321.898039\n",
      "0      -> 1       -323.321560\n"
     ]
    }
   ],
   "source": [
    "def print_transitions(trans_features):\n",
    "    for (label_from, label_to), weight in trans_features:\n",
    "        print(\"%-6s -> %-7s %0.6f\" % (label_from, label_to, weight))\n",
    "\n",
    "print(\"Transitions:\")\n",
    "print_transitions(Counter(crf.transition_features_).most_common(20))"
   ]
  },
  {
   "cell_type": "code",
   "execution_count": 28,
   "metadata": {},
   "outputs": [
    {
     "name": "stdout",
     "output_type": "stream",
     "text": [
      "States:\n",
      "231.897001 1        x.current=1\n",
      "222.593344 0        x.current=0\n",
      "-222.593344 1        x.current=0\n",
      "-231.897001 0        x.current=1\n"
     ]
    }
   ],
   "source": [
    "def print_state_features(state_features):\n",
    "    for (attr, label), weight in state_features:\n",
    "        print(\"%0.6f %-8s %s\" % (weight, label, attr))\n",
    "\n",
    "print(\"States:\")\n",
    "print_state_features(Counter(crf.state_features_).most_common(30))"
   ]
  },
  {
   "cell_type": "markdown",
   "metadata": {},
   "source": [
    "### Training FC NN "
   ]
  },
  {
   "cell_type": "markdown",
   "metadata": {},
   "source": [
    "#### Define "
   ]
  },
  {
   "cell_type": "code",
   "execution_count": 29,
   "metadata": {},
   "outputs": [],
   "source": [
    "import torch\n",
    "import torch.nn.functional as F\n",
    "from torch.autograd import Variable\n",
    "import torch.optim as optim"
   ]
  },
  {
   "cell_type": "code",
   "execution_count": 30,
   "metadata": {},
   "outputs": [],
   "source": [
    "n_epochs = 200\n",
    "batch_size, D_in, D_hidden, D_out = 256, T, T, T"
   ]
  },
  {
   "cell_type": "code",
   "execution_count": 31,
   "metadata": {},
   "outputs": [],
   "source": [
    "model = torch.nn.Sequential(\n",
    "          torch.nn.Linear(D_in, D_hidden),\n",
    "          torch.nn.ReLU(),\n",
    "          torch.nn.Linear(D_hidden, D_hidden),\n",
    "          torch.nn.ReLU(),\n",
    "          torch.nn.Linear(D_hidden, D_hidden),\n",
    "          torch.nn.ReLU(),\n",
    "          torch.nn.Linear(D_hidden, D_hidden),\n",
    "          torch.nn.ReLU(),\n",
    "          torch.nn.Linear(D_hidden, D_hidden),\n",
    "          torch.nn.ReLU(),\n",
    "          torch.nn.Linear(D_hidden, D_out),\n",
    "          torch.nn.Sigmoid()\n",
    "        )\n",
    "\n",
    "optimizer = optim.Adam(model.parameters(), lr=0.01)"
   ]
  },
  {
   "cell_type": "code",
   "execution_count": 32,
   "metadata": {},
   "outputs": [],
   "source": [
    "def count_parameters(model):\n",
    "    return sum(p.numel() for p in model.parameters() if p.requires_grad)"
   ]
  },
  {
   "cell_type": "code",
   "execution_count": 33,
   "metadata": {},
   "outputs": [
    {
     "name": "stdout",
     "output_type": "stream",
     "text": [
      "Network has 15300 parameters, notice your training set size!\n"
     ]
    }
   ],
   "source": [
    "print('Network has {} parameters, notice your training set size!'.format(count_parameters(model)))"
   ]
  },
  {
   "cell_type": "code",
   "execution_count": 34,
   "metadata": {},
   "outputs": [],
   "source": [
    "from torch.utils.data import Dataset\n",
    "\n",
    "class ChainDataset(Dataset):\n",
    "    \n",
    "    def __init__(self, X, y, flatten=True):\n",
    "        self._X = X\n",
    "        self._y = y\n",
    "\n",
    "    def __len__(self):\n",
    "        return len(self._X)\n",
    "\n",
    "    def __getitem__(self, idx):\n",
    "        sample = {\n",
    "            'X': torch.from_numpy(self._X[idx]).float(),\n",
    "            'y': torch.from_numpy(self._y[idx]).float()  \n",
    "        }\n",
    "        return sample"
   ]
  },
  {
   "cell_type": "code",
   "execution_count": 35,
   "metadata": {},
   "outputs": [],
   "source": [
    "X_train, X_test, y_train, y_test = train_test_split(X_dataset, y_dataset, test_size=0.2)"
   ]
  },
  {
   "cell_type": "code",
   "execution_count": 36,
   "metadata": {},
   "outputs": [],
   "source": [
    "trainset = ChainDataset(X_train, y_train)\n",
    "testset = ChainDataset(X_test, y_test)\n",
    "trainloader = torch.utils.data.DataLoader(trainset, batch_size=batch_size, shuffle=True, num_workers=2)\n",
    "validloader = torch.utils.data.DataLoader(testset, batch_size=len(testset), shuffle=True, num_workers=2)"
   ]
  },
  {
   "cell_type": "markdown",
   "metadata": {},
   "source": [
    "#### Train "
   ]
  },
  {
   "cell_type": "code",
   "execution_count": 41,
   "metadata": {
    "scrolled": true
   },
   "outputs": [
    {
     "name": "stdout",
     "output_type": "stream",
     "text": [
      "epoch 10:: loss = 0.6386070847511292, validation loss = 0.6420876383781433\n",
      "epoch 20:: loss = 0.5417201519012451, validation loss = 0.5618528723716736\n",
      "epoch 30:: loss = 0.4871368110179901, validation loss = 0.543056070804596\n",
      "epoch 40:: loss = 0.4642716944217682, validation loss = 0.5319937467575073\n",
      "epoch 50:: loss = 0.426086962223053, validation loss = 0.5039685964584351\n",
      "epoch 60:: loss = 0.3601410984992981, validation loss = 0.4992850124835968\n",
      "epoch 70:: loss = 0.3880794942378998, validation loss = 0.5033949017524719\n",
      "epoch 80:: loss = 0.3555992841720581, validation loss = 0.5435436964035034\n",
      "epoch 90:: loss = 0.30707454681396484, validation loss = 0.5567889213562012\n",
      "epoch 100:: loss = 0.3293323814868927, validation loss = 0.5889564156532288\n",
      "epoch 110:: loss = 0.2705768644809723, validation loss = 0.620589554309845\n",
      "epoch 120:: loss = 0.26991507411003113, validation loss = 0.6075847148895264\n",
      "epoch 130:: loss = 0.2661522924900055, validation loss = 0.6937414407730103\n",
      "epoch 140:: loss = 0.2466992884874344, validation loss = 0.642142653465271\n",
      "epoch 150:: loss = 0.23383773863315582, validation loss = 0.6901923418045044\n",
      "epoch 160:: loss = 0.2348562777042389, validation loss = 0.7198590636253357\n",
      "epoch 170:: loss = 0.20908235013484955, validation loss = 0.7527441382408142\n",
      "epoch 180:: loss = 0.16872523725032806, validation loss = 0.742645263671875\n",
      "epoch 190:: loss = 0.18181857466697693, validation loss = 0.839095413684845\n",
      "epoch 200:: loss = 0.1568867713212967, validation loss = 0.8617414832115173\n"
     ]
    }
   ],
   "source": [
    "model.train()\n",
    "learning_curve = []\n",
    "\n",
    "for epoch in range(1, n_epochs + 1):\n",
    "    \n",
    "    for batch in trainloader:\n",
    "        \n",
    "        X_batch, y_batch = Variable(batch['X']), Variable(batch['y'])\n",
    "        model.zero_grad()\n",
    "        \n",
    "        y_pred = model(X_batch)\n",
    "        loss = F.binary_cross_entropy(y_pred, y_batch)\n",
    "        \n",
    "        loss.backward()\n",
    "        optimizer.step()\n",
    "    \n",
    "    if epoch % 10 == 0:\n",
    "        valid = next(iter(validloader))\n",
    "        X_valid, y_valid = Variable(valid['X']), Variable(valid['y']) \n",
    "        y_pred_valid = model(X_valid)\n",
    "        loss_valid = F.binary_cross_entropy(y_pred_valid, y_valid)\n",
    "        \n",
    "        print('epoch {}:: loss = {}, validation loss = {}'. format(epoch, loss, loss_valid))\n",
    "        learning_curve.append((loss, loss_valid))"
   ]
  },
  {
   "cell_type": "code",
   "execution_count": 42,
   "metadata": {},
   "outputs": [
    {
     "data": {
      "text/plain": [
       "<matplotlib.legend.Legend at 0x1a2d73e5c0>"
      ]
     },
     "execution_count": 42,
     "metadata": {},
     "output_type": "execute_result"
    },
    {
     "data": {
      "image/png": "[encoded data removed]",
      "text/plain": [
       "<Figure size 432x288 with 1 Axes>"
      ]
     },
     "metadata": {
      "needs_background": "light"
     },
     "output_type": "display_data"
    }
   ],
   "source": [
    "plot([tr_loss for tr_loss, valid_loss in learning_curve]);\n",
    "plot([valid_loss for tr_loss, valid_loss in learning_curve]);\n",
    "legend(['train_loss', 'valid_loss'])"
   ]
  },
  {
   "cell_type": "markdown",
   "metadata": {},
   "source": [
    "#### Evaluate "
   ]
  },
  {
   "cell_type": "code",
   "execution_count": 43,
   "metadata": {},
   "outputs": [
    {
     "data": {
      "text/plain": [
       "Sequential(\n",
       "  (0): Linear(in_features=50, out_features=50, bias=True)\n",
       "  (1): ReLU()\n",
       "  (2): Linear(in_features=50, out_features=50, bias=True)\n",
       "  (3): ReLU()\n",
       "  (4): Linear(in_features=50, out_features=50, bias=True)\n",
       "  (5): ReLU()\n",
       "  (6): Linear(in_features=50, out_features=50, bias=True)\n",
       "  (7): ReLU()\n",
       "  (8): Linear(in_features=50, out_features=50, bias=True)\n",
       "  (9): ReLU()\n",
       "  (10): Linear(in_features=50, out_features=50, bias=True)\n",
       "  (11): Sigmoid()\n",
       ")"
      ]
     },
     "execution_count": 43,
     "metadata": {},
     "output_type": "execute_result"
    }
   ],
   "source": [
    "model.eval()"
   ]
  },
  {
   "cell_type": "code",
   "execution_count": 44,
   "metadata": {},
   "outputs": [],
   "source": [
    "y_pred = np.array([model(torch.from_numpy(xseq).float()).detach().numpy() for xseq in X_test])"
   ]
  },
  {
   "cell_type": "code",
   "execution_count": 45,
   "metadata": {},
   "outputs": [],
   "source": [
    "y_pred = 1 * (y_pred > 0.5)"
   ]
  },
  {
   "cell_type": "code",
   "execution_count": 46,
   "metadata": {},
   "outputs": [
    {
     "name": "stdout",
     "output_type": "stream",
     "text": [
      "              precision    recall  f1-score   support\n",
      "\n",
      "           0       0.77      0.72      0.74      4579\n",
      "           1       0.77      0.82      0.79      5421\n",
      "\n",
      "   micro avg       0.77      0.77      0.77     10000\n",
      "   macro avg       0.77      0.77      0.77     10000\n",
      "weighted avg       0.77      0.77      0.77     10000\n",
      "\n"
     ]
    }
   ],
   "source": [
    "labels = {0 : 0, 1: 1}\n",
    "\n",
    "predictions = np.array([labels[tag] for row in y_pred for tag in row])\n",
    "truths = np.array([labels[tag] for row in y_test for tag in row])\n",
    "\n",
    "print(classification_report(\n",
    "    truths, predictions,\n",
    "    target_names=[\"0\", \"1\"]))"
   ]
  },
  {
   "cell_type": "code",
   "execution_count": 47,
   "metadata": {},
   "outputs": [
    {
     "data": {
      "text/plain": [
       "<matplotlib.legend.Legend at 0x1a32098ef0>"
      ]
     },
     "execution_count": 47,
     "metadata": {},
     "output_type": "execute_result"
    },
    {
     "data": {
      "image/png": "[encoded data removed]",
      "text/plain": [
       "<Figure size 432x288 with 1 Axes>"
      ]
     },
     "metadata": {
      "needs_background": "light"
     },
     "output_type": "display_data"
    }
   ],
   "source": [
    "i = np.random.randint(200)\n",
    "plot(X_test[i], 'o')\n",
    "plot(y_test[i] + 0.05, 'ro')\n",
    "plot(y_pred[i] + 0.1, 'ko')\n",
    "legend(['observations', 'labels', 'NN'])"
   ]
  },
  {
   "cell_type": "markdown",
   "metadata": {},
   "source": [
    "###  Training MPNN based model"
   ]
  },
  {
   "cell_type": "code",
   "execution_count": 37,
   "metadata": {},
   "outputs": [],
   "source": [
    "n_epochs = 50\n",
    "batch_size, D_in, D_hidden = 256, T, T\n",
    "D_out = 3 # J is one parameter, b is 2"
   ]
  },
  {
   "cell_type": "code",
   "execution_count": 38,
   "metadata": {},
   "outputs": [],
   "source": [
    "energy_model = torch.nn.Sequential(\n",
    "          torch.nn.Linear(D_in, D_hidden),\n",
    "          torch.nn.ReLU(),\n",
    "          torch.nn.Linear(D_hidden, D_out),\n",
    "          torch.nn.ReLU()\n",
    "        )\n",
    "\n",
    "optimizer = optim.Adam(energy_model.parameters(), lr=0.005)"
   ]
  },
  {
   "cell_type": "code",
   "execution_count": null,
   "metadata": {
    "scrolled": true
   },
   "outputs": [],
   "source": [
    "energy_model.train()\n",
    "learning_curve = []\n",
    "\n",
    "for epoch in range(1, n_epochs + 1):\n",
    "    \n",
    "    for batch in trainloader:\n",
    "        X_batch, y_batch = Variable(batch['X']), Variable(batch['y'])\n",
    "        energy_model.zero_grad()\n",
    "        \n",
    "        energy = energy_model(X_batch)\n",
    "        j, b = energy[:, 0], energy[:, 1:]\n",
    "        print(j.mean(0).detach(), b.mean(0).detach())\n",
    "        loss = belief_propagation_cross_entropy_loss(j, b, X_batch, y_batch)\n",
    "        print(\"ACTUAL::\", belief_propagation_cross_entropy_loss(j_real, b_real, X_batch, y_batch))\n",
    "        loss.backward()\n",
    "        optimizer.step()\n",
    "\n",
    "        if epoch % 1 == 0:\n",
    "            valid = next(iter(validloader))\n",
    "            X_valid, y_valid = Variable(valid['X']), Variable(valid['y']) \n",
    "            energy_valid = energy_model(X_valid)\n",
    "            j_valid, b_valid = energy_valid[:, 0], energy_valid[:, 1:]\n",
    "            loss_valid = belief_propagation_cross_entropy_loss(j_valid, b_valid, X_valid, y_valid)\n",
    "\n",
    "            print('epoch {}:: loss = {}, validation loss = {}'. format(epoch, loss, loss_valid))\n",
    "            learning_curve.append((loss, loss_valid))"
   ]
  },
  {
   "cell_type": "markdown",
   "metadata": {},
   "source": [
    "### Evaluate "
   ]
  },
  {
   "cell_type": "code",
   "execution_count": 590,
   "metadata": {},
   "outputs": [
    {
     "data": {
      "text/plain": [
       "Sequential(\n",
       "  (0): Linear(in_features=50, out_features=50, bias=True)\n",
       "  (1): ReLU()\n",
       "  (2): Linear(in_features=50, out_features=3, bias=True)\n",
       "  (3): ReLU()\n",
       ")"
      ]
     },
     "execution_count": 590,
     "metadata": {},
     "output_type": "execute_result"
    }
   ],
   "source": [
    "energy_model.eval()"
   ]
  },
  {
   "cell_type": "code",
   "execution_count": 692,
   "metadata": {},
   "outputs": [],
   "source": [
    "energy_pred = energy_model(torch.from_numpy(X_test).float()).detach().numpy()"
   ]
  },
  {
   "cell_type": "code",
   "execution_count": 693,
   "metadata": {},
   "outputs": [],
   "source": [
    "j = energy_pred[:, 0]\n",
    "b = energy_pred[:, 1:]"
   ]
  },
  {
   "cell_type": "code",
   "execution_count": 694,
   "metadata": {},
   "outputs": [],
   "source": [
    "y_pred = belief_propagation_cross_entropy_loss(j, b, X_test, torch.Tensor(y_test), train=False)"
   ]
  },
  {
   "cell_type": "code",
   "execution_count": null,
   "metadata": {},
   "outputs": [],
   "source": [
    "y_pred"
   ]
  },
  {
   "cell_type": "code",
   "execution_count": null,
   "metadata": {},
   "outputs": [],
   "source": [
    "labels = {0 : 0, 1: 1}\n",
    "\n",
    "predictions = np.array([labels[tag] for row in y_pred for tag in row])\n",
    "truths = np.array([labels[tag] for row in y_test for tag in row])\n",
    "\n",
    "print(classification_report(\n",
    "    truths, predictions,\n",
    "    target_names=[\"0\", \"1\"]))"
   ]
  },
  {
   "cell_type": "markdown",
   "metadata": {},
   "source": [
    "##### backout of efficient implementation "
   ]
  },
  {
   "cell_type": "code",
   "execution_count": 585,
   "metadata": {},
   "outputs": [],
   "source": [
    "def belief_propagation_cross_entropy_loss_efficient(j, b, observations, labels):\n",
    "    batch_size = labels.size()[0]\n",
    "    len_ = T # length of chain\n",
    "    \n",
    "    loss = 0\n",
    "    \n",
    "    for b_idx in range(batch_size):\n",
    "\n",
    "        values = torch.Tensor([0, 1]) - 0.5\n",
    "        pairs = torch.mul(values.view(-1, 2).t(), values)\n",
    "        unit_msg = torch.ones([2, 1])\n",
    "        \n",
    "        forward_messages = torch.Tensor()\n",
    "        msg_left = unit_msg # no information traveling left to x1\n",
    "        # forward pass    \n",
    "        for i in range(0, len_ - 1):\n",
    "            \n",
    "            phi = torch.exp(torch.mul(b[b_idx][int(observations[b_idx][i])], values))\n",
    "            psi = torch.exp(torch.mul(j[b_idx], pairs))\n",
    "  \n",
    "            step1 = torch.mul(phi, msg_left.t())\n",
    "            step2 = torch.mul(step1, psi)\n",
    "            step3, _ = torch.max(step2, dim=1)\n",
    "\n",
    "            msg = step3.view(-1 ,1)\n",
    "            msg_with_data_term = torch.mul(phi.view(-1, 1), msg_left)\n",
    "            \n",
    "            forward_messages = torch.cat((forward_messages, msg_with_data_term), dim=1)    \n",
    "            msg_left = msg\n",
    "        \n",
    "        msg_with_data_term = torch.mul(phi.view(-1, 1), msg_left)\n",
    "        forward_messages = torch.cat((forward_messages, msg_with_data_term), dim=1) # last message\n",
    "        \n",
    "        backward_messages = unit_msg\n",
    "        msg_right = unit_msg # no information traveling right to x_n\n",
    "        # backward pass    \n",
    "        for i in range(len_ - 1, 0, -1):\n",
    "\n",
    "            phi = torch.exp(torch.mul(b[b_idx][int(observations[b_idx][i])], values))\n",
    "            psi = torch.exp(torch.mul(j[b_idx], pairs))\n",
    "            step1 = torch.mul(phi, msg_right.t())\n",
    "            step2 = torch.mul(step1, psi)\n",
    "            step3, _ = torch.max(step2, dim=1)\n",
    "\n",
    "            msg = step3.view(-1 ,1)\n",
    "            backward_messages = torch.cat((msg, backward_messages), dim=1)    \n",
    "            msg_right = msg\n",
    "\n",
    "        # calculate beliefs\n",
    "        messages = torch.mul(forward_messages, backward_messages)\n",
    "\n",
    "        norm_ = torch.norm(messages, p=1, dim=0)  # L1 norm\n",
    "        beliefs_norm = torch.div(messages, norm_)\n",
    "        beliefs_softmax = torch.softmax(beliefs_norm, dim=0)\n",
    "        loss += F.binary_cross_entropy(beliefs_softmax[1, :], labels[b_idx])\n",
    "        \n",
    "    return loss #, beliefs_norm[1, :] > 0.5"
   ]
  },
  {
   "cell_type": "markdown",
   "metadata": {},
   "source": [
    "### Sanity - check that we can reach loss zero"
   ]
  },
  {
   "cell_type": "code",
   "execution_count": 51,
   "metadata": {},
   "outputs": [],
   "source": [
    "ind = np.random.randint(1000)\n",
    "j = np.array([1])\n",
    "b = np.array([-0.32, 0.4])\n",
    "labels = y_dataset[ind]\n",
    "observations = X_dataset[ind]"
   ]
  },
  {
   "cell_type": "code",
   "execution_count": 52,
   "metadata": {},
   "outputs": [
    {
     "data": {
      "text/plain": [
       "((1,), (2,), (50,), (50,))"
      ]
     },
     "execution_count": 52,
     "metadata": {},
     "output_type": "execute_result"
    }
   ],
   "source": [
    "j.shape, b.shape, labels.shape, observations.shape"
   ]
  },
  {
   "cell_type": "code",
   "execution_count": 53,
   "metadata": {},
   "outputs": [],
   "source": [
    "# add batch dimension"
   ]
  },
  {
   "cell_type": "code",
   "execution_count": 54,
   "metadata": {},
   "outputs": [],
   "source": [
    "j = np.expand_dims(j, axis=0)\n",
    "b = np.expand_dims(b, axis=0)\n",
    "labels = np.expand_dims(labels, axis=0)\n",
    "observations = np.expand_dims(observations, axis=0)"
   ]
  },
  {
   "cell_type": "code",
   "execution_count": 55,
   "metadata": {},
   "outputs": [],
   "source": [
    "# move to tensors"
   ]
  },
  {
   "cell_type": "code",
   "execution_count": 56,
   "metadata": {},
   "outputs": [],
   "source": [
    "import torch"
   ]
  },
  {
   "cell_type": "code",
   "execution_count": 57,
   "metadata": {},
   "outputs": [],
   "source": [
    "j = torch.Tensor(j)\n",
    "b = torch.Tensor(b)\n",
    "labels = torch.Tensor(labels)\n",
    "observations = torch.Tensor(observations)"
   ]
  },
  {
   "cell_type": "code",
   "execution_count": 58,
   "metadata": {
    "scrolled": true
   },
   "outputs": [
    {
     "name": "stdout",
     "output_type": "stream",
     "text": [
      "CPU times: user 15.8 ms, sys: 1.55 ms, total: 17.3 ms\n",
      "Wall time: 16.1 ms\n"
     ]
    }
   ],
   "source": [
    "%%time\n",
    "loss = belief_propagation_cross_entropy_loss(j, b, observations, labels, chain_len=T)\n",
    "beliefs = belief_propagation_cross_entropy_loss(j, b, observations, labels, chain_len=T, train=False)[-1]"
   ]
  },
  {
   "cell_type": "code",
   "execution_count": 59,
   "metadata": {},
   "outputs": [
    {
     "data": {
      "text/plain": [
       "(tensor(0.5671),\n",
       " tensor([[1, 1, 1, 1, 1, 1, 1, 1, 1, 1, 1, 1, 1, 1, 1, 1, 1, 1, 1, 1, 1, 1, 1, 1,\n",
       "          1, 1, 1, 1, 1, 1, 1, 1, 1, 1, 1, 1, 1, 1, 1, 1, 1, 1, 1, 1, 1, 1, 1, 1,\n",
       "          1, 1]], dtype=torch.uint8),\n",
       " tensor(1, dtype=torch.uint8))"
      ]
     },
     "execution_count": 59,
     "metadata": {},
     "output_type": "execute_result"
    }
   ],
   "source": [
    "loss, torch.eq(labels, beliefs.float()), torch.all(torch.eq(labels, beliefs.float()))"
   ]
  },
  {
   "cell_type": "code",
   "execution_count": 60,
   "metadata": {},
   "outputs": [
    {
     "data": {
      "text/plain": [
       "tensor([[0., 0., 0., 0., 0., 0., 0., 0., 0., 0., 0., 0., 0., 0., 0., 0., 0., 0.,\n",
       "         0., 0., 0., 0., 0., 0., 0., 1., 1., 1., 1., 1., 1., 0., 0., 0., 0., 0.,\n",
       "         0., 0., 0., 0., 0., 0., 0., 0., 0., 0., 0., 0., 0., 0.]])"
      ]
     },
     "execution_count": 60,
     "metadata": {},
     "output_type": "execute_result"
    }
   ],
   "source": [
    "labels"
   ]
  },
  {
   "cell_type": "code",
   "execution_count": 61,
   "metadata": {},
   "outputs": [
    {
     "data": {
      "text/plain": [
       "tensor([0, 0, 0, 0, 0, 0, 0, 0, 0, 0, 0, 0, 0, 0, 0, 0, 0, 0, 0, 0, 0, 0, 0, 0,\n",
       "        0, 1, 1, 1, 1, 1, 1, 0, 0, 0, 0, 0, 0, 0, 0, 0, 0, 0, 0, 0, 0, 0, 0, 0,\n",
       "        0, 0], dtype=torch.uint8)"
      ]
     },
     "execution_count": 61,
     "metadata": {},
     "output_type": "execute_result"
    }
   ],
   "source": [
    "beliefs"
   ]
  },
  {
   "cell_type": "markdown",
   "metadata": {},
   "source": [
    "#### Plot loss as a function of b"
   ]
  },
  {
   "cell_type": "code",
   "execution_count": 81,
   "metadata": {},
   "outputs": [],
   "source": [
    "res = {'b0': [], 'b1': [], 'loss': []}\n",
    "\n",
    "for i_sample in range(1000):\n",
    "    labels = y_dataset[1]\n",
    "    observations = X_dataset[1]\n",
    "    j = 1  \n",
    "    b_base = 2 * (np.random.rand(2) - 0.5)\n",
    "  \n",
    "    j = np.expand_dims(j, axis=0)\n",
    "    b = np.expand_dims(b_base, axis=0)\n",
    "    labels = np.expand_dims(labels, axis=0)\n",
    "    observations = np.expand_dims(observations, axis=0)\n",
    "    \n",
    "    j = torch.Tensor(j)\n",
    "    b = torch.Tensor(b)\n",
    "    labels = torch.Tensor(labels)\n",
    "    observations = torch.Tensor(observations)\n",
    "    \n",
    "    res['b0'].append(b_base[0])\n",
    "    res['b1'].append(b_base[1])\n",
    "    res['loss'].append(float(belief_propagation_cross_entropy_loss(j, b, observations, labels, chain_len=T)))\n",
    "\n",
    "# make sure real values are on the graph\n",
    "b_base = [-0.32, 0.4]\n",
    "b = np.expand_dims(b_base, axis=0)\n",
    "b = torch.Tensor(b)\n",
    "res['b0'].append(b_base[0])\n",
    "res['b1'].append(b_base[1])\n",
    "res['loss'].append(float(belief_propagation_cross_entropy_loss(j, b, observations, labels, chain_len=T)))"
   ]
  },
  {
   "cell_type": "code",
   "execution_count": 82,
   "metadata": {},
   "outputs": [],
   "source": [
    "import pandas as pd"
   ]
  },
  {
   "cell_type": "code",
   "execution_count": 83,
   "metadata": {},
   "outputs": [],
   "source": [
    "df = pd.DataFrame(res)"
   ]
  },
  {
   "cell_type": "code",
   "execution_count": 84,
   "metadata": {},
   "outputs": [],
   "source": [
    "import plotly.express as px\n",
    "\n",
    "fig = px.scatter_3d(df, x=\"b0\", y=\"b1\", z=\"loss\", color=\"loss\",\n",
    "                 hover_data=['b0', 'b1', 'loss'])\n",
    "fig.write_html('loss_vs_data_term.html', auto_open=True)"
   ]
  },
  {
   "cell_type": "markdown",
   "metadata": {},
   "source": [
    "#### Doing the same as a function of all"
   ]
  },
  {
   "cell_type": "code",
   "execution_count": 86,
   "metadata": {},
   "outputs": [],
   "source": [
    "res = {'b0': [], 'b1': [], 'j': [], 'loss': []}\n",
    "\n",
    "for i_sample in range(1000):\n",
    "    labels = y_dataset[1]\n",
    "    observations = X_dataset[1]\n",
    "    \n",
    "    j_val = np.random.rand() + 0.5\n",
    "    b_base = 2 * (np.random.rand(2) - 0.5)\n",
    "    \n",
    "    b = np.expand_dims(b_base, axis=0)\n",
    "    j = np.expand_dims(j_val, axis=0)\n",
    "    labels = np.expand_dims(labels, axis=0)\n",
    "    observations = np.expand_dims(observations, axis=0)\n",
    "    \n",
    "    j = torch.Tensor(j)\n",
    "    b = torch.Tensor(b)\n",
    "    labels = torch.Tensor(labels)\n",
    "    observations = torch.Tensor(observations)\n",
    "    \n",
    "    res['b0'].append(b_base[0])\n",
    "    res['b1'].append(b_base[1])\n",
    "    res['j'].append(j_val)\n",
    "    res['loss'].append(float(belief_propagation_cross_entropy_loss(j, b, observations, labels, chain_len=T)))"
   ]
  },
  {
   "cell_type": "code",
   "execution_count": 87,
   "metadata": {},
   "outputs": [],
   "source": [
    "df = pd.DataFrame(res)"
   ]
  },
  {
   "cell_type": "code",
   "execution_count": 88,
   "metadata": {},
   "outputs": [
    {
     "data": {
      "text/html": [
       "<div>\n",
       "<style scoped>\n",
       "    .dataframe tbody tr th:only-of-type {\n",
       "        vertical-align: middle;\n",
       "    }\n",
       "\n",
       "    .dataframe tbody tr th {\n",
       "        vertical-align: top;\n",
       "    }\n",
       "\n",
       "    .dataframe thead th {\n",
       "        text-align: right;\n",
       "    }\n",
       "</style>\n",
       "<table border=\"1\" class=\"dataframe\">\n",
       "  <thead>\n",
       "    <tr style=\"text-align: right;\">\n",
       "      <th></th>\n",
       "      <th>b0</th>\n",
       "      <th>b1</th>\n",
       "      <th>j</th>\n",
       "      <th>loss</th>\n",
       "    </tr>\n",
       "  </thead>\n",
       "  <tbody>\n",
       "    <tr>\n",
       "      <th>0</th>\n",
       "      <td>0.090164</td>\n",
       "      <td>-0.328447</td>\n",
       "      <td>0.665573</td>\n",
       "      <td>0.811473</td>\n",
       "    </tr>\n",
       "    <tr>\n",
       "      <th>1</th>\n",
       "      <td>0.294405</td>\n",
       "      <td>0.163597</td>\n",
       "      <td>1.357335</td>\n",
       "      <td>0.575703</td>\n",
       "    </tr>\n",
       "    <tr>\n",
       "      <th>2</th>\n",
       "      <td>0.768406</td>\n",
       "      <td>-0.701573</td>\n",
       "      <td>0.826904</td>\n",
       "      <td>0.778174</td>\n",
       "    </tr>\n",
       "    <tr>\n",
       "      <th>3</th>\n",
       "      <td>0.640219</td>\n",
       "      <td>-0.255443</td>\n",
       "      <td>1.000309</td>\n",
       "      <td>0.670103</td>\n",
       "    </tr>\n",
       "    <tr>\n",
       "      <th>4</th>\n",
       "      <td>-0.166367</td>\n",
       "      <td>-0.980200</td>\n",
       "      <td>0.997439</td>\n",
       "      <td>0.924915</td>\n",
       "    </tr>\n",
       "    <tr>\n",
       "      <th>5</th>\n",
       "      <td>-0.254867</td>\n",
       "      <td>0.557632</td>\n",
       "      <td>0.574188</td>\n",
       "      <td>0.608870</td>\n",
       "    </tr>\n",
       "    <tr>\n",
       "      <th>6</th>\n",
       "      <td>-0.518469</td>\n",
       "      <td>0.773864</td>\n",
       "      <td>1.273343</td>\n",
       "      <td>0.547626</td>\n",
       "    </tr>\n",
       "    <tr>\n",
       "      <th>7</th>\n",
       "      <td>0.117375</td>\n",
       "      <td>0.713426</td>\n",
       "      <td>1.154906</td>\n",
       "      <td>0.563393</td>\n",
       "    </tr>\n",
       "    <tr>\n",
       "      <th>8</th>\n",
       "      <td>0.843897</td>\n",
       "      <td>0.160723</td>\n",
       "      <td>0.730916</td>\n",
       "      <td>0.604344</td>\n",
       "    </tr>\n",
       "    <tr>\n",
       "      <th>9</th>\n",
       "      <td>-0.599323</td>\n",
       "      <td>0.096696</td>\n",
       "      <td>1.267062</td>\n",
       "      <td>0.865352</td>\n",
       "    </tr>\n",
       "    <tr>\n",
       "      <th>10</th>\n",
       "      <td>0.624101</td>\n",
       "      <td>-0.329190</td>\n",
       "      <td>1.343289</td>\n",
       "      <td>0.674779</td>\n",
       "    </tr>\n",
       "    <tr>\n",
       "      <th>11</th>\n",
       "      <td>-0.878865</td>\n",
       "      <td>-0.886040</td>\n",
       "      <td>1.045779</td>\n",
       "      <td>0.954345</td>\n",
       "    </tr>\n",
       "    <tr>\n",
       "      <th>12</th>\n",
       "      <td>-0.490426</td>\n",
       "      <td>-0.615959</td>\n",
       "      <td>0.866116</td>\n",
       "      <td>0.899202</td>\n",
       "    </tr>\n",
       "    <tr>\n",
       "      <th>13</th>\n",
       "      <td>-0.070756</td>\n",
       "      <td>-0.150041</td>\n",
       "      <td>0.566140</td>\n",
       "      <td>0.792885</td>\n",
       "    </tr>\n",
       "    <tr>\n",
       "      <th>14</th>\n",
       "      <td>-0.216931</td>\n",
       "      <td>-0.063722</td>\n",
       "      <td>0.510051</td>\n",
       "      <td>0.782594</td>\n",
       "    </tr>\n",
       "    <tr>\n",
       "      <th>15</th>\n",
       "      <td>-0.093667</td>\n",
       "      <td>-0.283081</td>\n",
       "      <td>0.778705</td>\n",
       "      <td>0.838945</td>\n",
       "    </tr>\n",
       "    <tr>\n",
       "      <th>16</th>\n",
       "      <td>0.596789</td>\n",
       "      <td>0.820830</td>\n",
       "      <td>1.464748</td>\n",
       "      <td>0.559547</td>\n",
       "    </tr>\n",
       "    <tr>\n",
       "      <th>17</th>\n",
       "      <td>-0.157004</td>\n",
       "      <td>0.712135</td>\n",
       "      <td>0.592145</td>\n",
       "      <td>0.587783</td>\n",
       "    </tr>\n",
       "    <tr>\n",
       "      <th>18</th>\n",
       "      <td>-0.050683</td>\n",
       "      <td>0.521987</td>\n",
       "      <td>1.251693</td>\n",
       "      <td>0.560285</td>\n",
       "    </tr>\n",
       "    <tr>\n",
       "      <th>19</th>\n",
       "      <td>0.061211</td>\n",
       "      <td>0.821241</td>\n",
       "      <td>1.430845</td>\n",
       "      <td>0.554475</td>\n",
       "    </tr>\n",
       "    <tr>\n",
       "      <th>20</th>\n",
       "      <td>0.392045</td>\n",
       "      <td>0.068510</td>\n",
       "      <td>0.955102</td>\n",
       "      <td>0.596572</td>\n",
       "    </tr>\n",
       "    <tr>\n",
       "      <th>21</th>\n",
       "      <td>-0.071748</td>\n",
       "      <td>0.123086</td>\n",
       "      <td>0.508936</td>\n",
       "      <td>0.627664</td>\n",
       "    </tr>\n",
       "    <tr>\n",
       "      <th>22</th>\n",
       "      <td>0.120642</td>\n",
       "      <td>0.343796</td>\n",
       "      <td>0.586321</td>\n",
       "      <td>0.604806</td>\n",
       "    </tr>\n",
       "    <tr>\n",
       "      <th>23</th>\n",
       "      <td>0.614600</td>\n",
       "      <td>-0.744414</td>\n",
       "      <td>1.279660</td>\n",
       "      <td>0.843241</td>\n",
       "    </tr>\n",
       "    <tr>\n",
       "      <th>24</th>\n",
       "      <td>-0.306057</td>\n",
       "      <td>-0.634771</td>\n",
       "      <td>1.321900</td>\n",
       "      <td>0.943823</td>\n",
       "    </tr>\n",
       "    <tr>\n",
       "      <th>25</th>\n",
       "      <td>0.107058</td>\n",
       "      <td>-0.105753</td>\n",
       "      <td>1.484414</td>\n",
       "      <td>0.688940</td>\n",
       "    </tr>\n",
       "    <tr>\n",
       "      <th>26</th>\n",
       "      <td>0.614971</td>\n",
       "      <td>-0.825196</td>\n",
       "      <td>1.157282</td>\n",
       "      <td>0.838354</td>\n",
       "    </tr>\n",
       "    <tr>\n",
       "      <th>27</th>\n",
       "      <td>0.516094</td>\n",
       "      <td>-0.038394</td>\n",
       "      <td>0.948955</td>\n",
       "      <td>0.609363</td>\n",
       "    </tr>\n",
       "    <tr>\n",
       "      <th>28</th>\n",
       "      <td>0.914858</td>\n",
       "      <td>0.234640</td>\n",
       "      <td>1.382248</td>\n",
       "      <td>0.575882</td>\n",
       "    </tr>\n",
       "    <tr>\n",
       "      <th>29</th>\n",
       "      <td>-0.851696</td>\n",
       "      <td>0.984404</td>\n",
       "      <td>0.599800</td>\n",
       "      <td>0.631579</td>\n",
       "    </tr>\n",
       "    <tr>\n",
       "      <th>...</th>\n",
       "      <td>...</td>\n",
       "      <td>...</td>\n",
       "      <td>...</td>\n",
       "      <td>...</td>\n",
       "    </tr>\n",
       "    <tr>\n",
       "      <th>970</th>\n",
       "      <td>-0.436863</td>\n",
       "      <td>0.303083</td>\n",
       "      <td>1.285356</td>\n",
       "      <td>0.681425</td>\n",
       "    </tr>\n",
       "    <tr>\n",
       "      <th>971</th>\n",
       "      <td>0.518182</td>\n",
       "      <td>-0.453185</td>\n",
       "      <td>0.528659</td>\n",
       "      <td>0.745115</td>\n",
       "    </tr>\n",
       "    <tr>\n",
       "      <th>972</th>\n",
       "      <td>0.730334</td>\n",
       "      <td>0.322891</td>\n",
       "      <td>1.466802</td>\n",
       "      <td>0.570490</td>\n",
       "    </tr>\n",
       "    <tr>\n",
       "      <th>973</th>\n",
       "      <td>0.580759</td>\n",
       "      <td>0.459338</td>\n",
       "      <td>0.793396</td>\n",
       "      <td>0.586067</td>\n",
       "    </tr>\n",
       "    <tr>\n",
       "      <th>974</th>\n",
       "      <td>0.211353</td>\n",
       "      <td>-0.936812</td>\n",
       "      <td>0.965041</td>\n",
       "      <td>0.887490</td>\n",
       "    </tr>\n",
       "    <tr>\n",
       "      <th>975</th>\n",
       "      <td>-0.082354</td>\n",
       "      <td>-0.718081</td>\n",
       "      <td>1.238591</td>\n",
       "      <td>0.931201</td>\n",
       "    </tr>\n",
       "    <tr>\n",
       "      <th>976</th>\n",
       "      <td>0.200649</td>\n",
       "      <td>0.780542</td>\n",
       "      <td>1.183532</td>\n",
       "      <td>0.562006</td>\n",
       "    </tr>\n",
       "    <tr>\n",
       "      <th>977</th>\n",
       "      <td>-0.839438</td>\n",
       "      <td>-0.952547</td>\n",
       "      <td>1.281417</td>\n",
       "      <td>0.977569</td>\n",
       "    </tr>\n",
       "    <tr>\n",
       "      <th>978</th>\n",
       "      <td>-0.644515</td>\n",
       "      <td>-0.888251</td>\n",
       "      <td>0.533870</td>\n",
       "      <td>0.886186</td>\n",
       "    </tr>\n",
       "    <tr>\n",
       "      <th>979</th>\n",
       "      <td>-0.080528</td>\n",
       "      <td>-0.468065</td>\n",
       "      <td>1.086857</td>\n",
       "      <td>0.896246</td>\n",
       "    </tr>\n",
       "    <tr>\n",
       "      <th>980</th>\n",
       "      <td>-0.993770</td>\n",
       "      <td>0.113100</td>\n",
       "      <td>1.405043</td>\n",
       "      <td>0.893839</td>\n",
       "    </tr>\n",
       "    <tr>\n",
       "      <th>981</th>\n",
       "      <td>0.551191</td>\n",
       "      <td>0.893366</td>\n",
       "      <td>0.553955</td>\n",
       "      <td>0.579050</td>\n",
       "    </tr>\n",
       "    <tr>\n",
       "      <th>982</th>\n",
       "      <td>-0.429426</td>\n",
       "      <td>-0.810593</td>\n",
       "      <td>0.652571</td>\n",
       "      <td>0.884754</td>\n",
       "    </tr>\n",
       "    <tr>\n",
       "      <th>983</th>\n",
       "      <td>0.841011</td>\n",
       "      <td>0.721164</td>\n",
       "      <td>1.459912</td>\n",
       "      <td>0.562702</td>\n",
       "    </tr>\n",
       "    <tr>\n",
       "      <th>984</th>\n",
       "      <td>0.314571</td>\n",
       "      <td>0.698451</td>\n",
       "      <td>0.960457</td>\n",
       "      <td>0.571150</td>\n",
       "    </tr>\n",
       "    <tr>\n",
       "      <th>985</th>\n",
       "      <td>-0.410489</td>\n",
       "      <td>0.844609</td>\n",
       "      <td>0.710962</td>\n",
       "      <td>0.595574</td>\n",
       "    </tr>\n",
       "    <tr>\n",
       "      <th>986</th>\n",
       "      <td>0.128932</td>\n",
       "      <td>-0.748287</td>\n",
       "      <td>0.736610</td>\n",
       "      <td>0.853457</td>\n",
       "    </tr>\n",
       "    <tr>\n",
       "      <th>987</th>\n",
       "      <td>-0.585142</td>\n",
       "      <td>0.264183</td>\n",
       "      <td>0.960598</td>\n",
       "      <td>0.738441</td>\n",
       "    </tr>\n",
       "    <tr>\n",
       "      <th>988</th>\n",
       "      <td>-0.493110</td>\n",
       "      <td>0.778773</td>\n",
       "      <td>0.895126</td>\n",
       "      <td>0.590396</td>\n",
       "    </tr>\n",
       "    <tr>\n",
       "      <th>989</th>\n",
       "      <td>-0.194920</td>\n",
       "      <td>0.153910</td>\n",
       "      <td>0.983524</td>\n",
       "      <td>0.659889</td>\n",
       "    </tr>\n",
       "    <tr>\n",
       "      <th>990</th>\n",
       "      <td>-0.326255</td>\n",
       "      <td>0.547607</td>\n",
       "      <td>0.642106</td>\n",
       "      <td>0.612676</td>\n",
       "    </tr>\n",
       "    <tr>\n",
       "      <th>991</th>\n",
       "      <td>-0.697589</td>\n",
       "      <td>-0.551317</td>\n",
       "      <td>0.749472</td>\n",
       "      <td>0.888207</td>\n",
       "    </tr>\n",
       "    <tr>\n",
       "      <th>992</th>\n",
       "      <td>0.112887</td>\n",
       "      <td>-0.286097</td>\n",
       "      <td>1.275719</td>\n",
       "      <td>0.889084</td>\n",
       "    </tr>\n",
       "    <tr>\n",
       "      <th>993</th>\n",
       "      <td>0.947648</td>\n",
       "      <td>0.445795</td>\n",
       "      <td>1.043755</td>\n",
       "      <td>0.578791</td>\n",
       "    </tr>\n",
       "    <tr>\n",
       "      <th>994</th>\n",
       "      <td>-0.323417</td>\n",
       "      <td>-0.529746</td>\n",
       "      <td>1.364003</td>\n",
       "      <td>0.942208</td>\n",
       "    </tr>\n",
       "    <tr>\n",
       "      <th>995</th>\n",
       "      <td>-0.439486</td>\n",
       "      <td>-0.043872</td>\n",
       "      <td>1.437057</td>\n",
       "      <td>0.917240</td>\n",
       "    </tr>\n",
       "    <tr>\n",
       "      <th>996</th>\n",
       "      <td>-0.343217</td>\n",
       "      <td>-0.250082</td>\n",
       "      <td>1.030316</td>\n",
       "      <td>0.882496</td>\n",
       "    </tr>\n",
       "    <tr>\n",
       "      <th>997</th>\n",
       "      <td>0.725647</td>\n",
       "      <td>-0.304922</td>\n",
       "      <td>1.339887</td>\n",
       "      <td>0.655820</td>\n",
       "    </tr>\n",
       "    <tr>\n",
       "      <th>998</th>\n",
       "      <td>-0.201295</td>\n",
       "      <td>-0.703504</td>\n",
       "      <td>0.805765</td>\n",
       "      <td>0.884480</td>\n",
       "    </tr>\n",
       "    <tr>\n",
       "      <th>999</th>\n",
       "      <td>0.182571</td>\n",
       "      <td>-0.784148</td>\n",
       "      <td>0.680323</td>\n",
       "      <td>0.842619</td>\n",
       "    </tr>\n",
       "  </tbody>\n",
       "</table>\n",
       "<p>1000 rows × 4 columns</p>\n",
       "</div>"
      ],
      "text/plain": [
       "           b0        b1         j      loss\n",
       "0    0.090164 -0.328447  0.665573  0.811473\n",
       "1    0.294405  0.163597  1.357335  0.575703\n",
       "2    0.768406 -0.701573  0.826904  0.778174\n",
       "3    0.640219 -0.255443  1.000309  0.670103\n",
       "4   -0.166367 -0.980200  0.997439  0.924915\n",
       "5   -0.254867  0.557632  0.574188  0.608870\n",
       "6   -0.518469  0.773864  1.273343  0.547626\n",
       "7    0.117375  0.713426  1.154906  0.563393\n",
       "8    0.843897  0.160723  0.730916  0.604344\n",
       "9   -0.599323  0.096696  1.267062  0.865352\n",
       "10   0.624101 -0.329190  1.343289  0.674779\n",
       "11  -0.878865 -0.886040  1.045779  0.954345\n",
       "12  -0.490426 -0.615959  0.866116  0.899202\n",
       "13  -0.070756 -0.150041  0.566140  0.792885\n",
       "14  -0.216931 -0.063722  0.510051  0.782594\n",
       "15  -0.093667 -0.283081  0.778705  0.838945\n",
       "16   0.596789  0.820830  1.464748  0.559547\n",
       "17  -0.157004  0.712135  0.592145  0.587783\n",
       "18  -0.050683  0.521987  1.251693  0.560285\n",
       "19   0.061211  0.821241  1.430845  0.554475\n",
       "20   0.392045  0.068510  0.955102  0.596572\n",
       "21  -0.071748  0.123086  0.508936  0.627664\n",
       "22   0.120642  0.343796  0.586321  0.604806\n",
       "23   0.614600 -0.744414  1.279660  0.843241\n",
       "24  -0.306057 -0.634771  1.321900  0.943823\n",
       "25   0.107058 -0.105753  1.484414  0.688940\n",
       "26   0.614971 -0.825196  1.157282  0.838354\n",
       "27   0.516094 -0.038394  0.948955  0.609363\n",
       "28   0.914858  0.234640  1.382248  0.575882\n",
       "29  -0.851696  0.984404  0.599800  0.631579\n",
       "..        ...       ...       ...       ...\n",
       "970 -0.436863  0.303083  1.285356  0.681425\n",
       "971  0.518182 -0.453185  0.528659  0.745115\n",
       "972  0.730334  0.322891  1.466802  0.570490\n",
       "973  0.580759  0.459338  0.793396  0.586067\n",
       "974  0.211353 -0.936812  0.965041  0.887490\n",
       "975 -0.082354 -0.718081  1.238591  0.931201\n",
       "976  0.200649  0.780542  1.183532  0.562006\n",
       "977 -0.839438 -0.952547  1.281417  0.977569\n",
       "978 -0.644515 -0.888251  0.533870  0.886186\n",
       "979 -0.080528 -0.468065  1.086857  0.896246\n",
       "980 -0.993770  0.113100  1.405043  0.893839\n",
       "981  0.551191  0.893366  0.553955  0.579050\n",
       "982 -0.429426 -0.810593  0.652571  0.884754\n",
       "983  0.841011  0.721164  1.459912  0.562702\n",
       "984  0.314571  0.698451  0.960457  0.571150\n",
       "985 -0.410489  0.844609  0.710962  0.595574\n",
       "986  0.128932 -0.748287  0.736610  0.853457\n",
       "987 -0.585142  0.264183  0.960598  0.738441\n",
       "988 -0.493110  0.778773  0.895126  0.590396\n",
       "989 -0.194920  0.153910  0.983524  0.659889\n",
       "990 -0.326255  0.547607  0.642106  0.612676\n",
       "991 -0.697589 -0.551317  0.749472  0.888207\n",
       "992  0.112887 -0.286097  1.275719  0.889084\n",
       "993  0.947648  0.445795  1.043755  0.578791\n",
       "994 -0.323417 -0.529746  1.364003  0.942208\n",
       "995 -0.439486 -0.043872  1.437057  0.917240\n",
       "996 -0.343217 -0.250082  1.030316  0.882496\n",
       "997  0.725647 -0.304922  1.339887  0.655820\n",
       "998 -0.201295 -0.703504  0.805765  0.884480\n",
       "999  0.182571 -0.784148  0.680323  0.842619\n",
       "\n",
       "[1000 rows x 4 columns]"
      ]
     },
     "execution_count": 88,
     "metadata": {},
     "output_type": "execute_result"
    }
   ],
   "source": [
    "df"
   ]
  },
  {
   "cell_type": "code",
   "execution_count": 89,
   "metadata": {},
   "outputs": [],
   "source": [
    "import plotly.express as px\n",
    "fig = px.scatter_3d(df, x=\"b0\", y=\"b1\", z=\"j\", color=\"loss\",\n",
    "                 hover_data=['b0', 'b1', 'j', 'loss'],\n",
    "                   )\n",
    "fig.write_html('loss_vs_all.html', auto_open=True)"
   ]
  },
  {
   "cell_type": "code",
   "execution_count": null,
   "metadata": {},
   "outputs": [],
   "source": []
  }
 ],
 "metadata": {
  "kernelspec": {
   "display_name": "Python 3",
   "language": "python",
   "name": "python3"
  },
  "language_info": {
   "codemirror_mode": {
    "name": "ipython",
    "version": 3
   },
   "file_extension": ".py",
   "mimetype": "text/x-python",
   "name": "python",
   "nbconvert_exporter": "python",
   "pygments_lexer": "ipython3",
   "version": "3.6.8"
  }
 },
 "nbformat": 4,
 "nbformat_minor": 2
}
