{
 "cells": [
  {
   "cell_type": "code",
   "execution_count": 1,
   "metadata": {},
   "outputs": [],
   "source": [
    "import pycrfsuite"
   ]
  },
  {
   "cell_type": "code",
   "execution_count": 159,
   "metadata": {},
   "outputs": [
    {
     "name": "stdout",
     "output_type": "stream",
     "text": [
      "Populating the interactive namespace from numpy and matplotlib\n"
     ]
    }
   ],
   "source": [
    "from collections import Counter\n",
    "import numpy as np\n",
    "import pandas as pd\n",
    "%pylab inline"
   ]
  },
  {
   "cell_type": "code",
   "execution_count": 3,
   "metadata": {},
   "outputs": [],
   "source": [
    "from sklearn.model_selection import train_test_split\n",
    "from sklearn.metrics import classification_report"
   ]
  },
  {
   "cell_type": "code",
   "execution_count": 4,
   "metadata": {},
   "outputs": [],
   "source": [
    "from _chain import Chain\n",
    "from _pytorch_chain_loss import belief_propagation_cross_entropy_loss"
   ]
  },
  {
   "cell_type": "code",
   "execution_count": null,
   "metadata": {},
   "outputs": [],
   "source": [
    "import progressbar"
   ]
  },
  {
   "cell_type": "markdown",
   "metadata": {},
   "source": [
    "### Define Binary HMM "
   ]
  },
  {
   "cell_type": "raw",
   "metadata": {},
   "source": [
    ">>> phi(x,_i y_i) represents the data term\n",
    ">>> phi(y_i, y_i+1) represents the smoothness term"
   ]
  },
  {
   "cell_type": "code",
   "execution_count": 125,
   "metadata": {},
   "outputs": [],
   "source": [
    "def f_phi(x1, x2):\n",
    "#     p = np.array([\n",
    "#     [0.58, 0.42],\n",
    "#     [0.42, 0.58]])\n",
    "#     return p[x1, x2]\n",
    "    b = [-0.32, 0.4]\n",
    "    return np.round(exp(b[x2] * (x1 - 0.5)), 2)"
   ]
  },
  {
   "cell_type": "code",
   "execution_count": 126,
   "metadata": {},
   "outputs": [],
   "source": [
    "def f_psi(x1, x2):\n",
    "#     p = np.array([\n",
    "#     [0.62, 0.38],\n",
    "#     [0.34, 0.66]])\n",
    "#     return p[x1, x2]\n",
    "    j = 1\n",
    "    return np.round(exp(j * (x1 - 0.5) * (x2 - 0.5)), 2)"
   ]
  },
  {
   "cell_type": "code",
   "execution_count": 127,
   "metadata": {},
   "outputs": [],
   "source": [
    "phi = f_phi\n",
    "psi = f_psi"
   ]
  },
  {
   "cell_type": "code",
   "execution_count": 128,
   "metadata": {},
   "outputs": [],
   "source": [
    "T = 50 # chain length"
   ]
  },
  {
   "cell_type": "code",
   "execution_count": 129,
   "metadata": {},
   "outputs": [],
   "source": [
    "chain = Chain(length=T, phi=phi, psi=psi, possible_values=[0, 1])"
   ]
  },
  {
   "cell_type": "markdown",
   "metadata": {},
   "source": [
    "### Create Random Trainset"
   ]
  },
  {
   "cell_type": "code",
   "execution_count": 130,
   "metadata": {},
   "outputs": [],
   "source": [
    "possible_values = [0, 1]"
   ]
  },
  {
   "cell_type": "code",
   "execution_count": 131,
   "metadata": {},
   "outputs": [],
   "source": [
    "N = 1000"
   ]
  },
  {
   "cell_type": "code",
   "execution_count": 132,
   "metadata": {
    "scrolled": true
   },
   "outputs": [
    {
     "name": "stdout",
     "output_type": "stream",
     "text": [
      "WARNING: May cause numerical issue for MAP!\n",
      "WARNING: May cause numerical issue for MAP!\n",
      "WARNING: May cause numerical issue for MAP!\n",
      "WARNING: May cause numerical issue for MAP!\n",
      "WARNING: May cause numerical issue for MAP!\n",
      "WARNING: May cause numerical issue for MAP!\n",
      "WARNING: May cause numerical issue for MAP!\n",
      "WARNING: May cause numerical issue for MAP!\n",
      "WARNING: May cause numerical issue for MAP!\n",
      "WARNING: May cause numerical issue for MAP!\n",
      "WARNING: May cause numerical issue for MAP!\n",
      "WARNING: May cause numerical issue for MAP!\n",
      "WARNING: May cause numerical issue for MAP!\n",
      "WARNING: May cause numerical issue for MAP!\n",
      "WARNING: May cause numerical issue for MAP!\n",
      "WARNING: May cause numerical issue for MAP!\n",
      "WARNING: May cause numerical issue for MAP!\n",
      "WARNING: May cause numerical issue for MAP!\n",
      "WARNING: May cause numerical issue for MAP!\n",
      "WARNING: May cause numerical issue for MAP!\n",
      "WARNING: May cause numerical issue for MAP!\n",
      "WARNING: May cause numerical issue for MAP!\n",
      "WARNING: May cause numerical issue for MAP!\n",
      "WARNING: May cause numerical issue for MAP!\n",
      "WARNING: May cause numerical issue for MAP!\n",
      "WARNING: May cause numerical issue for MAP!\n",
      "WARNING: May cause numerical issue for MAP!\n",
      "WARNING: May cause numerical issue for MAP!\n",
      "WARNING: May cause numerical issue for MAP!\n",
      "WARNING: May cause numerical issue for MAP!\n",
      "CPU times: user 6.13 s, sys: 30.9 ms, total: 6.16 s\n",
      "Wall time: 6.15 s\n"
     ]
    }
   ],
   "source": [
    "%%time \n",
    "\n",
    "X_dataset = []\n",
    "y_dataset= []\n",
    "\n",
    "for i in range(N):\n",
    "    x = np.random.rand(T)\n",
    "    x_binary = 1 * (x > 0.5)\n",
    "    \n",
    "    chain.update_observed(x_binary)\n",
    "    y = chain.get_max_apostriori_beliefs()\n",
    "\n",
    "    X_dataset.append(x_binary)\n",
    "    y_dataset.append(y)"
   ]
  },
  {
   "cell_type": "code",
   "execution_count": 133,
   "metadata": {},
   "outputs": [],
   "source": [
    "# turn to numpy arrays\n",
    "X_dataset = np.array([np.array(xi) for xi in X_dataset])\n",
    "y_dataset = np.array([np.array(yi) for yi in y_dataset])"
   ]
  },
  {
   "cell_type": "code",
   "execution_count": 134,
   "metadata": {},
   "outputs": [
    {
     "data": {
      "text/plain": [
       "<matplotlib.legend.Legend at 0x1a32fd17b8>"
      ]
     },
     "execution_count": 134,
     "metadata": {},
     "output_type": "execute_result"
    },
    {
     "data": {
      "image/png": "[encoded data removed]",
      "text/plain": [
       "<Figure size 432x288 with 1 Axes>"
      ]
     },
     "metadata": {
      "needs_background": "light"
     },
     "output_type": "display_data"
    }
   ],
   "source": [
    "plot(X_dataset[0], 'o')\n",
    "plot(y_dataset[0] + 0.05, 'ro')\n",
    "legend(['observations', 'labels'])"
   ]
  },
  {
   "cell_type": "markdown",
   "metadata": {},
   "source": [
    "### Train Dummy Model (predicts y = x)"
   ]
  },
  {
   "cell_type": "markdown",
   "metadata": {},
   "source": [
    "#### Train-Test split"
   ]
  },
  {
   "cell_type": "code",
   "execution_count": 135,
   "metadata": {},
   "outputs": [],
   "source": [
    "X_train, X_test, y_train, y_test = train_test_split(X_dataset, y_dataset, test_size=0.2)"
   ]
  },
  {
   "cell_type": "markdown",
   "metadata": {},
   "source": [
    "#### Evaluate "
   ]
  },
  {
   "cell_type": "code",
   "execution_count": 136,
   "metadata": {},
   "outputs": [],
   "source": [
    "y_pred = X_test"
   ]
  },
  {
   "cell_type": "code",
   "execution_count": 137,
   "metadata": {},
   "outputs": [
    {
     "name": "stdout",
     "output_type": "stream",
     "text": [
      "              precision    recall  f1-score   support\n",
      "\n",
      "           0       0.59      0.79      0.68      3755\n",
      "           1       0.84      0.67      0.75      6245\n",
      "\n",
      "   micro avg       0.72      0.72      0.72     10000\n",
      "   macro avg       0.72      0.73      0.71     10000\n",
      "weighted avg       0.75      0.72      0.72     10000\n",
      "\n"
     ]
    }
   ],
   "source": [
    "labels = {0 : 0, 1: 1}\n",
    "\n",
    "predictions = np.array([labels[tag] for row in y_pred for tag in row])\n",
    "truths = np.array([labels[tag] for row in y_test for tag in row])\n",
    "\n",
    "print(classification_report(\n",
    "    truths, predictions,\n",
    "    target_names=[\"0\", \"1\"]))"
   ]
  },
  {
   "cell_type": "markdown",
   "metadata": {},
   "source": [
    "### Train CRF"
   ]
  },
  {
   "cell_type": "code",
   "execution_count": 138,
   "metadata": {},
   "outputs": [],
   "source": [
    "def extract_features(x):\n",
    "    features = [\n",
    "        'x.current=' + str(x)\n",
    "    ]\n",
    "    return features"
   ]
  },
  {
   "cell_type": "code",
   "execution_count": 139,
   "metadata": {},
   "outputs": [],
   "source": [
    "def extract_labels(y):\n",
    "    return str(y)"
   ]
  },
  {
   "cell_type": "markdown",
   "metadata": {},
   "source": [
    "#### Preprocess Dataset"
   ]
  },
  {
   "cell_type": "code",
   "execution_count": 140,
   "metadata": {},
   "outputs": [],
   "source": [
    "X = []\n",
    "y = []\n",
    "\n",
    "for xseq, yseq in zip(X_dataset, y_dataset):\n",
    "    X_features = [extract_features(x_i) for x_i in xseq]\n",
    "    y_labels = [extract_labels(y_i) for y_i in yseq]\n",
    "    \n",
    "    X.append(X_features)\n",
    "    y.append(y_labels)"
   ]
  },
  {
   "cell_type": "markdown",
   "metadata": {},
   "source": [
    "#### Train-Test split "
   ]
  },
  {
   "cell_type": "code",
   "execution_count": 141,
   "metadata": {},
   "outputs": [],
   "source": [
    "X_train, X_test, y_train, y_test = train_test_split(X, y, test_size=0.2)"
   ]
  },
  {
   "cell_type": "markdown",
   "metadata": {},
   "source": [
    "#### Train "
   ]
  },
  {
   "cell_type": "code",
   "execution_count": 142,
   "metadata": {},
   "outputs": [],
   "source": [
    "import sklearn_crfsuite\n",
    "from sklearn_crfsuite import scorers\n",
    "from sklearn_crfsuite import metrics"
   ]
  },
  {
   "cell_type": "code",
   "execution_count": 143,
   "metadata": {},
   "outputs": [
    {
     "name": "stdout",
     "output_type": "stream",
     "text": [
      "CPU times: user 250 ms, sys: 8.02 ms, total: 258 ms\n",
      "Wall time: 259 ms\n"
     ]
    }
   ],
   "source": [
    "%%time\n",
    "crf = sklearn_crfsuite.CRF(\n",
    "    algorithm='lbfgs',\n",
    "    c1=0,\n",
    "    c2=0,  # regulate this up to 1 if needed\n",
    "    max_iterations=5000,\n",
    "    all_possible_transitions=True,\n",
    "    all_possible_states=True\n",
    ")\n",
    "crf.fit(X_train, y_train)"
   ]
  },
  {
   "cell_type": "code",
   "execution_count": 144,
   "metadata": {},
   "outputs": [],
   "source": [
    "y_pred = crf.predict(X_test)"
   ]
  },
  {
   "cell_type": "code",
   "execution_count": 145,
   "metadata": {},
   "outputs": [
    {
     "data": {
      "text/plain": [
       "['1', '0']"
      ]
     },
     "execution_count": 145,
     "metadata": {},
     "output_type": "execute_result"
    }
   ],
   "source": [
    "labels = list(crf.classes_)\n",
    "labels"
   ]
  },
  {
   "cell_type": "code",
   "execution_count": 146,
   "metadata": {},
   "outputs": [
    {
     "name": "stdout",
     "output_type": "stream",
     "text": [
      "              precision    recall  f1-score   support\n",
      "\n",
      "           0      1.000     1.000     1.000      3879\n",
      "           1      1.000     1.000     1.000      6121\n",
      "\n",
      "   micro avg      1.000     1.000     1.000     10000\n",
      "   macro avg      1.000     1.000     1.000     10000\n",
      "weighted avg      1.000     1.000     1.000     10000\n",
      "\n"
     ]
    }
   ],
   "source": [
    "sorted_labels = sorted(\n",
    "    labels,\n",
    "    key=lambda name: (name[1:], name[0])\n",
    ")\n",
    "print(metrics.flat_classification_report(\n",
    "    y_test, y_pred, labels=sorted_labels, digits=3\n",
    "))"
   ]
  },
  {
   "cell_type": "code",
   "execution_count": 147,
   "metadata": {},
   "outputs": [
    {
     "name": "stdout",
     "output_type": "stream",
     "text": [
      "Transitions:\n",
      "0      -> 0       201.433958\n",
      "1      -> 1       181.121610\n",
      "1      -> 0       -190.162631\n",
      "0      -> 1       -192.392937\n"
     ]
    }
   ],
   "source": [
    "def print_transitions(trans_features):\n",
    "    for (label_from, label_to), weight in trans_features:\n",
    "        print(\"%-6s -> %-7s %0.6f\" % (label_from, label_to, weight))\n",
    "\n",
    "print(\"Transitions:\")\n",
    "print_transitions(Counter(crf.transition_features_).most_common(20))"
   ]
  },
  {
   "cell_type": "code",
   "execution_count": 148,
   "metadata": {},
   "outputs": [
    {
     "name": "stdout",
     "output_type": "stream",
     "text": [
      "States:\n",
      "160.814494 1        x.current=1\n",
      "111.539195 0        x.current=0\n",
      "-111.539195 1        x.current=0\n",
      "-160.814494 0        x.current=1\n"
     ]
    }
   ],
   "source": [
    "def print_state_features(state_features):\n",
    "    for (attr, label), weight in state_features:\n",
    "        print(\"%0.6f %-8s %s\" % (weight, label, attr))\n",
    "\n",
    "print(\"States:\")\n",
    "print_state_features(Counter(crf.state_features_).most_common(30))"
   ]
  },
  {
   "cell_type": "markdown",
   "metadata": {},
   "source": [
    "### Training FC NN "
   ]
  },
  {
   "cell_type": "markdown",
   "metadata": {},
   "source": [
    "#### Define "
   ]
  },
  {
   "cell_type": "code",
   "execution_count": 149,
   "metadata": {},
   "outputs": [],
   "source": [
    "import torch\n",
    "import torch.nn.functional as F\n",
    "from torch.autograd import Variable\n",
    "import torch.optim as optim"
   ]
  },
  {
   "cell_type": "code",
   "execution_count": 150,
   "metadata": {},
   "outputs": [],
   "source": [
    "n_epochs = 200\n",
    "batch_size, D_in, D_hidden, D_out = 256, T, T, T"
   ]
  },
  {
   "cell_type": "code",
   "execution_count": 151,
   "metadata": {},
   "outputs": [],
   "source": [
    "model = torch.nn.Sequential(\n",
    "          torch.nn.Linear(D_in, D_hidden),\n",
    "          torch.nn.ReLU(),\n",
    "          torch.nn.Linear(D_hidden, D_hidden),\n",
    "          torch.nn.ReLU(),\n",
    "          torch.nn.Linear(D_hidden, D_hidden),\n",
    "          torch.nn.ReLU(),\n",
    "          torch.nn.Linear(D_hidden, D_hidden),\n",
    "          torch.nn.ReLU(),\n",
    "          torch.nn.Linear(D_hidden, D_hidden),\n",
    "          torch.nn.ReLU(),\n",
    "          torch.nn.Linear(D_hidden, D_out),\n",
    "          torch.nn.Sigmoid()\n",
    "        )\n",
    "\n",
    "optimizer = optim.Adam(model.parameters(), lr=0.01)"
   ]
  },
  {
   "cell_type": "code",
   "execution_count": 152,
   "metadata": {},
   "outputs": [],
   "source": [
    "def count_parameters(model):\n",
    "    return sum(p.numel() for p in model.parameters() if p.requires_grad)"
   ]
  },
  {
   "cell_type": "code",
   "execution_count": 153,
   "metadata": {},
   "outputs": [
    {
     "name": "stdout",
     "output_type": "stream",
     "text": [
      "Network has 15300 parameters, notice your training set size!\n"
     ]
    }
   ],
   "source": [
    "print('Network has {} parameters, notice your training set size!'.format(count_parameters(model)))"
   ]
  },
  {
   "cell_type": "code",
   "execution_count": 154,
   "metadata": {},
   "outputs": [],
   "source": [
    "from torch.utils.data import Dataset\n",
    "\n",
    "class ChainDataset(Dataset):\n",
    "    \n",
    "    def __init__(self, X, y, flatten=True):\n",
    "        self._X = X\n",
    "        self._y = y\n",
    "\n",
    "    def __len__(self):\n",
    "        return len(self._X)\n",
    "\n",
    "    def __getitem__(self, idx):\n",
    "        sample = {\n",
    "            'X': torch.from_numpy(self._X[idx]).float(),\n",
    "            'y': torch.from_numpy(self._y[idx]).float()  \n",
    "        }\n",
    "        return sample"
   ]
  },
  {
   "cell_type": "code",
   "execution_count": 155,
   "metadata": {},
   "outputs": [],
   "source": [
    "X_train, X_test, y_train, y_test = train_test_split(X_dataset, y_dataset, test_size=0.2)"
   ]
  },
  {
   "cell_type": "code",
   "execution_count": 156,
   "metadata": {},
   "outputs": [],
   "source": [
    "trainset = ChainDataset(X_train, y_train)\n",
    "testset = ChainDataset(X_test, y_test)\n",
    "trainloader = torch.utils.data.DataLoader(trainset, batch_size=batch_size, shuffle=True, num_workers=2)\n",
    "validloader = torch.utils.data.DataLoader(testset, batch_size=len(testset), shuffle=True, num_workers=2)"
   ]
  },
  {
   "cell_type": "markdown",
   "metadata": {},
   "source": [
    "#### Train "
   ]
  },
  {
   "cell_type": "code",
   "execution_count": 41,
   "metadata": {
    "scrolled": true
   },
   "outputs": [
    {
     "name": "stdout",
     "output_type": "stream",
     "text": [
      "epoch 10:: loss = 0.6386070847511292, validation loss = 0.6420876383781433\n",
      "epoch 20:: loss = 0.5417201519012451, validation loss = 0.5618528723716736\n",
      "epoch 30:: loss = 0.4871368110179901, validation loss = 0.543056070804596\n",
      "epoch 40:: loss = 0.4642716944217682, validation loss = 0.5319937467575073\n",
      "epoch 50:: loss = 0.426086962223053, validation loss = 0.5039685964584351\n",
      "epoch 60:: loss = 0.3601410984992981, validation loss = 0.4992850124835968\n",
      "epoch 70:: loss = 0.3880794942378998, validation loss = 0.5033949017524719\n",
      "epoch 80:: loss = 0.3555992841720581, validation loss = 0.5435436964035034\n",
      "epoch 90:: loss = 0.30707454681396484, validation loss = 0.5567889213562012\n",
      "epoch 100:: loss = 0.3293323814868927, validation loss = 0.5889564156532288\n",
      "epoch 110:: loss = 0.2705768644809723, validation loss = 0.620589554309845\n",
      "epoch 120:: loss = 0.26991507411003113, validation loss = 0.6075847148895264\n",
      "epoch 130:: loss = 0.2661522924900055, validation loss = 0.6937414407730103\n",
      "epoch 140:: loss = 0.2466992884874344, validation loss = 0.642142653465271\n",
      "epoch 150:: loss = 0.23383773863315582, validation loss = 0.6901923418045044\n",
      "epoch 160:: loss = 0.2348562777042389, validation loss = 0.7198590636253357\n",
      "epoch 170:: loss = 0.20908235013484955, validation loss = 0.7527441382408142\n",
      "epoch 180:: loss = 0.16872523725032806, validation loss = 0.742645263671875\n",
      "epoch 190:: loss = 0.18181857466697693, validation loss = 0.839095413684845\n",
      "epoch 200:: loss = 0.1568867713212967, validation loss = 0.8617414832115173\n"
     ]
    }
   ],
   "source": [
    "model.train()\n",
    "learning_curve = []\n",
    "\n",
    "for epoch in range(1, n_epochs + 1):\n",
    "    \n",
    "    for batch in trainloader:\n",
    "        \n",
    "        X_batch, y_batch = Variable(batch['X']), Variable(batch['y'])\n",
    "        model.zero_grad()\n",
    "        \n",
    "        y_pred = model(X_batch)\n",
    "        loss = F.binary_cross_entropy(y_pred, y_batch)\n",
    "        \n",
    "        loss.backward()\n",
    "        optimizer.step()\n",
    "    \n",
    "    if epoch % 10 == 0:\n",
    "        valid = next(iter(validloader))\n",
    "        X_valid, y_valid = Variable(valid['X']), Variable(valid['y']) \n",
    "        y_pred_valid = model(X_valid)\n",
    "        loss_valid = F.binary_cross_entropy(y_pred_valid, y_valid)\n",
    "        \n",
    "        print('epoch {}:: loss = {}, validation loss = {}'. format(epoch, loss, loss_valid))\n",
    "        learning_curve.append((loss, loss_valid))"
   ]
  },
  {
   "cell_type": "code",
   "execution_count": 42,
   "metadata": {},
   "outputs": [
    {
     "data": {
      "text/plain": [
       "<matplotlib.legend.Legend at 0x1a2d73e5c0>"
      ]
     },
     "execution_count": 42,
     "metadata": {},
     "output_type": "execute_result"
    },
    {
     "data": {
      "image/png": "[encoded data removed]",
      "text/plain": [
       "<Figure size 432x288 with 1 Axes>"
      ]
     },
     "metadata": {
      "needs_background": "light"
     },
     "output_type": "display_data"
    }
   ],
   "source": [
    "plot([tr_loss for tr_loss, valid_loss in learning_curve]);\n",
    "plot([valid_loss for tr_loss, valid_loss in learning_curve]);\n",
    "legend(['train_loss', 'valid_loss'])"
   ]
  },
  {
   "cell_type": "markdown",
   "metadata": {},
   "source": [
    "#### Evaluate "
   ]
  },
  {
   "cell_type": "code",
   "execution_count": 37,
   "metadata": {},
   "outputs": [
    {
     "data": {
      "text/plain": [
       "Sequential(\n",
       "  (0): Linear(in_features=50, out_features=50, bias=True)\n",
       "  (1): ReLU()\n",
       "  (2): Linear(in_features=50, out_features=50, bias=True)\n",
       "  (3): ReLU()\n",
       "  (4): Linear(in_features=50, out_features=50, bias=True)\n",
       "  (5): ReLU()\n",
       "  (6): Linear(in_features=50, out_features=50, bias=True)\n",
       "  (7): ReLU()\n",
       "  (8): Linear(in_features=50, out_features=50, bias=True)\n",
       "  (9): ReLU()\n",
       "  (10): Linear(in_features=50, out_features=50, bias=True)\n",
       "  (11): Sigmoid()\n",
       ")"
      ]
     },
     "execution_count": 37,
     "metadata": {},
     "output_type": "execute_result"
    }
   ],
   "source": [
    "model.eval()"
   ]
  },
  {
   "cell_type": "code",
   "execution_count": 38,
   "metadata": {},
   "outputs": [],
   "source": [
    "y_pred = np.array([model(torch.from_numpy(xseq).float()).detach().numpy() for xseq in X_test])"
   ]
  },
  {
   "cell_type": "code",
   "execution_count": 39,
   "metadata": {},
   "outputs": [],
   "source": [
    "y_pred = 1 * (y_pred > 0.5)"
   ]
  },
  {
   "cell_type": "code",
   "execution_count": 40,
   "metadata": {},
   "outputs": [
    {
     "name": "stdout",
     "output_type": "stream",
     "text": [
      "              precision    recall  f1-score   support\n",
      "\n",
      "           0       0.38      0.52      0.44      3714\n",
      "           1       0.64      0.50      0.56      6286\n",
      "\n",
      "   micro avg       0.51      0.51      0.51     10000\n",
      "   macro avg       0.51      0.51      0.50     10000\n",
      "weighted avg       0.54      0.51      0.51     10000\n",
      "\n"
     ]
    }
   ],
   "source": [
    "labels = {0 : 0, 1: 1}\n",
    "\n",
    "predictions = np.array([labels[tag] for row in y_pred for tag in row])\n",
    "truths = np.array([labels[tag] for row in y_test for tag in row])\n",
    "\n",
    "print(classification_report(\n",
    "    truths, predictions,\n",
    "    target_names=[\"0\", \"1\"]))"
   ]
  },
  {
   "cell_type": "code",
   "execution_count": 41,
   "metadata": {},
   "outputs": [
    {
     "data": {
      "text/plain": [
       "<matplotlib.legend.Legend at 0x1a34cde6a0>"
      ]
     },
     "execution_count": 41,
     "metadata": {},
     "output_type": "execute_result"
    },
    {
     "data": {
      "image/png": "[encoded data removed]",
      "text/plain": [
       "<Figure size 432x288 with 1 Axes>"
      ]
     },
     "metadata": {
      "needs_background": "light"
     },
     "output_type": "display_data"
    }
   ],
   "source": [
    "i = np.random.randint(200)\n",
    "plot(X_test[i], 'o')\n",
    "plot(y_test[i] + 0.05, 'ro')\n",
    "plot(y_pred[i] + 0.1, 'ko')\n",
    "legend(['observations', 'labels', 'NN'])"
   ]
  },
  {
   "cell_type": "markdown",
   "metadata": {},
   "source": [
    "###  Training MPNN based model"
   ]
  },
  {
   "cell_type": "code",
   "execution_count": 371,
   "metadata": {},
   "outputs": [],
   "source": [
    "n_epochs = 50\n",
    "batch_size, D_in, D_hidden = 256, T, T\n",
    "D_out = 3 # J is one parameter, b is 2"
   ]
  },
  {
   "cell_type": "code",
   "execution_count": 522,
   "metadata": {},
   "outputs": [],
   "source": [
    "energy_model = torch.nn.Sequential(\n",
    "          torch.nn.Linear(D_in, D_hidden),\n",
    "          torch.nn.ReLU(),\n",
    "          torch.nn.Linear(D_hidden, D_out),\n",
    "          torch.nn.ReLU()\n",
    "        )\n",
    "\n",
    "optimizer = optim.Adam(energy_model.parameters(), lr=0.005)"
   ]
  },
  {
   "cell_type": "code",
   "execution_count": 523,
   "metadata": {},
   "outputs": [],
   "source": [
    "import torch\n",
    "import torch.nn.functional as F\n",
    "from torch.autograd import Variable\n",
    "import torch.optim as optim\n",
    "import numpy as np\n",
    "\n",
    "\n",
    "def belief_propagation_cross_entropy_loss(j, b, observations, labels, chain_len, train=True):\n",
    "    batch_size = labels.size()[0]\n",
    "    \n",
    "    loss = 0\n",
    "    \n",
    "    labels_out = torch.Tensor()\n",
    "    for b_idx in range(batch_size):\n",
    "\n",
    "        values = torch.Tensor([0, 1]) - 0.5\n",
    "        pairs = torch.mul(values.view(-1, 2).t(), values)\n",
    "        unit_msg = torch.ones([2, 1]) / 2\n",
    "        \n",
    "        forward_messages = unit_msg\n",
    "        msg_left = unit_msg # no information traveling left to x1\n",
    "        \n",
    "        # forward pass    \n",
    "        for i in range(0, chain_len - 1):\n",
    "            \n",
    "            phi = torch.exp(torch.mul(b[b_idx][int(observations[b_idx][i])], values))\n",
    "            psi = torch.exp(torch.mul(j[b_idx], pairs))\n",
    "  \n",
    "            step1 = torch.mul(phi, msg_left.t())\n",
    "            step2 = torch.mul(step1, psi)\n",
    "            step3, _ = torch.max(step2, dim=1)\n",
    "\n",
    "            msg = step3.view(-1 ,1)\n",
    "            norm_ = torch.norm(msg, p=1, dim=0)  # L1 norm\n",
    "            msg = torch.div(msg, norm_)\n",
    "            \n",
    "            forward_messages = torch.cat((forward_messages, msg), dim=1)    \n",
    "            msg_left = msg\n",
    "        \n",
    "        \n",
    "        backward_messages = unit_msg\n",
    "        msg_right = unit_msg # no information traveling right to x_n\n",
    "        \n",
    "        # backward pass    \n",
    "        for i in range(chain_len - 1, 0, -1):\n",
    "\n",
    "            phi = torch.exp(torch.mul(b[b_idx][int(observations[b_idx][i])], values))\n",
    "            psi = torch.exp(torch.mul(j[b_idx], pairs))\n",
    "            step1 = torch.mul(phi, msg_right.t())\n",
    "            step2 = torch.mul(step1, psi)\n",
    "            step3, _ = torch.max(step2, dim=1)\n",
    "\n",
    "            msg = step3.view(-1 ,1)\n",
    "            norm_ = torch.norm(msg, p=1, dim=0)  # L1 norm\n",
    "            msg = torch.div(msg, norm_)\n",
    "            \n",
    "            backward_messages = torch.cat((msg, backward_messages), dim=1)    \n",
    "            msg_right = msg\n",
    "\n",
    "        # calculate message propagation\n",
    "        messages = torch.mul(forward_messages, backward_messages)\n",
    "        # add data term\n",
    "        data_term = torch.Tensor()\n",
    "        for i in range(0, chain_len):\n",
    "            phi = torch.exp(torch.mul(b[b_idx][int(observations[b_idx][i])], values))\n",
    "            data_term = torch.cat((data_term, phi.view(-1, 1)), dim=1)\n",
    "        \n",
    "        # calculate beliefs\n",
    "        beliefs = torch.mul(data_term, messages)\n",
    "        norm_ = torch.norm(beliefs, p=1, dim=0)  # L1 norm\n",
    "        beliefs_norm = torch.div(beliefs, norm_)\n",
    "        \n",
    "        beliefs_softmax = torch.softmax(beliefs_norm * 1, dim=0)  ## make softmax harder\n",
    "        loss += F.binary_cross_entropy(beliefs_softmax[1, :].float(), labels[b_idx]) \n",
    "\n",
    "        labels_out = torch.cat((labels_out, (beliefs_norm[1, :] > 0.5).float().view(1, -1)), dim=0)\n",
    "    #print(beliefs)\n",
    "    loss = torch.div(loss, batch_size)\n",
    "    \n",
    "    if train:\n",
    "        return loss\n",
    "    else:\n",
    "        return labels_out"
   ]
  },
  {
   "cell_type": "markdown",
   "metadata": {},
   "source": [
    "#### Move to single batch "
   ]
  },
  {
   "cell_type": "code",
   "execution_count": 524,
   "metadata": {},
   "outputs": [],
   "source": [
    "trainloader = torch.utils.data.DataLoader(trainset, batch_size=len(trainset), shuffle=True, num_workers=2)"
   ]
  },
  {
   "cell_type": "code",
   "execution_count": 525,
   "metadata": {
    "scrolled": false
   },
   "outputs": [
    {
     "name": "stdout",
     "output_type": "stream",
     "text": [
      "J: 0.0-0.40148305892944336,  b0: 0.0-0.1439114809036255, b1: 0.0-0.44260817766189575\n",
      "epoch 1:: loss = 1.7194749116897583, validation loss = 0.7133952975273132\n",
      "J: 0.0-0.15621677041053772,  b0: 0.0-0.09101728349924088, b1: 0.0-0.2661215662956238\n",
      "epoch 2:: loss = 0.7144585251808167, validation loss = 0.6937128305435181\n",
      "J: 0.0-0.03142271935939789,  b0: 0.0-0.03667411953210831, b1: 0.0-0.14584827423095703\n",
      "epoch 3:: loss = 0.6944941878318787, validation loss = 0.6931462287902832\n",
      "J: 0.0-0.0,  b0: 0.0-0.0, b1: 0.0-0.03883896768093109\n",
      "epoch 4:: loss = 0.6929583549499512, validation loss = 0.6931462287902832\n",
      "J: 0.0-0.0,  b0: 0.0-0.0, b1: 0.0-0.0\n",
      "epoch 5:: loss = 0.6931481957435608, validation loss = 0.6931462287902832\n",
      "J: 0.0-0.0,  b0: 0.0-0.0, b1: 0.0-0.0\n",
      "epoch 6:: loss = 0.6931481957435608, validation loss = 0.6931462287902832\n",
      "J: 0.0-0.0,  b0: 0.0-0.0, b1: 0.0-0.0\n",
      "epoch 7:: loss = 0.6931481957435608, validation loss = 0.6931462287902832\n",
      "J: 0.0-0.0,  b0: 0.0-0.0, b1: 0.0-0.0\n",
      "epoch 8:: loss = 0.6931481957435608, validation loss = 0.6931462287902832\n",
      "J: 0.0-0.0,  b0: 0.0-0.0, b1: 0.0-0.0\n",
      "epoch 9:: loss = 0.6931481957435608, validation loss = 0.6931462287902832\n",
      "J: 0.0-0.0,  b0: 0.0-0.0, b1: 0.0-0.0\n",
      "epoch 10:: loss = 0.6931481957435608, validation loss = 0.6931462287902832\n",
      "J: 0.0-0.0,  b0: 0.0-0.0, b1: 0.0-0.0\n",
      "epoch 11:: loss = 0.6931481957435608, validation loss = 0.6931462287902832\n",
      "J: 0.0-0.0,  b0: 0.0-0.0, b1: 0.0-0.0\n",
      "epoch 12:: loss = 0.6931481957435608, validation loss = 0.6931462287902832\n",
      "J: 0.0-0.0,  b0: 0.0-0.0, b1: 0.0-0.0\n",
      "epoch 13:: loss = 0.6931481957435608, validation loss = 0.6931462287902832\n",
      "J: 0.0-0.0,  b0: 0.0-0.0, b1: 0.0-0.0\n",
      "epoch 14:: loss = 0.6931481957435608, validation loss = 0.6931462287902832\n",
      "J: 0.0-0.0,  b0: 0.0-0.0, b1: 0.0-0.0\n",
      "epoch 15:: loss = 0.6931481957435608, validation loss = 0.6931462287902832\n",
      "J: 0.0-0.0,  b0: 0.0-0.0, b1: 0.0-0.0\n",
      "epoch 16:: loss = 0.6931481957435608, validation loss = 0.6931462287902832\n",
      "J: 0.0-0.0,  b0: 0.0-0.0, b1: 0.0-0.0\n",
      "epoch 17:: loss = 0.6931481957435608, validation loss = 0.6931462287902832\n",
      "J: 0.0-0.0,  b0: 0.0-0.0, b1: 0.0-0.0\n",
      "epoch 18:: loss = 0.6931481957435608, validation loss = 0.6931462287902832\n",
      "J: 0.0-0.0,  b0: 0.0-0.0, b1: 0.0-0.0\n",
      "epoch 19:: loss = 0.6931481957435608, validation loss = 0.6931462287902832\n",
      "J: 0.0-0.0,  b0: 0.0-0.0, b1: 0.0-0.0\n",
      "epoch 20:: loss = 0.6931481957435608, validation loss = 0.6931462287902832\n",
      "J: 0.0-0.0,  b0: 0.0-0.0, b1: 0.0-0.0\n",
      "epoch 21:: loss = 0.6931481957435608, validation loss = 0.6931462287902832\n",
      "J: 0.0-0.0,  b0: 0.0-0.0, b1: 0.0-0.0\n",
      "epoch 22:: loss = 0.6931481957435608, validation loss = 0.6931462287902832\n",
      "J: 0.0-0.0,  b0: 0.0-0.0, b1: 0.0-0.0\n",
      "epoch 23:: loss = 0.6931481957435608, validation loss = 0.6931462287902832\n",
      "J: 0.0-0.0,  b0: 0.0-0.0, b1: 0.0-0.0\n",
      "epoch 24:: loss = 0.6931481957435608, validation loss = 0.6931462287902832\n",
      "J: 0.0-0.0,  b0: 0.0-0.0, b1: 0.0-0.0\n",
      "epoch 25:: loss = 0.6931481957435608, validation loss = 0.6931462287902832\n",
      "J: 0.0-0.0,  b0: 0.0-0.0, b1: 0.0-0.0\n",
      "epoch 26:: loss = 0.6931481957435608, validation loss = 0.6931462287902832\n",
      "J: 0.0-0.0,  b0: 0.0-0.0, b1: 0.0-0.0\n",
      "epoch 27:: loss = 0.6931481957435608, validation loss = 0.6931462287902832\n",
      "J: 0.0-0.0,  b0: 0.0-0.0, b1: 0.0-0.0\n",
      "epoch 28:: loss = 0.6931481957435608, validation loss = 0.6931462287902832\n",
      "J: 0.0-0.0,  b0: 0.0-0.0, b1: 0.0-0.0\n",
      "epoch 29:: loss = 0.6931481957435608, validation loss = 0.6931462287902832\n",
      "J: 0.0-0.0,  b0: 0.0-0.0, b1: 0.0-0.0\n",
      "epoch 30:: loss = 0.6931481957435608, validation loss = 0.6931462287902832\n",
      "J: 0.0-0.0,  b0: 0.0-0.0, b1: 0.0-0.0\n",
      "epoch 31:: loss = 0.6931481957435608, validation loss = 0.6931462287902832\n",
      "J: 0.0-0.0,  b0: 0.0-0.0, b1: 0.0-0.0\n",
      "epoch 32:: loss = 0.6931481957435608, validation loss = 0.6931462287902832\n",
      "J: 0.0-0.0,  b0: 0.0-0.0, b1: 0.0-0.0\n",
      "epoch 33:: loss = 0.6931481957435608, validation loss = 0.6931462287902832\n",
      "J: 0.0-0.0,  b0: 0.0-0.0, b1: 0.0-0.0\n",
      "epoch 34:: loss = 0.6931481957435608, validation loss = 0.6931462287902832\n",
      "J: 0.0-0.0,  b0: 0.0-0.0, b1: 0.0-0.0\n",
      "epoch 35:: loss = 0.6931481957435608, validation loss = 0.6931462287902832\n",
      "J: 0.0-0.0,  b0: 0.0-0.0, b1: 0.0-0.0\n",
      "epoch 36:: loss = 0.6931481957435608, validation loss = 0.6931462287902832\n",
      "J: 0.0-0.0,  b0: 0.0-0.0, b1: 0.0-0.0\n",
      "epoch 37:: loss = 0.6931481957435608, validation loss = 0.6931462287902832\n",
      "J: 0.0-0.0,  b0: 0.0-0.0, b1: 0.0-0.0\n",
      "epoch 38:: loss = 0.6931481957435608, validation loss = 0.6931462287902832\n",
      "J: 0.0-0.0,  b0: 0.0-0.0, b1: 0.0-0.0\n",
      "epoch 39:: loss = 0.6931481957435608, validation loss = 0.6931462287902832\n",
      "J: 0.0-0.0,  b0: 0.0-0.0, b1: 0.0-0.0\n",
      "epoch 40:: loss = 0.6931481957435608, validation loss = 0.6931462287902832\n",
      "J: 0.0-0.0,  b0: 0.0-0.0, b1: 0.0-0.0\n",
      "epoch 41:: loss = 0.6931481957435608, validation loss = 0.6931462287902832\n",
      "J: 0.0-0.0,  b0: 0.0-0.0, b1: 0.0-0.0\n",
      "epoch 42:: loss = 0.6931481957435608, validation loss = 0.6931462287902832\n",
      "J: 0.0-0.0,  b0: 0.0-0.0, b1: 0.0-0.0\n",
      "epoch 43:: loss = 0.6931481957435608, validation loss = 0.6931462287902832\n",
      "J: 0.0-0.0,  b0: 0.0-0.0, b1: 0.0-0.0\n",
      "epoch 44:: loss = 0.6931481957435608, validation loss = 0.6931462287902832\n",
      "J: 0.0-0.0,  b0: 0.0-0.0, b1: 0.0-0.0\n",
      "epoch 45:: loss = 0.6931481957435608, validation loss = 0.6931462287902832\n",
      "J: 0.0-0.0,  b0: 0.0-0.0, b1: 0.0-0.0\n",
      "epoch 46:: loss = 0.6931481957435608, validation loss = 0.6931462287902832\n",
      "J: 0.0-0.0,  b0: 0.0-0.0, b1: 0.0-0.0\n",
      "epoch 47:: loss = 0.6931481957435608, validation loss = 0.6931462287902832\n",
      "J: 0.0-0.0,  b0: 0.0-0.0, b1: 0.0-0.0\n",
      "epoch 48:: loss = 0.6931481957435608, validation loss = 0.6931462287902832\n",
      "J: 0.0-0.0,  b0: 0.0-0.0, b1: 0.0-0.0\n",
      "epoch 49:: loss = 0.6931481957435608, validation loss = 0.6931462287902832\n",
      "J: 0.0-0.0,  b0: 0.0-0.0, b1: 0.0-0.0\n",
      "epoch 50:: loss = 0.6931481957435608, validation loss = 0.6931462287902832\n"
     ]
    }
   ],
   "source": [
    "energy_model.train()\n",
    "learning_curve = []\n",
    "\n",
    "for epoch in range(1, n_epochs + 1):\n",
    "    \n",
    "    for batch in trainloader:\n",
    "        X_batch, y_batch = Variable(batch['X']), Variable(batch['y'])\n",
    "        energy_model.zero_grad()\n",
    "        \n",
    "        energy = energy_model(X_batch)\n",
    "        j, b = energy[:, 0], energy[:, 1:]\n",
    "        \n",
    "        print('J: {}-{},  b0: {}-{}, b1: {}-{}'.format(\n",
    "            j.min().detach(),\n",
    "            j.max().detach(), \n",
    "            b[:, 0].min().detach(),\n",
    "            b[:, 0].max().detach(),\n",
    "            b[:, 1].min().detach(),\n",
    "            b[:, 1].max().detach(),\n",
    "        ))\n",
    "        loss = belief_propagation_cross_entropy_loss(j, b, X_batch, y_batch, chain_len=T)\n",
    "        loss.backward()\n",
    "        optimizer.step()\n",
    "\n",
    "        if epoch % 1 == 0:\n",
    "            valid = next(iter(validloader))\n",
    "            X_valid, y_valid = Variable(valid['X']), Variable(valid['y']) \n",
    "            energy_valid = energy_model(X_valid)\n",
    "            j_valid, b_valid = energy_valid[:, 0], energy_valid[:, 1:]\n",
    "            loss_valid = belief_propagation_cross_entropy_loss(j_valid, b_valid, X_valid, y_valid, chain_len=T)\n",
    "\n",
    "            print('epoch {}:: loss = {}, validation loss = {}'. format(epoch, loss, loss_valid))\n",
    "            learning_curve.append((loss, loss_valid))"
   ]
  },
  {
   "cell_type": "markdown",
   "metadata": {},
   "source": [
    "### Evaluate "
   ]
  },
  {
   "cell_type": "code",
   "execution_count": 413,
   "metadata": {},
   "outputs": [
    {
     "data": {
      "text/plain": [
       "Sequential(\n",
       "  (0): Linear(in_features=50, out_features=50, bias=True)\n",
       "  (1): ReLU()\n",
       "  (2): Linear(in_features=50, out_features=3, bias=True)\n",
       "  (3): ReLU()\n",
       ")"
      ]
     },
     "execution_count": 413,
     "metadata": {},
     "output_type": "execute_result"
    }
   ],
   "source": [
    "energy_model.eval()"
   ]
  },
  {
   "cell_type": "code",
   "execution_count": 414,
   "metadata": {},
   "outputs": [],
   "source": [
    "energy_pred = energy_model(torch.from_numpy(X_test).float()).detach().numpy()"
   ]
  },
  {
   "cell_type": "code",
   "execution_count": 415,
   "metadata": {},
   "outputs": [],
   "source": [
    "j = energy_pred[:, 0]\n",
    "b = energy_pred[:, 1:]"
   ]
  },
  {
   "cell_type": "code",
   "execution_count": null,
   "metadata": {},
   "outputs": [],
   "source": [
    "y_pred = belief_propagation_cross_entropy_loss(j, b, X_test, torch.Tensor(y_test), chain_len=T, train=False)\\\n",
    "    .detach()\\\n",
    "    .numpy()"
   ]
  },
  {
   "cell_type": "code",
   "execution_count": 148,
   "metadata": {},
   "outputs": [
    {
     "name": "stdout",
     "output_type": "stream",
     "text": [
      "              precision    recall  f1-score   support\n",
      "\n",
      "           0       0.60      0.79      0.68      3714\n",
      "           1       0.85      0.68      0.76      6286\n",
      "\n",
      "   micro avg       0.72      0.72      0.72     10000\n",
      "   macro avg       0.72      0.74      0.72     10000\n",
      "weighted avg       0.75      0.72      0.73     10000\n",
      "\n"
     ]
    }
   ],
   "source": [
    "labels = {0 : 0, 1: 1}\n",
    "\n",
    "predictions = np.array([labels[tag] for row in y_pred for tag in row])\n",
    "truths = np.array([labels[tag] for row in y_test for tag in row])\n",
    "\n",
    "print(classification_report(\n",
    "    truths, predictions,\n",
    "    target_names=[\"0\", \"1\"]))"
   ]
  },
  {
   "cell_type": "markdown",
   "metadata": {},
   "source": [
    "### Sanity - check that we can reach loss zero"
   ]
  },
  {
   "cell_type": "code",
   "execution_count": 440,
   "metadata": {},
   "outputs": [],
   "source": [
    "ind = np.random.randint(1000)\n",
    "j = np.array([1])\n",
    "b = np.array([-0.32, 0.4])\n",
    "labels = y_dataset[ind]\n",
    "observations = X_dataset[ind]"
   ]
  },
  {
   "cell_type": "code",
   "execution_count": 441,
   "metadata": {},
   "outputs": [
    {
     "data": {
      "text/plain": [
       "((1,), (2,), (50,), (50,))"
      ]
     },
     "execution_count": 441,
     "metadata": {},
     "output_type": "execute_result"
    }
   ],
   "source": [
    "j.shape, b.shape, labels.shape, observations.shape"
   ]
  },
  {
   "cell_type": "code",
   "execution_count": 442,
   "metadata": {},
   "outputs": [],
   "source": [
    "# add batch dimension"
   ]
  },
  {
   "cell_type": "code",
   "execution_count": 443,
   "metadata": {},
   "outputs": [],
   "source": [
    "j = np.expand_dims(j, axis=0)\n",
    "b = np.expand_dims(b, axis=0)\n",
    "labels = np.expand_dims(labels, axis=0)\n",
    "observations = np.expand_dims(observations, axis=0)"
   ]
  },
  {
   "cell_type": "code",
   "execution_count": 444,
   "metadata": {},
   "outputs": [],
   "source": [
    "# move to tensors"
   ]
  },
  {
   "cell_type": "code",
   "execution_count": 445,
   "metadata": {},
   "outputs": [],
   "source": [
    "import torch"
   ]
  },
  {
   "cell_type": "code",
   "execution_count": 446,
   "metadata": {},
   "outputs": [],
   "source": [
    "j = torch.Tensor(j)\n",
    "b = torch.Tensor(b)\n",
    "labels = torch.Tensor(labels)\n",
    "observations = torch.Tensor(observations)"
   ]
  },
  {
   "cell_type": "code",
   "execution_count": 447,
   "metadata": {
    "scrolled": true
   },
   "outputs": [
    {
     "name": "stdout",
     "output_type": "stream",
     "text": [
      "CPU times: user 16.2 ms, sys: 12.6 ms, total: 28.8 ms\n",
      "Wall time: 42.4 ms\n"
     ]
    }
   ],
   "source": [
    "%%time\n",
    "loss = belief_propagation_cross_entropy_loss(j, b, observations, labels, chain_len=T)\n",
    "beliefs = belief_propagation_cross_entropy_loss(j, b, observations, labels, chain_len=T, train=False)[-1]"
   ]
  },
  {
   "cell_type": "code",
   "execution_count": 448,
   "metadata": {},
   "outputs": [
    {
     "data": {
      "text/plain": [
       "(tensor(0.5682),\n",
       " tensor([[1, 1, 1, 1, 1, 1, 1, 1, 1, 1, 1, 1, 1, 1, 1, 1, 1, 1, 1, 1, 1, 1, 1, 1,\n",
       "          1, 1, 1, 1, 1, 1, 1, 1, 1, 1, 1, 1, 1, 1, 1, 1, 1, 1, 1, 1, 1, 1, 1, 1,\n",
       "          1, 1]], dtype=torch.uint8),\n",
       " tensor(1, dtype=torch.uint8))"
      ]
     },
     "execution_count": 448,
     "metadata": {},
     "output_type": "execute_result"
    }
   ],
   "source": [
    "loss, torch.eq(labels, beliefs.float()), torch.all(torch.eq(labels, beliefs.float()))"
   ]
  },
  {
   "cell_type": "code",
   "execution_count": 449,
   "metadata": {},
   "outputs": [
    {
     "data": {
      "text/plain": [
       "tensor([[0., 0., 1., 1., 1., 1., 1., 1., 1., 1., 1., 1., 1., 1., 1., 0., 0., 0.,\n",
       "         0., 0., 0., 0., 0., 1., 1., 1., 1., 1., 1., 1., 1., 1., 1., 1., 1., 1.,\n",
       "         1., 0., 0., 0., 0., 0., 0., 0., 0., 0., 0., 0., 0., 0.]])"
      ]
     },
     "execution_count": 449,
     "metadata": {},
     "output_type": "execute_result"
    }
   ],
   "source": [
    "labels"
   ]
  },
  {
   "cell_type": "code",
   "execution_count": 450,
   "metadata": {},
   "outputs": [
    {
     "data": {
      "text/plain": [
       "tensor([0., 0., 1., 1., 1., 1., 1., 1., 1., 1., 1., 1., 1., 1., 1., 0., 0., 0.,\n",
       "        0., 0., 0., 0., 0., 1., 1., 1., 1., 1., 1., 1., 1., 1., 1., 1., 1., 1.,\n",
       "        1., 0., 0., 0., 0., 0., 0., 0., 0., 0., 0., 0., 0., 0.])"
      ]
     },
     "execution_count": 450,
     "metadata": {},
     "output_type": "execute_result"
    }
   ],
   "source": [
    "beliefs"
   ]
  },
  {
   "cell_type": "markdown",
   "metadata": {},
   "source": [
    "###  Plot the loss function"
   ]
  },
  {
   "cell_type": "markdown",
   "metadata": {},
   "source": [
    "####  target loss"
   ]
  },
  {
   "cell_type": "code",
   "execution_count": 507,
   "metadata": {},
   "outputs": [
    {
     "data": {
      "text/plain": [
       "tensor(0.0357)"
      ]
     },
     "execution_count": 507,
     "metadata": {},
     "output_type": "execute_result"
    }
   ],
   "source": [
    "b_base = [-0.32, 0.4]\n",
    "j_val = 1\n",
    "\n",
    "len_ = len(X_train[:10])\n",
    "j = np.expand_dims(j_val, axis=0)\n",
    "j = np.repeat(j, len_, axis=0)\n",
    "j = torch.Tensor(j)\n",
    "b = np.expand_dims(b_base, axis=0)\n",
    "b = np.repeat(b, len_, axis=0)\n",
    "b = torch.Tensor(b)\n",
    "target_loss = belief_propagation_cross_entropy_loss(j, b, torch.Tensor(X_train[:10]), torch.Tensor(y_train[:10]), chain_len=T)\n",
    "\n",
    "target_loss"
   ]
  },
  {
   "cell_type": "markdown",
   "metadata": {},
   "source": [
    "#### Plot loss as a function of b"
   ]
  },
  {
   "cell_type": "code",
   "execution_count": 508,
   "metadata": {},
   "outputs": [],
   "source": [
    "bar = progressbar.ProgressBar(maxval=3000, \\\n",
    "    widgets=[progressbar.Bar('=', '[', ']'), ' ', progressbar.Percentage()])"
   ]
  },
  {
   "cell_type": "code",
   "execution_count": 514,
   "metadata": {},
   "outputs": [
    {
     "name": "stderr",
     "output_type": "stream",
     "text": [
      "[========================================================================] 100%\r"
     ]
    }
   ],
   "source": [
    "res = {'b0': [], 'b1': [], 'loss': []}\n",
    "\n",
    "bar.start()\n",
    "for i_sample in range(3000):\n",
    "    bar.update(i_sample + 1)\n",
    "    j_val = 0\n",
    "    b_base = 2 * (np.random.rand(2) - 0.5)\n",
    "  \n",
    "    len_ = len(X_train[:10])\n",
    "    j = np.expand_dims(j_val, axis=0)\n",
    "    j = np.repeat(j, len_, axis=0)\n",
    "    j = torch.Tensor(j)\n",
    "    \n",
    "    b = np.expand_dims(b_base, axis=0)\n",
    "    b = np.repeat(b, len_, axis=0)\n",
    "    b = torch.Tensor(b)\n",
    "    \n",
    "    labels = torch.Tensor(y_train[:10])\n",
    "    observations = torch.Tensor(X_train[:10])\n",
    "    \n",
    "    res['b0'].append(b_base[0])\n",
    "    res['b1'].append(b_base[1])\n",
    "    res['loss'].append(float(belief_propagation_cross_entropy_loss(j, b, observations, labels, chain_len=T)))\n",
    "    \n",
    "bar.finish()"
   ]
  },
  {
   "cell_type": "code",
   "execution_count": 515,
   "metadata": {},
   "outputs": [],
   "source": [
    "df = pd.DataFrame(res)"
   ]
  },
  {
   "cell_type": "code",
   "execution_count": 516,
   "metadata": {},
   "outputs": [],
   "source": [
    "import plotly.graph_objects as go\n",
    "\n",
    "trace = go.Scatter3d(\n",
    "        x=df['b0'],\n",
    "        y=df['b1'], \n",
    "        z=df['loss'], \n",
    "        mode='markers',\n",
    "        marker=dict(\n",
    "            size=10,\n",
    "            color=df['loss'],                # set color to an array/list of desired values\n",
    "            colorscale='Viridis',   # choose a colorscale\n",
    "            opacity=0.8\n",
    "        ),\n",
    ")\n",
    "\n",
    "data = [trace]\n",
    "\n",
    "scene = go.layout.Scene(\n",
    "        annotations=[\n",
    "            dict(\n",
    "                x=-0.32,\n",
    "                y=0.4,\n",
    "                z=target_loss,\n",
    "                text=\"target\",\n",
    "                textangle=0,\n",
    "                ax=0,\n",
    "                ay=-75,\n",
    "                font=dict(\n",
    "                    color=\"red\",\n",
    "                    size=18\n",
    "                ),\n",
    "                arrowcolor=\"red\",\n",
    "                arrowsize=3,\n",
    "                arrowwidth=1,\n",
    "                arrowhead=1\n",
    "        )],\n",
    ")\n",
    "\n",
    "fig = go.Figure()\n",
    "fig.add_trace(trace)\n",
    "fig.update_layout(scene=scene)\n",
    "fig.write_html('loss_vs_data_term.html', auto_open=True)"
   ]
  },
  {
   "cell_type": "code",
   "execution_count": 307,
   "metadata": {},
   "outputs": [],
   "source": [
    "import plotly.express as px\n",
    "\n",
    "fig = px.scatter_3d(df, x=\"b0\", y=\"b1\", z=\"loss\", color=\"loss\",\n",
    "                 hover_data=['b0', 'b1', 'loss'])\n",
    "fig.write_html('loss_vs_data_term.html', auto_open=True)"
   ]
  },
  {
   "cell_type": "markdown",
   "metadata": {},
   "source": [
    "#### Doing the same as a function of b[0] and j"
   ]
  },
  {
   "cell_type": "code",
   "execution_count": 188,
   "metadata": {},
   "outputs": [],
   "source": [
    "res = {'b0': [], 'j': [], 'loss': []}\n",
    "\n",
    "for i_sample in range(1000):\n",
    "    labels = y_dataset[1]\n",
    "    observations = X_dataset[1]\n",
    "    j_val = np.random.rand() + 0.5  \n",
    "    b1 = 0.4\n",
    "    b_base = 2 * (np.random.rand(2) - 0.5)\n",
    "    b_base[1] = b1 # constant\n",
    "  \n",
    "    j = np.expand_dims(j_val, axis=0)\n",
    "    b = np.expand_dims(b_base, axis=0)\n",
    "    labels = np.expand_dims(labels, axis=0)\n",
    "    observations = np.expand_dims(observations, axis=0)\n",
    "    \n",
    "    j = torch.Tensor(j)\n",
    "    b = torch.Tensor(b)\n",
    "    labels = torch.Tensor(labels)\n",
    "    observations = torch.Tensor(observations)\n",
    "    \n",
    "    res['b0'].append(b_base[0])\n",
    "    res['j'].append(j_val)\n",
    "    res['loss'].append(float(belief_propagation_cross_entropy_loss(j, b, observations, labels, chain_len=T)))"
   ]
  },
  {
   "cell_type": "code",
   "execution_count": 189,
   "metadata": {},
   "outputs": [],
   "source": [
    "df = pd.DataFrame(res)"
   ]
  },
  {
   "cell_type": "code",
   "execution_count": 190,
   "metadata": {},
   "outputs": [],
   "source": [
    "import plotly.express as px\n",
    "\n",
    "fig = px.scatter_3d(df, x=\"b0\", y=\"j\", z=\"loss\", color=\"loss\",\n",
    "                 hover_data=['b0', 'j', 'loss'])\n",
    "fig.write_html('loss_vs_b_j.html', auto_open=True)"
   ]
  },
  {
   "cell_type": "markdown",
   "metadata": {},
   "source": [
    "#### Doing the same as a function of all"
   ]
  },
  {
   "cell_type": "code",
   "execution_count": 496,
   "metadata": {},
   "outputs": [
    {
     "name": "stdout",
     "output_type": "stream",
     "text": [
      "tensor(0.6150)\n"
     ]
    }
   ],
   "source": [
    "res = {'b0': [], 'b1': [], 'j': [], 'loss': []}\n",
    "\n",
    "for i_sample in range(10000):\n",
    "    labels = y_dataset[1]\n",
    "    observations = X_dataset[1]\n",
    "    \n",
    "    j_val = np.random.rand()\n",
    "    b_base = 2 * (np.random.rand(2) - 0.5)\n",
    "    \n",
    "    b = np.expand_dims(b_base, axis=0)\n",
    "    j = np.expand_dims(j_val, axis=0)\n",
    "    labels = np.expand_dims(labels, axis=0)\n",
    "    observations = np.expand_dims(observations, axis=0)\n",
    "    \n",
    "    j = torch.Tensor(j)\n",
    "    b = torch.Tensor(b)\n",
    "    labels = torch.Tensor(labels)\n",
    "    observations = torch.Tensor(observations)\n",
    "    \n",
    "    res['b0'].append(b_base[0])\n",
    "    res['b1'].append(b_base[1])\n",
    "    res['j'].append(j_val)\n",
    "    res['loss'].append(float(belief_propagation_cross_entropy_loss(j, b, observations, labels, chain_len=T)))\n",
    "    \n",
    "# make sure real values are on the graph\n",
    "b_base = [-0.32, 0.4]\n",
    "j_val = 1\n",
    "j = np.expand_dims(j_val, axis=0)\n",
    "j = torch.Tensor(j)\n",
    "b = np.expand_dims(b_base, axis=0)\n",
    "b = torch.Tensor(b)\n",
    "res['b0'].append(b_base[0])\n",
    "res['b1'].append(b_base[1])\n",
    "res['j'].append(j_val)\n",
    "target_loss = belief_propagation_cross_entropy_loss(j, b, observations, labels, chain_len=T)\n",
    "print(target_loss)\n",
    "res['loss'].append(float(target_loss))"
   ]
  },
  {
   "cell_type": "code",
   "execution_count": 497,
   "metadata": {},
   "outputs": [],
   "source": [
    "df = pd.DataFrame(res)"
   ]
  },
  {
   "cell_type": "code",
   "execution_count": 498,
   "metadata": {},
   "outputs": [],
   "source": [
    "import plotly.express as px\n",
    "fig = px.scatter_3d(df, x=\"b0\", y=\"b1\", z=\"j\", color=\"loss\",\n",
    "                 hover_data=['b0', 'b1', 'j', 'loss'],\n",
    "                   )\n",
    "fig.write_html('loss_vs_all.html', auto_open=True)"
   ]
  },
  {
   "cell_type": "code",
   "execution_count": null,
   "metadata": {},
   "outputs": [],
   "source": []
  },
  {
   "cell_type": "code",
   "execution_count": null,
   "metadata": {},
   "outputs": [],
   "source": []
  }
 ],
 "metadata": {
  "kernelspec": {
   "display_name": "Python 3",
   "language": "python",
   "name": "python3"
  },
  "language_info": {
   "codemirror_mode": {
    "name": "ipython",
    "version": 3
   },
   "file_extension": ".py",
   "mimetype": "text/x-python",
   "name": "python",
   "nbconvert_exporter": "python",
   "pygments_lexer": "ipython3",
   "version": "3.6.8"
  }
 },
 "nbformat": 4,
 "nbformat_minor": 2
}
