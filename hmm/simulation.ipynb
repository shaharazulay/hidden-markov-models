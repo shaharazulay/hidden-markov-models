{
 "cells": [
  {
   "cell_type": "code",
   "execution_count": 1,
   "metadata": {},
   "outputs": [],
   "source": [
    "import pycrfsuite"
   ]
  },
  {
   "cell_type": "code",
   "execution_count": 2,
   "metadata": {},
   "outputs": [
    {
     "name": "stdout",
     "output_type": "stream",
     "text": [
      "Populating the interactive namespace from numpy and matplotlib\n"
     ]
    }
   ],
   "source": [
    "from collections import Counter\n",
    "import numpy as np\n",
    "import pandas as pd\n",
    "%pylab inline"
   ]
  },
  {
   "cell_type": "code",
   "execution_count": 3,
   "metadata": {},
   "outputs": [],
   "source": [
    "import torch\n",
    "import torch.nn.functional as F\n",
    "from torch.autograd import Variable\n",
    "import torch.optim as optim"
   ]
  },
  {
   "cell_type": "code",
   "execution_count": 4,
   "metadata": {},
   "outputs": [],
   "source": [
    "from sklearn.model_selection import train_test_split\n",
    "from sklearn.metrics import classification_report"
   ]
  },
  {
   "cell_type": "code",
   "execution_count": 5,
   "metadata": {},
   "outputs": [],
   "source": [
    "from _chain import Chain, f_phi, f_psi\n",
    "from _chain_bp_loss import belief_propagation_cross_entropy_loss\n",
    "from _data_utils import ChainDataset, count_parameters"
   ]
  },
  {
   "cell_type": "code",
   "execution_count": 6,
   "metadata": {},
   "outputs": [],
   "source": [
    "import progressbar"
   ]
  },
  {
   "cell_type": "markdown",
   "metadata": {},
   "source": [
    "### Define Binary HMM "
   ]
  },
  {
   "cell_type": "raw",
   "metadata": {},
   "source": [
    ">>> phi(x,_i y_i) represents the data term\n",
    ">>> phi(y_i, y_i+1) represents the smoothness term"
   ]
  },
  {
   "cell_type": "code",
   "execution_count": 105,
   "metadata": {},
   "outputs": [],
   "source": [
    "phi = f_phi(b=[-0.8, 1])\n",
    "psi = f_psi(j=2.5)"
   ]
  },
  {
   "cell_type": "code",
   "execution_count": 106,
   "metadata": {},
   "outputs": [],
   "source": [
    "T = 50 # chain length"
   ]
  },
  {
   "cell_type": "code",
   "execution_count": 107,
   "metadata": {},
   "outputs": [],
   "source": [
    "chain = Chain(length=T, phi=phi, psi=psi, possible_values=[0, 1])"
   ]
  },
  {
   "cell_type": "markdown",
   "metadata": {},
   "source": [
    "### Create Random Trainset"
   ]
  },
  {
   "cell_type": "code",
   "execution_count": 108,
   "metadata": {},
   "outputs": [],
   "source": [
    "possible_values = [0, 1]"
   ]
  },
  {
   "cell_type": "code",
   "execution_count": 109,
   "metadata": {},
   "outputs": [],
   "source": [
    "N = 1000"
   ]
  },
  {
   "cell_type": "code",
   "execution_count": 110,
   "metadata": {
    "scrolled": true
   },
   "outputs": [
    {
     "name": "stdout",
     "output_type": "stream",
     "text": [
      "CPU times: user 5.76 s, sys: 24.1 ms, total: 5.78 s\n",
      "Wall time: 5.78 s\n"
     ]
    }
   ],
   "source": [
    "%%time \n",
    "\n",
    "X_dataset = []\n",
    "y_dataset= []\n",
    "\n",
    "for i in range(N):\n",
    "    x = np.random.rand(T)\n",
    "    x_binary = 1 * (x > 0.5)\n",
    "    \n",
    "    chain.update_observed(x_binary)\n",
    "    y = chain.get_max_apostriori_beliefs()\n",
    "\n",
    "    X_dataset.append(x_binary)\n",
    "    y_dataset.append(y)"
   ]
  },
  {
   "cell_type": "code",
   "execution_count": 111,
   "metadata": {},
   "outputs": [],
   "source": [
    "# turn to numpy arrays\n",
    "X_dataset = np.array([np.array(xi) for xi in X_dataset])\n",
    "y_dataset = np.array([np.array(yi) for yi in y_dataset])"
   ]
  },
  {
   "cell_type": "code",
   "execution_count": 112,
   "metadata": {},
   "outputs": [
    {
     "data": {
      "text/plain": [
       "<matplotlib.legend.Legend at 0x1a34b3f358>"
      ]
     },
     "execution_count": 112,
     "metadata": {},
     "output_type": "execute_result"
    },
    {
     "data": {
      "image/png": "[encoded data removed]",
      "text/plain": [
       "<Figure size 432x288 with 1 Axes>"
      ]
     },
     "metadata": {
      "needs_background": "light"
     },
     "output_type": "display_data"
    }
   ],
   "source": [
    "i = np.random.randint(1000)\n",
    "plot(X_dataset[i], 'o')\n",
    "plot(y_dataset[i] + 0.05, 'ro')\n",
    "legend(['observations', 'labels'])"
   ]
  },
  {
   "cell_type": "markdown",
   "metadata": {},
   "source": [
    "### Train CRF"
   ]
  },
  {
   "cell_type": "code",
   "execution_count": 113,
   "metadata": {},
   "outputs": [],
   "source": [
    "def extract_features(x):\n",
    "    features = [\n",
    "        'x.current=' + str(x)\n",
    "    ]\n",
    "    return features"
   ]
  },
  {
   "cell_type": "code",
   "execution_count": 114,
   "metadata": {},
   "outputs": [],
   "source": [
    "def extract_labels(y):\n",
    "    return str(y)"
   ]
  },
  {
   "cell_type": "markdown",
   "metadata": {},
   "source": [
    "#### Preprocess Dataset"
   ]
  },
  {
   "cell_type": "code",
   "execution_count": 115,
   "metadata": {},
   "outputs": [],
   "source": [
    "X = []\n",
    "y = []\n",
    "\n",
    "for xseq, yseq in zip(X_dataset, y_dataset):\n",
    "    X_features = [extract_features(x_i) for x_i in xseq]\n",
    "    y_labels = [extract_labels(y_i) for y_i in yseq]\n",
    "    \n",
    "    X.append(X_features)\n",
    "    y.append(y_labels)"
   ]
  },
  {
   "cell_type": "markdown",
   "metadata": {},
   "source": [
    "#### Train-Test split "
   ]
  },
  {
   "cell_type": "code",
   "execution_count": 116,
   "metadata": {},
   "outputs": [],
   "source": [
    "X_train, X_test, y_train, y_test = train_test_split(X, y, test_size=0.2)"
   ]
  },
  {
   "cell_type": "markdown",
   "metadata": {},
   "source": [
    "#### Train "
   ]
  },
  {
   "cell_type": "code",
   "execution_count": 117,
   "metadata": {},
   "outputs": [],
   "source": [
    "import sklearn_crfsuite\n",
    "from sklearn_crfsuite import scorers\n",
    "from sklearn_crfsuite import metrics"
   ]
  },
  {
   "cell_type": "code",
   "execution_count": 118,
   "metadata": {},
   "outputs": [
    {
     "name": "stdout",
     "output_type": "stream",
     "text": [
      "CPU times: user 192 ms, sys: 3.28 ms, total: 195 ms\n",
      "Wall time: 195 ms\n"
     ]
    }
   ],
   "source": [
    "%%time\n",
    "crf = sklearn_crfsuite.CRF(\n",
    "    algorithm='lbfgs',\n",
    "    c1=0,\n",
    "    c2=0,  # regulate this up to 1 if needed\n",
    "    max_iterations=5000,\n",
    "    all_possible_transitions=True,\n",
    "    all_possible_states=True\n",
    ")\n",
    "crf.fit(X_train, y_train)"
   ]
  },
  {
   "cell_type": "code",
   "execution_count": 119,
   "metadata": {},
   "outputs": [],
   "source": [
    "y_pred = crf.predict(X_test)"
   ]
  },
  {
   "cell_type": "code",
   "execution_count": 120,
   "metadata": {},
   "outputs": [
    {
     "data": {
      "text/plain": [
       "['1', '0']"
      ]
     },
     "execution_count": 120,
     "metadata": {},
     "output_type": "execute_result"
    }
   ],
   "source": [
    "labels = list(crf.classes_)\n",
    "labels"
   ]
  },
  {
   "cell_type": "code",
   "execution_count": 121,
   "metadata": {},
   "outputs": [
    {
     "name": "stdout",
     "output_type": "stream",
     "text": [
      "              precision    recall  f1-score   support\n",
      "\n",
      "           0      1.000     1.000     1.000      3775\n",
      "           1      1.000     1.000     1.000      6225\n",
      "\n",
      "   micro avg      1.000     1.000     1.000     10000\n",
      "   macro avg      1.000     1.000     1.000     10000\n",
      "weighted avg      1.000     1.000     1.000     10000\n",
      "\n"
     ]
    }
   ],
   "source": [
    "sorted_labels = sorted(\n",
    "    labels,\n",
    "    key=lambda name: (name[1:], name[0])\n",
    ")\n",
    "print(metrics.flat_classification_report(\n",
    "    y_test, y_pred, labels=sorted_labels, digits=3\n",
    "))"
   ]
  },
  {
   "cell_type": "code",
   "execution_count": 122,
   "metadata": {},
   "outputs": [
    {
     "name": "stdout",
     "output_type": "stream",
     "text": [
      "Transitions:\n",
      "1      -> 1       359.975983\n",
      "0      -> 0       315.672201\n",
      "0      -> 1       -336.769906\n",
      "1      -> 0       -338.878278\n"
     ]
    }
   ],
   "source": [
    "def print_transitions(trans_features):\n",
    "    for (label_from, label_to), weight in trans_features:\n",
    "        print(\"%-6s -> %-7s %0.6f\" % (label_from, label_to, weight))\n",
    "\n",
    "print(\"Transitions:\")\n",
    "print_transitions(Counter(crf.transition_features_).most_common(20))"
   ]
  },
  {
   "cell_type": "code",
   "execution_count": 123,
   "metadata": {},
   "outputs": [
    {
     "name": "stdout",
     "output_type": "stream",
     "text": [
      "States:\n",
      "241.725664 1        x.current=1\n",
      "234.406002 0        x.current=0\n",
      "-234.406002 1        x.current=0\n",
      "-241.725664 0        x.current=1\n"
     ]
    }
   ],
   "source": [
    "def print_state_features(state_features):\n",
    "    for (attr, label), weight in state_features:\n",
    "        print(\"%0.6f %-8s %s\" % (weight, label, attr))\n",
    "\n",
    "print(\"States:\")\n",
    "print_state_features(Counter(crf.state_features_).most_common(30))"
   ]
  },
  {
   "cell_type": "markdown",
   "metadata": {},
   "source": [
    "###  Training MPNN based model"
   ]
  },
  {
   "cell_type": "code",
   "execution_count": 124,
   "metadata": {},
   "outputs": [],
   "source": [
    "X_train, X_test, y_train, y_test = train_test_split(X_dataset, y_dataset, test_size=0.2)"
   ]
  },
  {
   "cell_type": "markdown",
   "metadata": {},
   "source": [
    "#### Define "
   ]
  },
  {
   "cell_type": "code",
   "execution_count": 125,
   "metadata": {},
   "outputs": [],
   "source": [
    "n_epochs = 50\n",
    "batch_size = 64 # len(X_train) # 256"
   ]
  },
  {
   "cell_type": "code",
   "execution_count": 126,
   "metadata": {},
   "outputs": [],
   "source": [
    "trainset = ChainDataset(X_train, y_train)\n",
    "testset = ChainDataset(X_test, y_test)\n",
    "trainloader = torch.utils.data.DataLoader(trainset, batch_size=batch_size, shuffle=True, num_workers=2)\n",
    "validloader = torch.utils.data.DataLoader(testset, batch_size=len(testset), shuffle=True, num_workers=2)"
   ]
  },
  {
   "cell_type": "code",
   "execution_count": 184,
   "metadata": {},
   "outputs": [],
   "source": [
    "j = Variable(torch.tensor([20.]), requires_grad=True)\n",
    "b = Variable(torch.tensor([-5., 10.]), requires_grad=True)"
   ]
  },
  {
   "cell_type": "code",
   "execution_count": 185,
   "metadata": {},
   "outputs": [],
   "source": [
    "optimizer = optim.Adam([j, b], lr=0.1)"
   ]
  },
  {
   "cell_type": "markdown",
   "metadata": {},
   "source": [
    "#### Train"
   ]
  },
  {
   "cell_type": "code",
   "execution_count": 186,
   "metadata": {},
   "outputs": [],
   "source": [
    "import torch\n",
    "import torch.nn.functional as F\n",
    "from torch.autograd import Variable\n",
    "import torch.optim as optim\n",
    "import numpy as np\n",
    "\n",
    "\n",
    "def belief_propagation_cross_entropy_loss(j, b, observations, labels, chain_len, train=True):\n",
    "    batch_size = labels.size()[0]\n",
    "    \n",
    "    loss = 0\n",
    "    \n",
    "    labels_out = torch.Tensor()\n",
    "    for b_idx in range(batch_size):\n",
    "\n",
    "        values = torch.Tensor([0, 1]) - 0.5\n",
    "        pairs = torch.mul(values.view(-1, 2).t(), values)\n",
    "        unit_msg = torch.ones([2, 1]) / 2\n",
    "        \n",
    "        forward_messages = unit_msg\n",
    "        msg_left = unit_msg # no information traveling left to x1\n",
    "        \n",
    "        # forward pass    \n",
    "        for i in range(0, chain_len - 1):\n",
    "            \n",
    "            phi = torch.exp(torch.mul(b[int(observations[b_idx][i])], values))\n",
    "            psi = torch.exp(torch.mul(j, pairs))\n",
    "  \n",
    "            step1 = torch.mul(phi, msg_left.t())\n",
    "            step2 = torch.mul(step1, psi)\n",
    "            step3, _ = torch.max(step2, dim=1)\n",
    "\n",
    "            msg = step3.view(-1 ,1)\n",
    "            norm_ = torch.norm(msg, p=1, dim=0)  # L1 norm\n",
    "            msg = torch.div(msg, norm_)\n",
    "            \n",
    "            forward_messages = torch.cat((forward_messages, msg), dim=1)    \n",
    "            msg_left = msg\n",
    "        \n",
    "        \n",
    "        backward_messages = unit_msg\n",
    "        msg_right = unit_msg # no information traveling right to x_n\n",
    "        \n",
    "        # backward pass    \n",
    "        for i in range(chain_len - 1, 0, -1):\n",
    "\n",
    "            phi = torch.exp(torch.mul(b[int(observations[b_idx][i])], values))\n",
    "            psi = torch.exp(torch.mul(j, pairs))\n",
    "            step1 = torch.mul(phi, msg_right.t())\n",
    "            step2 = torch.mul(step1, psi)\n",
    "            step3, _ = torch.max(step2, dim=1)\n",
    "\n",
    "            msg = step3.view(-1 ,1)\n",
    "            norm_ = torch.norm(msg, p=1, dim=0)  # L1 norm\n",
    "            msg = torch.div(msg, norm_)\n",
    "            \n",
    "            backward_messages = torch.cat((msg, backward_messages), dim=1)    \n",
    "            msg_right = msg\n",
    "\n",
    "        # calculate message propagation\n",
    "        messages = torch.mul(forward_messages, backward_messages)\n",
    "        # add data term\n",
    "        data_term = torch.Tensor()\n",
    "        for i in range(0, chain_len):\n",
    "            phi = torch.exp(torch.mul(b[int(observations[b_idx][i])], values))\n",
    "            data_term = torch.cat((data_term, phi.view(-1, 1)), dim=1)\n",
    "        \n",
    "        # calculate beliefs\n",
    "        beliefs = torch.mul(data_term, messages)\n",
    "        norm_ = torch.norm(beliefs, p=1, dim=0)  # L1 norm\n",
    "        beliefs_norm = torch.div(beliefs, norm_)\n",
    "        \n",
    "        beliefs_softmax = torch.softmax(beliefs_norm , dim=0)\n",
    "        loss += F.binary_cross_entropy(beliefs_softmax[1, :].float(), labels[b_idx]) ###\n",
    "        \n",
    "        labels_out = torch.cat((labels_out, (beliefs_norm[1, :] > 0.5).float().view(1, -1)), dim=0)\n",
    "        \n",
    "    loss = torch.div(loss, batch_size)\n",
    "    \n",
    "    if train:\n",
    "        return loss\n",
    "    else:\n",
    "        return labels_out"
   ]
  },
  {
   "cell_type": "code",
   "execution_count": 187,
   "metadata": {
    "scrolled": true
   },
   "outputs": [
    {
     "name": "stdout",
     "output_type": "stream",
     "text": [
      "J: 20.0,  b0: -5.0, b1: 10.0\n",
      "JGrad: tensor([0.0147]),  bGrad: tensor([0.1105, 0.0000])\n",
      "J: 19.900001525878906,  b0: -5.099999904632568, b1: 10.0\n",
      "JGrad: tensor([0.0120]),  bGrad: tensor([0.0965, 0.0000])\n",
      "J: 19.801008224487305,  b0: -5.199422359466553, b1: 10.0\n",
      "JGrad: tensor([0.0067]),  bGrad: tensor([0.0613, 0.0000])\n",
      "J: 19.707578659057617,  b0: -5.294965744018555, b1: 10.0\n",
      "JGrad: tensor([0.0095]),  bGrad: tensor([0.0901, 0.0000])\n",
      "J: 19.613555908203125,  b0: -5.39171028137207, b1: 10.0\n",
      "JGrad: tensor([0.0042]),  bGrad: tensor([0.0509, 0.0000])\n",
      "J: 19.5252742767334,  b0: -5.485133171081543, b1: 10.0\n",
      "JGrad: tensor([0.0058]),  bGrad: tensor([0.0487, 0.0000])\n",
      "J: 19.43861198425293,  b0: -5.576122760772705, b1: 10.0\n",
      "JGrad: tensor([0.0098]),  bGrad: tensor([0.0802, 0.0000])\n",
      "J: 19.349197387695312,  b0: -5.668857574462891, b1: 10.0\n",
      "JGrad: tensor([0.0074]),  bGrad: tensor([0.0648, 0.0000])\n",
      "J: 19.259634017944336,  b0: -5.761552810668945, b1: 10.0\n",
      "JGrad: tensor([0.0069]),  bGrad: tensor([0.0656, 0.0000])\n",
      "J: 19.170379638671875,  b0: -5.854356288909912, b1: 10.0\n",
      "JGrad: tensor([0.0051]),  bGrad: tensor([0.0456, 0.0000])\n",
      "J: 19.083158493041992,  b0: -5.945021629333496, b1: 10.0\n",
      "JGrad: tensor([0.0024]),  bGrad: tensor([0.0435, 0.0000])\n",
      "J: 19.001157760620117,  b0: -6.033706188201904, b1: 10.0\n",
      "JGrad: tensor([0.0022]),  bGrad: tensor([0.0354, 0.0000])\n",
      "J: 18.923803329467773,  b0: -6.119656562805176, b1: 10.0\n",
      "JGrad: tensor([0.0070]),  bGrad: tensor([0.0673, 0.0000])\n",
      ">>>\t epoch 1:: loss = 0.40218016505241394, validation loss = 0.40446117520332336\n",
      "J: 18.84437370300293,  b0: -6.207254886627197, b1: 10.0\n",
      "JGrad: tensor([0.0003]),  bGrad: tensor([0.0442, 0.0000])\n",
      "J: 18.77204704284668,  b0: -6.293604373931885, b1: 10.0\n",
      "JGrad: tensor([-0.0069]),  bGrad: tensor([0.0175, 0.0000])\n",
      "J: 18.71988296508789,  b0: -6.374908924102783, b1: 10.0\n",
      "JGrad: tensor([-0.0046]),  bGrad: tensor([0.0312, 0.0000])\n",
      "J: 18.680706024169922,  b0: -6.454004764556885, b1: 10.0\n",
      "JGrad: tensor([-0.0038]),  bGrad: tensor([0.0192, 0.0000])\n",
      "J: 18.651662826538086,  b0: -6.529252529144287, b1: 10.0\n",
      "JGrad: tensor([-0.0030]),  bGrad: tensor([0.0407, 0.0000])\n",
      "J: 18.630388259887695,  b0: -6.604526519775391, b1: 10.0\n",
      "JGrad: tensor([-0.0068]),  bGrad: tensor([0.0045, 0.0000])\n",
      "J: 18.622507095336914,  b0: -6.673806190490723, b1: 10.0\n",
      "JGrad: tensor([-0.0058]),  bGrad: tensor([0.0142, 0.0000])\n",
      "J: 18.624876022338867,  b0: -6.739488124847412, b1: 10.0\n",
      "JGrad: tensor([-0.0053]),  bGrad: tensor([0.0118, 0.0000])\n",
      "J: 18.635587692260742,  b0: -6.801508903503418, b1: 10.0\n",
      "JGrad: tensor([-0.0027]),  bGrad: tensor([0.0243, 0.0000])\n",
      "J: 18.649633407592773,  b0: -6.862531661987305, b1: 10.0\n",
      "JGrad: tensor([-0.0051]),  bGrad: tensor([0.0224, 0.0000])\n",
      "J: 18.670482635498047,  b0: -6.922364711761475, b1: 10.0\n",
      "JGrad: tensor([-0.0052]),  bGrad: tensor([0.0204, 0.0000])\n",
      "J: 18.69755744934082,  b0: -6.980808258056641, b1: 10.0\n",
      "JGrad: tensor([-0.0062]),  bGrad: tensor([0.0159, 0.0000])\n",
      "J: 18.73168182373047,  b0: -7.037191867828369, b1: 10.0\n",
      "JGrad: tensor([-0.0076]),  bGrad: tensor([0.0040, 0.0000])\n",
      ">>>\t epoch 2:: loss = 0.38500428199768066, validation loss = 0.38458624482154846\n",
      "J: 18.77403450012207,  b0: -7.089376449584961, b1: 10.0\n",
      "JGrad: tensor([-0.0059]),  bGrad: tensor([0.0043, 0.0000])\n",
      "J: 18.821325302124023,  b0: -7.137803077697754, b1: 10.0\n",
      "JGrad: tensor([-0.0064]),  bGrad: tensor([0.0087, 0.0000])\n",
      "J: 18.873794555664062,  b0: -7.18372917175293, b1: 10.0\n",
      "JGrad: tensor([-0.0050]),  bGrad: tensor([0.0154, 0.0000])\n",
      "J: 18.929065704345703,  b0: -7.228781223297119, b1: 10.0\n",
      "JGrad: tensor([-0.0067]),  bGrad: tensor([0.0014, 0.0000])\n",
      "J: 18.989120483398438,  b0: -7.2701287269592285, b1: 10.0\n",
      "JGrad: tensor([-0.0095]),  bGrad: tensor([-0.0054,  0.0000])\n",
      "J: 19.056598663330078,  b0: -7.306618690490723, b1: 10.0\n",
      "JGrad: tensor([-0.0050]),  bGrad: tensor([0.0126, 0.0000])\n",
      "J: 19.125240325927734,  b0: -7.342601776123047, b1: 10.0\n",
      "JGrad: tensor([-0.0126]),  bGrad: tensor([-0.0278,  0.0000])\n",
      "J: 19.203189849853516,  b0: -7.369014263153076, b1: 10.0\n",
      "JGrad: tensor([-0.0069]),  bGrad: tensor([-0.0021,  0.0000])\n",
      "J: 19.28328514099121,  b0: -7.392592430114746, b1: 10.0\n",
      "JGrad: tensor([-0.0083]),  bGrad: tensor([0.0034, 0.0000])\n",
      "J: 19.366857528686523,  b0: -7.414846420288086, b1: 10.0\n",
      "JGrad: tensor([-0.0078]),  bGrad: tensor([0.0065, 0.0000])\n",
      "J: 19.452930450439453,  b0: -7.436598777770996, b1: 10.0\n",
      "JGrad: tensor([-0.0088]),  bGrad: tensor([0.0133, 0.0000])\n",
      "J: 19.542285919189453,  b0: -7.459486484527588, b1: 10.0\n",
      "JGrad: tensor([-0.0088]),  bGrad: tensor([0.0056, 0.0000])\n",
      "J: 19.634483337402344,  b0: -7.481642246246338, b1: 10.0\n",
      "JGrad: tensor([-0.0087]),  bGrad: tensor([-0.0152,  0.0000])\n",
      ">>>\t epoch 3:: loss = 0.36806243658065796, validation loss = 0.37579336762428284\n",
      "J: 19.729122161865234,  b0: -7.498165130615234, b1: 10.0\n",
      "JGrad: tensor([-0.0064]),  bGrad: tensor([0.0078, 0.0000])\n",
      "J: 19.823484420776367,  b0: -7.515069961547852, b1: 10.0\n",
      "JGrad: tensor([-0.0080]),  bGrad: tensor([-0.0083,  0.0000])\n",
      "J: 19.919349670410156,  b0: -7.528427600860596, b1: 10.0\n",
      "JGrad: tensor([-0.0111]),  bGrad: tensor([-0.0194,  0.0000])\n",
      "J: 20.019498825073242,  b0: -7.535789489746094, b1: 10.0\n",
      "JGrad: tensor([-0.0111]),  bGrad: tensor([-0.0022,  0.0000])\n",
      "J: 20.12331771850586,  b0: -7.5419464111328125, b1: 10.0\n",
      "JGrad: tensor([-0.0116]),  bGrad: tensor([0.0026, 0.0000])\n",
      "J: 20.23063850402832,  b0: -7.548205852508545, b1: 10.0\n",
      "JGrad: tensor([-0.0077]),  bGrad: tensor([0.0051, 0.0000])\n",
      "J: 20.33740234375,  b0: -7.5551862716674805, b1: 10.0\n",
      "JGrad: tensor([-0.0088]),  bGrad: tensor([0.0033, 0.0000])\n",
      "J: 20.444772720336914,  b0: -7.562385082244873, b1: 10.0\n",
      "JGrad: tensor([-0.0124]),  bGrad: tensor([-0.0021,  0.0000])\n",
      "J: 20.555788040161133,  b0: -7.568384170532227, b1: 10.0\n",
      "JGrad: tensor([-0.0090]),  bGrad: tensor([0.0169, 0.0000])\n",
      "J: 20.666969299316406,  b0: -7.578225135803223, b1: 10.0\n",
      "JGrad: tensor([-0.0098]),  bGrad: tensor([-0.0055,  0.0000])\n",
      "J: 20.779033660888672,  b0: -7.585720539093018, b1: 10.0\n",
      "JGrad: tensor([-0.0092]),  bGrad: tensor([-0.0034,  0.0000])\n",
      "J: 20.891265869140625,  b0: -7.591638565063477, b1: 10.0\n",
      "JGrad: tensor([-0.0131]),  bGrad: tensor([-0.0059,  0.0000])\n",
      "J: 21.0069580078125,  b0: -7.5954413414001465, b1: 10.0\n",
      "JGrad: tensor([-0.0157]),  bGrad: tensor([-0.0360,  0.0000])\n",
      ">>>\t epoch 4:: loss = 0.36512255668640137, validation loss = 0.3619637191295624\n",
      "J: 21.127426147460938,  b0: -7.5892181396484375, b1: 10.0\n",
      "JGrad: tensor([-0.0093]),  bGrad: tensor([-0.0094,  0.0000])\n",
      "J: 21.246896743774414,  b0: -7.581037521362305, b1: 10.0\n",
      "JGrad: tensor([-0.0124]),  bGrad: tensor([-0.0149,  0.0000])\n",
      "J: 21.3680362701416,  b0: -7.5695719718933105, b1: 10.0\n",
      "JGrad: tensor([-0.0105]),  bGrad: tensor([-0.0074,  0.0000])\n",
      "J: 21.48900604248047,  b0: -7.5571417808532715, b1: 10.0\n",
      "JGrad: tensor([-0.0088]),  bGrad: tensor([0.0139, 0.0000])\n",
      "J: 21.608264923095703,  b0: -7.549701690673828, b1: 10.0\n",
      "JGrad: tensor([-0.0108]),  bGrad: tensor([-0.0084,  0.0000])\n",
      "J: 21.727760314941406,  b0: -7.540599346160889, b1: 10.0\n",
      "JGrad: tensor([-0.0112]),  bGrad: tensor([0.0024, 0.0000])\n",
      "J: 21.8477840423584,  b0: -7.533005237579346, b1: 10.0\n",
      "JGrad: tensor([-0.0123]),  bGrad: tensor([0.0087, 0.0000])\n",
      "J: 21.96917724609375,  b0: -7.528585910797119, b1: 10.0\n",
      "JGrad: tensor([-0.0124]),  bGrad: tensor([-0.0081,  0.0000])\n",
      "J: 22.09181022644043,  b0: -7.5222601890563965, b1: 10.0\n",
      "JGrad: tensor([-0.0072]),  bGrad: tensor([0.0206, 0.0000])\n",
      "J: 22.2108211517334,  b0: -7.522461414337158, b1: 10.0\n",
      "JGrad: tensor([-0.0089]),  bGrad: tensor([-0.0041,  0.0000])\n",
      "J: 22.328216552734375,  b0: -7.521449089050293, b1: 10.0\n",
      "JGrad: tensor([-0.0092]),  bGrad: tensor([0.0177, 0.0000])\n",
      "J: 22.44438362121582,  b0: -7.525699138641357, b1: 10.0\n",
      "JGrad: tensor([-0.0076]),  bGrad: tensor([0.0169, 0.0000])\n",
      "J: 22.55790901184082,  b0: -7.534511089324951, b1: 10.0\n",
      "JGrad: tensor([-0.0152]),  bGrad: tensor([-0.0130,  0.0000])\n",
      ">>>\t epoch 5:: loss = 0.3545047640800476, validation loss = 0.34752264618873596\n",
      "J: 22.675798416137695,  b0: -7.5386433601379395, b1: 10.0\n",
      "JGrad: tensor([-0.0088]),  bGrad: tensor([0.0023, 0.0000])\n",
      "J: 22.79190444946289,  b0: -7.543065071105957, b1: 10.0\n",
      "JGrad: tensor([-0.0082]),  bGrad: tensor([0.0070, 0.0000])\n",
      "J: 22.905853271484375,  b0: -7.549185752868652, b1: 10.0\n"
     ]
    },
    {
     "name": "stdout",
     "output_type": "stream",
     "text": [
      "JGrad: tensor([-0.0074]),  bGrad: tensor([0.0131, 0.0000])\n",
      "J: 23.01714324951172,  b0: -7.558677673339844, b1: 10.0\n",
      "JGrad: tensor([-0.0069]),  bGrad: tensor([0.0255, 0.0000])\n",
      "J: 23.125490188598633,  b0: -7.5749711990356445, b1: 10.0\n",
      "JGrad: tensor([-0.0036]),  bGrad: tensor([0.0403, 0.0000])\n",
      "J: 23.227745056152344,  b0: -7.601744651794434, b1: 10.0\n",
      "JGrad: tensor([-0.0069]),  bGrad: tensor([0.0162, 0.0000])\n",
      "J: 23.32806396484375,  b0: -7.630880832672119, b1: 10.0\n",
      "JGrad: tensor([-0.0046]),  bGrad: tensor([0.0230, 0.0000])\n",
      "J: 23.424123764038086,  b0: -7.6642045974731445, b1: 10.0\n",
      "JGrad: tensor([-0.0097]),  bGrad: tensor([0.0082, 0.0000])\n",
      "J: 23.521686553955078,  b0: -7.696921348571777, b1: 10.0\n",
      "JGrad: tensor([-0.0063]),  bGrad: tensor([-0.0025,  0.0000])\n",
      "J: 23.617155075073242,  b0: -7.725815296173096, b1: 10.0\n",
      "JGrad: tensor([-0.0084]),  bGrad: tensor([0.0145, 0.0000])\n",
      "J: 23.712919235229492,  b0: -7.7564697265625, b1: 10.0\n",
      "JGrad: tensor([-0.0051]),  bGrad: tensor([0.0153, 0.0000])\n",
      "J: 23.80544662475586,  b0: -7.788976669311523, b1: 10.0\n",
      "JGrad: tensor([-0.0101]),  bGrad: tensor([-0.0024,  0.0000])\n",
      "J: 23.9002742767334,  b0: -7.817661285400391, b1: 10.0\n",
      "JGrad: tensor([-0.0077]),  bGrad: tensor([-0.0147,  0.0000])\n",
      ">>>\t epoch 6:: loss = 0.3304584324359894, validation loss = 0.33480367064476013\n",
      "J: 23.99472427368164,  b0: -7.838960647583008, b1: 10.0\n",
      "JGrad: tensor([-0.0082]),  bGrad: tensor([-0.0004,  0.0000])\n",
      "J: 24.08941650390625,  b0: -7.858119487762451, b1: 10.0\n",
      "JGrad: tensor([-0.0056]),  bGrad: tensor([0.0113, 0.0000])\n",
      "J: 24.18149757385254,  b0: -7.87907075881958, b1: 10.0\n",
      "JGrad: tensor([-0.0094]),  bGrad: tensor([-0.0059,  0.0000])\n",
      "J: 24.2752685546875,  b0: -7.896162509918213, b1: 10.0\n",
      "JGrad: tensor([-0.0060]),  bGrad: tensor([-0.0076,  0.0000])\n",
      "J: 24.36705207824707,  b0: -7.9091901779174805, b1: 10.0\n",
      "JGrad: tensor([-0.0087]),  bGrad: tensor([0.0108, 0.0000])\n",
      "J: 24.459848403930664,  b0: -7.924487113952637, b1: 10.0\n",
      "JGrad: tensor([-0.0057]),  bGrad: tensor([-0.0053,  0.0000])\n",
      "J: 24.550395965576172,  b0: -7.936603546142578, b1: 10.0\n",
      "JGrad: tensor([-0.0044]),  bGrad: tensor([0.0196, 0.0000])\n",
      "J: 24.637500762939453,  b0: -7.953973770141602, b1: 10.0\n",
      "JGrad: tensor([-0.0070]),  bGrad: tensor([-0.0084,  0.0000])\n",
      "J: 24.724388122558594,  b0: -7.966925144195557, b1: 10.0\n",
      "JGrad: tensor([-0.0058]),  bGrad: tensor([-0.0158,  0.0000])\n",
      "J: 24.809785842895508,  b0: -7.973391532897949, b1: 10.0\n",
      "JGrad: tensor([-0.0042]),  bGrad: tensor([-0.0103,  0.0000])\n",
      "J: 24.892070770263672,  b0: -7.975823402404785, b1: 10.0\n",
      "JGrad: tensor([-0.0034]),  bGrad: tensor([-0.0034,  0.0000])\n",
      "J: 24.970590591430664,  b0: -7.976889610290527, b1: 10.0\n",
      "JGrad: tensor([-0.0036]),  bGrad: tensor([-0.0010,  0.0000])\n",
      "J: 25.045942306518555,  b0: -7.977505207061768, b1: 10.0\n",
      "JGrad: tensor([-0.0033]),  bGrad: tensor([0.0197, 0.0000])\n",
      ">>>\t epoch 7:: loss = 0.332557737827301, validation loss = 0.32937830686569214\n",
      "J: 25.11815643310547,  b0: -7.984731197357178, b1: 10.0\n",
      "JGrad: tensor([-0.0038]),  bGrad: tensor([0.0027, 0.0000])\n",
      "J: 25.188024520874023,  b0: -7.992181301116943, b1: 10.0\n",
      "JGrad: tensor([-0.0020]),  bGrad: tensor([0.0048, 0.0000])\n",
      "J: 25.253719329833984,  b0: -8.00057315826416, b1: 10.0\n",
      "JGrad: tensor([-0.0043]),  bGrad: tensor([-0.0096,  0.0000])\n",
      "J: 25.3183650970459,  b0: -8.00484561920166, b1: 10.0\n",
      "JGrad: tensor([-0.0020]),  bGrad: tensor([-0.0054,  0.0000])\n",
      "J: 25.379314422607422,  b0: -8.006836891174316, b1: 10.0\n",
      "JGrad: tensor([-0.0020]),  bGrad: tensor([0.0061, 0.0000])\n",
      "J: 25.436992645263672,  b0: -8.010770797729492, b1: 10.0\n",
      "JGrad: tensor([-0.0034]),  bGrad: tensor([0.0034, 0.0000])\n",
      "J: 25.49334144592285,  b0: -8.015527725219727, b1: 10.0\n",
      "JGrad: tensor([-0.0012]),  bGrad: tensor([-0.0219,  0.0000])\n",
      "J: 25.545869827270508,  b0: -8.012138366699219, b1: 10.0\n",
      "JGrad: tensor([-0.0027]),  bGrad: tensor([-0.0055,  0.0000])\n",
      "J: 25.596820831298828,  b0: -8.007128715515137, b1: 10.0\n",
      "JGrad: tensor([-0.0006]),  bGrad: tensor([0.0074, 0.0000])\n",
      "J: 25.64371681213379,  b0: -8.005217552185059, b1: 10.0\n",
      "JGrad: tensor([-0.0011]),  bGrad: tensor([0.0220, 0.0000])\n",
      "J: 25.68758201599121,  b0: -8.011287689208984, b1: 10.0\n",
      "JGrad: tensor([0.0001]),  bGrad: tensor([0.0080, 0.0000])\n",
      "J: 25.727094650268555,  b0: -8.019607543945312, b1: 10.0\n",
      "JGrad: tensor([-0.0023]),  bGrad: tensor([0.0007, 0.0000])\n",
      "J: 25.765836715698242,  b0: -8.02738094329834, b1: 10.0\n",
      "JGrad: tensor([-0.0032]),  bGrad: tensor([0.0137, 0.0000])\n",
      ">>>\t epoch 8:: loss = 0.32677674293518066, validation loss = 0.3287067115306854\n",
      "J: 25.80499267578125,  b0: -8.039314270019531, b1: 10.0\n",
      "JGrad: tensor([-0.0028]),  bGrad: tensor([-0.0073,  0.0000])\n",
      "J: 25.843984603881836,  b0: -8.047468185424805, b1: 10.0\n",
      "JGrad: tensor([-0.0017]),  bGrad: tensor([-0.0003,  0.0000])\n",
      "J: 25.881446838378906,  b0: -8.05473804473877, b1: 10.0\n",
      "JGrad: tensor([0.0001]),  bGrad: tensor([-0.0065,  0.0000])\n",
      "J: 25.91513442993164,  b0: -8.058937072753906, b1: 10.0\n",
      "JGrad: tensor([-0.0006]),  bGrad: tensor([-0.0016,  0.0000])\n",
      "J: 25.946413040161133,  b0: -8.06213092803955, b1: 10.0\n",
      "JGrad: tensor([-0.0015]),  bGrad: tensor([-0.0126,  0.0000])\n",
      "J: 25.976625442504883,  b0: -8.060379028320312, b1: 10.0\n",
      "JGrad: tensor([-9.6349e-05]),  bGrad: tensor([-0.0090,  0.0000])\n",
      "J: 26.00407600402832,  b0: -8.055481910705566, b1: 10.0\n",
      "JGrad: tensor([0.0010]),  bGrad: tensor([0.0142, 0.0000])\n",
      "J: 26.027568817138672,  b0: -8.05630874633789, b1: 10.0\n",
      "JGrad: tensor([-8.5140e-06]),  bGrad: tensor([0.0128, 0.0000])\n",
      "J: 26.048824310302734,  b0: -8.061800956726074, b1: 10.0\n",
      "JGrad: tensor([-0.0006]),  bGrad: tensor([-0.0033,  0.0000])\n",
      "J: 26.068845748901367,  b0: -8.06554126739502, b1: 10.0\n",
      "JGrad: tensor([-6.3076e-06]),  bGrad: tensor([0.0093, 0.0000])\n",
      "J: 26.086957931518555,  b0: -8.072399139404297, b1: 10.0\n",
      "JGrad: tensor([0.0005]),  bGrad: tensor([0.0079, 0.0000])\n",
      "J: 26.10266876220703,  b0: -8.081563949584961, b1: 10.0\n",
      "JGrad: tensor([-0.0017]),  bGrad: tensor([-0.0077,  0.0000])\n",
      "J: 26.11918067932129,  b0: -8.086952209472656, b1: 10.0\n",
      "JGrad: tensor([0.0014]),  bGrad: tensor([0.0005, 0.0000])\n",
      ">>>\t epoch 9:: loss = 0.3292034864425659, validation loss = 0.32894352078437805\n",
      "J: 26.132192611694336,  b0: -8.09200382232666, b1: 10.0\n",
      "JGrad: tensor([0.0014]),  bGrad: tensor([-0.0139,  0.0000])\n",
      "J: 26.142080307006836,  b0: -8.091254234313965, b1: 10.0\n",
      "JGrad: tensor([-0.0008]),  bGrad: tensor([0.0034, 0.0000])\n",
      "J: 26.15214729309082,  b0: -8.091894149780273, b1: 10.0\n",
      "JGrad: tensor([-0.0013]),  bGrad: tensor([0.0072, 0.0000])\n",
      "J: 26.163005828857422,  b0: -8.095240592956543, b1: 10.0\n",
      "JGrad: tensor([0.0003]),  bGrad: tensor([-0.0004,  0.0000])\n",
      "J: 26.172460556030273,  b0: -8.098119735717773, b1: 10.0\n",
      "JGrad: tensor([-0.0004]),  bGrad: tensor([-0.0089,  0.0000])\n",
      "J: 26.181554794311523,  b0: -8.097254753112793, b1: 10.0\n",
      "JGrad: tensor([-0.0004]),  bGrad: tensor([0.0054, 0.0000])\n",
      "J: 26.19033432006836,  b0: -8.098556518554688, b1: 10.0\n",
      "JGrad: tensor([-0.0021]),  bGrad: tensor([-0.0126,  0.0000])\n",
      "J: 26.201295852661133,  b0: -8.094810485839844, b1: 10.0\n",
      "JGrad: tensor([0.0007]),  bGrad: tensor([-0.0030,  0.0000])\n",
      "J: 26.210268020629883,  b0: -8.090265274047852, b1: 10.0\n",
      "JGrad: tensor([-5.5387e-05]),  bGrad: tensor([0.0066, 0.0000])\n",
      "J: 26.218456268310547,  b0: -8.088770866394043, b1: 10.0\n",
      "JGrad: tensor([0.0007]),  bGrad: tensor([0.0007, 0.0000])\n",
      "J: 26.2248477935791,  b0: -8.08770751953125, b1: 10.0\n",
      "JGrad: tensor([-0.0009]),  bGrad: tensor([-0.0070,  0.0000])\n",
      "J: 26.231937408447266,  b0: -8.083976745605469, b1: 10.0\n",
      "JGrad: tensor([0.0025]),  bGrad: tensor([-0.0100,  0.0000])\n",
      "J: 26.234664916992188,  b0: -8.076617240905762, b1: 10.0\n",
      "JGrad: tensor([-0.0016]),  bGrad: tensor([0.0042, 0.0000])\n",
      ">>>\t epoch 10:: loss = 0.32330483198165894, validation loss = 0.32917240262031555\n",
      "J: 26.239404678344727,  b0: -8.071645736694336, b1: 10.0\n",
      "JGrad: tensor([-0.0023]),  bGrad: tensor([0.0028, 0.0000])\n",
      "J: 26.24700164794922,  b0: -8.068280220031738, b1: 10.0\n",
      "JGrad: tensor([0.0016]),  bGrad: tensor([-0.0001,  0.0000])\n",
      "J: 26.25153160095215,  b0: -8.065190315246582, b1: 10.0\n",
      "JGrad: tensor([0.0021]),  bGrad: tensor([0.0018, 0.0000])\n",
      "J: 26.252500534057617,  b0: -8.063128471374512, b1: 10.0\n",
      "JGrad: tensor([0.0009]),  bGrad: tensor([0.0068, 0.0000])\n",
      "J: 26.25206184387207,  b0: -8.06402587890625, b1: 10.0\n"
     ]
    },
    {
     "name": "stdout",
     "output_type": "stream",
     "text": [
      "JGrad: tensor([0.0010]),  bGrad: tensor([0.0069, 0.0000])\n",
      "J: 26.25017547607422,  b0: -8.06765365600586, b1: 10.0\n",
      "JGrad: tensor([-0.0013]),  bGrad: tensor([0.0065, 0.0000])\n",
      "J: 26.250396728515625,  b0: -8.073601722717285, b1: 10.0\n",
      "JGrad: tensor([-0.0017]),  bGrad: tensor([-0.0175,  0.0000])\n",
      "J: 26.253114700317383,  b0: -8.071806907653809, b1: 10.0\n",
      "JGrad: tensor([0.0009]),  bGrad: tensor([0.0118, 0.0000])\n",
      "J: 26.254182815551758,  b0: -8.075044631958008, b1: 10.0\n",
      "JGrad: tensor([-0.0003]),  bGrad: tensor([0.0006, 0.0000])\n",
      "J: 26.255542755126953,  b0: -8.078227996826172, b1: 10.0\n",
      "JGrad: tensor([0.0002]),  bGrad: tensor([-0.0091,  0.0000])\n",
      "J: 26.25649070739746,  b0: -8.077337265014648, b1: 10.0\n",
      "JGrad: tensor([0.0009]),  bGrad: tensor([-0.0054,  0.0000])\n",
      "J: 26.255910873413086,  b0: -8.074286460876465, b1: 10.0\n",
      "JGrad: tensor([0.0010]),  bGrad: tensor([0.0085, 0.0000])\n",
      "J: 26.2539119720459,  b0: -8.075063705444336, b1: 10.0\n",
      "JGrad: tensor([0.0023]),  bGrad: tensor([0.0005, 0.0000])\n",
      ">>>\t epoch 11:: loss = 0.3352183997631073, validation loss = 0.3291741907596588\n",
      "J: 26.248632431030273,  b0: -8.075976371765137, b1: 10.0\n",
      "JGrad: tensor([0.0017]),  bGrad: tensor([-0.0004,  0.0000])\n",
      "J: 26.24127960205078,  b0: -8.076637268066406, b1: 10.0\n",
      "JGrad: tensor([0.0009]),  bGrad: tensor([0.0008, 0.0000])\n",
      "J: 26.233240127563477,  b0: -8.077587127685547, b1: 10.0\n",
      "JGrad: tensor([0.0007]),  bGrad: tensor([0.0047, 0.0000])\n",
      "J: 26.22494125366211,  b0: -8.08043384552002, b1: 10.0\n",
      "JGrad: tensor([0.0007]),  bGrad: tensor([0.0029, 0.0000])\n",
      "J: 26.21630859375,  b0: -8.084245681762695, b1: 10.0\n",
      "JGrad: tensor([-0.0011]),  bGrad: tensor([0.0011, 0.0000])\n",
      "J: 26.210140228271484,  b0: -8.08817195892334, b1: 10.0\n",
      "JGrad: tensor([-0.0011]),  bGrad: tensor([0.0007, 0.0000])\n",
      "J: 26.206249237060547,  b0: -8.09202766418457, b1: 10.0\n",
      "JGrad: tensor([-0.0012]),  bGrad: tensor([-0.0236,  0.0000])\n",
      "J: 26.204626083374023,  b0: -8.0853910446167, b1: 10.0\n",
      "JGrad: tensor([-0.0019]),  bGrad: tensor([-0.0044,  0.0000])\n",
      "J: 26.206146240234375,  b0: -8.077507019042969, b1: 10.0\n",
      "JGrad: tensor([0.0019]),  bGrad: tensor([-0.0076,  0.0000])\n",
      "J: 26.204456329345703,  b0: -8.067096710205078, b1: 10.0\n",
      "JGrad: tensor([0.0012]),  bGrad: tensor([0.0135, 0.0000])\n",
      "J: 26.201032638549805,  b0: -8.063518524169922, b1: 10.0\n",
      "JGrad: tensor([0.0006]),  bGrad: tensor([-0.0038,  0.0000])\n",
      "J: 26.196918487548828,  b0: -8.058643341064453, b1: 10.0\n",
      "JGrad: tensor([-0.0003]),  bGrad: tensor([0.0086, 0.0000])\n",
      "J: 26.19366455078125,  b0: -8.05795955657959, b1: 10.0\n",
      "JGrad: tensor([-0.0002]),  bGrad: tensor([0.0148, 0.0000])\n",
      ">>>\t epoch 12:: loss = 0.32570651173591614, validation loss = 0.3291112780570984\n",
      "J: 26.191068649291992,  b0: -8.063785552978516, b1: 10.0\n",
      "JGrad: tensor([-0.0005]),  bGrad: tensor([-0.0049,  0.0000])\n",
      "J: 26.189538955688477,  b0: -8.066914558410645, b1: 10.0\n",
      "JGrad: tensor([-0.0009]),  bGrad: tensor([-0.0025,  0.0000])\n",
      "J: 26.189661026000977,  b0: -8.06866455078125, b1: 10.0\n",
      "JGrad: tensor([-2.5719e-05]),  bGrad: tensor([0.0004, 0.0000])\n",
      "J: 26.18981170654297,  b0: -8.070401191711426, b1: 10.0\n",
      "JGrad: tensor([-0.0017]),  bGrad: tensor([-0.0170,  0.0000])\n",
      "J: 26.192659378051758,  b0: -8.064480781555176, b1: 10.0\n",
      "JGrad: tensor([0.0015]),  bGrad: tensor([-0.0087,  0.0000])\n",
      "J: 26.192855834960938,  b0: -8.055304527282715, b1: 10.0\n",
      "JGrad: tensor([0.0013]),  bGrad: tensor([0.0169, 0.0000])\n",
      "J: 26.19091796875,  b0: -8.05449390411377, b1: 10.0\n",
      "JGrad: tensor([0.0013]),  bGrad: tensor([0.0064, 0.0000])\n",
      "J: 26.187089920043945,  b0: -8.05661392211914, b1: 10.0\n",
      "JGrad: tensor([0.0004]),  bGrad: tensor([0.0111, 0.0000])\n",
      "J: 26.183048248291016,  b0: -8.063481330871582, b1: 10.0\n",
      "JGrad: tensor([0.0015]),  bGrad: tensor([0.0067, 0.0000])\n",
      "J: 26.176916122436523,  b0: -8.072665214538574, b1: 10.0\n",
      "JGrad: tensor([0.0002]),  bGrad: tensor([0.0109, 0.0000])\n",
      "J: 26.1710205078125,  b0: -8.085838317871094, b1: 10.0\n",
      "JGrad: tensor([-0.0012]),  bGrad: tensor([0.0041, 0.0000])\n",
      "J: 26.167753219604492,  b0: -8.099590301513672, b1: 10.0\n",
      "JGrad: tensor([-0.0003]),  bGrad: tensor([-0.0183,  0.0000])\n",
      "J: 26.16532325744629,  b0: -8.10377025604248, b1: 10.0\n",
      "JGrad: tensor([0.0004]),  bGrad: tensor([0.0030, 0.0000])\n",
      ">>>\t epoch 13:: loss = 0.3301069140434265, validation loss = 0.3289998173713684\n",
      "J: 26.16240882873535,  b0: -8.108916282653809, b1: 10.0\n",
      "JGrad: tensor([0.0002]),  bGrad: tensor([-0.0242,  0.0000])\n",
      "J: 26.159427642822266,  b0: -8.102644920349121, b1: 10.0\n",
      "JGrad: tensor([0.0025]),  bGrad: tensor([0.0036, 0.0000])\n",
      "J: 26.152637481689453,  b0: -8.098620414733887, b1: 10.0\n",
      "JGrad: tensor([-0.0005]),  bGrad: tensor([0.0015, 0.0000])\n",
      "J: 26.14740753173828,  b0: -8.095670700073242, b1: 10.0\n",
      "JGrad: tensor([-0.0015]),  bGrad: tensor([-0.0010,  0.0000])\n",
      "J: 26.145164489746094,  b0: -8.092569351196289, b1: 10.0\n",
      "JGrad: tensor([0.0011]),  bGrad: tensor([0.0111, 0.0000])\n",
      "J: 26.141239166259766,  b0: -8.094839096069336, b1: 10.0\n",
      "JGrad: tensor([-0.0006]),  bGrad: tensor([-0.0113,  0.0000])\n",
      "J: 26.138729095458984,  b0: -8.091708183288574, b1: 10.0\n",
      "JGrad: tensor([-0.0008]),  bGrad: tensor([0.0005, 0.0000])\n",
      "J: 26.13783073425293,  b0: -8.089125633239746, b1: 10.0\n",
      "JGrad: tensor([-0.0017]),  bGrad: tensor([-0.0024,  0.0000])\n",
      "J: 26.139842987060547,  b0: -8.08570671081543, b1: 10.0\n",
      "JGrad: tensor([-0.0024]),  bGrad: tensor([-0.0130,  0.0000])\n",
      "J: 26.14576530456543,  b0: -8.076644897460938, b1: 10.0\n",
      "JGrad: tensor([-0.0005]),  bGrad: tensor([-0.0037,  0.0000])\n",
      "J: 26.151897430419922,  b0: -8.066774368286133, b1: 10.0\n",
      "JGrad: tensor([-0.0005]),  bGrad: tensor([0.0069, 0.0000])\n",
      "J: 26.158309936523438,  b0: -8.061055183410645, b1: 10.0\n",
      "JGrad: tensor([-0.0004]),  bGrad: tensor([-0.0094,  0.0000])\n",
      "J: 26.16472053527832,  b0: -8.051543235778809, b1: 10.0\n",
      "JGrad: tensor([0.0055]),  bGrad: tensor([0.0285, 0.0000])\n",
      ">>>\t epoch 14:: loss = 0.3350081443786621, validation loss = 0.3290919065475464\n",
      "J: 26.16101837158203,  b0: -8.056215286254883, b1: 10.0\n",
      "JGrad: tensor([0.0001]),  bGrad: tensor([-9.7595e-05,  0.0000e+00])\n",
      "J: 26.157472610473633,  b0: -8.06038761138916, b1: 10.0\n",
      "JGrad: tensor([0.0005]),  bGrad: tensor([0.0056, 0.0000])\n",
      "J: 26.1533203125,  b0: -8.066766738891602, b1: 10.0\n",
      "JGrad: tensor([0.0010]),  bGrad: tensor([0.0057, 0.0000])\n",
      "J: 26.147842407226562,  b0: -8.075172424316406, b1: 10.0\n",
      "JGrad: tensor([0.0022]),  bGrad: tensor([0.0230, 0.0000])\n",
      "J: 26.139095306396484,  b0: -8.093475341796875, b1: 10.0\n",
      "JGrad: tensor([0.0002]),  bGrad: tensor([-0.0059,  0.0000])\n",
      "J: 26.130802154541016,  b0: -8.107211112976074, b1: 10.0\n",
      "JGrad: tensor([-0.0012]),  bGrad: tensor([0.0087, 0.0000])\n",
      "J: 26.12540626525879,  b0: -8.123682975769043, b1: 10.0\n",
      "JGrad: tensor([-0.0028]),  bGrad: tensor([-0.0196,  0.0000])\n",
      "J: 26.12543296813965,  b0: -8.12932300567627, b1: 10.0\n",
      "JGrad: tensor([0.0009]),  bGrad: tensor([-0.0163,  0.0000])\n",
      "J: 26.123933792114258,  b0: -8.12672233581543, b1: 10.0\n",
      "JGrad: tensor([-0.0006]),  bGrad: tensor([-0.0091,  0.0000])\n",
      "J: 26.12360382080078,  b0: -8.120081901550293, b1: 10.0\n",
      "JGrad: tensor([-0.0008]),  bGrad: tensor([-0.0150,  0.0000])\n",
      "J: 26.12474250793457,  b0: -8.107033729553223, b1: 10.0\n",
      "JGrad: tensor([-0.0019]),  bGrad: tensor([-0.0117,  0.0000])\n",
      "J: 26.1291446685791,  b0: -8.089712142944336, b1: 10.0\n",
      "JGrad: tensor([-0.0005]),  bGrad: tensor([-0.0070,  0.0000])\n",
      "J: 26.13393783569336,  b0: -8.070775985717773, b1: 10.0\n",
      "JGrad: tensor([-0.0027]),  bGrad: tensor([-0.0080,  0.0000])\n",
      ">>>\t epoch 15:: loss = 0.3229004442691803, validation loss = 0.3290940821170807\n",
      "J: 26.143037796020508,  b0: -8.049880981445312, b1: 10.0\n",
      "JGrad: tensor([-0.0009]),  bGrad: tensor([0.0016, 0.0000])\n",
      "J: 26.1528377532959,  b0: -8.031786918640137, b1: 10.0\n",
      "JGrad: tensor([0.0014]),  bGrad: tensor([0.0019, 0.0000])\n",
      "J: 26.159198760986328,  b0: -8.016385078430176, b1: 10.0\n",
      "JGrad: tensor([0.0010]),  bGrad: tensor([0.0170, 0.0000])\n",
      "J: 26.16322135925293,  b0: -8.010639190673828, b1: 10.0\n",
      "JGrad: tensor([0.0008]),  bGrad: tensor([0.0135, 0.0000])\n",
      "J: 26.16543960571289,  b0: -8.011920928955078, b1: 10.0\n",
      "JGrad: tensor([0.0010]),  bGrad: tensor([0.0063, 0.0000])\n",
      "J: 26.165620803833008,  b0: -8.016127586364746, b1: 10.0\n",
      "JGrad: tensor([0.0013]),  bGrad: tensor([0.0168, 0.0000])\n",
      "J: 26.16346549987793,  b0: -8.027995109558105, b1: 10.0\n",
      "JGrad: tensor([0.0001]),  bGrad: tensor([0.0024, 0.0000])\n",
      "J: 26.16132354736328,  b0: -8.039838790893555, b1: 10.0\n"
     ]
    },
    {
     "name": "stdout",
     "output_type": "stream",
     "text": [
      "JGrad: tensor([-0.0005]),  bGrad: tensor([0.0226, 0.0000])\n",
      "J: 26.16038703918457,  b0: -8.061405181884766, b1: 10.0\n",
      "JGrad: tensor([0.0012]),  bGrad: tensor([0.0003, 0.0000])\n",
      "J: 26.15731430053711,  b0: -8.081019401550293, b1: 10.0\n",
      "JGrad: tensor([-6.9713e-05]),  bGrad: tensor([-0.0032,  0.0000])\n",
      "J: 26.1546688079834,  b0: -8.097148895263672, b1: 10.0\n",
      "JGrad: tensor([0.0006]),  bGrad: tensor([-0.0142,  0.0000])\n",
      "J: 26.151264190673828,  b0: -8.10479736328125, b1: 10.0\n",
      "JGrad: tensor([-0.0008]),  bGrad: tensor([-0.0145,  0.0000])\n",
      "J: 26.149730682373047,  b0: -8.104620933532715, b1: 10.0\n",
      "JGrad: tensor([-0.0030]),  bGrad: tensor([-0.0202,  0.0000])\n",
      ">>>\t epoch 16:: loss = 0.32624804973602295, validation loss = 0.3289746940135956\n",
      "J: 26.1539249420166,  b0: -8.094656944274902, b1: 10.0\n",
      "JGrad: tensor([0.0006]),  bGrad: tensor([-0.0111,  0.0000])\n",
      "J: 26.156679153442383,  b0: -8.080265045166016, b1: 10.0\n",
      "JGrad: tensor([-0.0006]),  bGrad: tensor([0.0092, 0.0000])\n",
      "J: 26.16031265258789,  b0: -8.071757316589355, b1: 10.0\n",
      "JGrad: tensor([0.0011]),  bGrad: tensor([0.0052, 0.0000])\n",
      "J: 26.16156578063965,  b0: -8.06660270690918, b1: 10.0\n",
      "JGrad: tensor([0.0013]),  bGrad: tensor([-0.0025,  0.0000])\n",
      "J: 26.160289764404297,  b0: -8.060718536376953, b1: 10.0\n",
      "JGrad: tensor([-0.0012]),  bGrad: tensor([-0.0024,  0.0000])\n",
      "J: 26.16144561767578,  b0: -8.054244995117188, b1: 10.0\n",
      "JGrad: tensor([0.0021]),  bGrad: tensor([0.0039, 0.0000])\n",
      "J: 26.15846061706543,  b0: -8.050313949584961, b1: 10.0\n",
      "JGrad: tensor([-0.0011]),  bGrad: tensor([0.0049, 0.0000])\n",
      "J: 26.15778350830078,  b0: -8.049190521240234, b1: 10.0\n",
      "JGrad: tensor([-8.2050e-05]),  bGrad: tensor([-0.0005,  0.0000])\n",
      "J: 26.157325744628906,  b0: -8.047943115234375, b1: 10.0\n",
      "JGrad: tensor([0.0002]),  bGrad: tensor([0.0117, 0.0000])\n",
      "J: 26.156604766845703,  b0: -8.052627563476562, b1: 10.0\n",
      "JGrad: tensor([-0.0008]),  bGrad: tensor([-0.0011,  0.0000])\n",
      "J: 26.157501220703125,  b0: -8.056325912475586, b1: 10.0\n",
      "JGrad: tensor([0.0011]),  bGrad: tensor([0.0010, 0.0000])\n",
      "J: 26.156179428100586,  b0: -8.060157775878906, b1: 10.0\n",
      "JGrad: tensor([-0.0004]),  bGrad: tensor([0.0081, 0.0000])\n",
      "J: 26.155696868896484,  b0: -8.067676544189453, b1: 10.0\n",
      "JGrad: tensor([-0.0013]),  bGrad: tensor([-0.0196,  0.0000])\n",
      ">>>\t epoch 17:: loss = 0.3279649615287781, validation loss = 0.32904502749443054\n",
      "J: 26.157798767089844,  b0: -8.064631462097168, b1: 10.0\n",
      "JGrad: tensor([-0.0005]),  bGrad: tensor([-0.0103,  0.0000])\n",
      "J: 26.16074562072754,  b0: -8.056708335876465, b1: 10.0\n",
      "JGrad: tensor([0.0010]),  bGrad: tensor([0.0140, 0.0000])\n",
      "J: 26.16148567199707,  b0: -8.056568145751953, b1: 10.0\n",
      "JGrad: tensor([0.0042]),  bGrad: tensor([0.0049, 0.0000])\n",
      "J: 26.154115676879883,  b0: -8.058923721313477, b1: 10.0\n",
      "JGrad: tensor([-0.0007]),  bGrad: tensor([-0.0074,  0.0000])\n",
      "J: 26.148727416992188,  b0: -8.057332038879395, b1: 10.0\n",
      "JGrad: tensor([-0.0011]),  bGrad: tensor([0.0047, 0.0000])\n",
      "J: 26.146026611328125,  b0: -8.058259963989258, b1: 10.0\n",
      "JGrad: tensor([-0.0007]),  bGrad: tensor([-0.0013,  0.0000])\n",
      "J: 26.144851684570312,  b0: -8.058452606201172, b1: 10.0\n",
      "JGrad: tensor([0.0017]),  bGrad: tensor([0.0031, 0.0000])\n",
      "J: 26.140588760375977,  b0: -8.060218811035156, b1: 10.0\n",
      "JGrad: tensor([-0.0003]),  bGrad: tensor([-0.0044,  0.0000])\n",
      "J: 26.137325286865234,  b0: -8.059588432312012, b1: 10.0\n",
      "JGrad: tensor([-0.0016]),  bGrad: tensor([0.0009, 0.0000])\n",
      "J: 26.13750457763672,  b0: -8.059481620788574, b1: 10.0\n",
      "JGrad: tensor([0.0010]),  bGrad: tensor([-0.0066,  0.0000])\n",
      "J: 26.135658264160156,  b0: -8.056035041809082, b1: 10.0\n",
      "JGrad: tensor([-0.0006]),  bGrad: tensor([0.0169, 0.0000])\n",
      "J: 26.135087966918945,  b0: -8.06154727935791, b1: 10.0\n",
      "JGrad: tensor([-0.0018]),  bGrad: tensor([0.0026, 0.0000])\n",
      "J: 26.138044357299805,  b0: -8.06784725189209, b1: 10.0\n",
      "JGrad: tensor([0.0015]),  bGrad: tensor([0.0069, 0.0000])\n",
      ">>>\t epoch 18:: loss = 0.32970255613327026, validation loss = 0.32897019386291504\n",
      "J: 26.13783836364746,  b0: -8.077054023742676, b1: 10.0\n",
      "JGrad: tensor([0.0002]),  bGrad: tensor([-0.0123,  0.0000])\n",
      "J: 26.13721466064453,  b0: -8.079047203063965, b1: 10.0\n",
      "JGrad: tensor([-0.0002]),  bGrad: tensor([0.0024, 0.0000])\n",
      "J: 26.137117385864258,  b0: -8.082072257995605, b1: 10.0\n",
      "JGrad: tensor([0.0007]),  bGrad: tensor([-0.0094,  0.0000])\n",
      "J: 26.13563346862793,  b0: -8.079936981201172, b1: 10.0\n",
      "JGrad: tensor([-0.0011]),  bGrad: tensor([0.0043, 0.0000])\n",
      "J: 26.13652801513672,  b0: -8.080260276794434, b1: 10.0\n",
      "JGrad: tensor([-0.0003]),  bGrad: tensor([-0.0013,  0.0000])\n",
      "J: 26.13797378540039,  b0: -8.079885482788086, b1: 10.0\n",
      "JGrad: tensor([-0.0014]),  bGrad: tensor([0.0002, 0.0000])\n",
      "J: 26.141971588134766,  b0: -8.079655647277832, b1: 10.0\n",
      "JGrad: tensor([0.0024]),  bGrad: tensor([-0.0042,  0.0000])\n",
      "J: 26.140804290771484,  b0: -8.077260971069336, b1: 10.0\n",
      "JGrad: tensor([0.0004]),  bGrad: tensor([-0.0008,  0.0000])\n",
      "J: 26.138927459716797,  b0: -8.074700355529785, b1: 10.0\n",
      "JGrad: tensor([-0.0025]),  bGrad: tensor([-0.0124,  0.0000])\n",
      "J: 26.142269134521484,  b0: -8.065905570983887, b1: 10.0\n",
      "JGrad: tensor([-0.0007]),  bGrad: tensor([-0.0039,  0.0000])\n",
      "J: 26.146726608276367,  b0: -8.055912017822266, b1: 10.0\n",
      "JGrad: tensor([0.0003]),  bGrad: tensor([0.0064, 0.0000])\n",
      "J: 26.15019416809082,  b0: -8.050235748291016, b1: 10.0\n",
      "JGrad: tensor([0.0009]),  bGrad: tensor([0.0161, 0.0000])\n",
      "J: 26.151424407958984,  b0: -8.053584098815918, b1: 10.0\n",
      "JGrad: tensor([0.0017]),  bGrad: tensor([0.0271, 0.0000])\n",
      ">>>\t epoch 19:: loss = 0.3292671740055084, validation loss = 0.32900670170783997\n",
      "J: 26.149181365966797,  b0: -8.070779800415039, b1: 10.0\n",
      "JGrad: tensor([0.0010]),  bGrad: tensor([0.0018, 0.0000])\n",
      "J: 26.14508819580078,  b0: -8.08721923828125, b1: 10.0\n",
      "JGrad: tensor([0.0021]),  bGrad: tensor([-0.0028,  0.0000])\n",
      "J: 26.1370906829834,  b0: -8.10056209564209, b1: 10.0\n",
      "JGrad: tensor([0.0011]),  bGrad: tensor([0.0155, 0.0000])\n",
      "J: 26.127620697021484,  b0: -8.12072467803955, b1: 10.0\n",
      "JGrad: tensor([-0.0028]),  bGrad: tensor([-0.0192,  0.0000])\n",
      "J: 26.124738693237305,  b0: -8.128725051879883, b1: 10.0\n",
      "JGrad: tensor([0.0016]),  bGrad: tensor([-0.0047,  0.0000])\n",
      "J: 26.118776321411133,  b0: -8.133454322814941, b1: 10.0\n",
      "JGrad: tensor([-0.0017]),  bGrad: tensor([-0.0207,  0.0000])\n",
      "J: 26.11690902709961,  b0: -8.126786231994629, b1: 10.0\n",
      "JGrad: tensor([-6.1917e-05]),  bGrad: tensor([-0.0072,  0.0000])\n",
      "J: 26.1153507232666,  b0: -8.116950035095215, b1: 10.0\n",
      "JGrad: tensor([-0.0020]),  bGrad: tensor([0.0004, 0.0000])\n",
      "J: 26.117965698242188,  b0: -8.108294486999512, b1: 10.0\n",
      "JGrad: tensor([-0.0021]),  bGrad: tensor([-0.0008,  0.0000])\n",
      "J: 26.124696731567383,  b0: -8.100069999694824, b1: 10.0\n",
      "JGrad: tensor([-0.0009]),  bGrad: tensor([-0.0167,  0.0000])\n",
      "J: 26.132671356201172,  b0: -8.08381175994873, b1: 10.0\n",
      "JGrad: tensor([-0.0005]),  bGrad: tensor([-0.0012,  0.0000])\n",
      "J: 26.14087677001953,  b0: -8.068512916564941, b1: 10.0\n",
      "JGrad: tensor([-0.0005]),  bGrad: tensor([-0.0003,  0.0000])\n",
      "J: 26.149219512939453,  b0: -8.054573059082031, b1: 10.0\n",
      "JGrad: tensor([-0.0007]),  bGrad: tensor([0.0095, 0.0000])\n",
      ">>>\t epoch 20:: loss = 0.3287803530693054, validation loss = 0.3291415274143219\n",
      "J: 26.15813446044922,  b0: -8.047097206115723, b1: 10.0\n",
      "JGrad: tensor([-0.0009]),  bGrad: tensor([0.0031, 0.0000])\n",
      "J: 26.168020248413086,  b0: -8.041991233825684, b1: 10.0\n",
      "JGrad: tensor([0.0023]),  bGrad: tensor([0.0131, 0.0000])\n",
      "J: 26.17218589782715,  b0: -8.04442310333252, b1: 10.0\n",
      "JGrad: tensor([0.0012]),  bGrad: tensor([-8.5726e-05,  0.0000e+00])\n",
      "J: 26.173521041870117,  b0: -8.046570777893066, b1: 10.0\n",
      "JGrad: tensor([-7.8487e-05]),  bGrad: tensor([-0.0091,  0.0000])\n",
      "J: 26.174888610839844,  b0: -8.043597221374512, b1: 10.0\n",
      "JGrad: tensor([0.0024]),  bGrad: tensor([0.0094, 0.0000])\n",
      "J: 26.171077728271484,  b0: -8.046004295349121, b1: 10.0\n",
      "JGrad: tensor([0.0014]),  bGrad: tensor([0.0089, 0.0000])\n",
      "J: 26.16473388671875,  b0: -8.052998542785645, b1: 10.0\n",
      "JGrad: tensor([-0.0007]),  bGrad: tensor([-0.0057,  0.0000])\n",
      "J: 26.160444259643555,  b0: -8.056227684020996, b1: 10.0\n",
      "JGrad: tensor([0.0003]),  bGrad: tensor([0.0026, 0.0000])\n",
      "J: 26.156028747558594,  b0: -8.060528755187988, b1: 10.0\n",
      "JGrad: tensor([-0.0008]),  bGrad: tensor([0.0223, 0.0000])\n",
      "J: 26.153684616088867,  b0: -8.076467514038086, b1: 10.0\n"
     ]
    },
    {
     "name": "stdout",
     "output_type": "stream",
     "text": [
      "JGrad: tensor([-0.0016]),  bGrad: tensor([-0.0084,  0.0000])\n",
      "J: 26.15494728088379,  b0: -8.086299896240234, b1: 10.0\n",
      "JGrad: tensor([-0.0019]),  bGrad: tensor([-0.0008,  0.0000])\n",
      "J: 26.160146713256836,  b0: -8.094736099243164, b1: 10.0\n",
      "JGrad: tensor([-2.5131e-05]),  bGrad: tensor([0.0028, 0.0000])\n",
      "J: 26.164888381958008,  b0: -8.1038818359375, b1: 10.0\n",
      "JGrad: tensor([0.0015]),  bGrad: tensor([-0.0296,  0.0000])\n",
      ">>>\t epoch 21:: loss = 0.32833611965179443, validation loss = 0.3289923369884491\n",
      "J: 26.16602325439453,  b0: -8.09598159790039, b1: 10.0\n",
      "JGrad: tensor([0.0011]),  bGrad: tensor([-0.0073,  0.0000])\n",
      "J: 26.164644241333008,  b0: -8.0848970413208, b1: 10.0\n",
      "JGrad: tensor([-0.0001]),  bGrad: tensor([-0.0064,  0.0000])\n",
      "J: 26.163652420043945,  b0: -8.071423530578613, b1: 10.0\n",
      "JGrad: tensor([0.0004]),  bGrad: tensor([0.0047, 0.0000])\n",
      "J: 26.16188621520996,  b0: -8.061841011047363, b1: 10.0\n",
      "JGrad: tensor([-0.0016]),  bGrad: tensor([-0.0055,  0.0000])\n",
      "J: 26.163681030273438,  b0: -8.050195693969727, b1: 10.0\n",
      "JGrad: tensor([0.0007]),  bGrad: tensor([0.0062, 0.0000])\n",
      "J: 26.163785934448242,  b0: -8.043112754821777, b1: 10.0\n",
      "JGrad: tensor([0.0001]),  bGrad: tensor([0.0305, 0.0000])\n",
      "J: 26.16358184814453,  b0: -8.053437232971191, b1: 10.0\n",
      "JGrad: tensor([0.0008]),  bGrad: tensor([0.0002, 0.0000])\n",
      "J: 26.161653518676758,  b0: -8.062874794006348, b1: 10.0\n",
      "JGrad: tensor([-0.0011]),  bGrad: tensor([-0.0140,  0.0000])\n",
      "J: 26.162294387817383,  b0: -8.06371784210205, b1: 10.0\n",
      "JGrad: tensor([-0.0006]),  bGrad: tensor([-0.0035,  0.0000])\n",
      "J: 26.164207458496094,  b0: -8.062544822692871, b1: 10.0\n",
      "JGrad: tensor([0.0008]),  bGrad: tensor([0.0116, 0.0000])\n",
      "J: 26.164236068725586,  b0: -8.067870140075684, b1: 10.0\n",
      "JGrad: tensor([-0.0015]),  bGrad: tensor([0.0030, 0.0000])\n",
      "J: 26.167551040649414,  b0: -8.074322700500488, b1: 10.0\n",
      "JGrad: tensor([0.0023]),  bGrad: tensor([-0.0003,  0.0000])\n",
      "J: 26.165430068969727,  b0: -8.079994201660156, b1: 10.0\n",
      "JGrad: tensor([0.0002]),  bGrad: tensor([-0.0158,  0.0000])\n",
      ">>>\t epoch 22:: loss = 0.3285016715526581, validation loss = 0.3290136754512787\n",
      "J: 26.1630916595459,  b0: -8.07637882232666, b1: 10.0\n",
      "JGrad: tensor([-0.0012]),  bGrad: tensor([0.0071, 0.0000])\n",
      "J: 26.163541793823242,  b0: -8.07706069946289, b1: 10.0\n",
      "JGrad: tensor([-0.0015]),  bGrad: tensor([0.0012, 0.0000])\n",
      "J: 26.167287826538086,  b0: -8.078336715698242, b1: 10.0\n",
      "JGrad: tensor([0.0018]),  bGrad: tensor([0.0103, 0.0000])\n",
      "J: 26.166799545288086,  b0: -8.085199356079102, b1: 10.0\n",
      "JGrad: tensor([-0.0020]),  bGrad: tensor([-0.0024,  0.0000])\n",
      "J: 26.170663833618164,  b0: -8.090031623840332, b1: 10.0\n",
      "JGrad: tensor([0.0001]),  bGrad: tensor([-0.0108,  0.0000])\n",
      "J: 26.173826217651367,  b0: -8.088397979736328, b1: 10.0\n",
      "JGrad: tensor([0.0016]),  bGrad: tensor([-0.0117,  0.0000])\n",
      "J: 26.173147201538086,  b0: -8.080431938171387, b1: 10.0\n",
      "JGrad: tensor([0.0004]),  bGrad: tensor([-0.0136,  0.0000])\n",
      "J: 26.171585083007812,  b0: -8.06567668914795, b1: 10.0\n",
      "JGrad: tensor([-0.0007]),  bGrad: tensor([-0.0017,  0.0000])\n",
      "J: 26.171796798706055,  b0: -8.051441192626953, b1: 10.0\n",
      "JGrad: tensor([0.0025]),  bGrad: tensor([0.0017, 0.0000])\n",
      "J: 26.166452407836914,  b0: -8.039582252502441, b1: 10.0\n",
      "JGrad: tensor([6.2014e-05]),  bGrad: tensor([0.0101, 0.0000])\n",
      "J: 26.161495208740234,  b0: -8.034578323364258, b1: 10.0\n",
      "JGrad: tensor([7.8021e-05]),  bGrad: tensor([-0.0009,  0.0000])\n",
      "J: 26.156850814819336,  b0: -8.029573440551758, b1: 10.0\n",
      "JGrad: tensor([0.0008]),  bGrad: tensor([0.0179, 0.0000])\n",
      "J: 26.15081024169922,  b0: -8.035135269165039, b1: 10.0\n",
      "JGrad: tensor([-0.0002]),  bGrad: tensor([0.0110, 0.0000])\n",
      ">>>\t epoch 23:: loss = 0.32254600524902344, validation loss = 0.32912230491638184\n",
      "J: 26.145893096923828,  b0: -8.046351432800293, b1: 10.0\n",
      "JGrad: tensor([-0.0006]),  bGrad: tensor([0.0107, 0.0000])\n",
      "J: 26.142854690551758,  b0: -8.062488555908203, b1: 10.0\n",
      "JGrad: tensor([-0.0007]),  bGrad: tensor([-0.0115,  0.0000])\n",
      "J: 26.141677856445312,  b0: -8.07056999206543, b1: 10.0\n",
      "JGrad: tensor([0.0003]),  bGrad: tensor([-0.0044,  0.0000])\n",
      "J: 26.13986587524414,  b0: -8.075345039367676, b1: 10.0\n",
      "JGrad: tensor([0.0003]),  bGrad: tensor([0.0056, 0.0000])\n",
      "J: 26.137659072875977,  b0: -8.082830429077148, b1: 10.0\n",
      "JGrad: tensor([-0.0014]),  bGrad: tensor([-0.0064,  0.0000])\n",
      "J: 26.13888168334961,  b0: -8.085943222045898, b1: 10.0\n",
      "JGrad: tensor([-0.0010]),  bGrad: tensor([-0.0111,  0.0000])\n",
      "J: 26.142194747924805,  b0: -8.0824556350708, b1: 10.0\n",
      "JGrad: tensor([-0.0009]),  bGrad: tensor([0.0040, 0.0000])\n",
      "J: 26.147130966186523,  b0: -8.081598281860352, b1: 10.0\n",
      "JGrad: tensor([0.0026]),  bGrad: tensor([0.0110, 0.0000])\n",
      "J: 26.14577865600586,  b0: -8.0871000289917, b1: 10.0\n",
      "JGrad: tensor([0.0010]),  bGrad: tensor([-0.0009,  0.0000])\n",
      "J: 26.14227294921875,  b0: -8.091525077819824, b1: 10.0\n",
      "JGrad: tensor([-0.0007]),  bGrad: tensor([-0.0079,  0.0000])\n",
      "J: 26.140649795532227,  b0: -8.090988159179688, b1: 10.0\n",
      "JGrad: tensor([-0.0008]),  bGrad: tensor([0.0064, 0.0000])\n",
      "J: 26.141029357910156,  b0: -8.094141960144043, b1: 10.0\n",
      "JGrad: tensor([-0.0001]),  bGrad: tensor([-0.0123,  0.0000])\n",
      "J: 26.14165687561035,  b0: -8.089941024780273, b1: 10.0\n",
      "JGrad: tensor([0.0007]),  bGrad: tensor([0.0043, 0.0000])\n",
      ">>>\t epoch 24:: loss = 0.3303382992744446, validation loss = 0.32895711064338684\n",
      "J: 26.140605926513672,  b0: -8.088608741760254, b1: 10.0\n",
      "JGrad: tensor([0.0003]),  bGrad: tensor([-0.0063,  0.0000])\n",
      "J: 26.139001846313477,  b0: -8.08378791809082, b1: 10.0\n",
      "JGrad: tensor([0.0020]),  bGrad: tensor([0.0021, 0.0000])\n",
      "J: 26.132917404174805,  b0: -8.080657005310059, b1: 10.0\n",
      "JGrad: tensor([9.2790e-05]),  bGrad: tensor([0.0095, 0.0000])\n",
      "J: 26.12721824645996,  b0: -8.0833101272583, b1: 10.0\n",
      "JGrad: tensor([-0.0004]),  bGrad: tensor([0.0041, 0.0000])\n",
      "J: 26.122961044311523,  b0: -8.088072776794434, b1: 10.0\n",
      "JGrad: tensor([-0.0009]),  bGrad: tensor([-0.0105,  0.0000])\n",
      "J: 26.12125015258789,  b0: -8.086318969726562, b1: 10.0\n",
      "JGrad: tensor([-0.0007]),  bGrad: tensor([0.0035, 0.0000])\n",
      "J: 26.12125587463379,  b0: -8.086735725402832, b1: 10.0\n",
      "JGrad: tensor([0.0010]),  bGrad: tensor([-0.0168,  0.0000])\n",
      "J: 26.119001388549805,  b0: -8.077376365661621, b1: 10.0\n",
      "JGrad: tensor([0.0003]),  bGrad: tensor([-0.0044,  0.0000])\n",
      "J: 26.1163330078125,  b0: -8.066390991210938, b1: 10.0\n",
      "JGrad: tensor([0.0027]),  bGrad: tensor([0.0189, 0.0000])\n",
      "J: 26.107738494873047,  b0: -8.067450523376465, b1: 10.0\n",
      "JGrad: tensor([-0.0021]),  bGrad: tensor([-0.0085,  0.0000])\n",
      "J: 26.10484504699707,  b0: -8.063464164733887, b1: 10.0\n",
      "JGrad: tensor([-0.0016]),  bGrad: tensor([0.0080, 0.0000])\n",
      "J: 26.10601234436035,  b0: -8.064499855041504, b1: 10.0\n",
      "JGrad: tensor([-0.0016]),  bGrad: tensor([-0.0094,  0.0000])\n",
      "J: 26.11086082458496,  b0: -8.059981346130371, b1: 10.0\n",
      "JGrad: tensor([-0.0025]),  bGrad: tensor([-0.0088,  0.0000])\n",
      ">>>\t epoch 25:: loss = 0.32410210371017456, validation loss = 0.3290475010871887\n",
      "J: 26.120983123779297,  b0: -8.050808906555176, b1: 10.0\n",
      "JGrad: tensor([-0.0015]),  bGrad: tensor([-0.0015,  0.0000])\n",
      "J: 26.1335506439209,  b0: -8.041637420654297, b1: 10.0\n",
      "JGrad: tensor([-0.0010]),  bGrad: tensor([0.0103, 0.0000])\n",
      "J: 26.14727783203125,  b0: -8.0393705368042, b1: 10.0\n",
      "JGrad: tensor([0.0009]),  bGrad: tensor([0.0052, 0.0000])\n",
      "J: 26.15763282775879,  b0: -8.040392875671387, b1: 10.0\n",
      "JGrad: tensor([0.0033]),  bGrad: tensor([-0.0075,  0.0000])\n",
      "J: 26.15923309326172,  b0: -8.036934852600098, b1: 10.0\n",
      "JGrad: tensor([0.0005]),  bGrad: tensor([0.0082, 0.0000])\n",
      "J: 26.159446716308594,  b0: -8.038623809814453, b1: 10.0\n",
      "JGrad: tensor([-0.0014]),  bGrad: tensor([0.0077, 0.0000])\n",
      "J: 26.16297721862793,  b0: -8.044681549072266, b1: 10.0\n",
      "JGrad: tensor([-0.0013]),  bGrad: tensor([0.0116, 0.0000])\n",
      "J: 26.16923713684082,  b0: -8.056974411010742, b1: 10.0\n",
      "JGrad: tensor([-0.0003]),  bGrad: tensor([-0.0070,  0.0000])\n",
      "J: 26.175609588623047,  b0: -8.063940048217773, b1: 10.0\n",
      "JGrad: tensor([0.0012]),  bGrad: tensor([-0.0093,  0.0000])\n",
      "J: 26.178403854370117,  b0: -8.064729690551758, b1: 10.0\n",
      "JGrad: tensor([0.0019]),  bGrad: tensor([0.0219, 0.0000])\n",
      "J: 26.176490783691406,  b0: -8.078368186950684, b1: 10.0\n",
      "JGrad: tensor([-0.0001]),  bGrad: tensor([-0.0099,  0.0000])\n",
      "J: 26.17504119873047,  b0: -8.084794044494629, b1: 10.0\n",
      "JGrad: tensor([0.0003]),  bGrad: tensor([0.0013, 0.0000])\n",
      "J: 26.172998428344727,  b0: -8.091371536254883, b1: 10.0\n"
     ]
    },
    {
     "name": "stdout",
     "output_type": "stream",
     "text": [
      "JGrad: tensor([-0.0004]),  bGrad: tensor([-0.0006,  0.0000])\n",
      ">>>\t epoch 26:: loss = 0.327629417181015, validation loss = 0.32900142669677734\n",
      "J: 26.172021865844727,  b0: -8.096942901611328, b1: 10.0\n",
      "JGrad: tensor([0.0005]),  bGrad: tensor([0.0035, 0.0000])\n",
      "J: 26.16998291015625,  b0: -8.104052543640137, b1: 10.0\n",
      "JGrad: tensor([-0.0010]),  bGrad: tensor([-0.0103,  0.0000])\n",
      "J: 26.17045783996582,  b0: -8.104350090026855, b1: 10.0\n",
      "JGrad: tensor([0.0008]),  bGrad: tensor([-0.0176,  0.0000])\n",
      "J: 26.16886329650879,  b0: -8.094159126281738, b1: 10.0\n",
      "JGrad: tensor([-0.0013]),  bGrad: tensor([-0.0140,  0.0000])\n",
      "J: 26.170547485351562,  b0: -8.076661109924316, b1: 10.0\n",
      "JGrad: tensor([-0.0002]),  bGrad: tensor([-0.0023,  0.0000])\n",
      "J: 26.172557830810547,  b0: -8.059503555297852, b1: 10.0\n",
      "JGrad: tensor([-0.0007]),  bGrad: tensor([0.0040, 0.0000])\n",
      "J: 26.17616081237793,  b0: -8.046435356140137, b1: 10.0\n",
      "JGrad: tensor([-0.0010]),  bGrad: tensor([0.0052, 0.0000])\n",
      "J: 26.181766510009766,  b0: -8.037752151489258, b1: 10.0\n",
      "JGrad: tensor([0.0022]),  bGrad: tensor([0.0314, 0.0000])\n",
      "J: 26.18160057067871,  b0: -8.048639297485352, b1: 10.0\n",
      "JGrad: tensor([-0.0008]),  bGrad: tensor([0.0048, 0.0000])\n",
      "J: 26.18348503112793,  b0: -8.061306953430176, b1: 10.0\n",
      "JGrad: tensor([0.0007]),  bGrad: tensor([-0.0034,  0.0000])\n",
      "J: 26.183542251586914,  b0: -8.070671081542969, b1: 10.0\n",
      "JGrad: tensor([-0.0014]),  bGrad: tensor([-0.0036,  0.0000])\n",
      "J: 26.187063217163086,  b0: -8.076944351196289, b1: 10.0\n",
      "JGrad: tensor([0.0003]),  bGrad: tensor([0.0012, 0.0000])\n",
      "J: 26.18962287902832,  b0: -8.083296775817871, b1: 10.0\n",
      "JGrad: tensor([0.0061]),  bGrad: tensor([0.0086, 0.0000])\n",
      ">>>\t epoch 27:: loss = 0.3348829448223114, validation loss = 0.3290095627307892\n",
      "J: 26.177080154418945,  b0: -8.094170570373535, b1: 10.0\n",
      "JGrad: tensor([-7.0313e-05]),  bGrad: tensor([0.0048, 0.0000])\n",
      "J: 26.165943145751953,  b0: -8.106829643249512, b1: 10.0\n",
      "JGrad: tensor([-0.0011]),  bGrad: tensor([-0.0085,  0.0000])\n",
      "J: 26.158668518066406,  b0: -8.11310863494873, b1: 10.0\n",
      "JGrad: tensor([0.0002]),  bGrad: tensor([-0.0039,  0.0000])\n",
      "J: 26.151714324951172,  b0: -8.11642837524414, b1: 10.0\n",
      "JGrad: tensor([-0.0007]),  bGrad: tensor([-0.0136,  0.0000])\n",
      "J: 26.147249221801758,  b0: -8.111210823059082, b1: 10.0\n",
      "JGrad: tensor([-0.0014]),  bGrad: tensor([-0.0053,  0.0000])\n",
      "J: 26.146650314331055,  b0: -8.103340148925781, b1: 10.0\n",
      "JGrad: tensor([-0.0003]),  bGrad: tensor([0.0084, 0.0000])\n",
      "J: 26.146881103515625,  b0: -8.10129451751709, b1: 10.0\n",
      "JGrad: tensor([-0.0008]),  bGrad: tensor([0.0018, 0.0000])\n",
      "J: 26.149127960205078,  b0: -8.100542068481445, b1: 10.0\n",
      "JGrad: tensor([-0.0002]),  bGrad: tensor([-0.0114,  0.0000])\n",
      "J: 26.151630401611328,  b0: -8.092939376831055, b1: 10.0\n",
      "JGrad: tensor([-5.4557e-05]),  bGrad: tensor([-0.0014,  0.0000])\n",
      "J: 26.154020309448242,  b0: -8.08521842956543, b1: 10.0\n",
      "JGrad: tensor([0.0036]),  bGrad: tensor([-0.0064,  0.0000])\n",
      "J: 26.147226333618164,  b0: -8.074348449707031, b1: 10.0\n",
      "JGrad: tensor([-0.0012]),  bGrad: tensor([-0.0111,  0.0000])\n",
      "J: 26.143993377685547,  b0: -8.057839393615723, b1: 10.0\n",
      "JGrad: tensor([-0.0005]),  bGrad: tensor([0.0002, 0.0000])\n",
      "J: 26.142349243164062,  b0: -8.04308032989502, b1: 10.0\n",
      "JGrad: tensor([-0.0019]),  bGrad: tensor([0.0079, 0.0000])\n",
      ">>>\t epoch 28:: loss = 0.3247397840023041, validation loss = 0.32920894026756287\n",
      "J: 26.145593643188477,  b0: -8.034621238708496, b1: 10.0\n",
      "JGrad: tensor([0.0016]),  bGrad: tensor([-0.0108,  0.0000])\n",
      "J: 26.144670486450195,  b0: -8.020437240600586, b1: 10.0\n",
      "JGrad: tensor([0.0019]),  bGrad: tensor([0.0150, 0.0000])\n",
      "J: 26.13912010192871,  b0: -8.016843795776367, b1: 10.0\n",
      "JGrad: tensor([7.2628e-05]),  bGrad: tensor([0.0125, 0.0000])\n",
      "J: 26.133935928344727,  b0: -8.021215438842773, b1: 10.0\n",
      "JGrad: tensor([-0.0017]),  bGrad: tensor([0.0277, 0.0000])\n",
      "J: 26.133563995361328,  b0: -8.041967391967773, b1: 10.0\n",
      "JGrad: tensor([0.0020]),  bGrad: tensor([-0.0006,  0.0000])\n",
      "J: 26.12836265563965,  b0: -8.060302734375, b1: 10.0\n",
      "JGrad: tensor([-0.0002]),  bGrad: tensor([-0.0036,  0.0000])\n",
      "J: 26.124284744262695,  b0: -8.074638366699219, b1: 10.0\n",
      "JGrad: tensor([0.0020]),  bGrad: tensor([0.0041, 0.0000])\n",
      "J: 26.115711212158203,  b0: -8.09006118774414, b1: 10.0\n",
      "JGrad: tensor([-0.0009]),  bGrad: tensor([0.0010, 0.0000])\n",
      "J: 26.110240936279297,  b0: -8.1045503616333, b1: 10.0\n",
      "JGrad: tensor([-0.0016]),  bGrad: tensor([-0.0048,  0.0000])\n",
      "J: 26.109243392944336,  b0: -8.114683151245117, b1: 10.0\n",
      "JGrad: tensor([0.0005]),  bGrad: tensor([-0.0124,  0.0000])\n",
      "J: 26.106964111328125,  b0: -8.116196632385254, b1: 10.0\n",
      "JGrad: tensor([-0.0005]),  bGrad: tensor([-0.0052,  0.0000])\n",
      "J: 26.10614013671875,  b0: -8.114336013793945, b1: 10.0\n",
      "JGrad: tensor([-0.0028]),  bGrad: tensor([-0.0195,  0.0000])\n",
      "J: 26.112524032592773,  b0: -8.100662231445312, b1: 10.0\n",
      "JGrad: tensor([-0.0030]),  bGrad: tensor([-0.0072,  0.0000])\n",
      ">>>\t epoch 29:: loss = 0.3257906436920166, validation loss = 0.3289394676685333\n",
      "J: 26.125722885131836,  b0: -8.083909034729004, b1: 10.0\n",
      "JGrad: tensor([0.0002]),  bGrad: tensor([0.0071, 0.0000])\n",
      "J: 26.137210845947266,  b0: -8.073205947875977, b1: 10.0\n",
      "JGrad: tensor([0.0008]),  bGrad: tensor([0.0090, 0.0000])\n",
      "J: 26.14544677734375,  b0: -8.069128036499023, b1: 10.0\n",
      "JGrad: tensor([-0.0022]),  bGrad: tensor([-0.0042,  0.0000])\n",
      "J: 26.158382415771484,  b0: -8.062888145446777, b1: 10.0\n",
      "JGrad: tensor([0.0019]),  bGrad: tensor([0.0175, 0.0000])\n",
      "J: 26.165212631225586,  b0: -8.068047523498535, b1: 10.0\n",
      "JGrad: tensor([0.0019]),  bGrad: tensor([0.0082, 0.0000])\n",
      "J: 26.166528701782227,  b0: -8.077757835388184, b1: 10.0\n",
      "JGrad: tensor([-0.0012]),  bGrad: tensor([-0.0152,  0.0000])\n",
      "J: 26.17085838317871,  b0: -8.07711410522461, b1: 10.0\n",
      "JGrad: tensor([0.0007]),  bGrad: tensor([-0.0001,  0.0000])\n",
      "J: 26.17302703857422,  b0: -8.076461791992188, b1: 10.0\n",
      "JGrad: tensor([-0.0014]),  bGrad: tensor([-0.0010,  0.0000])\n",
      "J: 26.178611755371094,  b0: -8.075273513793945, b1: 10.0\n",
      "JGrad: tensor([0.0006]),  bGrad: tensor([-0.0065,  0.0000])\n",
      "J: 26.182052612304688,  b0: -8.070184707641602, b1: 10.0\n",
      "JGrad: tensor([-0.0010]),  bGrad: tensor([0.0087, 0.0000])\n",
      "J: 26.18762969970703,  b0: -8.07100772857666, b1: 10.0\n",
      "JGrad: tensor([-0.0002]),  bGrad: tensor([-0.0126,  0.0000])\n",
      "J: 26.193220138549805,  b0: -8.063895225524902, b1: 10.0\n",
      "JGrad: tensor([0.0006]),  bGrad: tensor([-0.0098,  0.0000])\n",
      "J: 26.196613311767578,  b0: -8.051382064819336, b1: 10.0\n",
      "JGrad: tensor([-0.0002]),  bGrad: tensor([0.0011, 0.0000])\n",
      ">>>\t epoch 30:: loss = 0.32314833998680115, validation loss = 0.3292756974697113\n",
      "J: 26.200159072875977,  b0: -8.040802955627441, b1: 10.0\n",
      "JGrad: tensor([-0.0011]),  bGrad: tensor([-0.0001,  0.0000])\n",
      "J: 26.206117630004883,  b0: -8.031177520751953, b1: 10.0\n",
      "JGrad: tensor([0.0008]),  bGrad: tensor([0.0095, 0.0000])\n",
      "J: 26.209444046020508,  b0: -8.028430938720703, b1: 10.0\n",
      "JGrad: tensor([0.0008]),  bGrad: tensor([-0.0050,  0.0000])\n",
      "J: 26.210386276245117,  b0: -8.022810935974121, b1: 10.0\n",
      "JGrad: tensor([0.0022]),  bGrad: tensor([0.0234, 0.0000])\n",
      "J: 26.205507278442383,  b0: -8.03235912322998, b1: 10.0\n",
      "JGrad: tensor([0.0003]),  bGrad: tensor([0.0085, 0.0000])\n",
      "J: 26.200300216674805,  b0: -8.046253204345703, b1: 10.0\n",
      "JGrad: tensor([0.0010]),  bGrad: tensor([0.0079, 0.0000])\n",
      "J: 26.192981719970703,  b0: -8.063703536987305, b1: 10.0\n",
      "JGrad: tensor([-0.0007]),  bGrad: tensor([-0.0018,  0.0000])\n",
      "J: 26.188228607177734,  b0: -8.078283309936523, b1: 10.0\n",
      "JGrad: tensor([-0.0004]),  bGrad: tensor([-0.0097,  0.0000])\n",
      "J: 26.18488121032715,  b0: -8.08535385131836, b1: 10.0\n",
      "JGrad: tensor([0.0002]),  bGrad: tensor([0.0025, 0.0000])\n",
      "J: 26.181461334228516,  b0: -8.093299865722656, b1: 10.0\n",
      "JGrad: tensor([0.0012]),  bGrad: tensor([0.0110, 0.0000])\n",
      "J: 26.175155639648438,  b0: -8.10739803314209, b1: 10.0\n",
      "JGrad: tensor([0.0002]),  bGrad: tensor([-0.0126,  0.0000])\n",
      "J: 26.1688289642334,  b0: -8.112150192260742, b1: 10.0\n",
      "JGrad: tensor([-0.0024]),  bGrad: tensor([-0.0146,  0.0000])\n",
      "J: 26.169437408447266,  b0: -8.107251167297363, b1: 10.0\n",
      "JGrad: tensor([0.0004]),  bGrad: tensor([0.0040, 0.0000])\n",
      ">>>\t epoch 31:: loss = 0.3234790563583374, validation loss = 0.3290029764175415\n",
      "J: 26.16891860961914,  b0: -8.105378150939941, b1: 10.0\n",
      "JGrad: tensor([2.9678e-05]),  bGrad: tensor([0.0022, 0.0000])\n",
      "J: 26.168373107910156,  b0: -8.105087280273438, b1: 10.0\n"
     ]
    },
    {
     "name": "stdout",
     "output_type": "stream",
     "text": [
      "JGrad: tensor([-0.0004]),  bGrad: tensor([-0.0107,  0.0000])\n",
      "J: 26.168842315673828,  b0: -8.09804916381836, b1: 10.0\n",
      "JGrad: tensor([-0.0007]),  bGrad: tensor([0.0014, 0.0000])\n",
      "J: 26.171079635620117,  b0: -8.092562675476074, b1: 10.0\n",
      "JGrad: tensor([-0.0015]),  bGrad: tensor([-0.0047,  0.0000])\n",
      "J: 26.177091598510742,  b0: -8.084665298461914, b1: 10.0\n",
      "JGrad: tensor([-0.0010]),  bGrad: tensor([0.0011, 0.0000])\n",
      "J: 26.185264587402344,  b0: -8.07826042175293, b1: 10.0\n",
      "JGrad: tensor([-0.0011]),  bGrad: tensor([-0.0024,  0.0000])\n",
      "J: 26.195526123046875,  b0: -8.070964813232422, b1: 10.0\n",
      "JGrad: tensor([0.0008]),  bGrad: tensor([0.0067, 0.0000])\n",
      "J: 26.20258331298828,  b0: -8.068625450134277, b1: 10.0\n",
      "JGrad: tensor([0.0004]),  bGrad: tensor([-0.0095,  0.0000])\n",
      "J: 26.207969665527344,  b0: -8.06043815612793, b1: 10.0\n",
      "JGrad: tensor([0.0012]),  bGrad: tensor([-0.0029,  0.0000])\n",
      "J: 26.2095947265625,  b0: -8.051225662231445, b1: 10.0\n",
      "JGrad: tensor([0.0005]),  bGrad: tensor([0.0047, 0.0000])\n",
      "J: 26.209787368774414,  b0: -8.045903205871582, b1: 10.0\n",
      "JGrad: tensor([0.0020]),  bGrad: tensor([0.0079, 0.0000])\n",
      "J: 26.20465850830078,  b0: -8.046168327331543, b1: 10.0\n",
      "JGrad: tensor([0.0012]),  bGrad: tensor([0.0062, 0.0000])\n",
      "J: 26.196781158447266,  b0: -8.05040168762207, b1: 10.0\n",
      "JGrad: tensor([-0.0010]),  bGrad: tensor([-0.0057,  0.0000])\n",
      ">>>\t epoch 32:: loss = 0.32227399945259094, validation loss = 0.32918843626976013\n",
      "J: 26.192394256591797,  b0: -8.05055046081543, b1: 10.0\n",
      "JGrad: tensor([-0.0002]),  bGrad: tensor([0.0166, 0.0000])\n",
      "J: 26.18902587890625,  b0: -8.061310768127441, b1: 10.0\n",
      "JGrad: tensor([-0.0015]),  bGrad: tensor([0.0058, 0.0000])\n",
      "J: 26.190011978149414,  b0: -8.074756622314453, b1: 10.0\n",
      "JGrad: tensor([-0.0009]),  bGrad: tensor([-0.0082,  0.0000])\n",
      "J: 26.19325828552246,  b0: -8.081586837768555, b1: 10.0\n",
      "JGrad: tensor([-0.0018]),  bGrad: tensor([-0.0077,  0.0000])\n",
      "J: 26.200910568237305,  b0: -8.082758903503418, b1: 10.0\n",
      "JGrad: tensor([0.0018]),  bGrad: tensor([0.0021, 0.0000])\n",
      "J: 26.203039169311523,  b0: -8.085176467895508, b1: 10.0\n",
      "JGrad: tensor([-3.7790e-05]),  bGrad: tensor([0.0026, 0.0000])\n",
      "J: 26.205059051513672,  b0: -8.089045524597168, b1: 10.0\n",
      "JGrad: tensor([0.0008]),  bGrad: tensor([0.0104, 0.0000])\n",
      "J: 26.20467758178711,  b0: -8.099245071411133, b1: 10.0\n",
      "JGrad: tensor([-0.0018]),  bGrad: tensor([-0.0170,  0.0000])\n",
      "J: 26.209272384643555,  b0: -8.097478866577148, b1: 10.0\n",
      "JGrad: tensor([0.0025]),  bGrad: tensor([0.0085, 0.0000])\n",
      "J: 26.206642150878906,  b0: -8.101408958435059, b1: 10.0\n",
      "JGrad: tensor([0.0024]),  bGrad: tensor([-0.0035,  0.0000])\n",
      "J: 26.19791030883789,  b0: -8.102666854858398, b1: 10.0\n",
      "JGrad: tensor([-0.0007]),  bGrad: tensor([0.0030, 0.0000])\n",
      "J: 26.1919002532959,  b0: -8.105755805969238, b1: 10.0\n",
      "JGrad: tensor([-0.0001]),  bGrad: tensor([-0.0224,  0.0000])\n",
      "J: 26.186840057373047,  b0: -8.094017028808594, b1: 10.0\n",
      "JGrad: tensor([-0.0007]),  bGrad: tensor([-0.0192,  0.0000])\n",
      ">>>\t epoch 33:: loss = 0.3285730481147766, validation loss = 0.32906779646873474\n",
      "J: 26.184186935424805,  b0: -8.07107925415039, b1: 10.0\n",
      "JGrad: tensor([0.0028]),  bGrad: tensor([0.0057, 0.0000])\n",
      "J: 26.174318313598633,  b0: -8.054129600524902, b1: 10.0\n",
      "JGrad: tensor([0.0008]),  bGrad: tensor([0.0017, 0.0000])\n",
      "J: 26.16319465637207,  b0: -8.03997802734375, b1: 10.0\n",
      "JGrad: tensor([-0.0021]),  bGrad: tensor([-0.0066,  0.0000])\n",
      "J: 26.158756256103516,  b0: -8.022958755493164, b1: 10.0\n",
      "JGrad: tensor([0.0009]),  bGrad: tensor([0.0004, 0.0000])\n",
      "J: 26.152362823486328,  b0: -8.007883071899414, b1: 10.0\n",
      "JGrad: tensor([-0.0004]),  bGrad: tensor([0.0093, 0.0000])\n",
      "J: 26.147729873657227,  b0: -8.00037670135498, b1: 10.0\n",
      "JGrad: tensor([-0.0007]),  bGrad: tensor([-0.0006,  0.0000])\n",
      "J: 26.14557647705078,  b0: -7.993205547332764, b1: 10.0\n",
      "JGrad: tensor([0.0003]),  bGrad: tensor([0.0073, 0.0000])\n",
      "J: 26.1429386138916,  b0: -7.991519451141357, b1: 10.0\n",
      "JGrad: tensor([0.0003]),  bGrad: tensor([0.0185, 0.0000])\n",
      "J: 26.139623641967773,  b0: -8.00206184387207, b1: 10.0\n",
      "JGrad: tensor([0.0008]),  bGrad: tensor([0.0094, 0.0000])\n",
      "J: 26.134342193603516,  b0: -8.017667770385742, b1: 10.0\n",
      "JGrad: tensor([0.0028]),  bGrad: tensor([0.0163, 0.0000])\n",
      "J: 26.121841430664062,  b0: -8.042304039001465, b1: 10.0\n",
      "JGrad: tensor([-0.0003]),  bGrad: tensor([-0.0051,  0.0000])\n",
      "J: 26.11151695251465,  b0: -8.061203002929688, b1: 10.0\n",
      "JGrad: tensor([0.0005]),  bGrad: tensor([0.0051, 0.0000])\n",
      "J: 26.10094451904297,  b0: -8.081560134887695, b1: 10.0\n",
      "JGrad: tensor([-0.0004]),  bGrad: tensor([0.0152, 0.0000])\n",
      ">>>\t epoch 34:: loss = 0.3252083957195282, validation loss = 0.32891836762428284\n",
      "J: 26.09241485595703,  b0: -8.109821319580078, b1: 10.0\n",
      "JGrad: tensor([-3.3407e-05]),  bGrad: tensor([-0.0085,  0.0000])\n",
      "J: 26.084819793701172,  b0: -8.129693031311035, b1: 10.0\n",
      "JGrad: tensor([-0.0017]),  bGrad: tensor([-0.0020,  0.0000])\n",
      "J: 26.082679748535156,  b0: -8.146286010742188, b1: 10.0\n",
      "JGrad: tensor([-0.0003]),  bGrad: tensor([-0.0019,  0.0000])\n",
      "J: 26.081581115722656,  b0: -8.160015106201172, b1: 10.0\n",
      "JGrad: tensor([-0.0021]),  bGrad: tensor([-0.0228,  0.0000])\n",
      "J: 26.086261749267578,  b0: -8.157435417175293, b1: 10.0\n",
      "JGrad: tensor([-0.0042]),  bGrad: tensor([-0.0260,  0.0000])\n",
      "J: 26.102018356323242,  b0: -8.13813591003418, b1: 10.0\n",
      "JGrad: tensor([-2.8188e-05]),  bGrad: tensor([-0.0112,  0.0000])\n",
      "J: 26.116296768188477,  b0: -8.113448143005371, b1: 10.0\n",
      "JGrad: tensor([-0.0016]),  bGrad: tensor([-0.0078,  0.0000])\n",
      "J: 26.133697509765625,  b0: -8.086082458496094, b1: 10.0\n",
      "JGrad: tensor([0.0008]),  bGrad: tensor([-0.0020,  0.0000])\n",
      "J: 26.1471004486084,  b0: -8.060108184814453, b1: 10.0\n",
      "JGrad: tensor([-0.0007]),  bGrad: tensor([0.0074, 0.0000])\n",
      "J: 26.161216735839844,  b0: -8.04158878326416, b1: 10.0\n",
      "JGrad: tensor([-0.0010]),  bGrad: tensor([0.0040, 0.0000])\n",
      "J: 26.176755905151367,  b0: -8.027532577514648, b1: 10.0\n",
      "JGrad: tensor([0.0004]),  bGrad: tensor([0.0099, 0.0000])\n",
      "J: 26.18973159790039,  b0: -8.021405220031738, b1: 10.0\n",
      "JGrad: tensor([0.0020]),  bGrad: tensor([0.0128, 0.0000])\n",
      "J: 26.195959091186523,  b0: -8.024293899536133, b1: 10.0\n",
      "JGrad: tensor([0.0054]),  bGrad: tensor([0.0011, 0.0000])\n",
      ">>>\t epoch 35:: loss = 0.33239874243736267, validation loss = 0.3293601870536804\n",
      "J: 26.186599731445312,  b0: -8.027645111083984, b1: 10.0\n",
      "JGrad: tensor([-0.0005]),  bGrad: tensor([0.0032, 0.0000])\n",
      "J: 26.179553985595703,  b0: -8.032793998718262, b1: 10.0\n",
      "JGrad: tensor([0.0011]),  bGrad: tensor([0.0101, 0.0000])\n",
      "J: 26.17000961303711,  b0: -8.04410457611084, b1: 10.0\n",
      "JGrad: tensor([-0.0002]),  bGrad: tensor([0.0029, 0.0000])\n",
      "J: 26.16204071044922,  b0: -8.056241989135742, b1: 10.0\n",
      "JGrad: tensor([0.0015]),  bGrad: tensor([0.0071, 0.0000])\n",
      "J: 26.15060806274414,  b0: -8.07186222076416, b1: 10.0\n",
      "JGrad: tensor([-0.0012]),  bGrad: tensor([0.0052, 0.0000])\n",
      "J: 26.143699645996094,  b0: -8.089361190795898, b1: 10.0\n",
      "JGrad: tensor([0.0012]),  bGrad: tensor([-0.0183,  0.0000])\n",
      "J: 26.13401222229004,  b0: -8.092988967895508, b1: 10.0\n",
      "JGrad: tensor([0.0004]),  bGrad: tensor([0.0239, 0.0000])\n",
      "J: 26.12407875061035,  b0: -8.112051010131836, b1: 10.0\n",
      "JGrad: tensor([0.0010]),  bGrad: tensor([-0.0064,  0.0000])\n",
      "J: 26.112443923950195,  b0: -8.12496566772461, b1: 10.0\n",
      "JGrad: tensor([-0.0022]),  bGrad: tensor([-0.0150,  0.0000])\n",
      "J: 26.108034133911133,  b0: -8.126703262329102, b1: 10.0\n",
      "JGrad: tensor([-0.0001]),  bGrad: tensor([-0.0025,  0.0000])\n",
      "J: 26.104373931884766,  b0: -8.126608848571777, b1: 10.0\n",
      "JGrad: tensor([-0.0023]),  bGrad: tensor([-0.0137,  0.0000])\n",
      "J: 26.107685089111328,  b0: -8.117484092712402, b1: 10.0\n",
      "JGrad: tensor([0.0008]),  bGrad: tensor([-0.0197,  0.0000])\n",
      "J: 26.10836410522461,  b0: -8.096236228942871, b1: 10.0\n",
      "JGrad: tensor([-0.0042]),  bGrad: tensor([-0.0066,  0.0000])\n",
      ">>>\t epoch 36:: loss = 0.3248071074485779, validation loss = 0.32895389199256897\n",
      "J: 26.120723724365234,  b0: -8.072720527648926, b1: 10.0\n",
      "JGrad: tensor([-0.0009]),  bGrad: tensor([-0.0094,  0.0000])\n",
      "J: 26.134275436401367,  b0: -8.045337677001953, b1: 10.0\n",
      "JGrad: tensor([0.0005]),  bGrad: tensor([-0.0059,  0.0000])\n",
      "J: 26.145069122314453,  b0: -8.016725540161133, b1: 10.0\n",
      "JGrad: tensor([-0.0008]),  bGrad: tensor([0.0048, 0.0000])\n",
      "J: 26.15703773498535,  b0: -7.994122505187988, b1: 10.0\n",
      "JGrad: tensor([-0.0011]),  bGrad: tensor([-0.0051,  0.0000])\n",
      "J: 26.17096710205078,  b0: -7.970365047454834, b1: 10.0\n"
     ]
    },
    {
     "name": "stdout",
     "output_type": "stream",
     "text": [
      "JGrad: tensor([0.0020]),  bGrad: tensor([0.0203, 0.0000])\n",
      "J: 26.177980422973633,  b0: -7.962503910064697, b1: 10.0\n",
      "JGrad: tensor([0.0026]),  bGrad: tensor([0.0218, 0.0000])\n",
      "J: 26.176939010620117,  b0: -7.969887733459473, b1: 10.0\n",
      "JGrad: tensor([0.0027]),  bGrad: tensor([0.0323, 0.0000])\n",
      "J: 26.168258666992188,  b0: -7.997818470001221, b1: 10.0\n",
      "JGrad: tensor([0.0006]),  bGrad: tensor([0.0143, 0.0000])\n",
      "J: 26.158832550048828,  b0: -8.0324068069458, b1: 10.0\n",
      "JGrad: tensor([4.5139e-09]),  bGrad: tensor([0.0077, 0.0000])\n",
      "J: 26.150339126586914,  b0: -8.068648338317871, b1: 10.0\n",
      "JGrad: tensor([0.0014]),  bGrad: tensor([-0.0023,  0.0000])\n",
      "J: 26.13873291015625,  b0: -8.099778175354004, b1: 10.0\n",
      "JGrad: tensor([-0.0024]),  bGrad: tensor([-0.0010,  0.0000])\n",
      "J: 26.135168075561523,  b0: -8.127144813537598, b1: 10.0\n",
      "JGrad: tensor([0.0009]),  bGrad: tensor([-0.0062,  0.0000])\n",
      "J: 26.129474639892578,  b0: -8.14765739440918, b1: 10.0\n",
      "JGrad: tensor([-0.0010]),  bGrad: tensor([-0.0075,  0.0000])\n",
      ">>>\t epoch 37:: loss = 0.323941707611084, validation loss = 0.32926779985427856\n",
      "J: 26.127206802368164,  b0: -8.161173820495605, b1: 10.0\n",
      "JGrad: tensor([0.0008]),  bGrad: tensor([-0.0329,  0.0000])\n",
      "J: 26.122835159301758,  b0: -8.151531219482422, b1: 10.0\n",
      "JGrad: tensor([-0.0027]),  bGrad: tensor([-0.0114,  0.0000])\n",
      "J: 26.126543045043945,  b0: -8.135293006896973, b1: 10.0\n",
      "JGrad: tensor([-0.0013]),  bGrad: tensor([-0.0022,  0.0000])\n",
      "J: 26.13359832763672,  b0: -8.11922550201416, b1: 10.0\n",
      "JGrad: tensor([0.0015]),  bGrad: tensor([-0.0050,  0.0000])\n",
      "J: 26.13556671142578,  b0: -8.101436614990234, b1: 10.0\n",
      "JGrad: tensor([0.0006]),  bGrad: tensor([-0.0133,  0.0000])\n",
      "J: 26.135650634765625,  b0: -8.076621055603027, b1: 10.0\n",
      "JGrad: tensor([-0.0014]),  bGrad: tensor([-0.0043,  0.0000])\n",
      "J: 26.13968276977539,  b0: -8.051405906677246, b1: 10.0\n",
      "JGrad: tensor([0.0011]),  bGrad: tensor([0.0015, 0.0000])\n",
      "J: 26.14016342163086,  b0: -8.02967643737793, b1: 10.0\n",
      "JGrad: tensor([-0.0023]),  bGrad: tensor([-0.0025,  0.0000])\n",
      "J: 26.14728546142578,  b0: -8.008398056030273, b1: 10.0\n",
      "JGrad: tensor([-0.0009]),  bGrad: tensor([0.0251, 0.0000])\n",
      "J: 26.15642738342285,  b0: -8.005937576293945, b1: 10.0\n",
      "JGrad: tensor([0.0020]),  bGrad: tensor([0.0245, 0.0000])\n",
      "J: 26.15875244140625,  b0: -8.019989013671875, b1: 10.0\n",
      "JGrad: tensor([0.0008]),  bGrad: tensor([0.0080, 0.0000])\n",
      "J: 26.158668518066406,  b0: -8.03792953491211, b1: 10.0\n",
      "JGrad: tensor([0.0009]),  bGrad: tensor([0.0062, 0.0000])\n",
      "J: 26.15607261657715,  b0: -8.058237075805664, b1: 10.0\n",
      "JGrad: tensor([-0.0006]),  bGrad: tensor([0.0014, 0.0000])\n",
      ">>>\t epoch 38:: loss = 0.3233144283294678, validation loss = 0.3289979100227356\n",
      "J: 26.15540313720703,  b0: -8.077474594116211, b1: 10.0\n",
      "JGrad: tensor([0.0007]),  bGrad: tensor([-0.0047,  0.0000])\n",
      "J: 26.152666091918945,  b0: -8.091662406921387, b1: 10.0\n",
      "JGrad: tensor([0.0016]),  bGrad: tensor([-0.0019,  0.0000])\n",
      "J: 26.145503997802734,  b0: -8.103156089782715, b1: 10.0\n",
      "JGrad: tensor([-0.0006]),  bGrad: tensor([-0.0011,  0.0000])\n",
      "J: 26.14079475402832,  b0: -8.11276626586914, b1: 10.0\n",
      "JGrad: tensor([0.0012]),  bGrad: tensor([0.0013, 0.0000])\n",
      "J: 26.133037567138672,  b0: -8.122282981872559, b1: 10.0\n",
      "JGrad: tensor([-0.0014]),  bGrad: tensor([-0.0082,  0.0000])\n",
      "J: 26.129995346069336,  b0: -8.125377655029297, b1: 10.0\n",
      "JGrad: tensor([-0.0004]),  bGrad: tensor([-0.0010,  0.0000])\n",
      "J: 26.128442764282227,  b0: -8.127497673034668, b1: 10.0\n",
      "JGrad: tensor([0.0010]),  bGrad: tensor([-0.0216,  0.0000])\n",
      "J: 26.12407684326172,  b0: -8.114970207214355, b1: 10.0\n",
      "JGrad: tensor([-0.0009]),  bGrad: tensor([0.0046, 0.0000])\n",
      "J: 26.12289810180664,  b0: -8.106733322143555, b1: 10.0\n",
      "JGrad: tensor([-0.0019]),  bGrad: tensor([-0.0071,  0.0000])\n",
      "J: 26.12732696533203,  b0: -8.09453010559082, b1: 10.0\n",
      "JGrad: tensor([-0.0015]),  bGrad: tensor([0.0005, 0.0000])\n",
      "J: 26.135604858398438,  b0: -8.083868026733398, b1: 10.0\n",
      "JGrad: tensor([0.0016]),  bGrad: tensor([-0.0029,  0.0000])\n",
      "J: 26.138397216796875,  b0: -8.072307586669922, b1: 10.0\n",
      "JGrad: tensor([-0.0019]),  bGrad: tensor([-0.0082,  0.0000])\n",
      "J: 26.146493911743164,  b0: -8.056361198425293, b1: 10.0\n",
      "JGrad: tensor([-0.0044]),  bGrad: tensor([-0.0046,  0.0000])\n",
      ">>>\t epoch 39:: loss = 0.3266347050666809, validation loss = 0.3292182683944702\n",
      "J: 26.166688919067383,  b0: -8.038918495178223, b1: 10.0\n",
      "JGrad: tensor([0.0001]),  bGrad: tensor([0.0059, 0.0000])\n",
      "J: 26.18453025817871,  b0: -8.027195930480957, b1: 10.0\n",
      "JGrad: tensor([0.0022]),  bGrad: tensor([0.0219, 0.0000])\n",
      "J: 26.194108963012695,  b0: -8.031405448913574, b1: 10.0\n",
      "JGrad: tensor([0.0014]),  bGrad: tensor([0.0155, 0.0000])\n",
      "J: 26.198589324951172,  b0: -8.045621871948242, b1: 10.0\n",
      "JGrad: tensor([9.8866e-05]),  bGrad: tensor([0.0125, 0.0000])\n",
      "J: 26.202335357666016,  b0: -8.066824913024902, b1: 10.0\n",
      "JGrad: tensor([-0.0012]),  bGrad: tensor([0.0095, 0.0000])\n",
      "J: 26.209157943725586,  b0: -8.092342376708984, b1: 10.0\n",
      "JGrad: tensor([0.0002]),  bGrad: tensor([-0.0048,  0.0000])\n",
      "J: 26.214786529541016,  b0: -8.112065315246582, b1: 10.0\n",
      "JGrad: tensor([0.0023]),  bGrad: tensor([-0.0107,  0.0000])\n",
      "J: 26.21306800842285,  b0: -8.12258243560791, b1: 10.0\n",
      "JGrad: tensor([-0.0010]),  bGrad: tensor([-0.0081,  0.0000])\n",
      "J: 26.21445655822754,  b0: -8.126603126525879, b1: 10.0\n",
      "JGrad: tensor([0.0012]),  bGrad: tensor([-0.0029,  0.0000])\n",
      "J: 26.21219253540039,  b0: -8.128255844116211, b1: 10.0\n",
      "JGrad: tensor([-0.0026]),  bGrad: tensor([-0.0114,  0.0000])\n",
      "J: 26.21771812438965,  b0: -8.122021675109863, b1: 10.0\n",
      "JGrad: tensor([-0.0018]),  bGrad: tensor([-0.0232,  0.0000])\n",
      "J: 26.22808265686035,  b0: -8.100767135620117, b1: 10.0\n",
      "JGrad: tensor([9.9636e-05]),  bGrad: tensor([-0.0049,  0.0000])\n",
      "J: 26.23712730407715,  b0: -8.078303337097168, b1: 10.0\n",
      "JGrad: tensor([-0.0001]),  bGrad: tensor([-0.0160,  0.0000])\n",
      ">>>\t epoch 40:: loss = 0.3296879529953003, validation loss = 0.32932808995246887\n",
      "J: 26.245643615722656,  b0: -8.047281265258789, b1: 10.0\n",
      "JGrad: tensor([0.0004]),  bGrad: tensor([0.0059, 0.0000])\n",
      "J: 26.25201988220215,  b0: -8.023289680480957, b1: 10.0\n",
      "JGrad: tensor([0.0011]),  bGrad: tensor([0.0190, 0.0000])\n",
      "J: 26.254392623901367,  b0: -8.014578819274902, b1: 10.0\n",
      "JGrad: tensor([0.0007]),  bGrad: tensor([0.0046, 0.0000])\n",
      "J: 26.254318237304688,  b0: -8.009872436523438, b1: 10.0\n",
      "JGrad: tensor([0.0019]),  bGrad: tensor([-0.0013,  0.0000])\n",
      "J: 26.248653411865234,  b0: -8.004746437072754, b1: 10.0\n",
      "JGrad: tensor([0.0003]),  bGrad: tensor([0.0059, 0.0000])\n",
      "J: 26.2427921295166,  b0: -8.004156112670898, b1: 10.0\n",
      "JGrad: tensor([0.0021]),  bGrad: tensor([0.0324, 0.0000])\n",
      "J: 26.231115341186523,  b0: -8.025520324707031, b1: 10.0\n",
      "JGrad: tensor([0.0021]),  bGrad: tensor([0.0068, 0.0000])\n",
      "J: 26.214176177978516,  b0: -8.049379348754883, b1: 10.0\n",
      "JGrad: tensor([0.0020]),  bGrad: tensor([-0.0004,  0.0000])\n",
      "J: 26.192893981933594,  b0: -8.070579528808594, b1: 10.0\n",
      "JGrad: tensor([0.0006]),  bGrad: tensor([0.0042, 0.0000])\n",
      "J: 26.17200469970703,  b0: -8.09249210357666, b1: 10.0\n",
      "JGrad: tensor([-0.0017]),  bGrad: tensor([-0.0047,  0.0000])\n",
      "J: 26.15834617614746,  b0: -8.109024047851562, b1: 10.0\n",
      "JGrad: tensor([-1.6277e-05]),  bGrad: tensor([-0.0188,  0.0000])\n",
      "J: 26.146087646484375,  b0: -8.111172676086426, b1: 10.0\n",
      "JGrad: tensor([-0.0020]),  bGrad: tensor([-0.0041,  0.0000])\n",
      "J: 26.14095115661621,  b0: -8.110325813293457, b1: 10.0\n",
      "JGrad: tensor([-0.0032]),  bGrad: tensor([-0.0008,  0.0000])\n",
      ">>>\t epoch 41:: loss = 0.32760733366012573, validation loss = 0.32897865772247314\n",
      "J: 26.146080017089844,  b0: -8.109039306640625, b1: 10.0\n",
      "JGrad: tensor([-0.0029]),  bGrad: tensor([-0.0150,  0.0000])\n",
      "J: 26.15934944152832,  b0: -8.09770393371582, b1: 10.0\n",
      "JGrad: tensor([0.0003]),  bGrad: tensor([-0.0048,  0.0000])\n",
      "J: 26.170307159423828,  b0: -8.084198951721191, b1: 10.0\n",
      "JGrad: tensor([-0.0010]),  bGrad: tensor([-0.0075,  0.0000])\n",
      "J: 26.183263778686523,  b0: -8.066927909851074, b1: 10.0\n",
      "JGrad: tensor([0.0008]),  bGrad: tensor([0.0153, 0.0000])\n",
      "J: 26.192493438720703,  b0: -8.061772346496582, b1: 10.0\n",
      "JGrad: tensor([0.0003]),  bGrad: tensor([0.0045, 0.0000])\n",
      "J: 26.199758529663086,  b0: -8.060162544250488, b1: 10.0\n",
      "JGrad: tensor([0.0007]),  bGrad: tensor([-0.0034,  0.0000])\n",
      "J: 26.20414924621582,  b0: -8.056402206420898, b1: 10.0\n",
      "JGrad: tensor([0.0002]),  bGrad: tensor([0.0049, 0.0000])\n",
      "J: 26.207509994506836,  b0: -8.056344032287598, b1: 10.0\n"
     ]
    },
    {
     "name": "stdout",
     "output_type": "stream",
     "text": [
      "JGrad: tensor([0.0004]),  bGrad: tensor([0.0150, 0.0000])\n",
      "J: 26.209375381469727,  b0: -8.066534996032715, b1: 10.0\n",
      "JGrad: tensor([0.0003]),  bGrad: tensor([-0.0140,  0.0000])\n",
      "J: 26.210094451904297,  b0: -8.066177368164062, b1: 10.0\n",
      "JGrad: tensor([-0.0005]),  bGrad: tensor([-0.0033,  0.0000])\n",
      "J: 26.212142944335938,  b0: -8.063594818115234, b1: 10.0\n",
      "JGrad: tensor([0.0040]),  bGrad: tensor([0.0181, 0.0000])\n",
      "J: 26.201921463012695,  b0: -8.073652267456055, b1: 10.0\n",
      "JGrad: tensor([-0.0010]),  bGrad: tensor([0.0023, 0.0000])\n",
      "J: 26.195789337158203,  b0: -8.08428955078125, b1: 10.0\n",
      "JGrad: tensor([0.0002]),  bGrad: tensor([-0.0135,  0.0000])\n",
      ">>>\t epoch 42:: loss = 0.32902032136917114, validation loss = 0.3290405571460724\n",
      "J: 26.189794540405273,  b0: -8.084630012512207, b1: 10.0\n",
      "JGrad: tensor([-0.0019]),  bGrad: tensor([-0.0010,  0.0000])\n",
      "J: 26.190149307250977,  b0: -8.084218978881836, b1: 10.0\n",
      "JGrad: tensor([-0.0007]),  bGrad: tensor([-0.0023,  0.0000])\n",
      "J: 26.192462921142578,  b0: -8.082276344299316, b1: 10.0\n",
      "JGrad: tensor([0.0029]),  bGrad: tensor([0.0145, 0.0000])\n",
      "J: 26.185779571533203,  b0: -8.090439796447754, b1: 10.0\n",
      "JGrad: tensor([-9.1738e-05]),  bGrad: tensor([-0.0022,  0.0000])\n",
      "J: 26.180036544799805,  b0: -8.09628963470459, b1: 10.0\n",
      "JGrad: tensor([0.0001]),  bGrad: tensor([0.0012, 0.0000])\n",
      "J: 26.174449920654297,  b0: -8.102398872375488, b1: 10.0\n",
      "JGrad: tensor([-0.0003]),  bGrad: tensor([0.0103, 0.0000])\n",
      "J: 26.17047119140625,  b0: -8.114947319030762, b1: 10.0\n",
      "JGrad: tensor([-0.0004]),  bGrad: tensor([-0.0029,  0.0000])\n",
      "J: 26.168201446533203,  b0: -8.124290466308594, b1: 10.0\n",
      "JGrad: tensor([0.0014]),  bGrad: tensor([-0.0134,  0.0000])\n",
      "J: 26.161754608154297,  b0: -8.1234769821167, b1: 10.0\n",
      "JGrad: tensor([-0.0005]),  bGrad: tensor([-0.0237,  0.0000])\n",
      "J: 26.157352447509766,  b0: -8.106483459472656, b1: 10.0\n",
      "JGrad: tensor([-0.0021]),  bGrad: tensor([-0.0044,  0.0000])\n",
      "J: 26.159936904907227,  b0: -8.088147163391113, b1: 10.0\n",
      "JGrad: tensor([0.0004]),  bGrad: tensor([-0.0158,  0.0000])\n",
      "J: 26.16096305847168,  b0: -8.060761451721191, b1: 10.0\n",
      "JGrad: tensor([4.1314e-05]),  bGrad: tensor([0.0018, 0.0000])\n",
      "J: 26.161760330200195,  b0: -8.037309646606445, b1: 10.0\n",
      "JGrad: tensor([-0.0021]),  bGrad: tensor([0.0039, 0.0000])\n",
      ">>>\t epoch 43:: loss = 0.32459864020347595, validation loss = 0.3294105529785156\n",
      "J: 26.1689453125,  b0: -8.0188570022583, b1: 10.0\n",
      "JGrad: tensor([0.0002]),  bGrad: tensor([0.0043, 0.0000])\n",
      "J: 26.174718856811523,  b0: -8.005230903625488, b1: 10.0\n",
      "JGrad: tensor([0.0013]),  bGrad: tensor([0.0053, 0.0000])\n",
      "J: 26.175989151000977,  b0: -7.9966139793396, b1: 10.0\n",
      "JGrad: tensor([0.0028]),  bGrad: tensor([0.0108, 0.0000])\n",
      "J: 26.168350219726562,  b0: -7.9963178634643555, b1: 10.0\n",
      "JGrad: tensor([-9.2759e-05]),  bGrad: tensor([-0.0034,  0.0000])\n",
      "J: 26.161754608154297,  b0: -7.993695259094238, b1: 10.0\n",
      "JGrad: tensor([0.0004]),  bGrad: tensor([0.0117, 0.0000])\n",
      "J: 26.154518127441406,  b0: -7.999419212341309, b1: 10.0\n",
      "JGrad: tensor([0.0030]),  bGrad: tensor([0.0179, 0.0000])\n",
      "J: 26.13875389099121,  b0: -8.016924858093262, b1: 10.0\n",
      "JGrad: tensor([-0.0003]),  bGrad: tensor([0.0111, 0.0000])\n",
      "J: 26.125585556030273,  b0: -8.040373802185059, b1: 10.0\n",
      "JGrad: tensor([0.0002]),  bGrad: tensor([0.0124, 0.0000])\n",
      "J: 26.11297607421875,  b0: -8.07007884979248, b1: 10.0\n",
      "JGrad: tensor([-0.0021]),  bGrad: tensor([0.0009, 0.0000])\n",
      "J: 26.10820198059082,  b0: -8.097434043884277, b1: 10.0\n",
      "JGrad: tensor([-0.0006]),  bGrad: tensor([0.0034, 0.0000])\n",
      "J: 26.105730056762695,  b0: -8.124417304992676, b1: 10.0\n",
      "JGrad: tensor([-0.0025]),  bGrad: tensor([-0.0016,  0.0000])\n",
      "J: 26.111135482788086,  b0: -8.147615432739258, b1: 10.0\n",
      "JGrad: tensor([0.0006]),  bGrad: tensor([-0.0137,  0.0000])\n",
      "J: 26.114116668701172,  b0: -8.158954620361328, b1: 10.0\n",
      "JGrad: tensor([0.0007]),  bGrad: tensor([-0.0249,  0.0000])\n",
      ">>>\t epoch 44:: loss = 0.32851943373680115, validation loss = 0.32917603850364685\n",
      "J: 26.11465072631836,  b0: -8.151890754699707, b1: 10.0\n",
      "JGrad: tensor([0.0003]),  bGrad: tensor([-0.0146,  0.0000])\n",
      "J: 26.11411476135254,  b0: -8.13542652130127, b1: 10.0\n",
      "JGrad: tensor([-0.0016]),  bGrad: tensor([-0.0173,  0.0000])\n",
      "J: 26.118579864501953,  b0: -8.108643531799316, b1: 10.0\n",
      "JGrad: tensor([0.0015]),  bGrad: tensor([0.0057, 0.0000])\n",
      "J: 26.11783790588379,  b0: -8.088495254516602, b1: 10.0\n",
      "JGrad: tensor([0.0003]),  bGrad: tensor([-0.0031,  0.0000])\n",
      "J: 26.116209030151367,  b0: -8.068222999572754, b1: 10.0\n",
      "JGrad: tensor([-0.0011]),  bGrad: tensor([-0.0026,  0.0000])\n",
      "J: 26.118179321289062,  b0: -8.04818058013916, b1: 10.0\n",
      "JGrad: tensor([-0.0022]),  bGrad: tensor([0.0055, 0.0000])\n",
      "J: 26.12669563293457,  b0: -8.033937454223633, b1: 10.0\n",
      "JGrad: tensor([0.0016]),  bGrad: tensor([0.0151, 0.0000])\n",
      "J: 26.129459381103516,  b0: -8.031604766845703, b1: 10.0\n",
      "JGrad: tensor([-0.0006]),  bGrad: tensor([0.0011, 0.0000])\n",
      "J: 26.133962631225586,  b0: -8.030269622802734, b1: 10.0\n",
      "JGrad: tensor([0.0013]),  bGrad: tensor([0.0012, 0.0000])\n",
      "J: 26.134033203125,  b0: -8.029916763305664, b1: 10.0\n",
      "JGrad: tensor([-0.0006]),  bGrad: tensor([-0.0017,  0.0000])\n",
      "J: 26.136024475097656,  b0: -8.028430938720703, b1: 10.0\n",
      "JGrad: tensor([9.8118e-05]),  bGrad: tensor([0.0008, 0.0000])\n",
      "J: 26.137508392333984,  b0: -8.027654647827148, b1: 10.0\n",
      "JGrad: tensor([0.0009]),  bGrad: tensor([0.0194, 0.0000])\n",
      "J: 26.136005401611328,  b0: -8.04051399230957, b1: 10.0\n",
      "JGrad: tensor([-0.0005]),  bGrad: tensor([0.0084, 0.0000])\n",
      ">>>\t epoch 45:: loss = 0.3314368724822998, validation loss = 0.32903680205345154\n",
      "J: 26.13612174987793,  b0: -8.057927131652832, b1: 10.0\n",
      "JGrad: tensor([-0.0011]),  bGrad: tensor([0.0069, 0.0000])\n",
      "J: 26.13958740234375,  b0: -8.078400611877441, b1: 10.0\n",
      "JGrad: tensor([-0.0005]),  bGrad: tensor([-0.0115,  0.0000])\n",
      "J: 26.144256591796875,  b0: -8.088790893554688, b1: 10.0\n",
      "JGrad: tensor([0.0021]),  bGrad: tensor([-0.0076,  0.0000])\n",
      "J: 26.141767501831055,  b0: -8.092851638793945, b1: 10.0\n",
      "JGrad: tensor([0.0002]),  bGrad: tensor([-0.0091,  0.0000])\n",
      "J: 26.13901138305664,  b0: -8.090143203735352, b1: 10.0\n",
      "JGrad: tensor([-0.0022]),  bGrad: tensor([-0.0005,  0.0000])\n",
      "J: 26.143644332885742,  b0: -8.087318420410156, b1: 10.0\n",
      "JGrad: tensor([-0.0016]),  bGrad: tensor([-0.0143,  0.0000])\n",
      "J: 26.152917861938477,  b0: -8.07473087310791, b1: 10.0\n",
      "JGrad: tensor([-0.0008]),  bGrad: tensor([0.0045, 0.0000])\n",
      "J: 26.16391944885254,  b0: -8.066526412963867, b1: 10.0\n",
      "JGrad: tensor([0.0019]),  bGrad: tensor([0.0130, 0.0000])\n",
      "J: 26.167770385742188,  b0: -8.06826114654541, b1: 10.0\n",
      "JGrad: tensor([0.0010]),  bGrad: tensor([-0.0021,  0.0000])\n",
      "J: 26.168132781982422,  b0: -8.06836986541748, b1: 10.0\n",
      "JGrad: tensor([-0.0003]),  bGrad: tensor([-0.0115,  0.0000])\n",
      "J: 26.169418334960938,  b0: -8.060409545898438, b1: 10.0\n",
      "JGrad: tensor([0.0020]),  bGrad: tensor([0.0102, 0.0000])\n",
      "J: 26.164264678955078,  b0: -8.060437202453613, b1: 10.0\n",
      "JGrad: tensor([-0.0009]),  bGrad: tensor([0.0007, 0.0000])\n",
      "J: 26.162628173828125,  b0: -8.060919761657715, b1: 10.0\n",
      "JGrad: tensor([0.0005]),  bGrad: tensor([0.0378, 0.0000])\n",
      ">>>\t epoch 46:: loss = 0.3295944631099701, validation loss = 0.32898667454719543\n",
      "J: 26.15955352783203,  b0: -8.087783813476562, b1: 10.0\n",
      "JGrad: tensor([-0.0007]),  bGrad: tensor([0.0009, 0.0000])\n",
      "J: 26.159164428710938,  b0: -8.112652778625488, b1: 10.0\n",
      "JGrad: tensor([-0.0002]),  bGrad: tensor([-0.0007,  0.0000])\n",
      "J: 26.15937614440918,  b0: -8.134592056274414, b1: 10.0\n",
      "JGrad: tensor([-0.0009]),  bGrad: tensor([-0.0024,  0.0000])\n",
      "J: 26.16254425048828,  b0: -8.152664184570312, b1: 10.0\n",
      "JGrad: tensor([-0.0007]),  bGrad: tensor([-0.0048,  0.0000])\n",
      "J: 26.16753578186035,  b0: -8.165569305419922, b1: 10.0\n",
      "JGrad: tensor([-0.0004]),  bGrad: tensor([-0.0070,  0.0000])\n",
      "J: 26.173479080200195,  b0: -8.172239303588867, b1: 10.0\n",
      "JGrad: tensor([0.0007]),  bGrad: tensor([-0.0126,  0.0000])\n",
      "J: 26.176485061645508,  b0: -8.169379234313965, b1: 10.0\n",
      "JGrad: tensor([-0.0006]),  bGrad: tensor([-0.0091,  0.0000])\n",
      "J: 26.181026458740234,  b0: -8.160387992858887, b1: 10.0\n",
      "JGrad: tensor([-0.0020]),  bGrad: tensor([-0.0143,  0.0000])\n",
      "J: 26.191558837890625,  b0: -8.1422700881958, b1: 10.0\n",
      "JGrad: tensor([-0.0008]),  bGrad: tensor([-0.0294,  0.0000])\n",
      "J: 26.203615188598633,  b0: -8.105445861816406, b1: 10.0\n",
      "JGrad: tensor([-0.0004]),  bGrad: tensor([-0.0246,  0.0000])\n",
      "J: 26.21578598022461,  b0: -8.055156707763672, b1: 10.0\n"
     ]
    },
    {
     "name": "stdout",
     "output_type": "stream",
     "text": [
      "JGrad: tensor([0.0004]),  bGrad: tensor([0.0265, 0.0000])\n",
      "J: 26.225587844848633,  b0: -8.028494834899902, b1: 10.0\n",
      "JGrad: tensor([-3.1781e-05]),  bGrad: tensor([-0.0040,  0.0000])\n",
      "J: 26.234521865844727,  b0: -8.001652717590332, b1: 10.0\n",
      "JGrad: tensor([-0.0002]),  bGrad: tensor([0.0067, 0.0000])\n",
      ">>>\t epoch 47:: loss = 0.3249165713787079, validation loss = 0.33011651039123535\n",
      "J: 26.243144989013672,  b0: -7.9821271896362305, b1: 10.0\n",
      "JGrad: tensor([0.0009]),  bGrad: tensor([0.0183, 0.0000])\n",
      "J: 26.24803924560547,  b0: -7.97737455368042, b1: 10.0\n",
      "JGrad: tensor([0.0011]),  bGrad: tensor([0.0216, 0.0000])\n",
      "J: 26.24873161315918,  b0: -7.988150596618652, b1: 10.0\n",
      "JGrad: tensor([0.0016]),  bGrad: tensor([0.0071, 0.0000])\n",
      "J: 26.244260787963867,  b0: -8.002779960632324, b1: 10.0\n",
      "JGrad: tensor([-0.0009]),  bGrad: tensor([0.0019, 0.0000])\n",
      "J: 26.24327278137207,  b0: -8.01728343963623, b1: 10.0\n",
      "JGrad: tensor([-0.0003]),  bGrad: tensor([0.0034, 0.0000])\n",
      "J: 26.243379592895508,  b0: -8.032743453979492, b1: 10.0\n",
      "JGrad: tensor([-0.0017]),  bGrad: tensor([0.0059, 0.0000])\n",
      "J: 26.248912811279297,  b0: -8.05078411102295, b1: 10.0\n",
      "JGrad: tensor([8.4811e-05]),  bGrad: tensor([0.0013, 0.0000])\n",
      "J: 26.253620147705078,  b0: -8.067975997924805, b1: 10.0\n",
      "JGrad: tensor([0.0021]),  bGrad: tensor([0.0145, 0.0000])\n",
      "J: 26.251068115234375,  b0: -8.093621253967285, b1: 10.0\n",
      "JGrad: tensor([0.0015]),  bGrad: tensor([0.0011, 0.0000])\n",
      "J: 26.244022369384766,  b0: -8.117511749267578, b1: 10.0\n",
      "JGrad: tensor([0.0016]),  bGrad: tensor([-0.0040,  0.0000])\n",
      "J: 26.232389450073242,  b0: -8.136231422424316, b1: 10.0\n",
      "JGrad: tensor([-0.0015]),  bGrad: tensor([-0.0226,  0.0000])\n",
      "J: 26.22687530517578,  b0: -8.137210845947266, b1: 10.0\n",
      "JGrad: tensor([0.0027]),  bGrad: tensor([-0.0055,  0.0000])\n",
      "J: 26.213176727294922,  b0: -8.13426399230957, b1: 10.0\n",
      "JGrad: tensor([-0.0005]),  bGrad: tensor([-0.0063,  0.0000])\n",
      ">>>\t epoch 48:: loss = 0.32754653692245483, validation loss = 0.3291054964065552\n",
      "J: 26.202592849731445,  b0: -8.127154350280762, b1: 10.0\n",
      "JGrad: tensor([0.0014]),  bGrad: tensor([0.0030, 0.0000])\n",
      "J: 26.18852424621582,  b0: -8.122858047485352, b1: 10.0\n",
      "JGrad: tensor([-0.0013]),  bGrad: tensor([-0.0135,  0.0000])\n",
      "J: 26.1801700592041,  b0: -8.109511375427246, b1: 10.0\n",
      "JGrad: tensor([6.6981e-05]),  bGrad: tensor([-0.0053,  0.0000])\n",
      "J: 26.17242431640625,  b0: -8.09372615814209, b1: 10.0\n",
      "JGrad: tensor([0.0008]),  bGrad: tensor([0.0004, 0.0000])\n",
      "J: 26.162866592407227,  b0: -8.079808235168457, b1: 10.0\n",
      "JGrad: tensor([0.0015]),  bGrad: tensor([-0.0166,  0.0000])\n",
      "J: 26.149263381958008,  b0: -8.05560302734375, b1: 10.0\n",
      "JGrad: tensor([0.0018]),  bGrad: tensor([0.0114, 0.0000])\n",
      "J: 26.130983352661133,  b0: -8.041813850402832, b1: 10.0\n",
      "JGrad: tensor([-0.0020]),  bGrad: tensor([0.0017, 0.0000])\n",
      "J: 26.121273040771484,  b0: -8.030603408813477, b1: 10.0\n",
      "JGrad: tensor([0.0001]),  bGrad: tensor([0.0125, 0.0000])\n",
      "J: 26.11210060119629,  b0: -8.0293550491333, b1: 10.0\n",
      "JGrad: tensor([-0.0005]),  bGrad: tensor([0.0048, 0.0000])\n",
      "J: 26.105432510375977,  b0: -8.031621932983398, b1: 10.0\n",
      "JGrad: tensor([0.0005]),  bGrad: tensor([0.0168, 0.0000])\n",
      "J: 26.097787857055664,  b0: -8.045487403869629, b1: 10.0\n",
      "JGrad: tensor([-0.0008]),  bGrad: tensor([-0.0054,  0.0000])\n",
      "J: 26.093530654907227,  b0: -8.054132461547852, b1: 10.0\n",
      "JGrad: tensor([-0.0016]),  bGrad: tensor([-0.0082,  0.0000])\n",
      "J: 26.095029830932617,  b0: -8.05614185333252, b1: 10.0\n",
      "JGrad: tensor([0.0013]),  bGrad: tensor([0.0091, 0.0000])\n",
      ">>>\t epoch 49:: loss = 0.3274191915988922, validation loss = 0.3289346694946289\n",
      "J: 26.091920852661133,  b0: -8.064414978027344, b1: 10.0\n",
      "JGrad: tensor([-0.0013]),  bGrad: tensor([-0.0004,  0.0000])\n",
      "J: 26.093544006347656,  b0: -8.071619987487793, b1: 10.0\n",
      "JGrad: tensor([-0.0015]),  bGrad: tensor([0.0048, 0.0000])\n",
      "J: 26.09994125366211,  b0: -8.08154296875, b1: 10.0\n",
      "JGrad: tensor([0.0003]),  bGrad: tensor([0.0155, 0.0000])\n",
      "J: 26.10460090637207,  b0: -8.10143756866455, b1: 10.0\n",
      "JGrad: tensor([0.0006]),  bGrad: tensor([-0.0164,  0.0000])\n",
      "J: 26.1068172454834,  b0: -8.107691764831543, b1: 10.0\n",
      "JGrad: tensor([-0.0008]),  bGrad: tensor([-0.0134,  0.0000])\n",
      "J: 26.111473083496094,  b0: -8.103801727294922, b1: 10.0\n",
      "JGrad: tensor([-0.0003]),  bGrad: tensor([-0.0008,  0.0000])\n",
      "J: 26.116674423217773,  b0: -8.099737167358398, b1: 10.0\n",
      "JGrad: tensor([-5.8190e-05]),  bGrad: tensor([-0.0044,  0.0000])\n",
      "J: 26.121553421020508,  b0: -8.09296703338623, b1: 10.0\n",
      "JGrad: tensor([0.0008]),  bGrad: tensor([-0.0078,  0.0000])\n",
      "J: 26.123441696166992,  b0: -8.08130931854248, b1: 10.0\n",
      "JGrad: tensor([-0.0005]),  bGrad: tensor([-0.0111,  0.0000])\n",
      "J: 26.126686096191406,  b0: -8.06295108795166, b1: 10.0\n",
      "JGrad: tensor([-0.0012]),  bGrad: tensor([-0.0030,  0.0000])\n",
      "J: 26.133615493774414,  b0: -8.044259071350098, b1: 10.0\n",
      "JGrad: tensor([0.0008]),  bGrad: tensor([0.0060, 0.0000])\n",
      "J: 26.13703727722168,  b0: -8.031720161437988, b1: 10.0\n",
      "JGrad: tensor([8.9843e-05]),  bGrad: tensor([0.0074, 0.0000])\n",
      "J: 26.13981819152832,  b0: -8.025721549987793, b1: 10.0\n",
      "JGrad: tensor([0.0017]),  bGrad: tensor([0.0181, 0.0000])\n",
      ">>>\t epoch 50:: loss = 0.33150070905685425, validation loss = 0.32920241355895996\n"
     ]
    }
   ],
   "source": [
    "learning_curve = []\n",
    "\n",
    "for epoch in range(1, n_epochs + 1):\n",
    "    \n",
    "    for batch in trainloader:\n",
    "        X_batch, y_batch = Variable(batch['X'], requires_grad=False), Variable(batch['y'], requires_grad=False)\n",
    "        \n",
    "        print('J: {},  b0: {}, b1: {}'.format(j[0], b[0], b[1]))\n",
    "        \n",
    "        optimizer.zero_grad()\n",
    "        loss = belief_propagation_cross_entropy_loss(j, b, X_batch, y_batch, chain_len=T)\n",
    "        loss.backward()\n",
    "        \n",
    "        b.grad.data[1].fill_(0)  # take b[1] as constant\n",
    "        print('JGrad: {},  bGrad: {}'.format(j.grad.data, b.grad.data))\n",
    "    \n",
    "        optimizer.step()\n",
    "        \n",
    "        \n",
    "    if epoch % 1 == 0:\n",
    "        valid = next(iter(validloader))\n",
    "        X_valid, y_valid = Variable(valid['X']), Variable(valid['y']) \n",
    "        with torch.no_grad():\n",
    "            loss_valid = belief_propagation_cross_entropy_loss(j, b, X_valid, y_valid, chain_len=T)\n",
    "\n",
    "        print('>>>\\t epoch {}:: loss = {}, validation loss = {}'. format(epoch, loss, loss_valid))\n",
    "        learning_curve.append({\n",
    "            'epoch': epoch + 1,\n",
    "            'loss': loss,\n",
    "            'loss_valid': loss_valid,\n",
    "            'b': [b.data.clone()[0], b.data.clone()[1]],\n",
    "            'j': j.data.clone()[0],\n",
    "            'b_grad': [b.grad.data.clone()[0], b.grad.data.clone()[1]],\n",
    "            'j_grad': j.grad.data.clone()[0]\n",
    "        })"
   ]
  },
  {
   "cell_type": "code",
   "execution_count": 188,
   "metadata": {},
   "outputs": [
    {
     "data": {
      "image/png": "[encoded data removed]",
      "text/plain": [
       "<Figure size 432x288 with 1 Axes>"
      ]
     },
     "metadata": {
      "needs_background": "light"
     },
     "output_type": "display_data"
    }
   ],
   "source": [
    "plot([(v['loss'], v['loss_valid']) for v in learning_curve]);"
   ]
  },
  {
   "cell_type": "code",
   "execution_count": 199,
   "metadata": {},
   "outputs": [
    {
     "data": {
      "text/plain": [
       "<matplotlib.legend.Legend at 0x1a3a2d0240>"
      ]
     },
     "execution_count": 199,
     "metadata": {},
     "output_type": "execute_result"
    },
    {
     "data": {
      "image/png": "[encoded data removed]",
      "text/plain": [
       "<Figure size 432x288 with 1 Axes>"
      ]
     },
     "metadata": {
      "needs_background": "light"
     },
     "output_type": "display_data"
    }
   ],
   "source": [
    "plot([(v['b_grad'][0], v['j_grad'],  v['b_grad'][1]) for v in learning_curve]);\n",
    "title('Gradients of the chain parameters')\n",
    "xlabel('epochs')\n",
    "legend(['b0', 'J'])"
   ]
  },
  {
   "cell_type": "code",
   "execution_count": 196,
   "metadata": {},
   "outputs": [
    {
     "data": {
      "text/plain": [
       "Text(0.5, 0, 'epochs')"
      ]
     },
     "execution_count": 196,
     "metadata": {},
     "output_type": "execute_result"
    },
    {
     "data": {
      "image/png": "[encoded data removed]",
      "text/plain": [
       "<Figure size 432x288 with 1 Axes>"
      ]
     },
     "metadata": {
      "needs_background": "light"
     },
     "output_type": "display_data"
    }
   ],
   "source": [
    "plot([v['j'] for v in learning_curve]);\n",
    "title('value of chain parameter J')\n",
    "xlabel('epochs')"
   ]
  },
  {
   "cell_type": "code",
   "execution_count": 197,
   "metadata": {},
   "outputs": [
    {
     "data": {
      "text/plain": [
       "Text(0.5, 0, 'epochs')"
      ]
     },
     "execution_count": 197,
     "metadata": {},
     "output_type": "execute_result"
    },
    {
     "data": {
      "image/png": "[encoded data removed]",
      "text/plain": [
       "<Figure size 432x288 with 1 Axes>"
      ]
     },
     "metadata": {
      "needs_background": "light"
     },
     "output_type": "display_data"
    }
   ],
   "source": [
    "plot([v['b'][0] for v in learning_curve]);\n",
    "title('value of chain parameter b0')\n",
    "xlabel('epochs')"
   ]
  },
  {
   "cell_type": "markdown",
   "metadata": {},
   "source": [
    "### Evaluate "
   ]
  },
  {
   "cell_type": "code",
   "execution_count": 63,
   "metadata": {},
   "outputs": [],
   "source": [
    "y_pred = belief_propagation_cross_entropy_loss(j, b, X_test, torch.Tensor(y_test), chain_len=T, train=False)\\\n",
    "    .detach()\\\n",
    "    .numpy()"
   ]
  },
  {
   "cell_type": "code",
   "execution_count": 64,
   "metadata": {},
   "outputs": [
    {
     "name": "stdout",
     "output_type": "stream",
     "text": [
      "              precision    recall  f1-score   support\n",
      "\n",
      "           0       0.61      0.93      0.74      3661\n",
      "           1       0.94      0.66      0.78      6339\n",
      "\n",
      "   micro avg       0.76      0.76      0.76     10000\n",
      "   macro avg       0.78      0.80      0.76     10000\n",
      "weighted avg       0.82      0.76      0.76     10000\n",
      "\n"
     ]
    }
   ],
   "source": [
    "labels = {0 : 0, 1: 1}\n",
    "\n",
    "predictions = np.array([labels[tag] for row in y_pred for tag in row])\n",
    "truths = np.array([labels[tag] for row in y_test for tag in row])\n",
    "\n",
    "print(classification_report(\n",
    "    truths, predictions,\n",
    "    target_names=[\"0\", \"1\"]))"
   ]
  },
  {
   "cell_type": "code",
   "execution_count": 65,
   "metadata": {},
   "outputs": [
    {
     "data": {
      "text/plain": [
       "<matplotlib.legend.Legend at 0x1a2c9cca20>"
      ]
     },
     "execution_count": 65,
     "metadata": {},
     "output_type": "execute_result"
    },
    {
     "data": {
      "image/png": "[encoded data removed]",
      "text/plain": [
       "<Figure size 432x288 with 1 Axes>"
      ]
     },
     "metadata": {
      "needs_background": "light"
     },
     "output_type": "display_data"
    }
   ],
   "source": [
    "i = np.random.randint(200)\n",
    "plot(X_test[i], 'o')\n",
    "plot(y_test[i] + 0.05, 'ro')\n",
    "plot(y_pred[i] + 0.1, 'ko')\n",
    "legend(['observations', 'labels', 'NN'])"
   ]
  },
  {
   "cell_type": "markdown",
   "metadata": {},
   "source": [
    "### Sanity - check that we can reach loss zero"
   ]
  },
  {
   "cell_type": "code",
   "execution_count": 141,
   "metadata": {},
   "outputs": [],
   "source": [
    "ind = np.random.randint(1000)\n",
    "j = [2.5] #[1]\n",
    "b = [-0.8, 1.]\n",
    "labels = y_dataset[ind]\n",
    "observations = X_dataset[ind]"
   ]
  },
  {
   "cell_type": "code",
   "execution_count": 142,
   "metadata": {},
   "outputs": [
    {
     "data": {
      "text/plain": [
       "((50,), (50,))"
      ]
     },
     "execution_count": 142,
     "metadata": {},
     "output_type": "execute_result"
    }
   ],
   "source": [
    "labels.shape, observations.shape"
   ]
  },
  {
   "cell_type": "code",
   "execution_count": 143,
   "metadata": {},
   "outputs": [],
   "source": [
    "# add batch dimension"
   ]
  },
  {
   "cell_type": "code",
   "execution_count": 144,
   "metadata": {},
   "outputs": [],
   "source": [
    "labels = np.expand_dims(labels, axis=0)\n",
    "observations = np.expand_dims(observations, axis=0)"
   ]
  },
  {
   "cell_type": "code",
   "execution_count": 145,
   "metadata": {},
   "outputs": [],
   "source": [
    "# move to tensors"
   ]
  },
  {
   "cell_type": "code",
   "execution_count": 146,
   "metadata": {},
   "outputs": [],
   "source": [
    "import torch"
   ]
  },
  {
   "cell_type": "code",
   "execution_count": 147,
   "metadata": {},
   "outputs": [],
   "source": [
    "j = torch.Tensor(j)\n",
    "b = torch.Tensor(b)\n",
    "labels = torch.Tensor(labels)\n",
    "observations = torch.Tensor(observations)"
   ]
  },
  {
   "cell_type": "code",
   "execution_count": 148,
   "metadata": {
    "scrolled": true
   },
   "outputs": [
    {
     "name": "stdout",
     "output_type": "stream",
     "text": [
      "CPU times: user 15 ms, sys: 1.31 ms, total: 16.3 ms\n",
      "Wall time: 15.2 ms\n"
     ]
    }
   ],
   "source": [
    "%%time\n",
    "loss = belief_propagation_cross_entropy_loss(j, b, observations, labels, chain_len=T)\n",
    "beliefs = belief_propagation_cross_entropy_loss(j, b, observations, labels, chain_len=T, train=False)[-1]"
   ]
  },
  {
   "cell_type": "code",
   "execution_count": 149,
   "metadata": {},
   "outputs": [
    {
     "data": {
      "text/plain": [
       "(tensor(0.4884),\n",
       " tensor([[1, 1, 1, 1, 1, 1, 1, 1, 1, 1, 1, 1, 1, 1, 1, 1, 1, 1, 1, 1, 1, 1, 1, 1,\n",
       "          1, 1, 1, 1, 1, 1, 1, 1, 1, 1, 1, 1, 1, 1, 1, 1, 1, 1, 1, 1, 1, 1, 1, 1,\n",
       "          1, 1]], dtype=torch.uint8),\n",
       " tensor(1, dtype=torch.uint8))"
      ]
     },
     "execution_count": 149,
     "metadata": {},
     "output_type": "execute_result"
    }
   ],
   "source": [
    "loss, torch.eq(labels, beliefs.float()), torch.all(torch.eq(labels, beliefs.float()))"
   ]
  },
  {
   "cell_type": "code",
   "execution_count": 150,
   "metadata": {},
   "outputs": [
    {
     "data": {
      "text/plain": [
       "tensor([[1., 1., 1., 1., 1., 1., 0., 0., 0., 0., 0., 0., 0., 0., 0., 0., 0., 0.,\n",
       "         0., 0., 0., 1., 1., 1., 1., 1., 1., 1., 1., 1., 1., 1., 1., 0., 0., 0.,\n",
       "         0., 1., 1., 1., 1., 1., 1., 1., 1., 1., 1., 1., 1., 1.]])"
      ]
     },
     "execution_count": 150,
     "metadata": {},
     "output_type": "execute_result"
    }
   ],
   "source": [
    "labels"
   ]
  },
  {
   "cell_type": "code",
   "execution_count": 140,
   "metadata": {},
   "outputs": [
    {
     "data": {
      "text/plain": [
       "tensor([1., 1., 1., 1., 1., 1., 1., 1., 1., 1., 1., 1., 0., 0., 0., 0., 0., 0.,\n",
       "        0., 0., 0., 0., 0., 0., 1., 1., 1., 1., 1., 1., 1., 1., 0., 0., 0., 0.,\n",
       "        0., 0., 0., 0., 0., 0., 1., 1., 1., 1., 1., 1., 1., 1.])"
      ]
     },
     "execution_count": 140,
     "metadata": {},
     "output_type": "execute_result"
    }
   ],
   "source": [
    "beliefs"
   ]
  },
  {
   "cell_type": "markdown",
   "metadata": {},
   "source": [
    "###  Plot the loss function"
   ]
  },
  {
   "cell_type": "markdown",
   "metadata": {},
   "source": [
    "####  target loss"
   ]
  },
  {
   "cell_type": "code",
   "execution_count": 177,
   "metadata": {},
   "outputs": [
    {
     "data": {
      "text/plain": [
       "(tensor(0.4877), 1)"
      ]
     },
     "execution_count": 177,
     "metadata": {},
     "output_type": "execute_result"
    }
   ],
   "source": [
    "j = [2.5]\n",
    "b = [-0.8, 1.]\n",
    "\n",
    "len_ = len(X_train[:10])\n",
    "\n",
    "j = torch.Tensor(j)\n",
    "b = torch.Tensor(b)\n",
    "\n",
    "observations = torch.Tensor(X_train[:10])\n",
    "labels = torch.Tensor(y_train[:10])\n",
    "\n",
    "target_loss = belief_propagation_cross_entropy_loss(j, b, observations, labels, chain_len=T)\n",
    "beliefs = belief_propagation_cross_entropy_loss(j, b, observations, labels, chain_len=T, train=False)\n",
    "\n",
    "target_loss, int(torch.all(torch.eq(labels, beliefs.float())))"
   ]
  },
  {
   "cell_type": "markdown",
   "metadata": {},
   "source": [
    "#### Plot loss surface"
   ]
  },
  {
   "cell_type": "code",
   "execution_count": 178,
   "metadata": {},
   "outputs": [],
   "source": [
    "bar = progressbar.ProgressBar(maxval=3000, \\\n",
    "    widgets=[progressbar.Bar('=', '[', ']'), ' ', progressbar.Percentage()])"
   ]
  },
  {
   "cell_type": "code",
   "execution_count": 179,
   "metadata": {},
   "outputs": [
    {
     "name": "stderr",
     "output_type": "stream",
     "text": [
      "[========================================================================] 100%\n"
     ]
    }
   ],
   "source": [
    "res = {'b0': [], 'b1': [], 'j': [], 'loss': [], 'zero_one_loss': []}\n",
    "\n",
    "bar.start()\n",
    "for i_sample in range(3000):\n",
    "    bar.update(i_sample + 1)\n",
    "    j_val = 2.5 + 5 * (np.random.rand() - 0.5)\n",
    "    b_base = [2 * (np.random.rand() - 0.5) , 1]\n",
    "  \n",
    "    j = torch.Tensor([j_val])\n",
    "    b = torch.Tensor(b_base)\n",
    "    \n",
    "    labels = torch.Tensor(y_train[:10])\n",
    "    observations = torch.Tensor(X_train[:10])\n",
    "    \n",
    "    res['b0'].append(b_base[0])\n",
    "    res['b1'].append(b_base[1])\n",
    "    res['j'].append(j_val)\n",
    "    res['loss'].append(float(belief_propagation_cross_entropy_loss(j, b, observations, labels, chain_len=T)))\n",
    "    \n",
    "    beliefs = belief_propagation_cross_entropy_loss(j, b, observations, labels, chain_len=T, train=False)\n",
    "    res['zero_one_loss'].append(int(torch.all(torch.eq(labels, beliefs.float()))))\n",
    "    \n",
    "bar.finish()"
   ]
  },
  {
   "cell_type": "code",
   "execution_count": 180,
   "metadata": {},
   "outputs": [],
   "source": [
    "df = pd.DataFrame(res)"
   ]
  },
  {
   "cell_type": "code",
   "execution_count": 181,
   "metadata": {},
   "outputs": [
    {
     "data": {
      "text/plain": [
       "0    2995\n",
       "1       5\n",
       "Name: zero_one_loss, dtype: int64"
      ]
     },
     "execution_count": 181,
     "metadata": {},
     "output_type": "execute_result"
    }
   ],
   "source": [
    "df.zero_one_loss.value_counts()"
   ]
  },
  {
   "cell_type": "code",
   "execution_count": 183,
   "metadata": {},
   "outputs": [],
   "source": [
    "import plotly.graph_objects as go\n",
    "\n",
    "trace = go.Scatter3d(\n",
    "        x=df['b0'],\n",
    "        y=df['j'], \n",
    "        z=df['loss'], \n",
    "        mode='markers',\n",
    "        marker=dict(\n",
    "            size=10,\n",
    "            color=df['zero_one_loss'],                # set color to an array/list of desired values\n",
    "            colorscale='Viridis',   # choose a colorscale\n",
    "            opacity=0.8\n",
    "        ),\n",
    ")\n",
    "\n",
    "data = [trace]\n",
    "\n",
    "scene = go.layout.Scene(\n",
    "        annotations=[\n",
    "            dict(\n",
    "                x=-.8,\n",
    "                y=2.5,\n",
    "                z=target_loss,\n",
    "                text=\"target\",\n",
    "                textangle=0,\n",
    "                ax=0,\n",
    "                ay=-75,\n",
    "                font=dict(\n",
    "                    color=\"red\",\n",
    "                    size=18\n",
    "                ),\n",
    "                arrowcolor=\"red\",\n",
    "                arrowsize=3,\n",
    "                arrowwidth=1,\n",
    "                arrowhead=1\n",
    "        )],\n",
    ")\n",
    "\n",
    "fig = go.Figure()\n",
    "fig.add_trace(trace)\n",
    "fig.update_layout(scene=scene)\n",
    "fig.write_html('loss_vs_data_term.html', auto_open=True)"
   ]
  },
  {
   "cell_type": "code",
   "execution_count": null,
   "metadata": {},
   "outputs": [],
   "source": []
  }
 ],
 "metadata": {
  "kernelspec": {
   "display_name": "Python 3",
   "language": "python",
   "name": "python3"
  },
  "language_info": {
   "codemirror_mode": {
    "name": "ipython",
    "version": 3
   },
   "file_extension": ".py",
   "mimetype": "text/x-python",
   "name": "python",
   "nbconvert_exporter": "python",
   "pygments_lexer": "ipython3",
   "version": "3.6.8"
  }
 },
 "nbformat": 4,
 "nbformat_minor": 2
}
